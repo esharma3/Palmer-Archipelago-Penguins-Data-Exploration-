{
 "cells": [
  {
   "cell_type": "code",
   "execution_count": 1,
   "metadata": {},
   "outputs": [
    {
     "name": "stdout",
     "output_type": "stream",
     "text": [
      "4.8.2\n"
     ]
    },
    {
     "data": {
      "text/html": [
       "        <script type=\"text/javascript\">\n",
       "        window.PlotlyConfig = {MathJaxConfig: 'local'};\n",
       "        if (window.MathJax) {MathJax.Hub.Config({SVG: {font: \"STIX-Web\"}});}\n",
       "        if (typeof require !== 'undefined') {\n",
       "        require.undef(\"plotly\");\n",
       "        requirejs.config({\n",
       "            paths: {\n",
       "                'plotly': ['https://cdn.plot.ly/plotly-latest.min']\n",
       "            }\n",
       "        });\n",
       "        require(['plotly'], function(Plotly) {\n",
       "            window._Plotly = Plotly;\n",
       "        });\n",
       "        }\n",
       "        </script>\n",
       "        "
      ]
     },
     "metadata": {},
     "output_type": "display_data"
    },
    {
     "data": {
      "text/html": [
       "        <script type=\"text/javascript\">\n",
       "        window.PlotlyConfig = {MathJaxConfig: 'local'};\n",
       "        if (window.MathJax) {MathJax.Hub.Config({SVG: {font: \"STIX-Web\"}});}\n",
       "        if (typeof require !== 'undefined') {\n",
       "        require.undef(\"plotly\");\n",
       "        requirejs.config({\n",
       "            paths: {\n",
       "                'plotly': ['https://cdn.plot.ly/plotly-latest.min']\n",
       "            }\n",
       "        });\n",
       "        require(['plotly'], function(Plotly) {\n",
       "            window._Plotly = Plotly;\n",
       "        });\n",
       "        }\n",
       "        </script>\n",
       "        "
      ]
     },
     "metadata": {},
     "output_type": "display_data"
    },
    {
     "data": {
      "application/javascript": [
       "\n",
       "            setTimeout(function() {\n",
       "                var nbb_cell_id = 1;\n",
       "                var nbb_unformatted_code = \"# importing dependencies here\\nimport pandas as pd\\nimport numpy as np\\nimport os\\n\\n\\nfrom plotly import __version__\\nimport plotly as py\\nimport plotly.graph_objects as go\\nfrom plotly.offline import download_plotlyjs, init_notebook_mode, plot, iplot\\n\\nprint(__version__)\\n\\n\\nimport cufflinks as cf\\n\\n# For Notebook\\ninit_notebook_mode(connected=True)\\n# For offline use\\ncf.go_offline()\\n\\n# code formatter\\n%load_ext nb_black\";\n",
       "                var nbb_formatted_code = \"# importing dependencies here\\nimport pandas as pd\\nimport numpy as np\\nimport os\\n\\n\\nfrom plotly import __version__\\nimport plotly as py\\nimport plotly.graph_objects as go\\nfrom plotly.offline import download_plotlyjs, init_notebook_mode, plot, iplot\\n\\nprint(__version__)\\n\\n\\nimport cufflinks as cf\\n\\n# For Notebook\\ninit_notebook_mode(connected=True)\\n# For offline use\\ncf.go_offline()\\n\\n# code formatter\\n%load_ext nb_black\";\n",
       "                var nbb_cells = Jupyter.notebook.get_cells();\n",
       "                for (var i = 0; i < nbb_cells.length; ++i) {\n",
       "                    if (nbb_cells[i].input_prompt_number == nbb_cell_id) {\n",
       "                        if (nbb_cells[i].get_text() == nbb_unformatted_code) {\n",
       "                             nbb_cells[i].set_text(nbb_formatted_code);\n",
       "                        }\n",
       "                        break;\n",
       "                    }\n",
       "                }\n",
       "            }, 500);\n",
       "            "
      ],
      "text/plain": [
       "<IPython.core.display.Javascript object>"
      ]
     },
     "metadata": {},
     "output_type": "display_data"
    }
   ],
   "source": [
    "# importing dependencies here\n",
    "import pandas as pd\n",
    "import numpy as np\n",
    "import os\n",
    "\n",
    "\n",
    "from plotly import __version__\n",
    "import plotly as py\n",
    "import plotly.graph_objects as go\n",
    "from plotly.offline import download_plotlyjs, init_notebook_mode, plot, iplot\n",
    "\n",
    "print(__version__)\n",
    "\n",
    "\n",
    "import cufflinks as cf\n",
    "\n",
    "# For Notebook\n",
    "init_notebook_mode(connected=True)\n",
    "# For offline use\n",
    "cf.go_offline()\n",
    "\n",
    "# code formatter\n",
    "%load_ext nb_black"
   ]
  },
  {
   "cell_type": "code",
   "execution_count": 2,
   "metadata": {},
   "outputs": [
    {
     "data": {
      "application/javascript": [
       "\n",
       "            setTimeout(function() {\n",
       "                var nbb_cell_id = 2;\n",
       "                var nbb_unformatted_code = \"# reading the penguins dataset\\npenguins_df = pd.read_csv(\\n    os.path.join(\\\"..\\\", \\\"data\\\", \\\"datasets_703056_1228604_penguins_lter.csv\\\")\\n)\";\n",
       "                var nbb_formatted_code = \"# reading the penguins dataset\\npenguins_df = pd.read_csv(\\n    os.path.join(\\\"..\\\", \\\"data\\\", \\\"datasets_703056_1228604_penguins_lter.csv\\\")\\n)\";\n",
       "                var nbb_cells = Jupyter.notebook.get_cells();\n",
       "                for (var i = 0; i < nbb_cells.length; ++i) {\n",
       "                    if (nbb_cells[i].input_prompt_number == nbb_cell_id) {\n",
       "                        if (nbb_cells[i].get_text() == nbb_unformatted_code) {\n",
       "                             nbb_cells[i].set_text(nbb_formatted_code);\n",
       "                        }\n",
       "                        break;\n",
       "                    }\n",
       "                }\n",
       "            }, 500);\n",
       "            "
      ],
      "text/plain": [
       "<IPython.core.display.Javascript object>"
      ]
     },
     "metadata": {},
     "output_type": "display_data"
    }
   ],
   "source": [
    "# reading the penguins dataset\n",
    "penguins_df = pd.read_csv(\n",
    "    os.path.join(\"..\", \"data\", \"datasets_703056_1228604_penguins_lter.csv\")\n",
    ")"
   ]
  },
  {
   "cell_type": "code",
   "execution_count": 3,
   "metadata": {},
   "outputs": [
    {
     "data": {
      "text/html": [
       "<div>\n",
       "<style scoped>\n",
       "    .dataframe tbody tr th:only-of-type {\n",
       "        vertical-align: middle;\n",
       "    }\n",
       "\n",
       "    .dataframe tbody tr th {\n",
       "        vertical-align: top;\n",
       "    }\n",
       "\n",
       "    .dataframe thead th {\n",
       "        text-align: right;\n",
       "    }\n",
       "</style>\n",
       "<table border=\"1\" class=\"dataframe\">\n",
       "  <thead>\n",
       "    <tr style=\"text-align: right;\">\n",
       "      <th></th>\n",
       "      <th>studyName</th>\n",
       "      <th>Sample Number</th>\n",
       "      <th>Species</th>\n",
       "      <th>Region</th>\n",
       "      <th>Island</th>\n",
       "      <th>Stage</th>\n",
       "      <th>Individual ID</th>\n",
       "      <th>Clutch Completion</th>\n",
       "      <th>Date Egg</th>\n",
       "      <th>Culmen Length (mm)</th>\n",
       "      <th>Culmen Depth (mm)</th>\n",
       "      <th>Flipper Length (mm)</th>\n",
       "      <th>Body Mass (g)</th>\n",
       "      <th>Sex</th>\n",
       "      <th>Delta 15 N (o/oo)</th>\n",
       "      <th>Delta 13 C (o/oo)</th>\n",
       "      <th>Comments</th>\n",
       "    </tr>\n",
       "  </thead>\n",
       "  <tbody>\n",
       "    <tr>\n",
       "      <th>0</th>\n",
       "      <td>PAL0708</td>\n",
       "      <td>1</td>\n",
       "      <td>Adelie Penguin (Pygoscelis adeliae)</td>\n",
       "      <td>Anvers</td>\n",
       "      <td>Torgersen</td>\n",
       "      <td>Adult, 1 Egg Stage</td>\n",
       "      <td>N1A1</td>\n",
       "      <td>Yes</td>\n",
       "      <td>11/11/07</td>\n",
       "      <td>39.1</td>\n",
       "      <td>18.7</td>\n",
       "      <td>181.0</td>\n",
       "      <td>3750.0</td>\n",
       "      <td>MALE</td>\n",
       "      <td>NaN</td>\n",
       "      <td>NaN</td>\n",
       "      <td>Not enough blood for isotopes.</td>\n",
       "    </tr>\n",
       "    <tr>\n",
       "      <th>1</th>\n",
       "      <td>PAL0708</td>\n",
       "      <td>2</td>\n",
       "      <td>Adelie Penguin (Pygoscelis adeliae)</td>\n",
       "      <td>Anvers</td>\n",
       "      <td>Torgersen</td>\n",
       "      <td>Adult, 1 Egg Stage</td>\n",
       "      <td>N1A2</td>\n",
       "      <td>Yes</td>\n",
       "      <td>11/11/07</td>\n",
       "      <td>39.5</td>\n",
       "      <td>17.4</td>\n",
       "      <td>186.0</td>\n",
       "      <td>3800.0</td>\n",
       "      <td>FEMALE</td>\n",
       "      <td>8.94956</td>\n",
       "      <td>-24.69454</td>\n",
       "      <td>NaN</td>\n",
       "    </tr>\n",
       "    <tr>\n",
       "      <th>2</th>\n",
       "      <td>PAL0708</td>\n",
       "      <td>3</td>\n",
       "      <td>Adelie Penguin (Pygoscelis adeliae)</td>\n",
       "      <td>Anvers</td>\n",
       "      <td>Torgersen</td>\n",
       "      <td>Adult, 1 Egg Stage</td>\n",
       "      <td>N2A1</td>\n",
       "      <td>Yes</td>\n",
       "      <td>11/16/07</td>\n",
       "      <td>40.3</td>\n",
       "      <td>18.0</td>\n",
       "      <td>195.0</td>\n",
       "      <td>3250.0</td>\n",
       "      <td>FEMALE</td>\n",
       "      <td>8.36821</td>\n",
       "      <td>-25.33302</td>\n",
       "      <td>NaN</td>\n",
       "    </tr>\n",
       "    <tr>\n",
       "      <th>3</th>\n",
       "      <td>PAL0708</td>\n",
       "      <td>4</td>\n",
       "      <td>Adelie Penguin (Pygoscelis adeliae)</td>\n",
       "      <td>Anvers</td>\n",
       "      <td>Torgersen</td>\n",
       "      <td>Adult, 1 Egg Stage</td>\n",
       "      <td>N2A2</td>\n",
       "      <td>Yes</td>\n",
       "      <td>11/16/07</td>\n",
       "      <td>NaN</td>\n",
       "      <td>NaN</td>\n",
       "      <td>NaN</td>\n",
       "      <td>NaN</td>\n",
       "      <td>NaN</td>\n",
       "      <td>NaN</td>\n",
       "      <td>NaN</td>\n",
       "      <td>Adult not sampled.</td>\n",
       "    </tr>\n",
       "    <tr>\n",
       "      <th>4</th>\n",
       "      <td>PAL0708</td>\n",
       "      <td>5</td>\n",
       "      <td>Adelie Penguin (Pygoscelis adeliae)</td>\n",
       "      <td>Anvers</td>\n",
       "      <td>Torgersen</td>\n",
       "      <td>Adult, 1 Egg Stage</td>\n",
       "      <td>N3A1</td>\n",
       "      <td>Yes</td>\n",
       "      <td>11/16/07</td>\n",
       "      <td>36.7</td>\n",
       "      <td>19.3</td>\n",
       "      <td>193.0</td>\n",
       "      <td>3450.0</td>\n",
       "      <td>FEMALE</td>\n",
       "      <td>8.76651</td>\n",
       "      <td>-25.32426</td>\n",
       "      <td>NaN</td>\n",
       "    </tr>\n",
       "  </tbody>\n",
       "</table>\n",
       "</div>"
      ],
      "text/plain": [
       "  studyName  Sample Number                              Species  Region  \\\n",
       "0   PAL0708              1  Adelie Penguin (Pygoscelis adeliae)  Anvers   \n",
       "1   PAL0708              2  Adelie Penguin (Pygoscelis adeliae)  Anvers   \n",
       "2   PAL0708              3  Adelie Penguin (Pygoscelis adeliae)  Anvers   \n",
       "3   PAL0708              4  Adelie Penguin (Pygoscelis adeliae)  Anvers   \n",
       "4   PAL0708              5  Adelie Penguin (Pygoscelis adeliae)  Anvers   \n",
       "\n",
       "      Island               Stage Individual ID Clutch Completion  Date Egg  \\\n",
       "0  Torgersen  Adult, 1 Egg Stage          N1A1               Yes  11/11/07   \n",
       "1  Torgersen  Adult, 1 Egg Stage          N1A2               Yes  11/11/07   \n",
       "2  Torgersen  Adult, 1 Egg Stage          N2A1               Yes  11/16/07   \n",
       "3  Torgersen  Adult, 1 Egg Stage          N2A2               Yes  11/16/07   \n",
       "4  Torgersen  Adult, 1 Egg Stage          N3A1               Yes  11/16/07   \n",
       "\n",
       "   Culmen Length (mm)  Culmen Depth (mm)  Flipper Length (mm)  Body Mass (g)  \\\n",
       "0                39.1               18.7                181.0         3750.0   \n",
       "1                39.5               17.4                186.0         3800.0   \n",
       "2                40.3               18.0                195.0         3250.0   \n",
       "3                 NaN                NaN                  NaN            NaN   \n",
       "4                36.7               19.3                193.0         3450.0   \n",
       "\n",
       "      Sex  Delta 15 N (o/oo)  Delta 13 C (o/oo)  \\\n",
       "0    MALE                NaN                NaN   \n",
       "1  FEMALE            8.94956          -24.69454   \n",
       "2  FEMALE            8.36821          -25.33302   \n",
       "3     NaN                NaN                NaN   \n",
       "4  FEMALE            8.76651          -25.32426   \n",
       "\n",
       "                         Comments  \n",
       "0  Not enough blood for isotopes.  \n",
       "1                             NaN  \n",
       "2                             NaN  \n",
       "3              Adult not sampled.  \n",
       "4                             NaN  "
      ]
     },
     "execution_count": 3,
     "metadata": {},
     "output_type": "execute_result"
    },
    {
     "data": {
      "application/javascript": [
       "\n",
       "            setTimeout(function() {\n",
       "                var nbb_cell_id = 3;\n",
       "                var nbb_unformatted_code = \"# checking top 5 rows\\npenguins_df.head()\";\n",
       "                var nbb_formatted_code = \"# checking top 5 rows\\npenguins_df.head()\";\n",
       "                var nbb_cells = Jupyter.notebook.get_cells();\n",
       "                for (var i = 0; i < nbb_cells.length; ++i) {\n",
       "                    if (nbb_cells[i].input_prompt_number == nbb_cell_id) {\n",
       "                        if (nbb_cells[i].get_text() == nbb_unformatted_code) {\n",
       "                             nbb_cells[i].set_text(nbb_formatted_code);\n",
       "                        }\n",
       "                        break;\n",
       "                    }\n",
       "                }\n",
       "            }, 500);\n",
       "            "
      ],
      "text/plain": [
       "<IPython.core.display.Javascript object>"
      ]
     },
     "metadata": {},
     "output_type": "display_data"
    }
   ],
   "source": [
    "# checking top 5 rows\n",
    "penguins_df.head()"
   ]
  },
  {
   "cell_type": "code",
   "execution_count": 4,
   "metadata": {},
   "outputs": [
    {
     "data": {
      "text/plain": [
       "(344, 17)"
      ]
     },
     "execution_count": 4,
     "metadata": {},
     "output_type": "execute_result"
    },
    {
     "data": {
      "application/javascript": [
       "\n",
       "            setTimeout(function() {\n",
       "                var nbb_cell_id = 4;\n",
       "                var nbb_unformatted_code = \"# checking the number of rows and columns\\npenguins_df.shape\";\n",
       "                var nbb_formatted_code = \"# checking the number of rows and columns\\npenguins_df.shape\";\n",
       "                var nbb_cells = Jupyter.notebook.get_cells();\n",
       "                for (var i = 0; i < nbb_cells.length; ++i) {\n",
       "                    if (nbb_cells[i].input_prompt_number == nbb_cell_id) {\n",
       "                        if (nbb_cells[i].get_text() == nbb_unformatted_code) {\n",
       "                             nbb_cells[i].set_text(nbb_formatted_code);\n",
       "                        }\n",
       "                        break;\n",
       "                    }\n",
       "                }\n",
       "            }, 500);\n",
       "            "
      ],
      "text/plain": [
       "<IPython.core.display.Javascript object>"
      ]
     },
     "metadata": {},
     "output_type": "display_data"
    }
   ],
   "source": [
    "# checking the number of rows and columns\n",
    "penguins_df.shape"
   ]
  },
  {
   "cell_type": "code",
   "execution_count": 5,
   "metadata": {},
   "outputs": [
    {
     "data": {
      "text/plain": [
       "Index(['studyName', 'Sample Number', 'Species', 'Region', 'Island', 'Stage',\n",
       "       'Individual ID', 'Clutch Completion', 'Date Egg', 'Culmen Length (mm)',\n",
       "       'Culmen Depth (mm)', 'Flipper Length (mm)', 'Body Mass (g)', 'Sex',\n",
       "       'Delta 15 N (o/oo)', 'Delta 13 C (o/oo)', 'Comments'],\n",
       "      dtype='object')"
      ]
     },
     "execution_count": 5,
     "metadata": {},
     "output_type": "execute_result"
    },
    {
     "data": {
      "application/javascript": [
       "\n",
       "            setTimeout(function() {\n",
       "                var nbb_cell_id = 5;\n",
       "                var nbb_unformatted_code = \"# checking the column names\\npenguins_df.columns\";\n",
       "                var nbb_formatted_code = \"# checking the column names\\npenguins_df.columns\";\n",
       "                var nbb_cells = Jupyter.notebook.get_cells();\n",
       "                for (var i = 0; i < nbb_cells.length; ++i) {\n",
       "                    if (nbb_cells[i].input_prompt_number == nbb_cell_id) {\n",
       "                        if (nbb_cells[i].get_text() == nbb_unformatted_code) {\n",
       "                             nbb_cells[i].set_text(nbb_formatted_code);\n",
       "                        }\n",
       "                        break;\n",
       "                    }\n",
       "                }\n",
       "            }, 500);\n",
       "            "
      ],
      "text/plain": [
       "<IPython.core.display.Javascript object>"
      ]
     },
     "metadata": {},
     "output_type": "display_data"
    }
   ],
   "source": [
    "# checking the column names\n",
    "penguins_df.columns"
   ]
  },
  {
   "cell_type": "code",
   "execution_count": 6,
   "metadata": {},
   "outputs": [
    {
     "data": {
      "text/html": [
       "<div>\n",
       "<style scoped>\n",
       "    .dataframe tbody tr th:only-of-type {\n",
       "        vertical-align: middle;\n",
       "    }\n",
       "\n",
       "    .dataframe tbody tr th {\n",
       "        vertical-align: top;\n",
       "    }\n",
       "\n",
       "    .dataframe thead th {\n",
       "        text-align: right;\n",
       "    }\n",
       "</style>\n",
       "<table border=\"1\" class=\"dataframe\">\n",
       "  <thead>\n",
       "    <tr style=\"text-align: right;\">\n",
       "      <th></th>\n",
       "      <th>Sample Number</th>\n",
       "      <th>Culmen Length (mm)</th>\n",
       "      <th>Culmen Depth (mm)</th>\n",
       "      <th>Flipper Length (mm)</th>\n",
       "      <th>Body Mass (g)</th>\n",
       "      <th>Delta 15 N (o/oo)</th>\n",
       "      <th>Delta 13 C (o/oo)</th>\n",
       "    </tr>\n",
       "  </thead>\n",
       "  <tbody>\n",
       "    <tr>\n",
       "      <th>count</th>\n",
       "      <td>344.000000</td>\n",
       "      <td>342.000000</td>\n",
       "      <td>342.000000</td>\n",
       "      <td>342.000000</td>\n",
       "      <td>342.000000</td>\n",
       "      <td>330.000000</td>\n",
       "      <td>331.000000</td>\n",
       "    </tr>\n",
       "    <tr>\n",
       "      <th>mean</th>\n",
       "      <td>63.151163</td>\n",
       "      <td>43.921930</td>\n",
       "      <td>17.151170</td>\n",
       "      <td>200.915205</td>\n",
       "      <td>4201.754386</td>\n",
       "      <td>8.733382</td>\n",
       "      <td>-25.686292</td>\n",
       "    </tr>\n",
       "    <tr>\n",
       "      <th>std</th>\n",
       "      <td>40.430199</td>\n",
       "      <td>5.459584</td>\n",
       "      <td>1.974793</td>\n",
       "      <td>14.061714</td>\n",
       "      <td>801.954536</td>\n",
       "      <td>0.551770</td>\n",
       "      <td>0.793961</td>\n",
       "    </tr>\n",
       "    <tr>\n",
       "      <th>min</th>\n",
       "      <td>1.000000</td>\n",
       "      <td>32.100000</td>\n",
       "      <td>13.100000</td>\n",
       "      <td>172.000000</td>\n",
       "      <td>2700.000000</td>\n",
       "      <td>7.632200</td>\n",
       "      <td>-27.018540</td>\n",
       "    </tr>\n",
       "    <tr>\n",
       "      <th>25%</th>\n",
       "      <td>29.000000</td>\n",
       "      <td>39.225000</td>\n",
       "      <td>15.600000</td>\n",
       "      <td>190.000000</td>\n",
       "      <td>3550.000000</td>\n",
       "      <td>8.299890</td>\n",
       "      <td>-26.320305</td>\n",
       "    </tr>\n",
       "    <tr>\n",
       "      <th>50%</th>\n",
       "      <td>58.000000</td>\n",
       "      <td>44.450000</td>\n",
       "      <td>17.300000</td>\n",
       "      <td>197.000000</td>\n",
       "      <td>4050.000000</td>\n",
       "      <td>8.652405</td>\n",
       "      <td>-25.833520</td>\n",
       "    </tr>\n",
       "    <tr>\n",
       "      <th>75%</th>\n",
       "      <td>95.250000</td>\n",
       "      <td>48.500000</td>\n",
       "      <td>18.700000</td>\n",
       "      <td>213.000000</td>\n",
       "      <td>4750.000000</td>\n",
       "      <td>9.172123</td>\n",
       "      <td>-25.062050</td>\n",
       "    </tr>\n",
       "    <tr>\n",
       "      <th>max</th>\n",
       "      <td>152.000000</td>\n",
       "      <td>59.600000</td>\n",
       "      <td>21.500000</td>\n",
       "      <td>231.000000</td>\n",
       "      <td>6300.000000</td>\n",
       "      <td>10.025440</td>\n",
       "      <td>-23.787670</td>\n",
       "    </tr>\n",
       "  </tbody>\n",
       "</table>\n",
       "</div>"
      ],
      "text/plain": [
       "       Sample Number  Culmen Length (mm)  Culmen Depth (mm)  \\\n",
       "count     344.000000          342.000000         342.000000   \n",
       "mean       63.151163           43.921930          17.151170   \n",
       "std        40.430199            5.459584           1.974793   \n",
       "min         1.000000           32.100000          13.100000   \n",
       "25%        29.000000           39.225000          15.600000   \n",
       "50%        58.000000           44.450000          17.300000   \n",
       "75%        95.250000           48.500000          18.700000   \n",
       "max       152.000000           59.600000          21.500000   \n",
       "\n",
       "       Flipper Length (mm)  Body Mass (g)  Delta 15 N (o/oo)  \\\n",
       "count           342.000000     342.000000         330.000000   \n",
       "mean            200.915205    4201.754386           8.733382   \n",
       "std              14.061714     801.954536           0.551770   \n",
       "min             172.000000    2700.000000           7.632200   \n",
       "25%             190.000000    3550.000000           8.299890   \n",
       "50%             197.000000    4050.000000           8.652405   \n",
       "75%             213.000000    4750.000000           9.172123   \n",
       "max             231.000000    6300.000000          10.025440   \n",
       "\n",
       "       Delta 13 C (o/oo)  \n",
       "count         331.000000  \n",
       "mean          -25.686292  \n",
       "std             0.793961  \n",
       "min           -27.018540  \n",
       "25%           -26.320305  \n",
       "50%           -25.833520  \n",
       "75%           -25.062050  \n",
       "max           -23.787670  "
      ]
     },
     "execution_count": 6,
     "metadata": {},
     "output_type": "execute_result"
    },
    {
     "data": {
      "application/javascript": [
       "\n",
       "            setTimeout(function() {\n",
       "                var nbb_cell_id = 6;\n",
       "                var nbb_unformatted_code = \"# checking the dataset stats\\npenguins_df.describe()\";\n",
       "                var nbb_formatted_code = \"# checking the dataset stats\\npenguins_df.describe()\";\n",
       "                var nbb_cells = Jupyter.notebook.get_cells();\n",
       "                for (var i = 0; i < nbb_cells.length; ++i) {\n",
       "                    if (nbb_cells[i].input_prompt_number == nbb_cell_id) {\n",
       "                        if (nbb_cells[i].get_text() == nbb_unformatted_code) {\n",
       "                             nbb_cells[i].set_text(nbb_formatted_code);\n",
       "                        }\n",
       "                        break;\n",
       "                    }\n",
       "                }\n",
       "            }, 500);\n",
       "            "
      ],
      "text/plain": [
       "<IPython.core.display.Javascript object>"
      ]
     },
     "metadata": {},
     "output_type": "display_data"
    }
   ],
   "source": [
    "# checking the dataset stats\n",
    "penguins_df.describe()"
   ]
  },
  {
   "cell_type": "code",
   "execution_count": 7,
   "metadata": {},
   "outputs": [
    {
     "name": "stdout",
     "output_type": "stream",
     "text": [
      "<class 'pandas.core.frame.DataFrame'>\n",
      "RangeIndex: 344 entries, 0 to 343\n",
      "Data columns (total 17 columns):\n",
      " #   Column               Non-Null Count  Dtype  \n",
      "---  ------               --------------  -----  \n",
      " 0   studyName            344 non-null    object \n",
      " 1   Sample Number        344 non-null    int64  \n",
      " 2   Species              344 non-null    object \n",
      " 3   Region               344 non-null    object \n",
      " 4   Island               344 non-null    object \n",
      " 5   Stage                344 non-null    object \n",
      " 6   Individual ID        344 non-null    object \n",
      " 7   Clutch Completion    344 non-null    object \n",
      " 8   Date Egg             344 non-null    object \n",
      " 9   Culmen Length (mm)   342 non-null    float64\n",
      " 10  Culmen Depth (mm)    342 non-null    float64\n",
      " 11  Flipper Length (mm)  342 non-null    float64\n",
      " 12  Body Mass (g)        342 non-null    float64\n",
      " 13  Sex                  334 non-null    object \n",
      " 14  Delta 15 N (o/oo)    330 non-null    float64\n",
      " 15  Delta 13 C (o/oo)    331 non-null    float64\n",
      " 16  Comments             26 non-null     object \n",
      "dtypes: float64(6), int64(1), object(10)\n",
      "memory usage: 45.8+ KB\n"
     ]
    },
    {
     "data": {
      "application/javascript": [
       "\n",
       "            setTimeout(function() {\n",
       "                var nbb_cell_id = 7;\n",
       "                var nbb_unformatted_code = \"# checking counts and data type for each column\\npenguins_df.info()\";\n",
       "                var nbb_formatted_code = \"# checking counts and data type for each column\\npenguins_df.info()\";\n",
       "                var nbb_cells = Jupyter.notebook.get_cells();\n",
       "                for (var i = 0; i < nbb_cells.length; ++i) {\n",
       "                    if (nbb_cells[i].input_prompt_number == nbb_cell_id) {\n",
       "                        if (nbb_cells[i].get_text() == nbb_unformatted_code) {\n",
       "                             nbb_cells[i].set_text(nbb_formatted_code);\n",
       "                        }\n",
       "                        break;\n",
       "                    }\n",
       "                }\n",
       "            }, 500);\n",
       "            "
      ],
      "text/plain": [
       "<IPython.core.display.Javascript object>"
      ]
     },
     "metadata": {},
     "output_type": "display_data"
    }
   ],
   "source": [
    "# checking counts and data type for each column\n",
    "penguins_df.info()"
   ]
  },
  {
   "cell_type": "code",
   "execution_count": 8,
   "metadata": {},
   "outputs": [
    {
     "data": {
      "text/plain": [
       "studyName                0\n",
       "Sample Number            0\n",
       "Species                  0\n",
       "Region                   0\n",
       "Island                   0\n",
       "Stage                    0\n",
       "Individual ID            0\n",
       "Clutch Completion        0\n",
       "Date Egg                 0\n",
       "Culmen Length (mm)       2\n",
       "Culmen Depth (mm)        2\n",
       "Flipper Length (mm)      2\n",
       "Body Mass (g)            2\n",
       "Sex                     10\n",
       "Delta 15 N (o/oo)       14\n",
       "Delta 13 C (o/oo)       13\n",
       "Comments               318\n",
       "dtype: int64"
      ]
     },
     "execution_count": 8,
     "metadata": {},
     "output_type": "execute_result"
    },
    {
     "data": {
      "application/javascript": [
       "\n",
       "            setTimeout(function() {\n",
       "                var nbb_cell_id = 8;\n",
       "                var nbb_unformatted_code = \"# checking for the presence of null values\\npenguins_df.isnull().sum()\";\n",
       "                var nbb_formatted_code = \"# checking for the presence of null values\\npenguins_df.isnull().sum()\";\n",
       "                var nbb_cells = Jupyter.notebook.get_cells();\n",
       "                for (var i = 0; i < nbb_cells.length; ++i) {\n",
       "                    if (nbb_cells[i].input_prompt_number == nbb_cell_id) {\n",
       "                        if (nbb_cells[i].get_text() == nbb_unformatted_code) {\n",
       "                             nbb_cells[i].set_text(nbb_formatted_code);\n",
       "                        }\n",
       "                        break;\n",
       "                    }\n",
       "                }\n",
       "            }, 500);\n",
       "            "
      ],
      "text/plain": [
       "<IPython.core.display.Javascript object>"
      ]
     },
     "metadata": {},
     "output_type": "display_data"
    }
   ],
   "source": [
    "# checking for the presence of null values\n",
    "penguins_df.isnull().sum()"
   ]
  },
  {
   "cell_type": "code",
   "execution_count": 9,
   "metadata": {},
   "outputs": [
    {
     "data": {
      "application/javascript": [
       "\n",
       "            setTimeout(function() {\n",
       "                var nbb_cell_id = 9;\n",
       "                var nbb_unformatted_code = \"# Some of the columns have null values. Subsituting the null value with the most frequently occurring value of that column.\\nfrom sklearn.impute import SimpleImputer\\n\\nimputer = SimpleImputer(strategy=\\\"most_frequent\\\")\\npenguins_df.iloc[:, :] = imputer.fit_transform(penguins_df)\";\n",
       "                var nbb_formatted_code = \"# Some of the columns have null values. Subsituting the null value with the most frequently occurring value of that column.\\nfrom sklearn.impute import SimpleImputer\\n\\nimputer = SimpleImputer(strategy=\\\"most_frequent\\\")\\npenguins_df.iloc[:, :] = imputer.fit_transform(penguins_df)\";\n",
       "                var nbb_cells = Jupyter.notebook.get_cells();\n",
       "                for (var i = 0; i < nbb_cells.length; ++i) {\n",
       "                    if (nbb_cells[i].input_prompt_number == nbb_cell_id) {\n",
       "                        if (nbb_cells[i].get_text() == nbb_unformatted_code) {\n",
       "                             nbb_cells[i].set_text(nbb_formatted_code);\n",
       "                        }\n",
       "                        break;\n",
       "                    }\n",
       "                }\n",
       "            }, 500);\n",
       "            "
      ],
      "text/plain": [
       "<IPython.core.display.Javascript object>"
      ]
     },
     "metadata": {},
     "output_type": "display_data"
    }
   ],
   "source": [
    "# Some of the columns have null values. Subsituting the null value with the most frequently occurring value of that column.\n",
    "from sklearn.impute import SimpleImputer\n",
    "\n",
    "imputer = SimpleImputer(strategy=\"most_frequent\")\n",
    "penguins_df.iloc[:, :] = imputer.fit_transform(penguins_df)"
   ]
  },
  {
   "cell_type": "code",
   "execution_count": 10,
   "metadata": {},
   "outputs": [
    {
     "data": {
      "text/plain": [
       "studyName              0\n",
       "Sample Number          0\n",
       "Species                0\n",
       "Region                 0\n",
       "Island                 0\n",
       "Stage                  0\n",
       "Individual ID          0\n",
       "Clutch Completion      0\n",
       "Date Egg               0\n",
       "Culmen Length (mm)     0\n",
       "Culmen Depth (mm)      0\n",
       "Flipper Length (mm)    0\n",
       "Body Mass (g)          0\n",
       "Sex                    0\n",
       "Delta 15 N (o/oo)      0\n",
       "Delta 13 C (o/oo)      0\n",
       "Comments               0\n",
       "dtype: int64"
      ]
     },
     "execution_count": 10,
     "metadata": {},
     "output_type": "execute_result"
    },
    {
     "data": {
      "application/javascript": [
       "\n",
       "            setTimeout(function() {\n",
       "                var nbb_cell_id = 10;\n",
       "                var nbb_unformatted_code = \"# ensuring that there are no more null values left\\npenguins_df.isnull().sum()\";\n",
       "                var nbb_formatted_code = \"# ensuring that there are no more null values left\\npenguins_df.isnull().sum()\";\n",
       "                var nbb_cells = Jupyter.notebook.get_cells();\n",
       "                for (var i = 0; i < nbb_cells.length; ++i) {\n",
       "                    if (nbb_cells[i].input_prompt_number == nbb_cell_id) {\n",
       "                        if (nbb_cells[i].get_text() == nbb_unformatted_code) {\n",
       "                             nbb_cells[i].set_text(nbb_formatted_code);\n",
       "                        }\n",
       "                        break;\n",
       "                    }\n",
       "                }\n",
       "            }, 500);\n",
       "            "
      ],
      "text/plain": [
       "<IPython.core.display.Javascript object>"
      ]
     },
     "metadata": {},
     "output_type": "display_data"
    }
   ],
   "source": [
    "# ensuring that there are no more null values left\n",
    "penguins_df.isnull().sum()"
   ]
  },
  {
   "cell_type": "code",
   "execution_count": 11,
   "metadata": {},
   "outputs": [
    {
     "data": {
      "text/html": [
       "<div>\n",
       "<style scoped>\n",
       "    .dataframe tbody tr th:only-of-type {\n",
       "        vertical-align: middle;\n",
       "    }\n",
       "\n",
       "    .dataframe tbody tr th {\n",
       "        vertical-align: top;\n",
       "    }\n",
       "\n",
       "    .dataframe thead th {\n",
       "        text-align: right;\n",
       "    }\n",
       "</style>\n",
       "<table border=\"1\" class=\"dataframe\">\n",
       "  <thead>\n",
       "    <tr style=\"text-align: right;\">\n",
       "      <th></th>\n",
       "      <th>Sample Number</th>\n",
       "      <th>Culmen Length (mm)</th>\n",
       "      <th>Culmen Depth (mm)</th>\n",
       "      <th>Flipper Length (mm)</th>\n",
       "      <th>Body Mass (g)</th>\n",
       "      <th>Delta 15 N (o/oo)</th>\n",
       "      <th>Delta 13 C (o/oo)</th>\n",
       "    </tr>\n",
       "  </thead>\n",
       "  <tbody>\n",
       "    <tr>\n",
       "      <th>Sample Number</th>\n",
       "      <td>1.000000</td>\n",
       "      <td>-0.234664</td>\n",
       "      <td>-0.022204</td>\n",
       "      <td>0.040661</td>\n",
       "      <td>-0.006911</td>\n",
       "      <td>0.064366</td>\n",
       "      <td>-0.403769</td>\n",
       "    </tr>\n",
       "    <tr>\n",
       "      <th>Culmen Length (mm)</th>\n",
       "      <td>-0.234664</td>\n",
       "      <td>1.000000</td>\n",
       "      <td>-0.234635</td>\n",
       "      <td>0.656856</td>\n",
       "      <td>0.595720</td>\n",
       "      <td>-0.006961</td>\n",
       "      <td>0.224159</td>\n",
       "    </tr>\n",
       "    <tr>\n",
       "      <th>Culmen Depth (mm)</th>\n",
       "      <td>-0.022204</td>\n",
       "      <td>-0.234635</td>\n",
       "      <td>1.000000</td>\n",
       "      <td>-0.582472</td>\n",
       "      <td>-0.471339</td>\n",
       "      <td>0.511599</td>\n",
       "      <td>0.373120</td>\n",
       "    </tr>\n",
       "    <tr>\n",
       "      <th>Flipper Length (mm)</th>\n",
       "      <td>0.040661</td>\n",
       "      <td>0.656856</td>\n",
       "      <td>-0.582472</td>\n",
       "      <td>1.000000</td>\n",
       "      <td>0.871302</td>\n",
       "      <td>-0.398915</td>\n",
       "      <td>-0.295225</td>\n",
       "    </tr>\n",
       "    <tr>\n",
       "      <th>Body Mass (g)</th>\n",
       "      <td>-0.006911</td>\n",
       "      <td>0.595720</td>\n",
       "      <td>-0.471339</td>\n",
       "      <td>0.871302</td>\n",
       "      <td>1.000000</td>\n",
       "      <td>-0.454298</td>\n",
       "      <td>-0.320374</td>\n",
       "    </tr>\n",
       "    <tr>\n",
       "      <th>Delta 15 N (o/oo)</th>\n",
       "      <td>0.064366</td>\n",
       "      <td>-0.006961</td>\n",
       "      <td>0.511599</td>\n",
       "      <td>-0.398915</td>\n",
       "      <td>-0.454298</td>\n",
       "      <td>1.000000</td>\n",
       "      <td>0.597626</td>\n",
       "    </tr>\n",
       "    <tr>\n",
       "      <th>Delta 13 C (o/oo)</th>\n",
       "      <td>-0.403769</td>\n",
       "      <td>0.224159</td>\n",
       "      <td>0.373120</td>\n",
       "      <td>-0.295225</td>\n",
       "      <td>-0.320374</td>\n",
       "      <td>0.597626</td>\n",
       "      <td>1.000000</td>\n",
       "    </tr>\n",
       "  </tbody>\n",
       "</table>\n",
       "</div>"
      ],
      "text/plain": [
       "                     Sample Number  Culmen Length (mm)  Culmen Depth (mm)  \\\n",
       "Sample Number             1.000000           -0.234664          -0.022204   \n",
       "Culmen Length (mm)       -0.234664            1.000000          -0.234635   \n",
       "Culmen Depth (mm)        -0.022204           -0.234635           1.000000   \n",
       "Flipper Length (mm)       0.040661            0.656856          -0.582472   \n",
       "Body Mass (g)            -0.006911            0.595720          -0.471339   \n",
       "Delta 15 N (o/oo)         0.064366           -0.006961           0.511599   \n",
       "Delta 13 C (o/oo)        -0.403769            0.224159           0.373120   \n",
       "\n",
       "                     Flipper Length (mm)  Body Mass (g)  Delta 15 N (o/oo)  \\\n",
       "Sample Number                   0.040661      -0.006911           0.064366   \n",
       "Culmen Length (mm)              0.656856       0.595720          -0.006961   \n",
       "Culmen Depth (mm)              -0.582472      -0.471339           0.511599   \n",
       "Flipper Length (mm)             1.000000       0.871302          -0.398915   \n",
       "Body Mass (g)                   0.871302       1.000000          -0.454298   \n",
       "Delta 15 N (o/oo)              -0.398915      -0.454298           1.000000   \n",
       "Delta 13 C (o/oo)              -0.295225      -0.320374           0.597626   \n",
       "\n",
       "                     Delta 13 C (o/oo)  \n",
       "Sample Number                -0.403769  \n",
       "Culmen Length (mm)            0.224159  \n",
       "Culmen Depth (mm)             0.373120  \n",
       "Flipper Length (mm)          -0.295225  \n",
       "Body Mass (g)                -0.320374  \n",
       "Delta 15 N (o/oo)             0.597626  \n",
       "Delta 13 C (o/oo)             1.000000  "
      ]
     },
     "execution_count": 11,
     "metadata": {},
     "output_type": "execute_result"
    },
    {
     "data": {
      "application/javascript": [
       "\n",
       "            setTimeout(function() {\n",
       "                var nbb_cell_id = 11;\n",
       "                var nbb_unformatted_code = \"# checking for correlation between features\\npenguins_df.corr()\";\n",
       "                var nbb_formatted_code = \"# checking for correlation between features\\npenguins_df.corr()\";\n",
       "                var nbb_cells = Jupyter.notebook.get_cells();\n",
       "                for (var i = 0; i < nbb_cells.length; ++i) {\n",
       "                    if (nbb_cells[i].input_prompt_number == nbb_cell_id) {\n",
       "                        if (nbb_cells[i].get_text() == nbb_unformatted_code) {\n",
       "                             nbb_cells[i].set_text(nbb_formatted_code);\n",
       "                        }\n",
       "                        break;\n",
       "                    }\n",
       "                }\n",
       "            }, 500);\n",
       "            "
      ],
      "text/plain": [
       "<IPython.core.display.Javascript object>"
      ]
     },
     "metadata": {},
     "output_type": "display_data"
    }
   ],
   "source": [
    "# checking for correlation between features\n",
    "penguins_df.corr()"
   ]
  },
  {
   "cell_type": "code",
   "execution_count": 12,
   "metadata": {},
   "outputs": [
    {
     "data": {
      "application/javascript": [
       "\n",
       "            setTimeout(function() {\n",
       "                var nbb_cell_id = 12;\n",
       "                var nbb_unformatted_code = \"# since each of the 3 penguin species present in the dataset has a particulr color associated, adding a color column to the dataset to keep track of the color associated with a specie.\\ncls = {\\n    \\\"Adelie Penguin (Pygoscelis adeliae)\\\": \\\"darkorange\\\",\\n    \\\"Gentoo penguin (Pygoscelis papua)\\\": \\\"teal\\\",\\n    \\\"Chinstrap penguin (Pygoscelis antarctica)\\\": \\\"mediumorchid\\\",\\n}\\n\\npenguins_df[\\\"Color\\\"] = penguins_df[\\\"Species\\\"].apply(lambda x: cls[x])\";\n",
       "                var nbb_formatted_code = \"# since each of the 3 penguin species present in the dataset has a particulr color associated, adding a color column to the dataset to keep track of the color associated with a specie.\\ncls = {\\n    \\\"Adelie Penguin (Pygoscelis adeliae)\\\": \\\"darkorange\\\",\\n    \\\"Gentoo penguin (Pygoscelis papua)\\\": \\\"teal\\\",\\n    \\\"Chinstrap penguin (Pygoscelis antarctica)\\\": \\\"mediumorchid\\\",\\n}\\n\\npenguins_df[\\\"Color\\\"] = penguins_df[\\\"Species\\\"].apply(lambda x: cls[x])\";\n",
       "                var nbb_cells = Jupyter.notebook.get_cells();\n",
       "                for (var i = 0; i < nbb_cells.length; ++i) {\n",
       "                    if (nbb_cells[i].input_prompt_number == nbb_cell_id) {\n",
       "                        if (nbb_cells[i].get_text() == nbb_unformatted_code) {\n",
       "                             nbb_cells[i].set_text(nbb_formatted_code);\n",
       "                        }\n",
       "                        break;\n",
       "                    }\n",
       "                }\n",
       "            }, 500);\n",
       "            "
      ],
      "text/plain": [
       "<IPython.core.display.Javascript object>"
      ]
     },
     "metadata": {},
     "output_type": "display_data"
    }
   ],
   "source": [
    "# since each of the 3 penguin species present in the dataset has a particulr color associated, adding a color column to the dataset to keep track of the color associated with a specie.\n",
    "cls = {\n",
    "    \"Adelie Penguin (Pygoscelis adeliae)\": \"darkorange\",\n",
    "    \"Gentoo penguin (Pygoscelis papua)\": \"teal\",\n",
    "    \"Chinstrap penguin (Pygoscelis antarctica)\": \"mediumorchid\",\n",
    "}\n",
    "\n",
    "penguins_df[\"Color\"] = penguins_df[\"Species\"].apply(lambda x: cls[x])"
   ]
  },
  {
   "cell_type": "code",
   "execution_count": 13,
   "metadata": {},
   "outputs": [
    {
     "data": {
      "text/html": [
       "<div>\n",
       "<style scoped>\n",
       "    .dataframe tbody tr th:only-of-type {\n",
       "        vertical-align: middle;\n",
       "    }\n",
       "\n",
       "    .dataframe tbody tr th {\n",
       "        vertical-align: top;\n",
       "    }\n",
       "\n",
       "    .dataframe thead th {\n",
       "        text-align: right;\n",
       "    }\n",
       "</style>\n",
       "<table border=\"1\" class=\"dataframe\">\n",
       "  <thead>\n",
       "    <tr style=\"text-align: right;\">\n",
       "      <th></th>\n",
       "      <th>Species</th>\n",
       "      <th>Color</th>\n",
       "      <th>Count</th>\n",
       "    </tr>\n",
       "  </thead>\n",
       "  <tbody>\n",
       "    <tr>\n",
       "      <th>0</th>\n",
       "      <td>Adelie Penguin (Pygoscelis adeliae)</td>\n",
       "      <td>darkorange</td>\n",
       "      <td>152</td>\n",
       "    </tr>\n",
       "    <tr>\n",
       "      <th>1</th>\n",
       "      <td>Gentoo penguin (Pygoscelis papua)</td>\n",
       "      <td>teal</td>\n",
       "      <td>124</td>\n",
       "    </tr>\n",
       "    <tr>\n",
       "      <th>2</th>\n",
       "      <td>Chinstrap penguin (Pygoscelis antarctica)</td>\n",
       "      <td>mediumorchid</td>\n",
       "      <td>68</td>\n",
       "    </tr>\n",
       "  </tbody>\n",
       "</table>\n",
       "</div>"
      ],
      "text/plain": [
       "                                     Species         Color  Count\n",
       "0        Adelie Penguin (Pygoscelis adeliae)    darkorange    152\n",
       "1          Gentoo penguin (Pygoscelis papua)          teal    124\n",
       "2  Chinstrap penguin (Pygoscelis antarctica)  mediumorchid     68"
      ]
     },
     "execution_count": 13,
     "metadata": {},
     "output_type": "execute_result"
    },
    {
     "data": {
      "application/javascript": [
       "\n",
       "            setTimeout(function() {\n",
       "                var nbb_cell_id = 13;\n",
       "                var nbb_unformatted_code = \"# creating a dataframe for count of each penguin species present in the dataset\\nspecies_df = (\\n    pd.DataFrame(penguins_df.groupby([\\\"Species\\\", \\\"Color\\\"])[\\\"studyName\\\"].count())\\n    .sort_values(\\\"studyName\\\", ascending=False)\\n    .reset_index()\\n    .rename(columns={\\\"studyName\\\": \\\"Count\\\"})\\n)\\nspecies_df\";\n",
       "                var nbb_formatted_code = \"# creating a dataframe for count of each penguin species present in the dataset\\nspecies_df = (\\n    pd.DataFrame(penguins_df.groupby([\\\"Species\\\", \\\"Color\\\"])[\\\"studyName\\\"].count())\\n    .sort_values(\\\"studyName\\\", ascending=False)\\n    .reset_index()\\n    .rename(columns={\\\"studyName\\\": \\\"Count\\\"})\\n)\\nspecies_df\";\n",
       "                var nbb_cells = Jupyter.notebook.get_cells();\n",
       "                for (var i = 0; i < nbb_cells.length; ++i) {\n",
       "                    if (nbb_cells[i].input_prompt_number == nbb_cell_id) {\n",
       "                        if (nbb_cells[i].get_text() == nbb_unformatted_code) {\n",
       "                             nbb_cells[i].set_text(nbb_formatted_code);\n",
       "                        }\n",
       "                        break;\n",
       "                    }\n",
       "                }\n",
       "            }, 500);\n",
       "            "
      ],
      "text/plain": [
       "<IPython.core.display.Javascript object>"
      ]
     },
     "metadata": {},
     "output_type": "display_data"
    }
   ],
   "source": [
    "# creating a dataframe for count of each penguin species present in the dataset\n",
    "species_df = (\n",
    "    pd.DataFrame(penguins_df.groupby([\"Species\", \"Color\"])[\"studyName\"].count())\n",
    "    .sort_values(\"studyName\", ascending=False)\n",
    "    .reset_index()\n",
    "    .rename(columns={\"studyName\": \"Count\"})\n",
    ")\n",
    "species_df"
   ]
  },
  {
   "cell_type": "markdown",
   "metadata": {},
   "source": [
    "### Creating individual dataframes for each species for easy visualization."
   ]
  },
  {
   "cell_type": "markdown",
   "metadata": {},
   "source": [
    "### Adelie Penguin (Pygoscelis adeliae)"
   ]
  },
  {
   "cell_type": "code",
   "execution_count": 14,
   "metadata": {},
   "outputs": [
    {
     "data": {
      "text/html": [
       "<div>\n",
       "<style scoped>\n",
       "    .dataframe tbody tr th:only-of-type {\n",
       "        vertical-align: middle;\n",
       "    }\n",
       "\n",
       "    .dataframe tbody tr th {\n",
       "        vertical-align: top;\n",
       "    }\n",
       "\n",
       "    .dataframe thead th {\n",
       "        text-align: right;\n",
       "    }\n",
       "</style>\n",
       "<table border=\"1\" class=\"dataframe\">\n",
       "  <thead>\n",
       "    <tr style=\"text-align: right;\">\n",
       "      <th></th>\n",
       "      <th>studyName</th>\n",
       "      <th>Sample Number</th>\n",
       "      <th>Species</th>\n",
       "      <th>Region</th>\n",
       "      <th>Island</th>\n",
       "      <th>Stage</th>\n",
       "      <th>Individual ID</th>\n",
       "      <th>Clutch Completion</th>\n",
       "      <th>Date Egg</th>\n",
       "      <th>Culmen Length (mm)</th>\n",
       "      <th>Culmen Depth (mm)</th>\n",
       "      <th>Flipper Length (mm)</th>\n",
       "      <th>Body Mass (g)</th>\n",
       "      <th>Sex</th>\n",
       "      <th>Delta 15 N (o/oo)</th>\n",
       "      <th>Delta 13 C (o/oo)</th>\n",
       "      <th>Comments</th>\n",
       "      <th>Color</th>\n",
       "    </tr>\n",
       "  </thead>\n",
       "  <tbody>\n",
       "    <tr>\n",
       "      <th>0</th>\n",
       "      <td>PAL0708</td>\n",
       "      <td>1</td>\n",
       "      <td>Adelie Penguin (Pygoscelis adeliae)</td>\n",
       "      <td>Anvers</td>\n",
       "      <td>Torgersen</td>\n",
       "      <td>Adult, 1 Egg Stage</td>\n",
       "      <td>N1A1</td>\n",
       "      <td>Yes</td>\n",
       "      <td>11/11/07</td>\n",
       "      <td>39.1</td>\n",
       "      <td>18.7</td>\n",
       "      <td>181.0</td>\n",
       "      <td>3750.0</td>\n",
       "      <td>MALE</td>\n",
       "      <td>7.63220</td>\n",
       "      <td>-27.01854</td>\n",
       "      <td>Not enough blood for isotopes.</td>\n",
       "      <td>darkorange</td>\n",
       "    </tr>\n",
       "    <tr>\n",
       "      <th>1</th>\n",
       "      <td>PAL0708</td>\n",
       "      <td>2</td>\n",
       "      <td>Adelie Penguin (Pygoscelis adeliae)</td>\n",
       "      <td>Anvers</td>\n",
       "      <td>Torgersen</td>\n",
       "      <td>Adult, 1 Egg Stage</td>\n",
       "      <td>N1A2</td>\n",
       "      <td>Yes</td>\n",
       "      <td>11/11/07</td>\n",
       "      <td>39.5</td>\n",
       "      <td>17.4</td>\n",
       "      <td>186.0</td>\n",
       "      <td>3800.0</td>\n",
       "      <td>FEMALE</td>\n",
       "      <td>8.94956</td>\n",
       "      <td>-24.69454</td>\n",
       "      <td>Nest never observed with full clutch.</td>\n",
       "      <td>darkorange</td>\n",
       "    </tr>\n",
       "  </tbody>\n",
       "</table>\n",
       "</div>"
      ],
      "text/plain": [
       "  studyName  Sample Number                              Species  Region  \\\n",
       "0   PAL0708              1  Adelie Penguin (Pygoscelis adeliae)  Anvers   \n",
       "1   PAL0708              2  Adelie Penguin (Pygoscelis adeliae)  Anvers   \n",
       "\n",
       "      Island               Stage Individual ID Clutch Completion  Date Egg  \\\n",
       "0  Torgersen  Adult, 1 Egg Stage          N1A1               Yes  11/11/07   \n",
       "1  Torgersen  Adult, 1 Egg Stage          N1A2               Yes  11/11/07   \n",
       "\n",
       "   Culmen Length (mm)  Culmen Depth (mm)  Flipper Length (mm)  Body Mass (g)  \\\n",
       "0                39.1               18.7                181.0         3750.0   \n",
       "1                39.5               17.4                186.0         3800.0   \n",
       "\n",
       "      Sex  Delta 15 N (o/oo)  Delta 13 C (o/oo)  \\\n",
       "0    MALE            7.63220          -27.01854   \n",
       "1  FEMALE            8.94956          -24.69454   \n",
       "\n",
       "                                Comments       Color  \n",
       "0         Not enough blood for isotopes.  darkorange  \n",
       "1  Nest never observed with full clutch.  darkorange  "
      ]
     },
     "execution_count": 14,
     "metadata": {},
     "output_type": "execute_result"
    },
    {
     "data": {
      "application/javascript": [
       "\n",
       "            setTimeout(function() {\n",
       "                var nbb_cell_id = 14;\n",
       "                var nbb_unformatted_code = \"adelie_df = penguins_df[penguins_df[\\\"Species\\\"] == \\\"Adelie Penguin (Pygoscelis adeliae)\\\"]\\nadelie_df.head(2)\";\n",
       "                var nbb_formatted_code = \"adelie_df = penguins_df[penguins_df[\\\"Species\\\"] == \\\"Adelie Penguin (Pygoscelis adeliae)\\\"]\\nadelie_df.head(2)\";\n",
       "                var nbb_cells = Jupyter.notebook.get_cells();\n",
       "                for (var i = 0; i < nbb_cells.length; ++i) {\n",
       "                    if (nbb_cells[i].input_prompt_number == nbb_cell_id) {\n",
       "                        if (nbb_cells[i].get_text() == nbb_unformatted_code) {\n",
       "                             nbb_cells[i].set_text(nbb_formatted_code);\n",
       "                        }\n",
       "                        break;\n",
       "                    }\n",
       "                }\n",
       "            }, 500);\n",
       "            "
      ],
      "text/plain": [
       "<IPython.core.display.Javascript object>"
      ]
     },
     "metadata": {},
     "output_type": "display_data"
    }
   ],
   "source": [
    "adelie_df = penguins_df[penguins_df[\"Species\"] == \"Adelie Penguin (Pygoscelis adeliae)\"]\n",
    "adelie_df.head(2)"
   ]
  },
  {
   "cell_type": "code",
   "execution_count": 15,
   "metadata": {},
   "outputs": [
    {
     "data": {
      "text/html": [
       "<div>\n",
       "<style scoped>\n",
       "    .dataframe tbody tr th:only-of-type {\n",
       "        vertical-align: middle;\n",
       "    }\n",
       "\n",
       "    .dataframe tbody tr th {\n",
       "        vertical-align: top;\n",
       "    }\n",
       "\n",
       "    .dataframe thead th {\n",
       "        text-align: right;\n",
       "    }\n",
       "</style>\n",
       "<table border=\"1\" class=\"dataframe\">\n",
       "  <thead>\n",
       "    <tr style=\"text-align: right;\">\n",
       "      <th></th>\n",
       "      <th>Species</th>\n",
       "      <th>Color</th>\n",
       "      <th>Count</th>\n",
       "    </tr>\n",
       "  </thead>\n",
       "  <tbody>\n",
       "    <tr>\n",
       "      <th>0</th>\n",
       "      <td>Adelie Penguin (Pygoscelis adeliae)</td>\n",
       "      <td>darkorange</td>\n",
       "      <td>152</td>\n",
       "    </tr>\n",
       "  </tbody>\n",
       "</table>\n",
       "</div>"
      ],
      "text/plain": [
       "                               Species       Color  Count\n",
       "0  Adelie Penguin (Pygoscelis adeliae)  darkorange    152"
      ]
     },
     "execution_count": 15,
     "metadata": {},
     "output_type": "execute_result"
    },
    {
     "data": {
      "application/javascript": [
       "\n",
       "            setTimeout(function() {\n",
       "                var nbb_cell_id = 15;\n",
       "                var nbb_unformatted_code = \"adelie_count_df = (\\n    pd.DataFrame(adelie_df.groupby([\\\"Species\\\", \\\"Color\\\"])[\\\"studyName\\\"].count())\\n    .sort_values(\\\"studyName\\\", ascending=False)\\n    .reset_index()\\n    .rename(columns={\\\"studyName\\\": \\\"Count\\\"})\\n)\\nadelie_count_df\";\n",
       "                var nbb_formatted_code = \"adelie_count_df = (\\n    pd.DataFrame(adelie_df.groupby([\\\"Species\\\", \\\"Color\\\"])[\\\"studyName\\\"].count())\\n    .sort_values(\\\"studyName\\\", ascending=False)\\n    .reset_index()\\n    .rename(columns={\\\"studyName\\\": \\\"Count\\\"})\\n)\\nadelie_count_df\";\n",
       "                var nbb_cells = Jupyter.notebook.get_cells();\n",
       "                for (var i = 0; i < nbb_cells.length; ++i) {\n",
       "                    if (nbb_cells[i].input_prompt_number == nbb_cell_id) {\n",
       "                        if (nbb_cells[i].get_text() == nbb_unformatted_code) {\n",
       "                             nbb_cells[i].set_text(nbb_formatted_code);\n",
       "                        }\n",
       "                        break;\n",
       "                    }\n",
       "                }\n",
       "            }, 500);\n",
       "            "
      ],
      "text/plain": [
       "<IPython.core.display.Javascript object>"
      ]
     },
     "metadata": {},
     "output_type": "display_data"
    }
   ],
   "source": [
    "adelie_count_df = (\n",
    "    pd.DataFrame(adelie_df.groupby([\"Species\", \"Color\"])[\"studyName\"].count())\n",
    "    .sort_values(\"studyName\", ascending=False)\n",
    "    .reset_index()\n",
    "    .rename(columns={\"studyName\": \"Count\"})\n",
    ")\n",
    "adelie_count_df"
   ]
  },
  {
   "cell_type": "markdown",
   "metadata": {},
   "source": [
    "### Gentoo penguin (Pygoscelis papua)"
   ]
  },
  {
   "cell_type": "code",
   "execution_count": 16,
   "metadata": {},
   "outputs": [
    {
     "data": {
      "text/html": [
       "<div>\n",
       "<style scoped>\n",
       "    .dataframe tbody tr th:only-of-type {\n",
       "        vertical-align: middle;\n",
       "    }\n",
       "\n",
       "    .dataframe tbody tr th {\n",
       "        vertical-align: top;\n",
       "    }\n",
       "\n",
       "    .dataframe thead th {\n",
       "        text-align: right;\n",
       "    }\n",
       "</style>\n",
       "<table border=\"1\" class=\"dataframe\">\n",
       "  <thead>\n",
       "    <tr style=\"text-align: right;\">\n",
       "      <th></th>\n",
       "      <th>studyName</th>\n",
       "      <th>Sample Number</th>\n",
       "      <th>Species</th>\n",
       "      <th>Region</th>\n",
       "      <th>Island</th>\n",
       "      <th>Stage</th>\n",
       "      <th>Individual ID</th>\n",
       "      <th>Clutch Completion</th>\n",
       "      <th>Date Egg</th>\n",
       "      <th>Culmen Length (mm)</th>\n",
       "      <th>Culmen Depth (mm)</th>\n",
       "      <th>Flipper Length (mm)</th>\n",
       "      <th>Body Mass (g)</th>\n",
       "      <th>Sex</th>\n",
       "      <th>Delta 15 N (o/oo)</th>\n",
       "      <th>Delta 13 C (o/oo)</th>\n",
       "      <th>Comments</th>\n",
       "      <th>Color</th>\n",
       "    </tr>\n",
       "  </thead>\n",
       "  <tbody>\n",
       "    <tr>\n",
       "      <th>220</th>\n",
       "      <td>PAL0708</td>\n",
       "      <td>1</td>\n",
       "      <td>Gentoo penguin (Pygoscelis papua)</td>\n",
       "      <td>Anvers</td>\n",
       "      <td>Biscoe</td>\n",
       "      <td>Adult, 1 Egg Stage</td>\n",
       "      <td>N31A1</td>\n",
       "      <td>Yes</td>\n",
       "      <td>11/27/07</td>\n",
       "      <td>46.1</td>\n",
       "      <td>13.2</td>\n",
       "      <td>211.0</td>\n",
       "      <td>4500.0</td>\n",
       "      <td>FEMALE</td>\n",
       "      <td>7.99300</td>\n",
       "      <td>-25.51390</td>\n",
       "      <td>Nest never observed with full clutch.</td>\n",
       "      <td>teal</td>\n",
       "    </tr>\n",
       "    <tr>\n",
       "      <th>221</th>\n",
       "      <td>PAL0708</td>\n",
       "      <td>2</td>\n",
       "      <td>Gentoo penguin (Pygoscelis papua)</td>\n",
       "      <td>Anvers</td>\n",
       "      <td>Biscoe</td>\n",
       "      <td>Adult, 1 Egg Stage</td>\n",
       "      <td>N31A2</td>\n",
       "      <td>Yes</td>\n",
       "      <td>11/27/07</td>\n",
       "      <td>50.0</td>\n",
       "      <td>16.3</td>\n",
       "      <td>230.0</td>\n",
       "      <td>5700.0</td>\n",
       "      <td>MALE</td>\n",
       "      <td>8.14756</td>\n",
       "      <td>-25.39369</td>\n",
       "      <td>Nest never observed with full clutch.</td>\n",
       "      <td>teal</td>\n",
       "    </tr>\n",
       "  </tbody>\n",
       "</table>\n",
       "</div>"
      ],
      "text/plain": [
       "    studyName  Sample Number                            Species  Region  \\\n",
       "220   PAL0708              1  Gentoo penguin (Pygoscelis papua)  Anvers   \n",
       "221   PAL0708              2  Gentoo penguin (Pygoscelis papua)  Anvers   \n",
       "\n",
       "     Island               Stage Individual ID Clutch Completion  Date Egg  \\\n",
       "220  Biscoe  Adult, 1 Egg Stage         N31A1               Yes  11/27/07   \n",
       "221  Biscoe  Adult, 1 Egg Stage         N31A2               Yes  11/27/07   \n",
       "\n",
       "     Culmen Length (mm)  Culmen Depth (mm)  Flipper Length (mm)  \\\n",
       "220                46.1               13.2                211.0   \n",
       "221                50.0               16.3                230.0   \n",
       "\n",
       "     Body Mass (g)     Sex  Delta 15 N (o/oo)  Delta 13 C (o/oo)  \\\n",
       "220         4500.0  FEMALE            7.99300          -25.51390   \n",
       "221         5700.0    MALE            8.14756          -25.39369   \n",
       "\n",
       "                                  Comments Color  \n",
       "220  Nest never observed with full clutch.  teal  \n",
       "221  Nest never observed with full clutch.  teal  "
      ]
     },
     "execution_count": 16,
     "metadata": {},
     "output_type": "execute_result"
    },
    {
     "data": {
      "application/javascript": [
       "\n",
       "            setTimeout(function() {\n",
       "                var nbb_cell_id = 16;\n",
       "                var nbb_unformatted_code = \"gentoo_df = penguins_df[penguins_df[\\\"Species\\\"] == \\\"Gentoo penguin (Pygoscelis papua)\\\"]\\ngentoo_df.head(2)\";\n",
       "                var nbb_formatted_code = \"gentoo_df = penguins_df[penguins_df[\\\"Species\\\"] == \\\"Gentoo penguin (Pygoscelis papua)\\\"]\\ngentoo_df.head(2)\";\n",
       "                var nbb_cells = Jupyter.notebook.get_cells();\n",
       "                for (var i = 0; i < nbb_cells.length; ++i) {\n",
       "                    if (nbb_cells[i].input_prompt_number == nbb_cell_id) {\n",
       "                        if (nbb_cells[i].get_text() == nbb_unformatted_code) {\n",
       "                             nbb_cells[i].set_text(nbb_formatted_code);\n",
       "                        }\n",
       "                        break;\n",
       "                    }\n",
       "                }\n",
       "            }, 500);\n",
       "            "
      ],
      "text/plain": [
       "<IPython.core.display.Javascript object>"
      ]
     },
     "metadata": {},
     "output_type": "display_data"
    }
   ],
   "source": [
    "gentoo_df = penguins_df[penguins_df[\"Species\"] == \"Gentoo penguin (Pygoscelis papua)\"]\n",
    "gentoo_df.head(2)"
   ]
  },
  {
   "cell_type": "code",
   "execution_count": 17,
   "metadata": {},
   "outputs": [
    {
     "data": {
      "text/html": [
       "<div>\n",
       "<style scoped>\n",
       "    .dataframe tbody tr th:only-of-type {\n",
       "        vertical-align: middle;\n",
       "    }\n",
       "\n",
       "    .dataframe tbody tr th {\n",
       "        vertical-align: top;\n",
       "    }\n",
       "\n",
       "    .dataframe thead th {\n",
       "        text-align: right;\n",
       "    }\n",
       "</style>\n",
       "<table border=\"1\" class=\"dataframe\">\n",
       "  <thead>\n",
       "    <tr style=\"text-align: right;\">\n",
       "      <th></th>\n",
       "      <th>Species</th>\n",
       "      <th>Color</th>\n",
       "      <th>Count</th>\n",
       "    </tr>\n",
       "  </thead>\n",
       "  <tbody>\n",
       "    <tr>\n",
       "      <th>0</th>\n",
       "      <td>Gentoo penguin (Pygoscelis papua)</td>\n",
       "      <td>teal</td>\n",
       "      <td>124</td>\n",
       "    </tr>\n",
       "  </tbody>\n",
       "</table>\n",
       "</div>"
      ],
      "text/plain": [
       "                             Species Color  Count\n",
       "0  Gentoo penguin (Pygoscelis papua)  teal    124"
      ]
     },
     "execution_count": 17,
     "metadata": {},
     "output_type": "execute_result"
    },
    {
     "data": {
      "application/javascript": [
       "\n",
       "            setTimeout(function() {\n",
       "                var nbb_cell_id = 17;\n",
       "                var nbb_unformatted_code = \"gentoo_count_df = (\\n    pd.DataFrame(gentoo_df.groupby([\\\"Species\\\", \\\"Color\\\"])[\\\"studyName\\\"].count())\\n    .sort_values(\\\"studyName\\\", ascending=False)\\n    .reset_index()\\n    .rename(columns={\\\"studyName\\\": \\\"Count\\\"})\\n)\\ngentoo_count_df\";\n",
       "                var nbb_formatted_code = \"gentoo_count_df = (\\n    pd.DataFrame(gentoo_df.groupby([\\\"Species\\\", \\\"Color\\\"])[\\\"studyName\\\"].count())\\n    .sort_values(\\\"studyName\\\", ascending=False)\\n    .reset_index()\\n    .rename(columns={\\\"studyName\\\": \\\"Count\\\"})\\n)\\ngentoo_count_df\";\n",
       "                var nbb_cells = Jupyter.notebook.get_cells();\n",
       "                for (var i = 0; i < nbb_cells.length; ++i) {\n",
       "                    if (nbb_cells[i].input_prompt_number == nbb_cell_id) {\n",
       "                        if (nbb_cells[i].get_text() == nbb_unformatted_code) {\n",
       "                             nbb_cells[i].set_text(nbb_formatted_code);\n",
       "                        }\n",
       "                        break;\n",
       "                    }\n",
       "                }\n",
       "            }, 500);\n",
       "            "
      ],
      "text/plain": [
       "<IPython.core.display.Javascript object>"
      ]
     },
     "metadata": {},
     "output_type": "display_data"
    }
   ],
   "source": [
    "gentoo_count_df = (\n",
    "    pd.DataFrame(gentoo_df.groupby([\"Species\", \"Color\"])[\"studyName\"].count())\n",
    "    .sort_values(\"studyName\", ascending=False)\n",
    "    .reset_index()\n",
    "    .rename(columns={\"studyName\": \"Count\"})\n",
    ")\n",
    "gentoo_count_df"
   ]
  },
  {
   "cell_type": "markdown",
   "metadata": {},
   "source": [
    "### Chinstrap penguin (Pygoscelis antarctica)"
   ]
  },
  {
   "cell_type": "code",
   "execution_count": 18,
   "metadata": {},
   "outputs": [
    {
     "data": {
      "text/html": [
       "<div>\n",
       "<style scoped>\n",
       "    .dataframe tbody tr th:only-of-type {\n",
       "        vertical-align: middle;\n",
       "    }\n",
       "\n",
       "    .dataframe tbody tr th {\n",
       "        vertical-align: top;\n",
       "    }\n",
       "\n",
       "    .dataframe thead th {\n",
       "        text-align: right;\n",
       "    }\n",
       "</style>\n",
       "<table border=\"1\" class=\"dataframe\">\n",
       "  <thead>\n",
       "    <tr style=\"text-align: right;\">\n",
       "      <th></th>\n",
       "      <th>studyName</th>\n",
       "      <th>Sample Number</th>\n",
       "      <th>Species</th>\n",
       "      <th>Region</th>\n",
       "      <th>Island</th>\n",
       "      <th>Stage</th>\n",
       "      <th>Individual ID</th>\n",
       "      <th>Clutch Completion</th>\n",
       "      <th>Date Egg</th>\n",
       "      <th>Culmen Length (mm)</th>\n",
       "      <th>Culmen Depth (mm)</th>\n",
       "      <th>Flipper Length (mm)</th>\n",
       "      <th>Body Mass (g)</th>\n",
       "      <th>Sex</th>\n",
       "      <th>Delta 15 N (o/oo)</th>\n",
       "      <th>Delta 13 C (o/oo)</th>\n",
       "      <th>Comments</th>\n",
       "      <th>Color</th>\n",
       "    </tr>\n",
       "  </thead>\n",
       "  <tbody>\n",
       "    <tr>\n",
       "      <th>152</th>\n",
       "      <td>PAL0708</td>\n",
       "      <td>1</td>\n",
       "      <td>Chinstrap penguin (Pygoscelis antarctica)</td>\n",
       "      <td>Anvers</td>\n",
       "      <td>Dream</td>\n",
       "      <td>Adult, 1 Egg Stage</td>\n",
       "      <td>N61A1</td>\n",
       "      <td>No</td>\n",
       "      <td>11/19/07</td>\n",
       "      <td>46.5</td>\n",
       "      <td>17.9</td>\n",
       "      <td>192.0</td>\n",
       "      <td>3500.0</td>\n",
       "      <td>FEMALE</td>\n",
       "      <td>9.03935</td>\n",
       "      <td>-24.30229</td>\n",
       "      <td>Nest never observed with full clutch.</td>\n",
       "      <td>mediumorchid</td>\n",
       "    </tr>\n",
       "    <tr>\n",
       "      <th>153</th>\n",
       "      <td>PAL0708</td>\n",
       "      <td>2</td>\n",
       "      <td>Chinstrap penguin (Pygoscelis antarctica)</td>\n",
       "      <td>Anvers</td>\n",
       "      <td>Dream</td>\n",
       "      <td>Adult, 1 Egg Stage</td>\n",
       "      <td>N61A2</td>\n",
       "      <td>No</td>\n",
       "      <td>11/19/07</td>\n",
       "      <td>50.0</td>\n",
       "      <td>19.5</td>\n",
       "      <td>196.0</td>\n",
       "      <td>3900.0</td>\n",
       "      <td>MALE</td>\n",
       "      <td>8.92069</td>\n",
       "      <td>-24.23592</td>\n",
       "      <td>Nest never observed with full clutch.</td>\n",
       "      <td>mediumorchid</td>\n",
       "    </tr>\n",
       "  </tbody>\n",
       "</table>\n",
       "</div>"
      ],
      "text/plain": [
       "    studyName  Sample Number                                    Species  \\\n",
       "152   PAL0708              1  Chinstrap penguin (Pygoscelis antarctica)   \n",
       "153   PAL0708              2  Chinstrap penguin (Pygoscelis antarctica)   \n",
       "\n",
       "     Region Island               Stage Individual ID Clutch Completion  \\\n",
       "152  Anvers  Dream  Adult, 1 Egg Stage         N61A1                No   \n",
       "153  Anvers  Dream  Adult, 1 Egg Stage         N61A2                No   \n",
       "\n",
       "     Date Egg  Culmen Length (mm)  Culmen Depth (mm)  Flipper Length (mm)  \\\n",
       "152  11/19/07                46.5               17.9                192.0   \n",
       "153  11/19/07                50.0               19.5                196.0   \n",
       "\n",
       "     Body Mass (g)     Sex  Delta 15 N (o/oo)  Delta 13 C (o/oo)  \\\n",
       "152         3500.0  FEMALE            9.03935          -24.30229   \n",
       "153         3900.0    MALE            8.92069          -24.23592   \n",
       "\n",
       "                                  Comments         Color  \n",
       "152  Nest never observed with full clutch.  mediumorchid  \n",
       "153  Nest never observed with full clutch.  mediumorchid  "
      ]
     },
     "execution_count": 18,
     "metadata": {},
     "output_type": "execute_result"
    },
    {
     "data": {
      "application/javascript": [
       "\n",
       "            setTimeout(function() {\n",
       "                var nbb_cell_id = 18;\n",
       "                var nbb_unformatted_code = \"chinstrap_df = penguins_df[\\n    penguins_df[\\\"Species\\\"] == \\\"Chinstrap penguin (Pygoscelis antarctica)\\\"\\n]\\nchinstrap_df.head(2)\";\n",
       "                var nbb_formatted_code = \"chinstrap_df = penguins_df[\\n    penguins_df[\\\"Species\\\"] == \\\"Chinstrap penguin (Pygoscelis antarctica)\\\"\\n]\\nchinstrap_df.head(2)\";\n",
       "                var nbb_cells = Jupyter.notebook.get_cells();\n",
       "                for (var i = 0; i < nbb_cells.length; ++i) {\n",
       "                    if (nbb_cells[i].input_prompt_number == nbb_cell_id) {\n",
       "                        if (nbb_cells[i].get_text() == nbb_unformatted_code) {\n",
       "                             nbb_cells[i].set_text(nbb_formatted_code);\n",
       "                        }\n",
       "                        break;\n",
       "                    }\n",
       "                }\n",
       "            }, 500);\n",
       "            "
      ],
      "text/plain": [
       "<IPython.core.display.Javascript object>"
      ]
     },
     "metadata": {},
     "output_type": "display_data"
    }
   ],
   "source": [
    "chinstrap_df = penguins_df[\n",
    "    penguins_df[\"Species\"] == \"Chinstrap penguin (Pygoscelis antarctica)\"\n",
    "]\n",
    "chinstrap_df.head(2)"
   ]
  },
  {
   "cell_type": "code",
   "execution_count": 19,
   "metadata": {},
   "outputs": [
    {
     "data": {
      "text/html": [
       "<div>\n",
       "<style scoped>\n",
       "    .dataframe tbody tr th:only-of-type {\n",
       "        vertical-align: middle;\n",
       "    }\n",
       "\n",
       "    .dataframe tbody tr th {\n",
       "        vertical-align: top;\n",
       "    }\n",
       "\n",
       "    .dataframe thead th {\n",
       "        text-align: right;\n",
       "    }\n",
       "</style>\n",
       "<table border=\"1\" class=\"dataframe\">\n",
       "  <thead>\n",
       "    <tr style=\"text-align: right;\">\n",
       "      <th></th>\n",
       "      <th>Species</th>\n",
       "      <th>Color</th>\n",
       "      <th>Count</th>\n",
       "    </tr>\n",
       "  </thead>\n",
       "  <tbody>\n",
       "    <tr>\n",
       "      <th>0</th>\n",
       "      <td>Chinstrap penguin (Pygoscelis antarctica)</td>\n",
       "      <td>mediumorchid</td>\n",
       "      <td>68</td>\n",
       "    </tr>\n",
       "  </tbody>\n",
       "</table>\n",
       "</div>"
      ],
      "text/plain": [
       "                                     Species         Color  Count\n",
       "0  Chinstrap penguin (Pygoscelis antarctica)  mediumorchid     68"
      ]
     },
     "execution_count": 19,
     "metadata": {},
     "output_type": "execute_result"
    },
    {
     "data": {
      "application/javascript": [
       "\n",
       "            setTimeout(function() {\n",
       "                var nbb_cell_id = 19;\n",
       "                var nbb_unformatted_code = \"chinstrap_count_df = (\\n    pd.DataFrame(chinstrap_df.groupby([\\\"Species\\\", \\\"Color\\\"])[\\\"studyName\\\"].count())\\n    .sort_values(\\\"studyName\\\", ascending=False)\\n    .reset_index()\\n    .rename(columns={\\\"studyName\\\": \\\"Count\\\"})\\n)\\nchinstrap_count_df\";\n",
       "                var nbb_formatted_code = \"chinstrap_count_df = (\\n    pd.DataFrame(chinstrap_df.groupby([\\\"Species\\\", \\\"Color\\\"])[\\\"studyName\\\"].count())\\n    .sort_values(\\\"studyName\\\", ascending=False)\\n    .reset_index()\\n    .rename(columns={\\\"studyName\\\": \\\"Count\\\"})\\n)\\nchinstrap_count_df\";\n",
       "                var nbb_cells = Jupyter.notebook.get_cells();\n",
       "                for (var i = 0; i < nbb_cells.length; ++i) {\n",
       "                    if (nbb_cells[i].input_prompt_number == nbb_cell_id) {\n",
       "                        if (nbb_cells[i].get_text() == nbb_unformatted_code) {\n",
       "                             nbb_cells[i].set_text(nbb_formatted_code);\n",
       "                        }\n",
       "                        break;\n",
       "                    }\n",
       "                }\n",
       "            }, 500);\n",
       "            "
      ],
      "text/plain": [
       "<IPython.core.display.Javascript object>"
      ]
     },
     "metadata": {},
     "output_type": "display_data"
    }
   ],
   "source": [
    "chinstrap_count_df = (\n",
    "    pd.DataFrame(chinstrap_df.groupby([\"Species\", \"Color\"])[\"studyName\"].count())\n",
    "    .sort_values(\"studyName\", ascending=False)\n",
    "    .reset_index()\n",
    "    .rename(columns={\"studyName\": \"Count\"})\n",
    ")\n",
    "chinstrap_count_df"
   ]
  },
  {
   "cell_type": "markdown",
   "metadata": {},
   "source": [
    "## VISUALIZATIONS"
   ]
  },
  {
   "cell_type": "markdown",
   "metadata": {},
   "source": [
    "### Species Count"
   ]
  },
  {
   "cell_type": "code",
   "execution_count": 20,
   "metadata": {},
   "outputs": [
    {
     "data": {
      "application/vnd.plotly.v1+json": {
       "config": {
        "linkText": "Export to plot.ly",
        "plotlyServerURL": "https://plot.ly",
        "showLink": false
       },
       "data": [
        {
         "marker": {
          "color": [
           "darkorange"
          ],
          "line": {
           "color": "rgb(0,0,0)"
          }
         },
         "name": "Adelie Penguin",
         "type": "bar",
         "x": [
          "Adelie Penguin (Pygoscelis adeliae)"
         ],
         "y": [
          152
         ]
        },
        {
         "marker": {
          "color": [
           "teal"
          ],
          "line": {
           "color": "rgb(0,0,0)"
          }
         },
         "name": "Gentoo penguin",
         "type": "bar",
         "x": [
          "Gentoo penguin (Pygoscelis papua)"
         ],
         "y": [
          124
         ]
        },
        {
         "marker": {
          "color": [
           "mediumorchid"
          ],
          "line": {
           "color": "rgb(0,0,0)"
          }
         },
         "name": "Chinstrap penguin",
         "type": "bar",
         "x": [
          "Chinstrap penguin (Pygoscelis antarctica)"
         ],
         "y": [
          68
         ]
        }
       ],
       "layout": {
        "paper_bgcolor": "rgba(0,0,0,0)",
        "plot_bgcolor": "rgba(0,0,0,0)",
        "showlegend": true,
        "template": {
         "data": {
          "bar": [
           {
            "error_x": {
             "color": "#2a3f5f"
            },
            "error_y": {
             "color": "#2a3f5f"
            },
            "marker": {
             "line": {
              "color": "#E5ECF6",
              "width": 0.5
             }
            },
            "type": "bar"
           }
          ],
          "barpolar": [
           {
            "marker": {
             "line": {
              "color": "#E5ECF6",
              "width": 0.5
             }
            },
            "type": "barpolar"
           }
          ],
          "carpet": [
           {
            "aaxis": {
             "endlinecolor": "#2a3f5f",
             "gridcolor": "white",
             "linecolor": "white",
             "minorgridcolor": "white",
             "startlinecolor": "#2a3f5f"
            },
            "baxis": {
             "endlinecolor": "#2a3f5f",
             "gridcolor": "white",
             "linecolor": "white",
             "minorgridcolor": "white",
             "startlinecolor": "#2a3f5f"
            },
            "type": "carpet"
           }
          ],
          "choropleth": [
           {
            "colorbar": {
             "outlinewidth": 0,
             "ticks": ""
            },
            "type": "choropleth"
           }
          ],
          "contour": [
           {
            "colorbar": {
             "outlinewidth": 0,
             "ticks": ""
            },
            "colorscale": [
             [
              0,
              "#0d0887"
             ],
             [
              0.1111111111111111,
              "#46039f"
             ],
             [
              0.2222222222222222,
              "#7201a8"
             ],
             [
              0.3333333333333333,
              "#9c179e"
             ],
             [
              0.4444444444444444,
              "#bd3786"
             ],
             [
              0.5555555555555556,
              "#d8576b"
             ],
             [
              0.6666666666666666,
              "#ed7953"
             ],
             [
              0.7777777777777778,
              "#fb9f3a"
             ],
             [
              0.8888888888888888,
              "#fdca26"
             ],
             [
              1,
              "#f0f921"
             ]
            ],
            "type": "contour"
           }
          ],
          "contourcarpet": [
           {
            "colorbar": {
             "outlinewidth": 0,
             "ticks": ""
            },
            "type": "contourcarpet"
           }
          ],
          "heatmap": [
           {
            "colorbar": {
             "outlinewidth": 0,
             "ticks": ""
            },
            "colorscale": [
             [
              0,
              "#0d0887"
             ],
             [
              0.1111111111111111,
              "#46039f"
             ],
             [
              0.2222222222222222,
              "#7201a8"
             ],
             [
              0.3333333333333333,
              "#9c179e"
             ],
             [
              0.4444444444444444,
              "#bd3786"
             ],
             [
              0.5555555555555556,
              "#d8576b"
             ],
             [
              0.6666666666666666,
              "#ed7953"
             ],
             [
              0.7777777777777778,
              "#fb9f3a"
             ],
             [
              0.8888888888888888,
              "#fdca26"
             ],
             [
              1,
              "#f0f921"
             ]
            ],
            "type": "heatmap"
           }
          ],
          "heatmapgl": [
           {
            "colorbar": {
             "outlinewidth": 0,
             "ticks": ""
            },
            "colorscale": [
             [
              0,
              "#0d0887"
             ],
             [
              0.1111111111111111,
              "#46039f"
             ],
             [
              0.2222222222222222,
              "#7201a8"
             ],
             [
              0.3333333333333333,
              "#9c179e"
             ],
             [
              0.4444444444444444,
              "#bd3786"
             ],
             [
              0.5555555555555556,
              "#d8576b"
             ],
             [
              0.6666666666666666,
              "#ed7953"
             ],
             [
              0.7777777777777778,
              "#fb9f3a"
             ],
             [
              0.8888888888888888,
              "#fdca26"
             ],
             [
              1,
              "#f0f921"
             ]
            ],
            "type": "heatmapgl"
           }
          ],
          "histogram": [
           {
            "marker": {
             "colorbar": {
              "outlinewidth": 0,
              "ticks": ""
             }
            },
            "type": "histogram"
           }
          ],
          "histogram2d": [
           {
            "colorbar": {
             "outlinewidth": 0,
             "ticks": ""
            },
            "colorscale": [
             [
              0,
              "#0d0887"
             ],
             [
              0.1111111111111111,
              "#46039f"
             ],
             [
              0.2222222222222222,
              "#7201a8"
             ],
             [
              0.3333333333333333,
              "#9c179e"
             ],
             [
              0.4444444444444444,
              "#bd3786"
             ],
             [
              0.5555555555555556,
              "#d8576b"
             ],
             [
              0.6666666666666666,
              "#ed7953"
             ],
             [
              0.7777777777777778,
              "#fb9f3a"
             ],
             [
              0.8888888888888888,
              "#fdca26"
             ],
             [
              1,
              "#f0f921"
             ]
            ],
            "type": "histogram2d"
           }
          ],
          "histogram2dcontour": [
           {
            "colorbar": {
             "outlinewidth": 0,
             "ticks": ""
            },
            "colorscale": [
             [
              0,
              "#0d0887"
             ],
             [
              0.1111111111111111,
              "#46039f"
             ],
             [
              0.2222222222222222,
              "#7201a8"
             ],
             [
              0.3333333333333333,
              "#9c179e"
             ],
             [
              0.4444444444444444,
              "#bd3786"
             ],
             [
              0.5555555555555556,
              "#d8576b"
             ],
             [
              0.6666666666666666,
              "#ed7953"
             ],
             [
              0.7777777777777778,
              "#fb9f3a"
             ],
             [
              0.8888888888888888,
              "#fdca26"
             ],
             [
              1,
              "#f0f921"
             ]
            ],
            "type": "histogram2dcontour"
           }
          ],
          "mesh3d": [
           {
            "colorbar": {
             "outlinewidth": 0,
             "ticks": ""
            },
            "type": "mesh3d"
           }
          ],
          "parcoords": [
           {
            "line": {
             "colorbar": {
              "outlinewidth": 0,
              "ticks": ""
             }
            },
            "type": "parcoords"
           }
          ],
          "pie": [
           {
            "automargin": true,
            "type": "pie"
           }
          ],
          "scatter": [
           {
            "marker": {
             "colorbar": {
              "outlinewidth": 0,
              "ticks": ""
             }
            },
            "type": "scatter"
           }
          ],
          "scatter3d": [
           {
            "line": {
             "colorbar": {
              "outlinewidth": 0,
              "ticks": ""
             }
            },
            "marker": {
             "colorbar": {
              "outlinewidth": 0,
              "ticks": ""
             }
            },
            "type": "scatter3d"
           }
          ],
          "scattercarpet": [
           {
            "marker": {
             "colorbar": {
              "outlinewidth": 0,
              "ticks": ""
             }
            },
            "type": "scattercarpet"
           }
          ],
          "scattergeo": [
           {
            "marker": {
             "colorbar": {
              "outlinewidth": 0,
              "ticks": ""
             }
            },
            "type": "scattergeo"
           }
          ],
          "scattergl": [
           {
            "marker": {
             "colorbar": {
              "outlinewidth": 0,
              "ticks": ""
             }
            },
            "type": "scattergl"
           }
          ],
          "scattermapbox": [
           {
            "marker": {
             "colorbar": {
              "outlinewidth": 0,
              "ticks": ""
             }
            },
            "type": "scattermapbox"
           }
          ],
          "scatterpolar": [
           {
            "marker": {
             "colorbar": {
              "outlinewidth": 0,
              "ticks": ""
             }
            },
            "type": "scatterpolar"
           }
          ],
          "scatterpolargl": [
           {
            "marker": {
             "colorbar": {
              "outlinewidth": 0,
              "ticks": ""
             }
            },
            "type": "scatterpolargl"
           }
          ],
          "scatterternary": [
           {
            "marker": {
             "colorbar": {
              "outlinewidth": 0,
              "ticks": ""
             }
            },
            "type": "scatterternary"
           }
          ],
          "surface": [
           {
            "colorbar": {
             "outlinewidth": 0,
             "ticks": ""
            },
            "colorscale": [
             [
              0,
              "#0d0887"
             ],
             [
              0.1111111111111111,
              "#46039f"
             ],
             [
              0.2222222222222222,
              "#7201a8"
             ],
             [
              0.3333333333333333,
              "#9c179e"
             ],
             [
              0.4444444444444444,
              "#bd3786"
             ],
             [
              0.5555555555555556,
              "#d8576b"
             ],
             [
              0.6666666666666666,
              "#ed7953"
             ],
             [
              0.7777777777777778,
              "#fb9f3a"
             ],
             [
              0.8888888888888888,
              "#fdca26"
             ],
             [
              1,
              "#f0f921"
             ]
            ],
            "type": "surface"
           }
          ],
          "table": [
           {
            "cells": {
             "fill": {
              "color": "#EBF0F8"
             },
             "line": {
              "color": "white"
             }
            },
            "header": {
             "fill": {
              "color": "#C8D4E3"
             },
             "line": {
              "color": "white"
             }
            },
            "type": "table"
           }
          ]
         },
         "layout": {
          "annotationdefaults": {
           "arrowcolor": "#2a3f5f",
           "arrowhead": 0,
           "arrowwidth": 1
          },
          "coloraxis": {
           "colorbar": {
            "outlinewidth": 0,
            "ticks": ""
           }
          },
          "colorscale": {
           "diverging": [
            [
             0,
             "#8e0152"
            ],
            [
             0.1,
             "#c51b7d"
            ],
            [
             0.2,
             "#de77ae"
            ],
            [
             0.3,
             "#f1b6da"
            ],
            [
             0.4,
             "#fde0ef"
            ],
            [
             0.5,
             "#f7f7f7"
            ],
            [
             0.6,
             "#e6f5d0"
            ],
            [
             0.7,
             "#b8e186"
            ],
            [
             0.8,
             "#7fbc41"
            ],
            [
             0.9,
             "#4d9221"
            ],
            [
             1,
             "#276419"
            ]
           ],
           "sequential": [
            [
             0,
             "#0d0887"
            ],
            [
             0.1111111111111111,
             "#46039f"
            ],
            [
             0.2222222222222222,
             "#7201a8"
            ],
            [
             0.3333333333333333,
             "#9c179e"
            ],
            [
             0.4444444444444444,
             "#bd3786"
            ],
            [
             0.5555555555555556,
             "#d8576b"
            ],
            [
             0.6666666666666666,
             "#ed7953"
            ],
            [
             0.7777777777777778,
             "#fb9f3a"
            ],
            [
             0.8888888888888888,
             "#fdca26"
            ],
            [
             1,
             "#f0f921"
            ]
           ],
           "sequentialminus": [
            [
             0,
             "#0d0887"
            ],
            [
             0.1111111111111111,
             "#46039f"
            ],
            [
             0.2222222222222222,
             "#7201a8"
            ],
            [
             0.3333333333333333,
             "#9c179e"
            ],
            [
             0.4444444444444444,
             "#bd3786"
            ],
            [
             0.5555555555555556,
             "#d8576b"
            ],
            [
             0.6666666666666666,
             "#ed7953"
            ],
            [
             0.7777777777777778,
             "#fb9f3a"
            ],
            [
             0.8888888888888888,
             "#fdca26"
            ],
            [
             1,
             "#f0f921"
            ]
           ]
          },
          "colorway": [
           "#636efa",
           "#EF553B",
           "#00cc96",
           "#ab63fa",
           "#FFA15A",
           "#19d3f3",
           "#FF6692",
           "#B6E880",
           "#FF97FF",
           "#FECB52"
          ],
          "font": {
           "color": "#2a3f5f"
          },
          "geo": {
           "bgcolor": "white",
           "lakecolor": "white",
           "landcolor": "#E5ECF6",
           "showlakes": true,
           "showland": true,
           "subunitcolor": "white"
          },
          "hoverlabel": {
           "align": "left"
          },
          "hovermode": "closest",
          "mapbox": {
           "style": "light"
          },
          "paper_bgcolor": "white",
          "plot_bgcolor": "#E5ECF6",
          "polar": {
           "angularaxis": {
            "gridcolor": "white",
            "linecolor": "white",
            "ticks": ""
           },
           "bgcolor": "#E5ECF6",
           "radialaxis": {
            "gridcolor": "white",
            "linecolor": "white",
            "ticks": ""
           }
          },
          "scene": {
           "xaxis": {
            "backgroundcolor": "#E5ECF6",
            "gridcolor": "white",
            "gridwidth": 2,
            "linecolor": "white",
            "showbackground": true,
            "ticks": "",
            "zerolinecolor": "white"
           },
           "yaxis": {
            "backgroundcolor": "#E5ECF6",
            "gridcolor": "white",
            "gridwidth": 2,
            "linecolor": "white",
            "showbackground": true,
            "ticks": "",
            "zerolinecolor": "white"
           },
           "zaxis": {
            "backgroundcolor": "#E5ECF6",
            "gridcolor": "white",
            "gridwidth": 2,
            "linecolor": "white",
            "showbackground": true,
            "ticks": "",
            "zerolinecolor": "white"
           }
          },
          "shapedefaults": {
           "line": {
            "color": "#2a3f5f"
           }
          },
          "ternary": {
           "aaxis": {
            "gridcolor": "white",
            "linecolor": "white",
            "ticks": ""
           },
           "baxis": {
            "gridcolor": "white",
            "linecolor": "white",
            "ticks": ""
           },
           "bgcolor": "#E5ECF6",
           "caxis": {
            "gridcolor": "white",
            "linecolor": "white",
            "ticks": ""
           }
          },
          "title": {
           "x": 0.05
          },
          "xaxis": {
           "automargin": true,
           "gridcolor": "white",
           "linecolor": "white",
           "ticks": "",
           "title": {
            "standoff": 15
           },
           "zerolinecolor": "white",
           "zerolinewidth": 2
          },
          "yaxis": {
           "automargin": true,
           "gridcolor": "white",
           "linecolor": "white",
           "ticks": "",
           "title": {
            "standoff": 15
           },
           "zerolinecolor": "white",
           "zerolinewidth": 2
          }
         }
        },
        "title": {
         "text": "<b>Penguin Species Count</b>"
        },
        "width": 990,
        "xaxis": {
         "showgrid": false,
         "title": {
          "text": "Species"
         }
        },
        "yaxis": {
         "title": {
          "text": "Count"
         }
        }
       }
      },
      "text/html": [
       "<div>\n",
       "        \n",
       "        \n",
       "            <div id=\"5f24eecf-4c6e-440a-8601-33cef73b1434\" class=\"plotly-graph-div\" style=\"height:525px; width:990px;\"></div>\n",
       "            <script type=\"text/javascript\">\n",
       "                require([\"plotly\"], function(Plotly) {\n",
       "                    window.PLOTLYENV=window.PLOTLYENV || {};\n",
       "                    \n",
       "                if (document.getElementById(\"5f24eecf-4c6e-440a-8601-33cef73b1434\")) {\n",
       "                    Plotly.newPlot(\n",
       "                        '5f24eecf-4c6e-440a-8601-33cef73b1434',\n",
       "                        [{\"marker\": {\"color\": [\"darkorange\"], \"line\": {\"color\": \"rgb(0,0,0)\"}}, \"name\": \"Adelie Penguin\", \"type\": \"bar\", \"x\": [\"Adelie Penguin (Pygoscelis adeliae)\"], \"y\": [152]}, {\"marker\": {\"color\": [\"teal\"], \"line\": {\"color\": \"rgb(0,0,0)\"}}, \"name\": \"Gentoo penguin\", \"type\": \"bar\", \"x\": [\"Gentoo penguin (Pygoscelis papua)\"], \"y\": [124]}, {\"marker\": {\"color\": [\"mediumorchid\"], \"line\": {\"color\": \"rgb(0,0,0)\"}}, \"name\": \"Chinstrap penguin\", \"type\": \"bar\", \"x\": [\"Chinstrap penguin (Pygoscelis antarctica)\"], \"y\": [68]}],\n",
       "                        {\"paper_bgcolor\": \"rgba(0,0,0,0)\", \"plot_bgcolor\": \"rgba(0,0,0,0)\", \"showlegend\": true, \"template\": {\"data\": {\"bar\": [{\"error_x\": {\"color\": \"#2a3f5f\"}, \"error_y\": {\"color\": \"#2a3f5f\"}, \"marker\": {\"line\": {\"color\": \"#E5ECF6\", \"width\": 0.5}}, \"type\": \"bar\"}], \"barpolar\": [{\"marker\": {\"line\": {\"color\": \"#E5ECF6\", \"width\": 0.5}}, \"type\": \"barpolar\"}], \"carpet\": [{\"aaxis\": {\"endlinecolor\": \"#2a3f5f\", \"gridcolor\": \"white\", \"linecolor\": \"white\", \"minorgridcolor\": \"white\", \"startlinecolor\": \"#2a3f5f\"}, \"baxis\": {\"endlinecolor\": \"#2a3f5f\", \"gridcolor\": \"white\", \"linecolor\": \"white\", \"minorgridcolor\": \"white\", \"startlinecolor\": \"#2a3f5f\"}, \"type\": \"carpet\"}], \"choropleth\": [{\"colorbar\": {\"outlinewidth\": 0, \"ticks\": \"\"}, \"type\": \"choropleth\"}], \"contour\": [{\"colorbar\": {\"outlinewidth\": 0, \"ticks\": \"\"}, \"colorscale\": [[0.0, \"#0d0887\"], [0.1111111111111111, \"#46039f\"], [0.2222222222222222, \"#7201a8\"], [0.3333333333333333, \"#9c179e\"], [0.4444444444444444, \"#bd3786\"], [0.5555555555555556, \"#d8576b\"], [0.6666666666666666, \"#ed7953\"], [0.7777777777777778, \"#fb9f3a\"], [0.8888888888888888, \"#fdca26\"], [1.0, \"#f0f921\"]], \"type\": \"contour\"}], \"contourcarpet\": [{\"colorbar\": {\"outlinewidth\": 0, \"ticks\": \"\"}, \"type\": \"contourcarpet\"}], \"heatmap\": [{\"colorbar\": {\"outlinewidth\": 0, \"ticks\": \"\"}, \"colorscale\": [[0.0, \"#0d0887\"], [0.1111111111111111, \"#46039f\"], [0.2222222222222222, \"#7201a8\"], [0.3333333333333333, \"#9c179e\"], [0.4444444444444444, \"#bd3786\"], [0.5555555555555556, \"#d8576b\"], [0.6666666666666666, \"#ed7953\"], [0.7777777777777778, \"#fb9f3a\"], [0.8888888888888888, \"#fdca26\"], [1.0, \"#f0f921\"]], \"type\": \"heatmap\"}], \"heatmapgl\": [{\"colorbar\": {\"outlinewidth\": 0, \"ticks\": \"\"}, \"colorscale\": [[0.0, \"#0d0887\"], [0.1111111111111111, \"#46039f\"], [0.2222222222222222, \"#7201a8\"], [0.3333333333333333, \"#9c179e\"], [0.4444444444444444, \"#bd3786\"], [0.5555555555555556, \"#d8576b\"], [0.6666666666666666, \"#ed7953\"], [0.7777777777777778, \"#fb9f3a\"], [0.8888888888888888, \"#fdca26\"], [1.0, \"#f0f921\"]], \"type\": \"heatmapgl\"}], \"histogram\": [{\"marker\": {\"colorbar\": {\"outlinewidth\": 0, \"ticks\": \"\"}}, \"type\": \"histogram\"}], \"histogram2d\": [{\"colorbar\": {\"outlinewidth\": 0, \"ticks\": \"\"}, \"colorscale\": [[0.0, \"#0d0887\"], [0.1111111111111111, \"#46039f\"], [0.2222222222222222, \"#7201a8\"], [0.3333333333333333, \"#9c179e\"], [0.4444444444444444, \"#bd3786\"], [0.5555555555555556, \"#d8576b\"], [0.6666666666666666, \"#ed7953\"], [0.7777777777777778, \"#fb9f3a\"], [0.8888888888888888, \"#fdca26\"], [1.0, \"#f0f921\"]], \"type\": \"histogram2d\"}], \"histogram2dcontour\": [{\"colorbar\": {\"outlinewidth\": 0, \"ticks\": \"\"}, \"colorscale\": [[0.0, \"#0d0887\"], [0.1111111111111111, \"#46039f\"], [0.2222222222222222, \"#7201a8\"], [0.3333333333333333, \"#9c179e\"], [0.4444444444444444, \"#bd3786\"], [0.5555555555555556, \"#d8576b\"], [0.6666666666666666, \"#ed7953\"], [0.7777777777777778, \"#fb9f3a\"], [0.8888888888888888, \"#fdca26\"], [1.0, \"#f0f921\"]], \"type\": \"histogram2dcontour\"}], \"mesh3d\": [{\"colorbar\": {\"outlinewidth\": 0, \"ticks\": \"\"}, \"type\": \"mesh3d\"}], \"parcoords\": [{\"line\": {\"colorbar\": {\"outlinewidth\": 0, \"ticks\": \"\"}}, \"type\": \"parcoords\"}], \"pie\": [{\"automargin\": true, \"type\": \"pie\"}], \"scatter\": [{\"marker\": {\"colorbar\": {\"outlinewidth\": 0, \"ticks\": \"\"}}, \"type\": \"scatter\"}], \"scatter3d\": [{\"line\": {\"colorbar\": {\"outlinewidth\": 0, \"ticks\": \"\"}}, \"marker\": {\"colorbar\": {\"outlinewidth\": 0, \"ticks\": \"\"}}, \"type\": \"scatter3d\"}], \"scattercarpet\": [{\"marker\": {\"colorbar\": {\"outlinewidth\": 0, \"ticks\": \"\"}}, \"type\": \"scattercarpet\"}], \"scattergeo\": [{\"marker\": {\"colorbar\": {\"outlinewidth\": 0, \"ticks\": \"\"}}, \"type\": \"scattergeo\"}], \"scattergl\": [{\"marker\": {\"colorbar\": {\"outlinewidth\": 0, \"ticks\": \"\"}}, \"type\": \"scattergl\"}], \"scattermapbox\": [{\"marker\": {\"colorbar\": {\"outlinewidth\": 0, \"ticks\": \"\"}}, \"type\": \"scattermapbox\"}], \"scatterpolar\": [{\"marker\": {\"colorbar\": {\"outlinewidth\": 0, \"ticks\": \"\"}}, \"type\": \"scatterpolar\"}], \"scatterpolargl\": [{\"marker\": {\"colorbar\": {\"outlinewidth\": 0, \"ticks\": \"\"}}, \"type\": \"scatterpolargl\"}], \"scatterternary\": [{\"marker\": {\"colorbar\": {\"outlinewidth\": 0, \"ticks\": \"\"}}, \"type\": \"scatterternary\"}], \"surface\": [{\"colorbar\": {\"outlinewidth\": 0, \"ticks\": \"\"}, \"colorscale\": [[0.0, \"#0d0887\"], [0.1111111111111111, \"#46039f\"], [0.2222222222222222, \"#7201a8\"], [0.3333333333333333, \"#9c179e\"], [0.4444444444444444, \"#bd3786\"], [0.5555555555555556, \"#d8576b\"], [0.6666666666666666, \"#ed7953\"], [0.7777777777777778, \"#fb9f3a\"], [0.8888888888888888, \"#fdca26\"], [1.0, \"#f0f921\"]], \"type\": \"surface\"}], \"table\": [{\"cells\": {\"fill\": {\"color\": \"#EBF0F8\"}, \"line\": {\"color\": \"white\"}}, \"header\": {\"fill\": {\"color\": \"#C8D4E3\"}, \"line\": {\"color\": \"white\"}}, \"type\": \"table\"}]}, \"layout\": {\"annotationdefaults\": {\"arrowcolor\": \"#2a3f5f\", \"arrowhead\": 0, \"arrowwidth\": 1}, \"coloraxis\": {\"colorbar\": {\"outlinewidth\": 0, \"ticks\": \"\"}}, \"colorscale\": {\"diverging\": [[0, \"#8e0152\"], [0.1, \"#c51b7d\"], [0.2, \"#de77ae\"], [0.3, \"#f1b6da\"], [0.4, \"#fde0ef\"], [0.5, \"#f7f7f7\"], [0.6, \"#e6f5d0\"], [0.7, \"#b8e186\"], [0.8, \"#7fbc41\"], [0.9, \"#4d9221\"], [1, \"#276419\"]], \"sequential\": [[0.0, \"#0d0887\"], [0.1111111111111111, \"#46039f\"], [0.2222222222222222, \"#7201a8\"], [0.3333333333333333, \"#9c179e\"], [0.4444444444444444, \"#bd3786\"], [0.5555555555555556, \"#d8576b\"], [0.6666666666666666, \"#ed7953\"], [0.7777777777777778, \"#fb9f3a\"], [0.8888888888888888, \"#fdca26\"], [1.0, \"#f0f921\"]], \"sequentialminus\": [[0.0, \"#0d0887\"], [0.1111111111111111, \"#46039f\"], [0.2222222222222222, \"#7201a8\"], [0.3333333333333333, \"#9c179e\"], [0.4444444444444444, \"#bd3786\"], [0.5555555555555556, \"#d8576b\"], [0.6666666666666666, \"#ed7953\"], [0.7777777777777778, \"#fb9f3a\"], [0.8888888888888888, \"#fdca26\"], [1.0, \"#f0f921\"]]}, \"colorway\": [\"#636efa\", \"#EF553B\", \"#00cc96\", \"#ab63fa\", \"#FFA15A\", \"#19d3f3\", \"#FF6692\", \"#B6E880\", \"#FF97FF\", \"#FECB52\"], \"font\": {\"color\": \"#2a3f5f\"}, \"geo\": {\"bgcolor\": \"white\", \"lakecolor\": \"white\", \"landcolor\": \"#E5ECF6\", \"showlakes\": true, \"showland\": true, \"subunitcolor\": \"white\"}, \"hoverlabel\": {\"align\": \"left\"}, \"hovermode\": \"closest\", \"mapbox\": {\"style\": \"light\"}, \"paper_bgcolor\": \"white\", \"plot_bgcolor\": \"#E5ECF6\", \"polar\": {\"angularaxis\": {\"gridcolor\": \"white\", \"linecolor\": \"white\", \"ticks\": \"\"}, \"bgcolor\": \"#E5ECF6\", \"radialaxis\": {\"gridcolor\": \"white\", \"linecolor\": \"white\", \"ticks\": \"\"}}, \"scene\": {\"xaxis\": {\"backgroundcolor\": \"#E5ECF6\", \"gridcolor\": \"white\", \"gridwidth\": 2, \"linecolor\": \"white\", \"showbackground\": true, \"ticks\": \"\", \"zerolinecolor\": \"white\"}, \"yaxis\": {\"backgroundcolor\": \"#E5ECF6\", \"gridcolor\": \"white\", \"gridwidth\": 2, \"linecolor\": \"white\", \"showbackground\": true, \"ticks\": \"\", \"zerolinecolor\": \"white\"}, \"zaxis\": {\"backgroundcolor\": \"#E5ECF6\", \"gridcolor\": \"white\", \"gridwidth\": 2, \"linecolor\": \"white\", \"showbackground\": true, \"ticks\": \"\", \"zerolinecolor\": \"white\"}}, \"shapedefaults\": {\"line\": {\"color\": \"#2a3f5f\"}}, \"ternary\": {\"aaxis\": {\"gridcolor\": \"white\", \"linecolor\": \"white\", \"ticks\": \"\"}, \"baxis\": {\"gridcolor\": \"white\", \"linecolor\": \"white\", \"ticks\": \"\"}, \"bgcolor\": \"#E5ECF6\", \"caxis\": {\"gridcolor\": \"white\", \"linecolor\": \"white\", \"ticks\": \"\"}}, \"title\": {\"x\": 0.05}, \"xaxis\": {\"automargin\": true, \"gridcolor\": \"white\", \"linecolor\": \"white\", \"ticks\": \"\", \"title\": {\"standoff\": 15}, \"zerolinecolor\": \"white\", \"zerolinewidth\": 2}, \"yaxis\": {\"automargin\": true, \"gridcolor\": \"white\", \"linecolor\": \"white\", \"ticks\": \"\", \"title\": {\"standoff\": 15}, \"zerolinecolor\": \"white\", \"zerolinewidth\": 2}}}, \"title\": {\"text\": \"<b>Penguin Species Count</b>\"}, \"width\": 990, \"xaxis\": {\"showgrid\": false, \"title\": {\"text\": \"Species\"}}, \"yaxis\": {\"title\": {\"text\": \"Count\"}}},\n",
       "                        {\"responsive\": true}\n",
       "                    ).then(function(){\n",
       "                            \n",
       "var gd = document.getElementById('5f24eecf-4c6e-440a-8601-33cef73b1434');\n",
       "var x = new MutationObserver(function (mutations, observer) {{\n",
       "        var display = window.getComputedStyle(gd).display;\n",
       "        if (!display || display === 'none') {{\n",
       "            console.log([gd, 'removed!']);\n",
       "            Plotly.purge(gd);\n",
       "            observer.disconnect();\n",
       "        }}\n",
       "}});\n",
       "\n",
       "// Listen for the removal of the full notebook cells\n",
       "var notebookContainer = gd.closest('#notebook-container');\n",
       "if (notebookContainer) {{\n",
       "    x.observe(notebookContainer, {childList: true});\n",
       "}}\n",
       "\n",
       "// Listen for the clearing of the current output cell\n",
       "var outputEl = gd.closest('.output');\n",
       "if (outputEl) {{\n",
       "    x.observe(outputEl, {childList: true});\n",
       "}}\n",
       "\n",
       "                        })\n",
       "                };\n",
       "                });\n",
       "            </script>\n",
       "        </div>"
      ]
     },
     "metadata": {},
     "output_type": "display_data"
    },
    {
     "data": {
      "application/javascript": [
       "\n",
       "            setTimeout(function() {\n",
       "                var nbb_cell_id = 20;\n",
       "                var nbb_unformatted_code = \"# Penguin Species Count\\n\\ntrace1 = go.Bar(\\n    x=adelie_count_df[\\\"Species\\\"],\\n    y=adelie_count_df[\\\"Count\\\"],\\n    marker=dict(color=adelie_count_df[\\\"Color\\\"], line_color=\\\"rgb(0,0,0)\\\"),\\n    name=\\\"Adelie Penguin\\\",\\n)\\n\\ntrace2 = go.Bar(\\n    x=gentoo_count_df[\\\"Species\\\"],\\n    y=gentoo_count_df[\\\"Count\\\"],\\n    marker=dict(color=gentoo_count_df[\\\"Color\\\"], line_color=\\\"rgb(0,0,0)\\\"),\\n    name=\\\"Gentoo penguin\\\",\\n)\\n\\ntrace3 = go.Bar(\\n    x=chinstrap_count_df[\\\"Species\\\"],\\n    y=chinstrap_count_df[\\\"Count\\\"],\\n    marker=dict(color=chinstrap_count_df[\\\"Color\\\"], line_color=\\\"rgb(0,0,0)\\\"),\\n    name=\\\"Chinstrap penguin\\\",\\n)\\n\\n\\ndata = [trace1, trace2, trace3]\\n\\nlayout = dict(\\n    title=\\\"<b>Penguin Species Count</b>\\\",\\n    showlegend=True,\\n    width=990,\\n    xaxis=dict(showgrid=False, title=\\\"Species\\\"),\\n    yaxis=dict(title=\\\"Count\\\"),\\n    plot_bgcolor=\\\"rgba(0,0,0,0)\\\",\\n    paper_bgcolor=\\\"rgba(0,0,0,0)\\\",\\n)\\n\\nfig = dict(data=data, layout=layout)\\n\\niplot(fig)\";\n",
       "                var nbb_formatted_code = \"# Penguin Species Count\\n\\ntrace1 = go.Bar(\\n    x=adelie_count_df[\\\"Species\\\"],\\n    y=adelie_count_df[\\\"Count\\\"],\\n    marker=dict(color=adelie_count_df[\\\"Color\\\"], line_color=\\\"rgb(0,0,0)\\\"),\\n    name=\\\"Adelie Penguin\\\",\\n)\\n\\ntrace2 = go.Bar(\\n    x=gentoo_count_df[\\\"Species\\\"],\\n    y=gentoo_count_df[\\\"Count\\\"],\\n    marker=dict(color=gentoo_count_df[\\\"Color\\\"], line_color=\\\"rgb(0,0,0)\\\"),\\n    name=\\\"Gentoo penguin\\\",\\n)\\n\\ntrace3 = go.Bar(\\n    x=chinstrap_count_df[\\\"Species\\\"],\\n    y=chinstrap_count_df[\\\"Count\\\"],\\n    marker=dict(color=chinstrap_count_df[\\\"Color\\\"], line_color=\\\"rgb(0,0,0)\\\"),\\n    name=\\\"Chinstrap penguin\\\",\\n)\\n\\n\\ndata = [trace1, trace2, trace3]\\n\\nlayout = dict(\\n    title=\\\"<b>Penguin Species Count</b>\\\",\\n    showlegend=True,\\n    width=990,\\n    xaxis=dict(showgrid=False, title=\\\"Species\\\"),\\n    yaxis=dict(title=\\\"Count\\\"),\\n    plot_bgcolor=\\\"rgba(0,0,0,0)\\\",\\n    paper_bgcolor=\\\"rgba(0,0,0,0)\\\",\\n)\\n\\nfig = dict(data=data, layout=layout)\\n\\niplot(fig)\";\n",
       "                var nbb_cells = Jupyter.notebook.get_cells();\n",
       "                for (var i = 0; i < nbb_cells.length; ++i) {\n",
       "                    if (nbb_cells[i].input_prompt_number == nbb_cell_id) {\n",
       "                        if (nbb_cells[i].get_text() == nbb_unformatted_code) {\n",
       "                             nbb_cells[i].set_text(nbb_formatted_code);\n",
       "                        }\n",
       "                        break;\n",
       "                    }\n",
       "                }\n",
       "            }, 500);\n",
       "            "
      ],
      "text/plain": [
       "<IPython.core.display.Javascript object>"
      ]
     },
     "metadata": {},
     "output_type": "display_data"
    }
   ],
   "source": [
    "# Penguin Species Count\n",
    "\n",
    "trace1 = go.Bar(\n",
    "    x=adelie_count_df[\"Species\"],\n",
    "    y=adelie_count_df[\"Count\"],\n",
    "    marker=dict(color=adelie_count_df[\"Color\"], line_color=\"rgb(0,0,0)\"),\n",
    "    name=\"Adelie Penguin\",\n",
    ")\n",
    "\n",
    "trace2 = go.Bar(\n",
    "    x=gentoo_count_df[\"Species\"],\n",
    "    y=gentoo_count_df[\"Count\"],\n",
    "    marker=dict(color=gentoo_count_df[\"Color\"], line_color=\"rgb(0,0,0)\"),\n",
    "    name=\"Gentoo penguin\",\n",
    ")\n",
    "\n",
    "trace3 = go.Bar(\n",
    "    x=chinstrap_count_df[\"Species\"],\n",
    "    y=chinstrap_count_df[\"Count\"],\n",
    "    marker=dict(color=chinstrap_count_df[\"Color\"], line_color=\"rgb(0,0,0)\"),\n",
    "    name=\"Chinstrap penguin\",\n",
    ")\n",
    "\n",
    "\n",
    "data = [trace1, trace2, trace3]\n",
    "\n",
    "layout = dict(\n",
    "    title=\"<b>Penguin Species Count</b>\",\n",
    "    showlegend=True,\n",
    "    width=990,\n",
    "    xaxis=dict(showgrid=False, title=\"Species\"),\n",
    "    yaxis=dict(title=\"Count\"),\n",
    "    plot_bgcolor=\"rgba(0,0,0,0)\",\n",
    "    paper_bgcolor=\"rgba(0,0,0,0)\",\n",
    ")\n",
    "\n",
    "fig = dict(data=data, layout=layout)\n",
    "\n",
    "iplot(fig)"
   ]
  },
  {
   "cell_type": "markdown",
   "metadata": {},
   "source": [
    "### Species Gender Count"
   ]
  },
  {
   "cell_type": "code",
   "execution_count": 21,
   "metadata": {},
   "outputs": [
    {
     "data": {
      "text/html": [
       "<div>\n",
       "<style scoped>\n",
       "    .dataframe tbody tr th:only-of-type {\n",
       "        vertical-align: middle;\n",
       "    }\n",
       "\n",
       "    .dataframe tbody tr th {\n",
       "        vertical-align: top;\n",
       "    }\n",
       "\n",
       "    .dataframe thead th {\n",
       "        text-align: right;\n",
       "    }\n",
       "</style>\n",
       "<table border=\"1\" class=\"dataframe\">\n",
       "  <thead>\n",
       "    <tr style=\"text-align: right;\">\n",
       "      <th></th>\n",
       "      <th>Species</th>\n",
       "      <th>Sex</th>\n",
       "    </tr>\n",
       "  </thead>\n",
       "  <tbody>\n",
       "    <tr>\n",
       "      <th>0</th>\n",
       "      <td>Adelie Penguin (Pygoscelis adeliae)</td>\n",
       "      <td>73</td>\n",
       "    </tr>\n",
       "    <tr>\n",
       "      <th>1</th>\n",
       "      <td>Gentoo penguin (Pygoscelis papua)</td>\n",
       "      <td>58</td>\n",
       "    </tr>\n",
       "    <tr>\n",
       "      <th>2</th>\n",
       "      <td>Chinstrap penguin (Pygoscelis antarctica)</td>\n",
       "      <td>34</td>\n",
       "    </tr>\n",
       "  </tbody>\n",
       "</table>\n",
       "</div>"
      ],
      "text/plain": [
       "                                     Species  Sex\n",
       "0        Adelie Penguin (Pygoscelis adeliae)   73\n",
       "1          Gentoo penguin (Pygoscelis papua)   58\n",
       "2  Chinstrap penguin (Pygoscelis antarctica)   34"
      ]
     },
     "execution_count": 21,
     "metadata": {},
     "output_type": "execute_result"
    },
    {
     "data": {
      "application/javascript": [
       "\n",
       "            setTimeout(function() {\n",
       "                var nbb_cell_id = 21;\n",
       "                var nbb_unformatted_code = \"female_df = (\\n    pd.DataFrame(\\n        penguins_df[penguins_df[\\\"Sex\\\"] == \\\"FEMALE\\\"][[\\\"Species\\\", \\\"Sex\\\", \\\"Color\\\"]]\\n        .groupby(\\\"Species\\\")[\\\"Sex\\\"]\\n        .count()\\n    )\\n    .sort_values(\\\"Sex\\\", ascending=False)\\n    .reset_index()\\n)\\nfemale_df\";\n",
       "                var nbb_formatted_code = \"female_df = (\\n    pd.DataFrame(\\n        penguins_df[penguins_df[\\\"Sex\\\"] == \\\"FEMALE\\\"][[\\\"Species\\\", \\\"Sex\\\", \\\"Color\\\"]]\\n        .groupby(\\\"Species\\\")[\\\"Sex\\\"]\\n        .count()\\n    )\\n    .sort_values(\\\"Sex\\\", ascending=False)\\n    .reset_index()\\n)\\nfemale_df\";\n",
       "                var nbb_cells = Jupyter.notebook.get_cells();\n",
       "                for (var i = 0; i < nbb_cells.length; ++i) {\n",
       "                    if (nbb_cells[i].input_prompt_number == nbb_cell_id) {\n",
       "                        if (nbb_cells[i].get_text() == nbb_unformatted_code) {\n",
       "                             nbb_cells[i].set_text(nbb_formatted_code);\n",
       "                        }\n",
       "                        break;\n",
       "                    }\n",
       "                }\n",
       "            }, 500);\n",
       "            "
      ],
      "text/plain": [
       "<IPython.core.display.Javascript object>"
      ]
     },
     "metadata": {},
     "output_type": "display_data"
    }
   ],
   "source": [
    "female_df = (\n",
    "    pd.DataFrame(\n",
    "        penguins_df[penguins_df[\"Sex\"] == \"FEMALE\"][[\"Species\", \"Sex\", \"Color\"]]\n",
    "        .groupby(\"Species\")[\"Sex\"]\n",
    "        .count()\n",
    "    )\n",
    "    .sort_values(\"Sex\", ascending=False)\n",
    "    .reset_index()\n",
    ")\n",
    "female_df"
   ]
  },
  {
   "cell_type": "code",
   "execution_count": 22,
   "metadata": {},
   "outputs": [
    {
     "data": {
      "text/html": [
       "<div>\n",
       "<style scoped>\n",
       "    .dataframe tbody tr th:only-of-type {\n",
       "        vertical-align: middle;\n",
       "    }\n",
       "\n",
       "    .dataframe tbody tr th {\n",
       "        vertical-align: top;\n",
       "    }\n",
       "\n",
       "    .dataframe thead th {\n",
       "        text-align: right;\n",
       "    }\n",
       "</style>\n",
       "<table border=\"1\" class=\"dataframe\">\n",
       "  <thead>\n",
       "    <tr style=\"text-align: right;\">\n",
       "      <th></th>\n",
       "      <th>Species</th>\n",
       "      <th>Sex</th>\n",
       "    </tr>\n",
       "  </thead>\n",
       "  <tbody>\n",
       "    <tr>\n",
       "      <th>0</th>\n",
       "      <td>Adelie Penguin (Pygoscelis adeliae)</td>\n",
       "      <td>79</td>\n",
       "    </tr>\n",
       "    <tr>\n",
       "      <th>1</th>\n",
       "      <td>Gentoo penguin (Pygoscelis papua)</td>\n",
       "      <td>65</td>\n",
       "    </tr>\n",
       "    <tr>\n",
       "      <th>2</th>\n",
       "      <td>Chinstrap penguin (Pygoscelis antarctica)</td>\n",
       "      <td>34</td>\n",
       "    </tr>\n",
       "  </tbody>\n",
       "</table>\n",
       "</div>"
      ],
      "text/plain": [
       "                                     Species  Sex\n",
       "0        Adelie Penguin (Pygoscelis adeliae)   79\n",
       "1          Gentoo penguin (Pygoscelis papua)   65\n",
       "2  Chinstrap penguin (Pygoscelis antarctica)   34"
      ]
     },
     "execution_count": 22,
     "metadata": {},
     "output_type": "execute_result"
    },
    {
     "data": {
      "application/javascript": [
       "\n",
       "            setTimeout(function() {\n",
       "                var nbb_cell_id = 22;\n",
       "                var nbb_unformatted_code = \"male_df = (\\n    pd.DataFrame(\\n        penguins_df[penguins_df[\\\"Sex\\\"] == \\\"MALE\\\"][[\\\"Species\\\", \\\"Sex\\\"]]\\n        .groupby(\\\"Species\\\")[\\\"Sex\\\"]\\n        .count()\\n    )\\n    .sort_values(\\\"Sex\\\", ascending=False)\\n    .reset_index()\\n)\\nmale_df\";\n",
       "                var nbb_formatted_code = \"male_df = (\\n    pd.DataFrame(\\n        penguins_df[penguins_df[\\\"Sex\\\"] == \\\"MALE\\\"][[\\\"Species\\\", \\\"Sex\\\"]]\\n        .groupby(\\\"Species\\\")[\\\"Sex\\\"]\\n        .count()\\n    )\\n    .sort_values(\\\"Sex\\\", ascending=False)\\n    .reset_index()\\n)\\nmale_df\";\n",
       "                var nbb_cells = Jupyter.notebook.get_cells();\n",
       "                for (var i = 0; i < nbb_cells.length; ++i) {\n",
       "                    if (nbb_cells[i].input_prompt_number == nbb_cell_id) {\n",
       "                        if (nbb_cells[i].get_text() == nbb_unformatted_code) {\n",
       "                             nbb_cells[i].set_text(nbb_formatted_code);\n",
       "                        }\n",
       "                        break;\n",
       "                    }\n",
       "                }\n",
       "            }, 500);\n",
       "            "
      ],
      "text/plain": [
       "<IPython.core.display.Javascript object>"
      ]
     },
     "metadata": {},
     "output_type": "display_data"
    }
   ],
   "source": [
    "male_df = (\n",
    "    pd.DataFrame(\n",
    "        penguins_df[penguins_df[\"Sex\"] == \"MALE\"][[\"Species\", \"Sex\"]]\n",
    "        .groupby(\"Species\")[\"Sex\"]\n",
    "        .count()\n",
    "    )\n",
    "    .sort_values(\"Sex\", ascending=False)\n",
    "    .reset_index()\n",
    ")\n",
    "male_df"
   ]
  },
  {
   "cell_type": "code",
   "execution_count": 23,
   "metadata": {},
   "outputs": [
    {
     "data": {
      "application/vnd.plotly.v1+json": {
       "config": {
        "linkText": "Export to plot.ly",
        "plotlyServerURL": "https://plot.ly",
        "showLink": false
       },
       "data": [
        {
         "marker": {
          "color": [
           "darkorange",
           "teal",
           "mediumorchid"
          ],
          "line": {
           "color": "rgb(0,0,0)"
          }
         },
         "text": "Female",
         "textposition": "outside",
         "type": "bar",
         "x": [
          "Adelie Penguin (Pygoscelis adeliae)",
          "Gentoo penguin (Pygoscelis papua)",
          "Chinstrap penguin (Pygoscelis antarctica)"
         ],
         "y": [
          73,
          58,
          34
         ]
        },
        {
         "marker": {
          "color": [
           "darkorange",
           "teal",
           "mediumorchid"
          ],
          "line": {
           "color": "rgb(0,0,0)"
          }
         },
         "name": "Male",
         "text": "Male",
         "textposition": "outside",
         "type": "bar",
         "x": [
          "Adelie Penguin (Pygoscelis adeliae)",
          "Gentoo penguin (Pygoscelis papua)",
          "Chinstrap penguin (Pygoscelis antarctica)"
         ],
         "y": [
          79,
          65,
          34
         ]
        }
       ],
       "layout": {
        "paper_bgcolor": "rgba(0,0,0,0)",
        "plot_bgcolor": "rgba(0,0,0,0)",
        "showlegend": false,
        "template": {
         "data": {
          "bar": [
           {
            "error_x": {
             "color": "#2a3f5f"
            },
            "error_y": {
             "color": "#2a3f5f"
            },
            "marker": {
             "line": {
              "color": "#E5ECF6",
              "width": 0.5
             }
            },
            "type": "bar"
           }
          ],
          "barpolar": [
           {
            "marker": {
             "line": {
              "color": "#E5ECF6",
              "width": 0.5
             }
            },
            "type": "barpolar"
           }
          ],
          "carpet": [
           {
            "aaxis": {
             "endlinecolor": "#2a3f5f",
             "gridcolor": "white",
             "linecolor": "white",
             "minorgridcolor": "white",
             "startlinecolor": "#2a3f5f"
            },
            "baxis": {
             "endlinecolor": "#2a3f5f",
             "gridcolor": "white",
             "linecolor": "white",
             "minorgridcolor": "white",
             "startlinecolor": "#2a3f5f"
            },
            "type": "carpet"
           }
          ],
          "choropleth": [
           {
            "colorbar": {
             "outlinewidth": 0,
             "ticks": ""
            },
            "type": "choropleth"
           }
          ],
          "contour": [
           {
            "colorbar": {
             "outlinewidth": 0,
             "ticks": ""
            },
            "colorscale": [
             [
              0,
              "#0d0887"
             ],
             [
              0.1111111111111111,
              "#46039f"
             ],
             [
              0.2222222222222222,
              "#7201a8"
             ],
             [
              0.3333333333333333,
              "#9c179e"
             ],
             [
              0.4444444444444444,
              "#bd3786"
             ],
             [
              0.5555555555555556,
              "#d8576b"
             ],
             [
              0.6666666666666666,
              "#ed7953"
             ],
             [
              0.7777777777777778,
              "#fb9f3a"
             ],
             [
              0.8888888888888888,
              "#fdca26"
             ],
             [
              1,
              "#f0f921"
             ]
            ],
            "type": "contour"
           }
          ],
          "contourcarpet": [
           {
            "colorbar": {
             "outlinewidth": 0,
             "ticks": ""
            },
            "type": "contourcarpet"
           }
          ],
          "heatmap": [
           {
            "colorbar": {
             "outlinewidth": 0,
             "ticks": ""
            },
            "colorscale": [
             [
              0,
              "#0d0887"
             ],
             [
              0.1111111111111111,
              "#46039f"
             ],
             [
              0.2222222222222222,
              "#7201a8"
             ],
             [
              0.3333333333333333,
              "#9c179e"
             ],
             [
              0.4444444444444444,
              "#bd3786"
             ],
             [
              0.5555555555555556,
              "#d8576b"
             ],
             [
              0.6666666666666666,
              "#ed7953"
             ],
             [
              0.7777777777777778,
              "#fb9f3a"
             ],
             [
              0.8888888888888888,
              "#fdca26"
             ],
             [
              1,
              "#f0f921"
             ]
            ],
            "type": "heatmap"
           }
          ],
          "heatmapgl": [
           {
            "colorbar": {
             "outlinewidth": 0,
             "ticks": ""
            },
            "colorscale": [
             [
              0,
              "#0d0887"
             ],
             [
              0.1111111111111111,
              "#46039f"
             ],
             [
              0.2222222222222222,
              "#7201a8"
             ],
             [
              0.3333333333333333,
              "#9c179e"
             ],
             [
              0.4444444444444444,
              "#bd3786"
             ],
             [
              0.5555555555555556,
              "#d8576b"
             ],
             [
              0.6666666666666666,
              "#ed7953"
             ],
             [
              0.7777777777777778,
              "#fb9f3a"
             ],
             [
              0.8888888888888888,
              "#fdca26"
             ],
             [
              1,
              "#f0f921"
             ]
            ],
            "type": "heatmapgl"
           }
          ],
          "histogram": [
           {
            "marker": {
             "colorbar": {
              "outlinewidth": 0,
              "ticks": ""
             }
            },
            "type": "histogram"
           }
          ],
          "histogram2d": [
           {
            "colorbar": {
             "outlinewidth": 0,
             "ticks": ""
            },
            "colorscale": [
             [
              0,
              "#0d0887"
             ],
             [
              0.1111111111111111,
              "#46039f"
             ],
             [
              0.2222222222222222,
              "#7201a8"
             ],
             [
              0.3333333333333333,
              "#9c179e"
             ],
             [
              0.4444444444444444,
              "#bd3786"
             ],
             [
              0.5555555555555556,
              "#d8576b"
             ],
             [
              0.6666666666666666,
              "#ed7953"
             ],
             [
              0.7777777777777778,
              "#fb9f3a"
             ],
             [
              0.8888888888888888,
              "#fdca26"
             ],
             [
              1,
              "#f0f921"
             ]
            ],
            "type": "histogram2d"
           }
          ],
          "histogram2dcontour": [
           {
            "colorbar": {
             "outlinewidth": 0,
             "ticks": ""
            },
            "colorscale": [
             [
              0,
              "#0d0887"
             ],
             [
              0.1111111111111111,
              "#46039f"
             ],
             [
              0.2222222222222222,
              "#7201a8"
             ],
             [
              0.3333333333333333,
              "#9c179e"
             ],
             [
              0.4444444444444444,
              "#bd3786"
             ],
             [
              0.5555555555555556,
              "#d8576b"
             ],
             [
              0.6666666666666666,
              "#ed7953"
             ],
             [
              0.7777777777777778,
              "#fb9f3a"
             ],
             [
              0.8888888888888888,
              "#fdca26"
             ],
             [
              1,
              "#f0f921"
             ]
            ],
            "type": "histogram2dcontour"
           }
          ],
          "mesh3d": [
           {
            "colorbar": {
             "outlinewidth": 0,
             "ticks": ""
            },
            "type": "mesh3d"
           }
          ],
          "parcoords": [
           {
            "line": {
             "colorbar": {
              "outlinewidth": 0,
              "ticks": ""
             }
            },
            "type": "parcoords"
           }
          ],
          "pie": [
           {
            "automargin": true,
            "type": "pie"
           }
          ],
          "scatter": [
           {
            "marker": {
             "colorbar": {
              "outlinewidth": 0,
              "ticks": ""
             }
            },
            "type": "scatter"
           }
          ],
          "scatter3d": [
           {
            "line": {
             "colorbar": {
              "outlinewidth": 0,
              "ticks": ""
             }
            },
            "marker": {
             "colorbar": {
              "outlinewidth": 0,
              "ticks": ""
             }
            },
            "type": "scatter3d"
           }
          ],
          "scattercarpet": [
           {
            "marker": {
             "colorbar": {
              "outlinewidth": 0,
              "ticks": ""
             }
            },
            "type": "scattercarpet"
           }
          ],
          "scattergeo": [
           {
            "marker": {
             "colorbar": {
              "outlinewidth": 0,
              "ticks": ""
             }
            },
            "type": "scattergeo"
           }
          ],
          "scattergl": [
           {
            "marker": {
             "colorbar": {
              "outlinewidth": 0,
              "ticks": ""
             }
            },
            "type": "scattergl"
           }
          ],
          "scattermapbox": [
           {
            "marker": {
             "colorbar": {
              "outlinewidth": 0,
              "ticks": ""
             }
            },
            "type": "scattermapbox"
           }
          ],
          "scatterpolar": [
           {
            "marker": {
             "colorbar": {
              "outlinewidth": 0,
              "ticks": ""
             }
            },
            "type": "scatterpolar"
           }
          ],
          "scatterpolargl": [
           {
            "marker": {
             "colorbar": {
              "outlinewidth": 0,
              "ticks": ""
             }
            },
            "type": "scatterpolargl"
           }
          ],
          "scatterternary": [
           {
            "marker": {
             "colorbar": {
              "outlinewidth": 0,
              "ticks": ""
             }
            },
            "type": "scatterternary"
           }
          ],
          "surface": [
           {
            "colorbar": {
             "outlinewidth": 0,
             "ticks": ""
            },
            "colorscale": [
             [
              0,
              "#0d0887"
             ],
             [
              0.1111111111111111,
              "#46039f"
             ],
             [
              0.2222222222222222,
              "#7201a8"
             ],
             [
              0.3333333333333333,
              "#9c179e"
             ],
             [
              0.4444444444444444,
              "#bd3786"
             ],
             [
              0.5555555555555556,
              "#d8576b"
             ],
             [
              0.6666666666666666,
              "#ed7953"
             ],
             [
              0.7777777777777778,
              "#fb9f3a"
             ],
             [
              0.8888888888888888,
              "#fdca26"
             ],
             [
              1,
              "#f0f921"
             ]
            ],
            "type": "surface"
           }
          ],
          "table": [
           {
            "cells": {
             "fill": {
              "color": "#EBF0F8"
             },
             "line": {
              "color": "white"
             }
            },
            "header": {
             "fill": {
              "color": "#C8D4E3"
             },
             "line": {
              "color": "white"
             }
            },
            "type": "table"
           }
          ]
         },
         "layout": {
          "annotationdefaults": {
           "arrowcolor": "#2a3f5f",
           "arrowhead": 0,
           "arrowwidth": 1
          },
          "coloraxis": {
           "colorbar": {
            "outlinewidth": 0,
            "ticks": ""
           }
          },
          "colorscale": {
           "diverging": [
            [
             0,
             "#8e0152"
            ],
            [
             0.1,
             "#c51b7d"
            ],
            [
             0.2,
             "#de77ae"
            ],
            [
             0.3,
             "#f1b6da"
            ],
            [
             0.4,
             "#fde0ef"
            ],
            [
             0.5,
             "#f7f7f7"
            ],
            [
             0.6,
             "#e6f5d0"
            ],
            [
             0.7,
             "#b8e186"
            ],
            [
             0.8,
             "#7fbc41"
            ],
            [
             0.9,
             "#4d9221"
            ],
            [
             1,
             "#276419"
            ]
           ],
           "sequential": [
            [
             0,
             "#0d0887"
            ],
            [
             0.1111111111111111,
             "#46039f"
            ],
            [
             0.2222222222222222,
             "#7201a8"
            ],
            [
             0.3333333333333333,
             "#9c179e"
            ],
            [
             0.4444444444444444,
             "#bd3786"
            ],
            [
             0.5555555555555556,
             "#d8576b"
            ],
            [
             0.6666666666666666,
             "#ed7953"
            ],
            [
             0.7777777777777778,
             "#fb9f3a"
            ],
            [
             0.8888888888888888,
             "#fdca26"
            ],
            [
             1,
             "#f0f921"
            ]
           ],
           "sequentialminus": [
            [
             0,
             "#0d0887"
            ],
            [
             0.1111111111111111,
             "#46039f"
            ],
            [
             0.2222222222222222,
             "#7201a8"
            ],
            [
             0.3333333333333333,
             "#9c179e"
            ],
            [
             0.4444444444444444,
             "#bd3786"
            ],
            [
             0.5555555555555556,
             "#d8576b"
            ],
            [
             0.6666666666666666,
             "#ed7953"
            ],
            [
             0.7777777777777778,
             "#fb9f3a"
            ],
            [
             0.8888888888888888,
             "#fdca26"
            ],
            [
             1,
             "#f0f921"
            ]
           ]
          },
          "colorway": [
           "#636efa",
           "#EF553B",
           "#00cc96",
           "#ab63fa",
           "#FFA15A",
           "#19d3f3",
           "#FF6692",
           "#B6E880",
           "#FF97FF",
           "#FECB52"
          ],
          "font": {
           "color": "#2a3f5f"
          },
          "geo": {
           "bgcolor": "white",
           "lakecolor": "white",
           "landcolor": "#E5ECF6",
           "showlakes": true,
           "showland": true,
           "subunitcolor": "white"
          },
          "hoverlabel": {
           "align": "left"
          },
          "hovermode": "closest",
          "mapbox": {
           "style": "light"
          },
          "paper_bgcolor": "white",
          "plot_bgcolor": "#E5ECF6",
          "polar": {
           "angularaxis": {
            "gridcolor": "white",
            "linecolor": "white",
            "ticks": ""
           },
           "bgcolor": "#E5ECF6",
           "radialaxis": {
            "gridcolor": "white",
            "linecolor": "white",
            "ticks": ""
           }
          },
          "scene": {
           "xaxis": {
            "backgroundcolor": "#E5ECF6",
            "gridcolor": "white",
            "gridwidth": 2,
            "linecolor": "white",
            "showbackground": true,
            "ticks": "",
            "zerolinecolor": "white"
           },
           "yaxis": {
            "backgroundcolor": "#E5ECF6",
            "gridcolor": "white",
            "gridwidth": 2,
            "linecolor": "white",
            "showbackground": true,
            "ticks": "",
            "zerolinecolor": "white"
           },
           "zaxis": {
            "backgroundcolor": "#E5ECF6",
            "gridcolor": "white",
            "gridwidth": 2,
            "linecolor": "white",
            "showbackground": true,
            "ticks": "",
            "zerolinecolor": "white"
           }
          },
          "shapedefaults": {
           "line": {
            "color": "#2a3f5f"
           }
          },
          "ternary": {
           "aaxis": {
            "gridcolor": "white",
            "linecolor": "white",
            "ticks": ""
           },
           "baxis": {
            "gridcolor": "white",
            "linecolor": "white",
            "ticks": ""
           },
           "bgcolor": "#E5ECF6",
           "caxis": {
            "gridcolor": "white",
            "linecolor": "white",
            "ticks": ""
           }
          },
          "title": {
           "x": 0.05
          },
          "xaxis": {
           "automargin": true,
           "gridcolor": "white",
           "linecolor": "white",
           "ticks": "",
           "title": {
            "standoff": 15
           },
           "zerolinecolor": "white",
           "zerolinewidth": 2
          },
          "yaxis": {
           "automargin": true,
           "gridcolor": "white",
           "linecolor": "white",
           "ticks": "",
           "title": {
            "standoff": 15
           },
           "zerolinecolor": "white",
           "zerolinewidth": 2
          }
         }
        },
        "title": {
         "text": "<b>Penguin Gender-Based Species Count</b>"
        }
       }
      },
      "text/html": [
       "<div>\n",
       "        \n",
       "        \n",
       "            <div id=\"42aed78a-6a9f-4854-b36b-821e4d33f84e\" class=\"plotly-graph-div\" style=\"height:525px; width:100%;\"></div>\n",
       "            <script type=\"text/javascript\">\n",
       "                require([\"plotly\"], function(Plotly) {\n",
       "                    window.PLOTLYENV=window.PLOTLYENV || {};\n",
       "                    \n",
       "                if (document.getElementById(\"42aed78a-6a9f-4854-b36b-821e4d33f84e\")) {\n",
       "                    Plotly.newPlot(\n",
       "                        '42aed78a-6a9f-4854-b36b-821e4d33f84e',\n",
       "                        [{\"marker\": {\"color\": [\"darkorange\", \"teal\", \"mediumorchid\"], \"line\": {\"color\": \"rgb(0,0,0)\"}}, \"text\": \"Female\", \"textposition\": \"outside\", \"type\": \"bar\", \"x\": [\"Adelie Penguin (Pygoscelis adeliae)\", \"Gentoo penguin (Pygoscelis papua)\", \"Chinstrap penguin (Pygoscelis antarctica)\"], \"y\": [73, 58, 34]}, {\"marker\": {\"color\": [\"darkorange\", \"teal\", \"mediumorchid\"], \"line\": {\"color\": \"rgb(0,0,0)\"}}, \"name\": \"Male\", \"text\": \"Male\", \"textposition\": \"outside\", \"type\": \"bar\", \"x\": [\"Adelie Penguin (Pygoscelis adeliae)\", \"Gentoo penguin (Pygoscelis papua)\", \"Chinstrap penguin (Pygoscelis antarctica)\"], \"y\": [79, 65, 34]}],\n",
       "                        {\"paper_bgcolor\": \"rgba(0,0,0,0)\", \"plot_bgcolor\": \"rgba(0,0,0,0)\", \"showlegend\": false, \"template\": {\"data\": {\"bar\": [{\"error_x\": {\"color\": \"#2a3f5f\"}, \"error_y\": {\"color\": \"#2a3f5f\"}, \"marker\": {\"line\": {\"color\": \"#E5ECF6\", \"width\": 0.5}}, \"type\": \"bar\"}], \"barpolar\": [{\"marker\": {\"line\": {\"color\": \"#E5ECF6\", \"width\": 0.5}}, \"type\": \"barpolar\"}], \"carpet\": [{\"aaxis\": {\"endlinecolor\": \"#2a3f5f\", \"gridcolor\": \"white\", \"linecolor\": \"white\", \"minorgridcolor\": \"white\", \"startlinecolor\": \"#2a3f5f\"}, \"baxis\": {\"endlinecolor\": \"#2a3f5f\", \"gridcolor\": \"white\", \"linecolor\": \"white\", \"minorgridcolor\": \"white\", \"startlinecolor\": \"#2a3f5f\"}, \"type\": \"carpet\"}], \"choropleth\": [{\"colorbar\": {\"outlinewidth\": 0, \"ticks\": \"\"}, \"type\": \"choropleth\"}], \"contour\": [{\"colorbar\": {\"outlinewidth\": 0, \"ticks\": \"\"}, \"colorscale\": [[0.0, \"#0d0887\"], [0.1111111111111111, \"#46039f\"], [0.2222222222222222, \"#7201a8\"], [0.3333333333333333, \"#9c179e\"], [0.4444444444444444, \"#bd3786\"], [0.5555555555555556, \"#d8576b\"], [0.6666666666666666, \"#ed7953\"], [0.7777777777777778, \"#fb9f3a\"], [0.8888888888888888, \"#fdca26\"], [1.0, \"#f0f921\"]], \"type\": \"contour\"}], \"contourcarpet\": [{\"colorbar\": {\"outlinewidth\": 0, \"ticks\": \"\"}, \"type\": \"contourcarpet\"}], \"heatmap\": [{\"colorbar\": {\"outlinewidth\": 0, \"ticks\": \"\"}, \"colorscale\": [[0.0, \"#0d0887\"], [0.1111111111111111, \"#46039f\"], [0.2222222222222222, \"#7201a8\"], [0.3333333333333333, \"#9c179e\"], [0.4444444444444444, \"#bd3786\"], [0.5555555555555556, \"#d8576b\"], [0.6666666666666666, \"#ed7953\"], [0.7777777777777778, \"#fb9f3a\"], [0.8888888888888888, \"#fdca26\"], [1.0, \"#f0f921\"]], \"type\": \"heatmap\"}], \"heatmapgl\": [{\"colorbar\": {\"outlinewidth\": 0, \"ticks\": \"\"}, \"colorscale\": [[0.0, \"#0d0887\"], [0.1111111111111111, \"#46039f\"], [0.2222222222222222, \"#7201a8\"], [0.3333333333333333, \"#9c179e\"], [0.4444444444444444, \"#bd3786\"], [0.5555555555555556, \"#d8576b\"], [0.6666666666666666, \"#ed7953\"], [0.7777777777777778, \"#fb9f3a\"], [0.8888888888888888, \"#fdca26\"], [1.0, \"#f0f921\"]], \"type\": \"heatmapgl\"}], \"histogram\": [{\"marker\": {\"colorbar\": {\"outlinewidth\": 0, \"ticks\": \"\"}}, \"type\": \"histogram\"}], \"histogram2d\": [{\"colorbar\": {\"outlinewidth\": 0, \"ticks\": \"\"}, \"colorscale\": [[0.0, \"#0d0887\"], [0.1111111111111111, \"#46039f\"], [0.2222222222222222, \"#7201a8\"], [0.3333333333333333, \"#9c179e\"], [0.4444444444444444, \"#bd3786\"], [0.5555555555555556, \"#d8576b\"], [0.6666666666666666, \"#ed7953\"], [0.7777777777777778, \"#fb9f3a\"], [0.8888888888888888, \"#fdca26\"], [1.0, \"#f0f921\"]], \"type\": \"histogram2d\"}], \"histogram2dcontour\": [{\"colorbar\": {\"outlinewidth\": 0, \"ticks\": \"\"}, \"colorscale\": [[0.0, \"#0d0887\"], [0.1111111111111111, \"#46039f\"], [0.2222222222222222, \"#7201a8\"], [0.3333333333333333, \"#9c179e\"], [0.4444444444444444, \"#bd3786\"], [0.5555555555555556, \"#d8576b\"], [0.6666666666666666, \"#ed7953\"], [0.7777777777777778, \"#fb9f3a\"], [0.8888888888888888, \"#fdca26\"], [1.0, \"#f0f921\"]], \"type\": \"histogram2dcontour\"}], \"mesh3d\": [{\"colorbar\": {\"outlinewidth\": 0, \"ticks\": \"\"}, \"type\": \"mesh3d\"}], \"parcoords\": [{\"line\": {\"colorbar\": {\"outlinewidth\": 0, \"ticks\": \"\"}}, \"type\": \"parcoords\"}], \"pie\": [{\"automargin\": true, \"type\": \"pie\"}], \"scatter\": [{\"marker\": {\"colorbar\": {\"outlinewidth\": 0, \"ticks\": \"\"}}, \"type\": \"scatter\"}], \"scatter3d\": [{\"line\": {\"colorbar\": {\"outlinewidth\": 0, \"ticks\": \"\"}}, \"marker\": {\"colorbar\": {\"outlinewidth\": 0, \"ticks\": \"\"}}, \"type\": \"scatter3d\"}], \"scattercarpet\": [{\"marker\": {\"colorbar\": {\"outlinewidth\": 0, \"ticks\": \"\"}}, \"type\": \"scattercarpet\"}], \"scattergeo\": [{\"marker\": {\"colorbar\": {\"outlinewidth\": 0, \"ticks\": \"\"}}, \"type\": \"scattergeo\"}], \"scattergl\": [{\"marker\": {\"colorbar\": {\"outlinewidth\": 0, \"ticks\": \"\"}}, \"type\": \"scattergl\"}], \"scattermapbox\": [{\"marker\": {\"colorbar\": {\"outlinewidth\": 0, \"ticks\": \"\"}}, \"type\": \"scattermapbox\"}], \"scatterpolar\": [{\"marker\": {\"colorbar\": {\"outlinewidth\": 0, \"ticks\": \"\"}}, \"type\": \"scatterpolar\"}], \"scatterpolargl\": [{\"marker\": {\"colorbar\": {\"outlinewidth\": 0, \"ticks\": \"\"}}, \"type\": \"scatterpolargl\"}], \"scatterternary\": [{\"marker\": {\"colorbar\": {\"outlinewidth\": 0, \"ticks\": \"\"}}, \"type\": \"scatterternary\"}], \"surface\": [{\"colorbar\": {\"outlinewidth\": 0, \"ticks\": \"\"}, \"colorscale\": [[0.0, \"#0d0887\"], [0.1111111111111111, \"#46039f\"], [0.2222222222222222, \"#7201a8\"], [0.3333333333333333, \"#9c179e\"], [0.4444444444444444, \"#bd3786\"], [0.5555555555555556, \"#d8576b\"], [0.6666666666666666, \"#ed7953\"], [0.7777777777777778, \"#fb9f3a\"], [0.8888888888888888, \"#fdca26\"], [1.0, \"#f0f921\"]], \"type\": \"surface\"}], \"table\": [{\"cells\": {\"fill\": {\"color\": \"#EBF0F8\"}, \"line\": {\"color\": \"white\"}}, \"header\": {\"fill\": {\"color\": \"#C8D4E3\"}, \"line\": {\"color\": \"white\"}}, \"type\": \"table\"}]}, \"layout\": {\"annotationdefaults\": {\"arrowcolor\": \"#2a3f5f\", \"arrowhead\": 0, \"arrowwidth\": 1}, \"coloraxis\": {\"colorbar\": {\"outlinewidth\": 0, \"ticks\": \"\"}}, \"colorscale\": {\"diverging\": [[0, \"#8e0152\"], [0.1, \"#c51b7d\"], [0.2, \"#de77ae\"], [0.3, \"#f1b6da\"], [0.4, \"#fde0ef\"], [0.5, \"#f7f7f7\"], [0.6, \"#e6f5d0\"], [0.7, \"#b8e186\"], [0.8, \"#7fbc41\"], [0.9, \"#4d9221\"], [1, \"#276419\"]], \"sequential\": [[0.0, \"#0d0887\"], [0.1111111111111111, \"#46039f\"], [0.2222222222222222, \"#7201a8\"], [0.3333333333333333, \"#9c179e\"], [0.4444444444444444, \"#bd3786\"], [0.5555555555555556, \"#d8576b\"], [0.6666666666666666, \"#ed7953\"], [0.7777777777777778, \"#fb9f3a\"], [0.8888888888888888, \"#fdca26\"], [1.0, \"#f0f921\"]], \"sequentialminus\": [[0.0, \"#0d0887\"], [0.1111111111111111, \"#46039f\"], [0.2222222222222222, \"#7201a8\"], [0.3333333333333333, \"#9c179e\"], [0.4444444444444444, \"#bd3786\"], [0.5555555555555556, \"#d8576b\"], [0.6666666666666666, \"#ed7953\"], [0.7777777777777778, \"#fb9f3a\"], [0.8888888888888888, \"#fdca26\"], [1.0, \"#f0f921\"]]}, \"colorway\": [\"#636efa\", \"#EF553B\", \"#00cc96\", \"#ab63fa\", \"#FFA15A\", \"#19d3f3\", \"#FF6692\", \"#B6E880\", \"#FF97FF\", \"#FECB52\"], \"font\": {\"color\": \"#2a3f5f\"}, \"geo\": {\"bgcolor\": \"white\", \"lakecolor\": \"white\", \"landcolor\": \"#E5ECF6\", \"showlakes\": true, \"showland\": true, \"subunitcolor\": \"white\"}, \"hoverlabel\": {\"align\": \"left\"}, \"hovermode\": \"closest\", \"mapbox\": {\"style\": \"light\"}, \"paper_bgcolor\": \"white\", \"plot_bgcolor\": \"#E5ECF6\", \"polar\": {\"angularaxis\": {\"gridcolor\": \"white\", \"linecolor\": \"white\", \"ticks\": \"\"}, \"bgcolor\": \"#E5ECF6\", \"radialaxis\": {\"gridcolor\": \"white\", \"linecolor\": \"white\", \"ticks\": \"\"}}, \"scene\": {\"xaxis\": {\"backgroundcolor\": \"#E5ECF6\", \"gridcolor\": \"white\", \"gridwidth\": 2, \"linecolor\": \"white\", \"showbackground\": true, \"ticks\": \"\", \"zerolinecolor\": \"white\"}, \"yaxis\": {\"backgroundcolor\": \"#E5ECF6\", \"gridcolor\": \"white\", \"gridwidth\": 2, \"linecolor\": \"white\", \"showbackground\": true, \"ticks\": \"\", \"zerolinecolor\": \"white\"}, \"zaxis\": {\"backgroundcolor\": \"#E5ECF6\", \"gridcolor\": \"white\", \"gridwidth\": 2, \"linecolor\": \"white\", \"showbackground\": true, \"ticks\": \"\", \"zerolinecolor\": \"white\"}}, \"shapedefaults\": {\"line\": {\"color\": \"#2a3f5f\"}}, \"ternary\": {\"aaxis\": {\"gridcolor\": \"white\", \"linecolor\": \"white\", \"ticks\": \"\"}, \"baxis\": {\"gridcolor\": \"white\", \"linecolor\": \"white\", \"ticks\": \"\"}, \"bgcolor\": \"#E5ECF6\", \"caxis\": {\"gridcolor\": \"white\", \"linecolor\": \"white\", \"ticks\": \"\"}}, \"title\": {\"x\": 0.05}, \"xaxis\": {\"automargin\": true, \"gridcolor\": \"white\", \"linecolor\": \"white\", \"ticks\": \"\", \"title\": {\"standoff\": 15}, \"zerolinecolor\": \"white\", \"zerolinewidth\": 2}, \"yaxis\": {\"automargin\": true, \"gridcolor\": \"white\", \"linecolor\": \"white\", \"ticks\": \"\", \"title\": {\"standoff\": 15}, \"zerolinecolor\": \"white\", \"zerolinewidth\": 2}}}, \"title\": {\"text\": \"<b>Penguin Gender-Based Species Count</b>\"}},\n",
       "                        {\"responsive\": true}\n",
       "                    ).then(function(){\n",
       "                            \n",
       "var gd = document.getElementById('42aed78a-6a9f-4854-b36b-821e4d33f84e');\n",
       "var x = new MutationObserver(function (mutations, observer) {{\n",
       "        var display = window.getComputedStyle(gd).display;\n",
       "        if (!display || display === 'none') {{\n",
       "            console.log([gd, 'removed!']);\n",
       "            Plotly.purge(gd);\n",
       "            observer.disconnect();\n",
       "        }}\n",
       "}});\n",
       "\n",
       "// Listen for the removal of the full notebook cells\n",
       "var notebookContainer = gd.closest('#notebook-container');\n",
       "if (notebookContainer) {{\n",
       "    x.observe(notebookContainer, {childList: true});\n",
       "}}\n",
       "\n",
       "// Listen for the clearing of the current output cell\n",
       "var outputEl = gd.closest('.output');\n",
       "if (outputEl) {{\n",
       "    x.observe(outputEl, {childList: true});\n",
       "}}\n",
       "\n",
       "                        })\n",
       "                };\n",
       "                });\n",
       "            </script>\n",
       "        </div>"
      ]
     },
     "metadata": {},
     "output_type": "display_data"
    },
    {
     "data": {
      "application/javascript": [
       "\n",
       "            setTimeout(function() {\n",
       "                var nbb_cell_id = 23;\n",
       "                var nbb_unformatted_code = \"# penguins gender count based on species\\n\\ntrace1 = go.Bar(\\n    x=female_df[\\\"Species\\\"],\\n    y=female_df[\\\"Sex\\\"],\\n    text=\\\"Female\\\",\\n    textposition=\\\"outside\\\",\\n    marker=dict(color=species_df[\\\"Color\\\"], line_color=\\\"rgb(0,0,0)\\\"),\\n)\\n\\ntrace2 = go.Bar(\\n    x=male_df[\\\"Species\\\"],\\n    y=male_df[\\\"Sex\\\"],\\n    text=\\\"Male\\\",\\n    textposition=\\\"outside\\\",\\n    marker=dict(color=species_df[\\\"Color\\\"], line_color=\\\"rgb(0,0,0)\\\"),\\n    name=\\\"Male\\\",\\n)\\n\\ndata = [trace1, trace2]\\n\\n\\nlayout = dict(\\n    title=\\\"<b>Penguin Gender-Based Species Count</b>\\\",\\n    showlegend=False,\\n    plot_bgcolor=\\\"rgba(0,0,0,0)\\\",\\n    paper_bgcolor=\\\"rgba(0,0,0,0)\\\",\\n)\\n\\nfig = dict(data=data, layout=layout)\\n\\niplot(fig)\";\n",
       "                var nbb_formatted_code = \"# penguins gender count based on species\\n\\ntrace1 = go.Bar(\\n    x=female_df[\\\"Species\\\"],\\n    y=female_df[\\\"Sex\\\"],\\n    text=\\\"Female\\\",\\n    textposition=\\\"outside\\\",\\n    marker=dict(color=species_df[\\\"Color\\\"], line_color=\\\"rgb(0,0,0)\\\"),\\n)\\n\\ntrace2 = go.Bar(\\n    x=male_df[\\\"Species\\\"],\\n    y=male_df[\\\"Sex\\\"],\\n    text=\\\"Male\\\",\\n    textposition=\\\"outside\\\",\\n    marker=dict(color=species_df[\\\"Color\\\"], line_color=\\\"rgb(0,0,0)\\\"),\\n    name=\\\"Male\\\",\\n)\\n\\ndata = [trace1, trace2]\\n\\n\\nlayout = dict(\\n    title=\\\"<b>Penguin Gender-Based Species Count</b>\\\",\\n    showlegend=False,\\n    plot_bgcolor=\\\"rgba(0,0,0,0)\\\",\\n    paper_bgcolor=\\\"rgba(0,0,0,0)\\\",\\n)\\n\\nfig = dict(data=data, layout=layout)\\n\\niplot(fig)\";\n",
       "                var nbb_cells = Jupyter.notebook.get_cells();\n",
       "                for (var i = 0; i < nbb_cells.length; ++i) {\n",
       "                    if (nbb_cells[i].input_prompt_number == nbb_cell_id) {\n",
       "                        if (nbb_cells[i].get_text() == nbb_unformatted_code) {\n",
       "                             nbb_cells[i].set_text(nbb_formatted_code);\n",
       "                        }\n",
       "                        break;\n",
       "                    }\n",
       "                }\n",
       "            }, 500);\n",
       "            "
      ],
      "text/plain": [
       "<IPython.core.display.Javascript object>"
      ]
     },
     "metadata": {},
     "output_type": "display_data"
    }
   ],
   "source": [
    "# penguins gender count based on species\n",
    "\n",
    "trace1 = go.Bar(\n",
    "    x=female_df[\"Species\"],\n",
    "    y=female_df[\"Sex\"],\n",
    "    text=\"Female\",\n",
    "    textposition=\"outside\",\n",
    "    marker=dict(color=species_df[\"Color\"], line_color=\"rgb(0,0,0)\"),\n",
    ")\n",
    "\n",
    "trace2 = go.Bar(\n",
    "    x=male_df[\"Species\"],\n",
    "    y=male_df[\"Sex\"],\n",
    "    text=\"Male\",\n",
    "    textposition=\"outside\",\n",
    "    marker=dict(color=species_df[\"Color\"], line_color=\"rgb(0,0,0)\"),\n",
    "    name=\"Male\",\n",
    ")\n",
    "\n",
    "data = [trace1, trace2]\n",
    "\n",
    "\n",
    "layout = dict(\n",
    "    title=\"<b>Penguin Gender-Based Species Count</b>\",\n",
    "    showlegend=False,\n",
    "    plot_bgcolor=\"rgba(0,0,0,0)\",\n",
    "    paper_bgcolor=\"rgba(0,0,0,0)\",\n",
    ")\n",
    "\n",
    "fig = dict(data=data, layout=layout)\n",
    "\n",
    "iplot(fig)"
   ]
  },
  {
   "cell_type": "markdown",
   "metadata": {},
   "source": [
    "### Correlation Plots"
   ]
  },
  {
   "cell_type": "code",
   "execution_count": 24,
   "metadata": {},
   "outputs": [
    {
     "data": {
      "application/vnd.plotly.v1+json": {
       "config": {
        "linkText": "Export to plot.ly",
        "plotlyServerURL": "https://plot.ly",
        "showLink": false
       },
       "data": [
        {
         "marker": {
          "color": [
           "darkorange",
           "darkorange",
           "darkorange",
           "darkorange",
           "darkorange",
           "darkorange",
           "darkorange",
           "darkorange",
           "darkorange",
           "darkorange",
           "darkorange",
           "darkorange",
           "darkorange",
           "darkorange",
           "darkorange",
           "darkorange",
           "darkorange",
           "darkorange",
           "darkorange",
           "darkorange",
           "darkorange",
           "darkorange",
           "darkorange",
           "darkorange",
           "darkorange",
           "darkorange",
           "darkorange",
           "darkorange",
           "darkorange",
           "darkorange",
           "darkorange",
           "darkorange",
           "darkorange",
           "darkorange",
           "darkorange",
           "darkorange",
           "darkorange",
           "darkorange",
           "darkorange",
           "darkorange",
           "darkorange",
           "darkorange",
           "darkorange",
           "darkorange",
           "darkorange",
           "darkorange",
           "darkorange",
           "darkorange",
           "darkorange",
           "darkorange",
           "darkorange",
           "darkorange",
           "darkorange",
           "darkorange",
           "darkorange",
           "darkorange",
           "darkorange",
           "darkorange",
           "darkorange",
           "darkorange",
           "darkorange",
           "darkorange",
           "darkorange",
           "darkorange",
           "darkorange",
           "darkorange",
           "darkorange",
           "darkorange",
           "darkorange",
           "darkorange",
           "darkorange",
           "darkorange",
           "darkorange",
           "darkorange",
           "darkorange",
           "darkorange",
           "darkorange",
           "darkorange",
           "darkorange",
           "darkorange",
           "darkorange",
           "darkorange",
           "darkorange",
           "darkorange",
           "darkorange",
           "darkorange",
           "darkorange",
           "darkorange",
           "darkorange",
           "darkorange",
           "darkorange",
           "darkorange",
           "darkorange",
           "darkorange",
           "darkorange",
           "darkorange",
           "darkorange",
           "darkorange",
           "darkorange",
           "darkorange",
           "darkorange",
           "darkorange",
           "darkorange",
           "darkorange",
           "darkorange",
           "darkorange",
           "darkorange",
           "darkorange",
           "darkorange",
           "darkorange",
           "darkorange",
           "darkorange",
           "darkorange",
           "darkorange",
           "darkorange",
           "darkorange",
           "darkorange",
           "darkorange",
           "darkorange",
           "darkorange",
           "darkorange",
           "darkorange",
           "darkorange",
           "darkorange",
           "darkorange",
           "darkorange",
           "darkorange",
           "darkorange",
           "darkorange",
           "darkorange",
           "darkorange",
           "darkorange",
           "darkorange",
           "darkorange",
           "darkorange",
           "darkorange",
           "darkorange",
           "darkorange",
           "darkorange",
           "darkorange",
           "darkorange",
           "darkorange",
           "darkorange",
           "darkorange",
           "darkorange",
           "darkorange",
           "darkorange",
           "darkorange",
           "darkorange",
           "darkorange",
           "darkorange",
           "darkorange"
          ],
          "line": {
           "color": "rgb(0,0,0)",
           "width": 0.5
          },
          "size": 10,
          "symbol": "circle"
         },
         "mode": "markers",
         "name": "Adelie Penguin",
         "text": [
          "Adelie Penguin (Pygoscelis adeliae)",
          "Adelie Penguin (Pygoscelis adeliae)",
          "Adelie Penguin (Pygoscelis adeliae)",
          "Adelie Penguin (Pygoscelis adeliae)",
          "Adelie Penguin (Pygoscelis adeliae)",
          "Adelie Penguin (Pygoscelis adeliae)",
          "Adelie Penguin (Pygoscelis adeliae)",
          "Adelie Penguin (Pygoscelis adeliae)",
          "Adelie Penguin (Pygoscelis adeliae)",
          "Adelie Penguin (Pygoscelis adeliae)",
          "Adelie Penguin (Pygoscelis adeliae)",
          "Adelie Penguin (Pygoscelis adeliae)",
          "Adelie Penguin (Pygoscelis adeliae)",
          "Adelie Penguin (Pygoscelis adeliae)",
          "Adelie Penguin (Pygoscelis adeliae)",
          "Adelie Penguin (Pygoscelis adeliae)",
          "Adelie Penguin (Pygoscelis adeliae)",
          "Adelie Penguin (Pygoscelis adeliae)",
          "Adelie Penguin (Pygoscelis adeliae)",
          "Adelie Penguin (Pygoscelis adeliae)",
          "Adelie Penguin (Pygoscelis adeliae)",
          "Adelie Penguin (Pygoscelis adeliae)",
          "Adelie Penguin (Pygoscelis adeliae)",
          "Adelie Penguin (Pygoscelis adeliae)",
          "Adelie Penguin (Pygoscelis adeliae)",
          "Adelie Penguin (Pygoscelis adeliae)",
          "Adelie Penguin (Pygoscelis adeliae)",
          "Adelie Penguin (Pygoscelis adeliae)",
          "Adelie Penguin (Pygoscelis adeliae)",
          "Adelie Penguin (Pygoscelis adeliae)",
          "Adelie Penguin (Pygoscelis adeliae)",
          "Adelie Penguin (Pygoscelis adeliae)",
          "Adelie Penguin (Pygoscelis adeliae)",
          "Adelie Penguin (Pygoscelis adeliae)",
          "Adelie Penguin (Pygoscelis adeliae)",
          "Adelie Penguin (Pygoscelis adeliae)",
          "Adelie Penguin (Pygoscelis adeliae)",
          "Adelie Penguin (Pygoscelis adeliae)",
          "Adelie Penguin (Pygoscelis adeliae)",
          "Adelie Penguin (Pygoscelis adeliae)",
          "Adelie Penguin (Pygoscelis adeliae)",
          "Adelie Penguin (Pygoscelis adeliae)",
          "Adelie Penguin (Pygoscelis adeliae)",
          "Adelie Penguin (Pygoscelis adeliae)",
          "Adelie Penguin (Pygoscelis adeliae)",
          "Adelie Penguin (Pygoscelis adeliae)",
          "Adelie Penguin (Pygoscelis adeliae)",
          "Adelie Penguin (Pygoscelis adeliae)",
          "Adelie Penguin (Pygoscelis adeliae)",
          "Adelie Penguin (Pygoscelis adeliae)",
          "Adelie Penguin (Pygoscelis adeliae)",
          "Adelie Penguin (Pygoscelis adeliae)",
          "Adelie Penguin (Pygoscelis adeliae)",
          "Adelie Penguin (Pygoscelis adeliae)",
          "Adelie Penguin (Pygoscelis adeliae)",
          "Adelie Penguin (Pygoscelis adeliae)",
          "Adelie Penguin (Pygoscelis adeliae)",
          "Adelie Penguin (Pygoscelis adeliae)",
          "Adelie Penguin (Pygoscelis adeliae)",
          "Adelie Penguin (Pygoscelis adeliae)",
          "Adelie Penguin (Pygoscelis adeliae)",
          "Adelie Penguin (Pygoscelis adeliae)",
          "Adelie Penguin (Pygoscelis adeliae)",
          "Adelie Penguin (Pygoscelis adeliae)",
          "Adelie Penguin (Pygoscelis adeliae)",
          "Adelie Penguin (Pygoscelis adeliae)",
          "Adelie Penguin (Pygoscelis adeliae)",
          "Adelie Penguin (Pygoscelis adeliae)",
          "Adelie Penguin (Pygoscelis adeliae)",
          "Adelie Penguin (Pygoscelis adeliae)",
          "Adelie Penguin (Pygoscelis adeliae)",
          "Adelie Penguin (Pygoscelis adeliae)",
          "Adelie Penguin (Pygoscelis adeliae)",
          "Adelie Penguin (Pygoscelis adeliae)",
          "Adelie Penguin (Pygoscelis adeliae)",
          "Adelie Penguin (Pygoscelis adeliae)",
          "Adelie Penguin (Pygoscelis adeliae)",
          "Adelie Penguin (Pygoscelis adeliae)",
          "Adelie Penguin (Pygoscelis adeliae)",
          "Adelie Penguin (Pygoscelis adeliae)",
          "Adelie Penguin (Pygoscelis adeliae)",
          "Adelie Penguin (Pygoscelis adeliae)",
          "Adelie Penguin (Pygoscelis adeliae)",
          "Adelie Penguin (Pygoscelis adeliae)",
          "Adelie Penguin (Pygoscelis adeliae)",
          "Adelie Penguin (Pygoscelis adeliae)",
          "Adelie Penguin (Pygoscelis adeliae)",
          "Adelie Penguin (Pygoscelis adeliae)",
          "Adelie Penguin (Pygoscelis adeliae)",
          "Adelie Penguin (Pygoscelis adeliae)",
          "Adelie Penguin (Pygoscelis adeliae)",
          "Adelie Penguin (Pygoscelis adeliae)",
          "Adelie Penguin (Pygoscelis adeliae)",
          "Adelie Penguin (Pygoscelis adeliae)",
          "Adelie Penguin (Pygoscelis adeliae)",
          "Adelie Penguin (Pygoscelis adeliae)",
          "Adelie Penguin (Pygoscelis adeliae)",
          "Adelie Penguin (Pygoscelis adeliae)",
          "Adelie Penguin (Pygoscelis adeliae)",
          "Adelie Penguin (Pygoscelis adeliae)",
          "Adelie Penguin (Pygoscelis adeliae)",
          "Adelie Penguin (Pygoscelis adeliae)",
          "Adelie Penguin (Pygoscelis adeliae)",
          "Adelie Penguin (Pygoscelis adeliae)",
          "Adelie Penguin (Pygoscelis adeliae)",
          "Adelie Penguin (Pygoscelis adeliae)",
          "Adelie Penguin (Pygoscelis adeliae)",
          "Adelie Penguin (Pygoscelis adeliae)",
          "Adelie Penguin (Pygoscelis adeliae)",
          "Adelie Penguin (Pygoscelis adeliae)",
          "Adelie Penguin (Pygoscelis adeliae)",
          "Adelie Penguin (Pygoscelis adeliae)",
          "Adelie Penguin (Pygoscelis adeliae)",
          "Adelie Penguin (Pygoscelis adeliae)",
          "Adelie Penguin (Pygoscelis adeliae)",
          "Adelie Penguin (Pygoscelis adeliae)",
          "Adelie Penguin (Pygoscelis adeliae)",
          "Adelie Penguin (Pygoscelis adeliae)",
          "Adelie Penguin (Pygoscelis adeliae)",
          "Adelie Penguin (Pygoscelis adeliae)",
          "Adelie Penguin (Pygoscelis adeliae)",
          "Adelie Penguin (Pygoscelis adeliae)",
          "Adelie Penguin (Pygoscelis adeliae)",
          "Adelie Penguin (Pygoscelis adeliae)",
          "Adelie Penguin (Pygoscelis adeliae)",
          "Adelie Penguin (Pygoscelis adeliae)",
          "Adelie Penguin (Pygoscelis adeliae)",
          "Adelie Penguin (Pygoscelis adeliae)",
          "Adelie Penguin (Pygoscelis adeliae)",
          "Adelie Penguin (Pygoscelis adeliae)",
          "Adelie Penguin (Pygoscelis adeliae)",
          "Adelie Penguin (Pygoscelis adeliae)",
          "Adelie Penguin (Pygoscelis adeliae)",
          "Adelie Penguin (Pygoscelis adeliae)",
          "Adelie Penguin (Pygoscelis adeliae)",
          "Adelie Penguin (Pygoscelis adeliae)",
          "Adelie Penguin (Pygoscelis adeliae)",
          "Adelie Penguin (Pygoscelis adeliae)",
          "Adelie Penguin (Pygoscelis adeliae)",
          "Adelie Penguin (Pygoscelis adeliae)",
          "Adelie Penguin (Pygoscelis adeliae)",
          "Adelie Penguin (Pygoscelis adeliae)",
          "Adelie Penguin (Pygoscelis adeliae)",
          "Adelie Penguin (Pygoscelis adeliae)",
          "Adelie Penguin (Pygoscelis adeliae)",
          "Adelie Penguin (Pygoscelis adeliae)",
          "Adelie Penguin (Pygoscelis adeliae)",
          "Adelie Penguin (Pygoscelis adeliae)",
          "Adelie Penguin (Pygoscelis adeliae)",
          "Adelie Penguin (Pygoscelis adeliae)",
          "Adelie Penguin (Pygoscelis adeliae)",
          "Adelie Penguin (Pygoscelis adeliae)"
         ],
         "type": "scatter",
         "x": [
          39.1,
          39.5,
          40.3,
          41.1,
          36.7,
          39.3,
          38.9,
          39.2,
          34.1,
          42,
          37.8,
          37.8,
          41.1,
          38.6,
          34.6,
          36.6,
          38.7,
          42.5,
          34.4,
          46,
          37.8,
          37.7,
          35.9,
          38.2,
          38.8,
          35.3,
          40.6,
          40.5,
          37.9,
          40.5,
          39.5,
          37.2,
          39.5,
          40.9,
          36.4,
          39.2,
          38.8,
          42.2,
          37.6,
          39.8,
          36.5,
          40.8,
          36,
          44.1,
          37,
          39.6,
          41.1,
          37.5,
          36,
          42.3,
          39.6,
          40.1,
          35,
          42,
          34.5,
          41.4,
          39,
          40.6,
          36.5,
          37.6,
          35.7,
          41.3,
          37.6,
          41.1,
          36.4,
          41.6,
          35.5,
          41.1,
          35.9,
          41.8,
          33.5,
          39.7,
          39.6,
          45.8,
          35.5,
          42.8,
          40.9,
          37.2,
          36.2,
          42.1,
          34.6,
          42.9,
          36.7,
          35.1,
          37.3,
          41.3,
          36.3,
          36.9,
          38.3,
          38.9,
          35.7,
          41.1,
          34,
          39.6,
          36.2,
          40.8,
          38.1,
          40.3,
          33.1,
          43.2,
          35,
          41,
          37.7,
          37.8,
          37.9,
          39.7,
          38.6,
          38.2,
          38.1,
          43.2,
          38.1,
          45.6,
          39.7,
          42.2,
          39.6,
          42.7,
          38.6,
          37.3,
          35.7,
          41.1,
          36.2,
          37.7,
          40.2,
          41.4,
          35.2,
          40.6,
          38.8,
          41.5,
          39,
          44.1,
          38.5,
          43.1,
          36.8,
          37.5,
          38.1,
          41.1,
          35.6,
          40.2,
          37,
          39.7,
          40.2,
          40.6,
          32.1,
          40.7,
          37.3,
          39,
          39.2,
          36.6,
          36,
          37.8,
          36,
          41.5
         ],
         "y": [
          3750,
          3800,
          3250,
          3800,
          3450,
          3650,
          3625,
          4675,
          3475,
          4250,
          3300,
          3700,
          3200,
          3800,
          4400,
          3700,
          3450,
          4500,
          3325,
          4200,
          3400,
          3600,
          3800,
          3950,
          3800,
          3800,
          3550,
          3200,
          3150,
          3950,
          3250,
          3900,
          3300,
          3900,
          3325,
          4150,
          3950,
          3550,
          3300,
          4650,
          3150,
          3900,
          3100,
          4400,
          3000,
          4600,
          3425,
          2975,
          3450,
          4150,
          3500,
          4300,
          3450,
          4050,
          2900,
          3700,
          3550,
          3800,
          2850,
          3750,
          3150,
          4400,
          3600,
          4050,
          2850,
          3950,
          3350,
          4100,
          3050,
          4450,
          3600,
          3900,
          3550,
          4150,
          3700,
          4250,
          3700,
          3900,
          3550,
          4000,
          3200,
          4700,
          3800,
          4200,
          3350,
          3550,
          3800,
          3500,
          3950,
          3600,
          3550,
          4300,
          3400,
          4450,
          3300,
          4300,
          3700,
          4350,
          2900,
          4100,
          3725,
          4725,
          3075,
          4250,
          2925,
          3550,
          3750,
          3900,
          3175,
          4775,
          3825,
          4600,
          3200,
          4275,
          3900,
          4075,
          2900,
          3775,
          3350,
          3325,
          3150,
          3500,
          3450,
          3875,
          3050,
          4000,
          3275,
          4300,
          3050,
          4000,
          3325,
          3500,
          3500,
          4475,
          3425,
          3900,
          3175,
          3975,
          3400,
          4250,
          3400,
          3475,
          3050,
          3725,
          3000,
          3650,
          4250,
          3475,
          3450,
          3750,
          3700,
          4000
         ]
        },
        {
         "marker": {
          "color": [
           "teal",
           "teal",
           "teal",
           "teal",
           "teal",
           "teal",
           "teal",
           "teal",
           "teal",
           "teal",
           "teal",
           "teal",
           "teal",
           "teal",
           "teal",
           "teal",
           "teal",
           "teal",
           "teal",
           "teal",
           "teal",
           "teal",
           "teal",
           "teal",
           "teal",
           "teal",
           "teal",
           "teal",
           "teal",
           "teal",
           "teal",
           "teal",
           "teal",
           "teal",
           "teal",
           "teal",
           "teal",
           "teal",
           "teal",
           "teal",
           "teal",
           "teal",
           "teal",
           "teal",
           "teal",
           "teal",
           "teal",
           "teal",
           "teal",
           "teal",
           "teal",
           "teal",
           "teal",
           "teal",
           "teal",
           "teal",
           "teal",
           "teal",
           "teal",
           "teal",
           "teal",
           "teal",
           "teal",
           "teal",
           "teal",
           "teal",
           "teal",
           "teal",
           "teal",
           "teal",
           "teal",
           "teal",
           "teal",
           "teal",
           "teal",
           "teal",
           "teal",
           "teal",
           "teal",
           "teal",
           "teal",
           "teal",
           "teal",
           "teal",
           "teal",
           "teal",
           "teal",
           "teal",
           "teal",
           "teal",
           "teal",
           "teal",
           "teal",
           "teal",
           "teal",
           "teal",
           "teal",
           "teal",
           "teal",
           "teal",
           "teal",
           "teal",
           "teal",
           "teal",
           "teal",
           "teal",
           "teal",
           "teal",
           "teal",
           "teal",
           "teal",
           "teal",
           "teal",
           "teal",
           "teal",
           "teal",
           "teal",
           "teal",
           "teal",
           "teal",
           "teal",
           "teal",
           "teal",
           "teal"
          ],
          "line": {
           "color": "rgb(0,0,0)",
           "width": 0.5
          },
          "size": 10,
          "symbol": "square"
         },
         "mode": "markers",
         "name": "Gentoo penguin",
         "text": [
          "Gentoo penguin (Pygoscelis papua)",
          "Gentoo penguin (Pygoscelis papua)",
          "Gentoo penguin (Pygoscelis papua)",
          "Gentoo penguin (Pygoscelis papua)",
          "Gentoo penguin (Pygoscelis papua)",
          "Gentoo penguin (Pygoscelis papua)",
          "Gentoo penguin (Pygoscelis papua)",
          "Gentoo penguin (Pygoscelis papua)",
          "Gentoo penguin (Pygoscelis papua)",
          "Gentoo penguin (Pygoscelis papua)",
          "Gentoo penguin (Pygoscelis papua)",
          "Gentoo penguin (Pygoscelis papua)",
          "Gentoo penguin (Pygoscelis papua)",
          "Gentoo penguin (Pygoscelis papua)",
          "Gentoo penguin (Pygoscelis papua)",
          "Gentoo penguin (Pygoscelis papua)",
          "Gentoo penguin (Pygoscelis papua)",
          "Gentoo penguin (Pygoscelis papua)",
          "Gentoo penguin (Pygoscelis papua)",
          "Gentoo penguin (Pygoscelis papua)",
          "Gentoo penguin (Pygoscelis papua)",
          "Gentoo penguin (Pygoscelis papua)",
          "Gentoo penguin (Pygoscelis papua)",
          "Gentoo penguin (Pygoscelis papua)",
          "Gentoo penguin (Pygoscelis papua)",
          "Gentoo penguin (Pygoscelis papua)",
          "Gentoo penguin (Pygoscelis papua)",
          "Gentoo penguin (Pygoscelis papua)",
          "Gentoo penguin (Pygoscelis papua)",
          "Gentoo penguin (Pygoscelis papua)",
          "Gentoo penguin (Pygoscelis papua)",
          "Gentoo penguin (Pygoscelis papua)",
          "Gentoo penguin (Pygoscelis papua)",
          "Gentoo penguin (Pygoscelis papua)",
          "Gentoo penguin (Pygoscelis papua)",
          "Gentoo penguin (Pygoscelis papua)",
          "Gentoo penguin (Pygoscelis papua)",
          "Gentoo penguin (Pygoscelis papua)",
          "Gentoo penguin (Pygoscelis papua)",
          "Gentoo penguin (Pygoscelis papua)",
          "Gentoo penguin (Pygoscelis papua)",
          "Gentoo penguin (Pygoscelis papua)",
          "Gentoo penguin (Pygoscelis papua)",
          "Gentoo penguin (Pygoscelis papua)",
          "Gentoo penguin (Pygoscelis papua)",
          "Gentoo penguin (Pygoscelis papua)",
          "Gentoo penguin (Pygoscelis papua)",
          "Gentoo penguin (Pygoscelis papua)",
          "Gentoo penguin (Pygoscelis papua)",
          "Gentoo penguin (Pygoscelis papua)",
          "Gentoo penguin (Pygoscelis papua)",
          "Gentoo penguin (Pygoscelis papua)",
          "Gentoo penguin (Pygoscelis papua)",
          "Gentoo penguin (Pygoscelis papua)",
          "Gentoo penguin (Pygoscelis papua)",
          "Gentoo penguin (Pygoscelis papua)",
          "Gentoo penguin (Pygoscelis papua)",
          "Gentoo penguin (Pygoscelis papua)",
          "Gentoo penguin (Pygoscelis papua)",
          "Gentoo penguin (Pygoscelis papua)",
          "Gentoo penguin (Pygoscelis papua)",
          "Gentoo penguin (Pygoscelis papua)",
          "Gentoo penguin (Pygoscelis papua)",
          "Gentoo penguin (Pygoscelis papua)",
          "Gentoo penguin (Pygoscelis papua)",
          "Gentoo penguin (Pygoscelis papua)",
          "Gentoo penguin (Pygoscelis papua)",
          "Gentoo penguin (Pygoscelis papua)",
          "Gentoo penguin (Pygoscelis papua)",
          "Gentoo penguin (Pygoscelis papua)",
          "Gentoo penguin (Pygoscelis papua)",
          "Gentoo penguin (Pygoscelis papua)",
          "Gentoo penguin (Pygoscelis papua)",
          "Gentoo penguin (Pygoscelis papua)",
          "Gentoo penguin (Pygoscelis papua)",
          "Gentoo penguin (Pygoscelis papua)",
          "Gentoo penguin (Pygoscelis papua)",
          "Gentoo penguin (Pygoscelis papua)",
          "Gentoo penguin (Pygoscelis papua)",
          "Gentoo penguin (Pygoscelis papua)",
          "Gentoo penguin (Pygoscelis papua)",
          "Gentoo penguin (Pygoscelis papua)",
          "Gentoo penguin (Pygoscelis papua)",
          "Gentoo penguin (Pygoscelis papua)",
          "Gentoo penguin (Pygoscelis papua)",
          "Gentoo penguin (Pygoscelis papua)",
          "Gentoo penguin (Pygoscelis papua)",
          "Gentoo penguin (Pygoscelis papua)",
          "Gentoo penguin (Pygoscelis papua)",
          "Gentoo penguin (Pygoscelis papua)",
          "Gentoo penguin (Pygoscelis papua)",
          "Gentoo penguin (Pygoscelis papua)",
          "Gentoo penguin (Pygoscelis papua)",
          "Gentoo penguin (Pygoscelis papua)",
          "Gentoo penguin (Pygoscelis papua)",
          "Gentoo penguin (Pygoscelis papua)",
          "Gentoo penguin (Pygoscelis papua)",
          "Gentoo penguin (Pygoscelis papua)",
          "Gentoo penguin (Pygoscelis papua)",
          "Gentoo penguin (Pygoscelis papua)",
          "Gentoo penguin (Pygoscelis papua)",
          "Gentoo penguin (Pygoscelis papua)",
          "Gentoo penguin (Pygoscelis papua)",
          "Gentoo penguin (Pygoscelis papua)",
          "Gentoo penguin (Pygoscelis papua)",
          "Gentoo penguin (Pygoscelis papua)",
          "Gentoo penguin (Pygoscelis papua)",
          "Gentoo penguin (Pygoscelis papua)",
          "Gentoo penguin (Pygoscelis papua)",
          "Gentoo penguin (Pygoscelis papua)",
          "Gentoo penguin (Pygoscelis papua)",
          "Gentoo penguin (Pygoscelis papua)",
          "Gentoo penguin (Pygoscelis papua)",
          "Gentoo penguin (Pygoscelis papua)",
          "Gentoo penguin (Pygoscelis papua)",
          "Gentoo penguin (Pygoscelis papua)",
          "Gentoo penguin (Pygoscelis papua)",
          "Gentoo penguin (Pygoscelis papua)",
          "Gentoo penguin (Pygoscelis papua)",
          "Gentoo penguin (Pygoscelis papua)",
          "Gentoo penguin (Pygoscelis papua)",
          "Gentoo penguin (Pygoscelis papua)",
          "Gentoo penguin (Pygoscelis papua)",
          "Gentoo penguin (Pygoscelis papua)"
         ],
         "type": "scatter",
         "x": [
          46.1,
          50,
          48.7,
          50,
          47.6,
          46.5,
          45.4,
          46.7,
          43.3,
          46.8,
          40.9,
          49,
          45.5,
          48.4,
          45.8,
          49.3,
          42,
          49.2,
          46.2,
          48.7,
          50.2,
          45.1,
          46.5,
          46.3,
          42.9,
          46.1,
          44.5,
          47.8,
          48.2,
          50,
          47.3,
          42.8,
          45.1,
          59.6,
          49.1,
          48.4,
          42.6,
          44.4,
          44,
          48.7,
          42.7,
          49.6,
          45.3,
          49.6,
          50.5,
          43.6,
          45.5,
          50.5,
          44.9,
          45.2,
          46.6,
          48.5,
          45.1,
          50.1,
          46.5,
          45,
          43.8,
          45.5,
          43.2,
          50.4,
          45.3,
          46.2,
          45.7,
          54.3,
          45.8,
          49.8,
          46.2,
          49.5,
          43.5,
          50.7,
          47.7,
          46.4,
          48.2,
          46.5,
          46.4,
          48.6,
          47.5,
          51.1,
          45.2,
          45.2,
          49.1,
          52.5,
          47.4,
          50,
          44.9,
          50.8,
          43.4,
          51.3,
          47.5,
          52.1,
          47.5,
          52.2,
          45.5,
          49.5,
          44.5,
          50.8,
          49.4,
          46.9,
          48.4,
          51.1,
          48.5,
          55.9,
          47.2,
          49.1,
          47.3,
          46.8,
          41.7,
          53.4,
          43.3,
          48.1,
          50.5,
          49.8,
          43.5,
          51.5,
          46.2,
          55.1,
          44.5,
          48.8,
          47.2,
          41.1,
          46.8,
          50.4,
          45.2,
          49.9
         ],
         "y": [
          4500,
          5700,
          4450,
          5700,
          5400,
          4550,
          4800,
          5200,
          4400,
          5150,
          4650,
          5550,
          4650,
          5850,
          4200,
          5850,
          4150,
          6300,
          4800,
          5350,
          5700,
          5000,
          4400,
          5050,
          5000,
          5100,
          4100,
          5650,
          4600,
          5550,
          5250,
          4700,
          5050,
          6050,
          5150,
          5400,
          4950,
          5250,
          4350,
          5350,
          3950,
          5700,
          4300,
          4750,
          5550,
          4900,
          4200,
          5400,
          5100,
          5300,
          4850,
          5300,
          4400,
          5000,
          4900,
          5050,
          4300,
          5000,
          4450,
          5550,
          4200,
          5300,
          4400,
          5650,
          4700,
          5700,
          4650,
          5800,
          4700,
          5550,
          4750,
          5000,
          5100,
          5200,
          4700,
          5800,
          4600,
          6000,
          4750,
          5950,
          4625,
          5450,
          4725,
          5350,
          4750,
          5600,
          4600,
          5300,
          4875,
          5550,
          4950,
          5400,
          4750,
          5650,
          4850,
          5200,
          4925,
          4875,
          4625,
          5250,
          4850,
          5600,
          4975,
          5500,
          4725,
          5500,
          4700,
          5500,
          4575,
          5500,
          5000,
          5950,
          4650,
          5500,
          4375,
          5850,
          4875,
          6000,
          4925,
          3800,
          4850,
          5750,
          5200,
          5400
         ]
        },
        {
         "marker": {
          "color": [
           "mediumorchid",
           "mediumorchid",
           "mediumorchid",
           "mediumorchid",
           "mediumorchid",
           "mediumorchid",
           "mediumorchid",
           "mediumorchid",
           "mediumorchid",
           "mediumorchid",
           "mediumorchid",
           "mediumorchid",
           "mediumorchid",
           "mediumorchid",
           "mediumorchid",
           "mediumorchid",
           "mediumorchid",
           "mediumorchid",
           "mediumorchid",
           "mediumorchid",
           "mediumorchid",
           "mediumorchid",
           "mediumorchid",
           "mediumorchid",
           "mediumorchid",
           "mediumorchid",
           "mediumorchid",
           "mediumorchid",
           "mediumorchid",
           "mediumorchid",
           "mediumorchid",
           "mediumorchid",
           "mediumorchid",
           "mediumorchid",
           "mediumorchid",
           "mediumorchid",
           "mediumorchid",
           "mediumorchid",
           "mediumorchid",
           "mediumorchid",
           "mediumorchid",
           "mediumorchid",
           "mediumorchid",
           "mediumorchid",
           "mediumorchid",
           "mediumorchid",
           "mediumorchid",
           "mediumorchid",
           "mediumorchid",
           "mediumorchid",
           "mediumorchid",
           "mediumorchid",
           "mediumorchid",
           "mediumorchid",
           "mediumorchid",
           "mediumorchid",
           "mediumorchid",
           "mediumorchid",
           "mediumorchid",
           "mediumorchid",
           "mediumorchid",
           "mediumorchid",
           "mediumorchid",
           "mediumorchid",
           "mediumorchid",
           "mediumorchid",
           "mediumorchid",
           "mediumorchid"
          ],
          "line": {
           "color": "rgb(0,0,0)",
           "width": 0.5
          },
          "size": 12,
          "symbol": "triangle-up"
         },
         "mode": "markers",
         "name": "Chinstrap penguin",
         "text": [
          "Chinstrap penguin (Pygoscelis antarctica)",
          "Chinstrap penguin (Pygoscelis antarctica)",
          "Chinstrap penguin (Pygoscelis antarctica)",
          "Chinstrap penguin (Pygoscelis antarctica)",
          "Chinstrap penguin (Pygoscelis antarctica)",
          "Chinstrap penguin (Pygoscelis antarctica)",
          "Chinstrap penguin (Pygoscelis antarctica)",
          "Chinstrap penguin (Pygoscelis antarctica)",
          "Chinstrap penguin (Pygoscelis antarctica)",
          "Chinstrap penguin (Pygoscelis antarctica)",
          "Chinstrap penguin (Pygoscelis antarctica)",
          "Chinstrap penguin (Pygoscelis antarctica)",
          "Chinstrap penguin (Pygoscelis antarctica)",
          "Chinstrap penguin (Pygoscelis antarctica)",
          "Chinstrap penguin (Pygoscelis antarctica)",
          "Chinstrap penguin (Pygoscelis antarctica)",
          "Chinstrap penguin (Pygoscelis antarctica)",
          "Chinstrap penguin (Pygoscelis antarctica)",
          "Chinstrap penguin (Pygoscelis antarctica)",
          "Chinstrap penguin (Pygoscelis antarctica)",
          "Chinstrap penguin (Pygoscelis antarctica)",
          "Chinstrap penguin (Pygoscelis antarctica)",
          "Chinstrap penguin (Pygoscelis antarctica)",
          "Chinstrap penguin (Pygoscelis antarctica)",
          "Chinstrap penguin (Pygoscelis antarctica)",
          "Chinstrap penguin (Pygoscelis antarctica)",
          "Chinstrap penguin (Pygoscelis antarctica)",
          "Chinstrap penguin (Pygoscelis antarctica)",
          "Chinstrap penguin (Pygoscelis antarctica)",
          "Chinstrap penguin (Pygoscelis antarctica)",
          "Chinstrap penguin (Pygoscelis antarctica)",
          "Chinstrap penguin (Pygoscelis antarctica)",
          "Chinstrap penguin (Pygoscelis antarctica)",
          "Chinstrap penguin (Pygoscelis antarctica)",
          "Chinstrap penguin (Pygoscelis antarctica)",
          "Chinstrap penguin (Pygoscelis antarctica)",
          "Chinstrap penguin (Pygoscelis antarctica)",
          "Chinstrap penguin (Pygoscelis antarctica)",
          "Chinstrap penguin (Pygoscelis antarctica)",
          "Chinstrap penguin (Pygoscelis antarctica)",
          "Chinstrap penguin (Pygoscelis antarctica)",
          "Chinstrap penguin (Pygoscelis antarctica)",
          "Chinstrap penguin (Pygoscelis antarctica)",
          "Chinstrap penguin (Pygoscelis antarctica)",
          "Chinstrap penguin (Pygoscelis antarctica)",
          "Chinstrap penguin (Pygoscelis antarctica)",
          "Chinstrap penguin (Pygoscelis antarctica)",
          "Chinstrap penguin (Pygoscelis antarctica)",
          "Chinstrap penguin (Pygoscelis antarctica)",
          "Chinstrap penguin (Pygoscelis antarctica)",
          "Chinstrap penguin (Pygoscelis antarctica)",
          "Chinstrap penguin (Pygoscelis antarctica)",
          "Chinstrap penguin (Pygoscelis antarctica)",
          "Chinstrap penguin (Pygoscelis antarctica)",
          "Chinstrap penguin (Pygoscelis antarctica)",
          "Chinstrap penguin (Pygoscelis antarctica)",
          "Chinstrap penguin (Pygoscelis antarctica)",
          "Chinstrap penguin (Pygoscelis antarctica)",
          "Chinstrap penguin (Pygoscelis antarctica)",
          "Chinstrap penguin (Pygoscelis antarctica)",
          "Chinstrap penguin (Pygoscelis antarctica)",
          "Chinstrap penguin (Pygoscelis antarctica)",
          "Chinstrap penguin (Pygoscelis antarctica)",
          "Chinstrap penguin (Pygoscelis antarctica)",
          "Chinstrap penguin (Pygoscelis antarctica)",
          "Chinstrap penguin (Pygoscelis antarctica)",
          "Chinstrap penguin (Pygoscelis antarctica)",
          "Chinstrap penguin (Pygoscelis antarctica)"
         ],
         "type": "scatter",
         "x": [
          46.5,
          50,
          51.3,
          45.4,
          52.7,
          45.2,
          46.1,
          51.3,
          46,
          51.3,
          46.6,
          51.7,
          47,
          52,
          45.9,
          50.5,
          50.3,
          58,
          46.4,
          49.2,
          42.4,
          48.5,
          43.2,
          50.6,
          46.7,
          52,
          50.5,
          49.5,
          46.4,
          52.8,
          40.9,
          54.2,
          42.5,
          51,
          49.7,
          47.5,
          47.6,
          52,
          46.9,
          53.5,
          49,
          46.2,
          50.9,
          45.5,
          50.9,
          50.8,
          50.1,
          49,
          51.5,
          49.8,
          48.1,
          51.4,
          45.7,
          50.7,
          42.5,
          52.2,
          45.2,
          49.3,
          50.2,
          45.6,
          51.9,
          46.8,
          45.7,
          55.8,
          43.5,
          49.6,
          50.8,
          50.2
         ],
         "y": [
          3500,
          3900,
          3650,
          3525,
          3725,
          3950,
          3250,
          3750,
          4150,
          3700,
          3800,
          3775,
          3700,
          4050,
          3575,
          4050,
          3300,
          3700,
          3450,
          4400,
          3600,
          3400,
          2900,
          3800,
          3300,
          4150,
          3400,
          3800,
          3700,
          4550,
          3200,
          4300,
          3350,
          4100,
          3600,
          3900,
          3850,
          4800,
          2700,
          4500,
          3950,
          3650,
          3550,
          3500,
          3675,
          4450,
          3400,
          4300,
          3250,
          3675,
          3325,
          3950,
          3600,
          4050,
          3350,
          3450,
          3250,
          4050,
          3800,
          3525,
          3950,
          3650,
          3650,
          4000,
          3400,
          3775,
          4100,
          3775
         ]
        }
       ],
       "layout": {
        "paper_bgcolor": "rgba(0,0,0,0)",
        "plot_bgcolor": "rgba(0,0,0,0)",
        "showlegend": true,
        "template": {
         "data": {
          "bar": [
           {
            "error_x": {
             "color": "#2a3f5f"
            },
            "error_y": {
             "color": "#2a3f5f"
            },
            "marker": {
             "line": {
              "color": "#E5ECF6",
              "width": 0.5
             }
            },
            "type": "bar"
           }
          ],
          "barpolar": [
           {
            "marker": {
             "line": {
              "color": "#E5ECF6",
              "width": 0.5
             }
            },
            "type": "barpolar"
           }
          ],
          "carpet": [
           {
            "aaxis": {
             "endlinecolor": "#2a3f5f",
             "gridcolor": "white",
             "linecolor": "white",
             "minorgridcolor": "white",
             "startlinecolor": "#2a3f5f"
            },
            "baxis": {
             "endlinecolor": "#2a3f5f",
             "gridcolor": "white",
             "linecolor": "white",
             "minorgridcolor": "white",
             "startlinecolor": "#2a3f5f"
            },
            "type": "carpet"
           }
          ],
          "choropleth": [
           {
            "colorbar": {
             "outlinewidth": 0,
             "ticks": ""
            },
            "type": "choropleth"
           }
          ],
          "contour": [
           {
            "colorbar": {
             "outlinewidth": 0,
             "ticks": ""
            },
            "colorscale": [
             [
              0,
              "#0d0887"
             ],
             [
              0.1111111111111111,
              "#46039f"
             ],
             [
              0.2222222222222222,
              "#7201a8"
             ],
             [
              0.3333333333333333,
              "#9c179e"
             ],
             [
              0.4444444444444444,
              "#bd3786"
             ],
             [
              0.5555555555555556,
              "#d8576b"
             ],
             [
              0.6666666666666666,
              "#ed7953"
             ],
             [
              0.7777777777777778,
              "#fb9f3a"
             ],
             [
              0.8888888888888888,
              "#fdca26"
             ],
             [
              1,
              "#f0f921"
             ]
            ],
            "type": "contour"
           }
          ],
          "contourcarpet": [
           {
            "colorbar": {
             "outlinewidth": 0,
             "ticks": ""
            },
            "type": "contourcarpet"
           }
          ],
          "heatmap": [
           {
            "colorbar": {
             "outlinewidth": 0,
             "ticks": ""
            },
            "colorscale": [
             [
              0,
              "#0d0887"
             ],
             [
              0.1111111111111111,
              "#46039f"
             ],
             [
              0.2222222222222222,
              "#7201a8"
             ],
             [
              0.3333333333333333,
              "#9c179e"
             ],
             [
              0.4444444444444444,
              "#bd3786"
             ],
             [
              0.5555555555555556,
              "#d8576b"
             ],
             [
              0.6666666666666666,
              "#ed7953"
             ],
             [
              0.7777777777777778,
              "#fb9f3a"
             ],
             [
              0.8888888888888888,
              "#fdca26"
             ],
             [
              1,
              "#f0f921"
             ]
            ],
            "type": "heatmap"
           }
          ],
          "heatmapgl": [
           {
            "colorbar": {
             "outlinewidth": 0,
             "ticks": ""
            },
            "colorscale": [
             [
              0,
              "#0d0887"
             ],
             [
              0.1111111111111111,
              "#46039f"
             ],
             [
              0.2222222222222222,
              "#7201a8"
             ],
             [
              0.3333333333333333,
              "#9c179e"
             ],
             [
              0.4444444444444444,
              "#bd3786"
             ],
             [
              0.5555555555555556,
              "#d8576b"
             ],
             [
              0.6666666666666666,
              "#ed7953"
             ],
             [
              0.7777777777777778,
              "#fb9f3a"
             ],
             [
              0.8888888888888888,
              "#fdca26"
             ],
             [
              1,
              "#f0f921"
             ]
            ],
            "type": "heatmapgl"
           }
          ],
          "histogram": [
           {
            "marker": {
             "colorbar": {
              "outlinewidth": 0,
              "ticks": ""
             }
            },
            "type": "histogram"
           }
          ],
          "histogram2d": [
           {
            "colorbar": {
             "outlinewidth": 0,
             "ticks": ""
            },
            "colorscale": [
             [
              0,
              "#0d0887"
             ],
             [
              0.1111111111111111,
              "#46039f"
             ],
             [
              0.2222222222222222,
              "#7201a8"
             ],
             [
              0.3333333333333333,
              "#9c179e"
             ],
             [
              0.4444444444444444,
              "#bd3786"
             ],
             [
              0.5555555555555556,
              "#d8576b"
             ],
             [
              0.6666666666666666,
              "#ed7953"
             ],
             [
              0.7777777777777778,
              "#fb9f3a"
             ],
             [
              0.8888888888888888,
              "#fdca26"
             ],
             [
              1,
              "#f0f921"
             ]
            ],
            "type": "histogram2d"
           }
          ],
          "histogram2dcontour": [
           {
            "colorbar": {
             "outlinewidth": 0,
             "ticks": ""
            },
            "colorscale": [
             [
              0,
              "#0d0887"
             ],
             [
              0.1111111111111111,
              "#46039f"
             ],
             [
              0.2222222222222222,
              "#7201a8"
             ],
             [
              0.3333333333333333,
              "#9c179e"
             ],
             [
              0.4444444444444444,
              "#bd3786"
             ],
             [
              0.5555555555555556,
              "#d8576b"
             ],
             [
              0.6666666666666666,
              "#ed7953"
             ],
             [
              0.7777777777777778,
              "#fb9f3a"
             ],
             [
              0.8888888888888888,
              "#fdca26"
             ],
             [
              1,
              "#f0f921"
             ]
            ],
            "type": "histogram2dcontour"
           }
          ],
          "mesh3d": [
           {
            "colorbar": {
             "outlinewidth": 0,
             "ticks": ""
            },
            "type": "mesh3d"
           }
          ],
          "parcoords": [
           {
            "line": {
             "colorbar": {
              "outlinewidth": 0,
              "ticks": ""
             }
            },
            "type": "parcoords"
           }
          ],
          "pie": [
           {
            "automargin": true,
            "type": "pie"
           }
          ],
          "scatter": [
           {
            "marker": {
             "colorbar": {
              "outlinewidth": 0,
              "ticks": ""
             }
            },
            "type": "scatter"
           }
          ],
          "scatter3d": [
           {
            "line": {
             "colorbar": {
              "outlinewidth": 0,
              "ticks": ""
             }
            },
            "marker": {
             "colorbar": {
              "outlinewidth": 0,
              "ticks": ""
             }
            },
            "type": "scatter3d"
           }
          ],
          "scattercarpet": [
           {
            "marker": {
             "colorbar": {
              "outlinewidth": 0,
              "ticks": ""
             }
            },
            "type": "scattercarpet"
           }
          ],
          "scattergeo": [
           {
            "marker": {
             "colorbar": {
              "outlinewidth": 0,
              "ticks": ""
             }
            },
            "type": "scattergeo"
           }
          ],
          "scattergl": [
           {
            "marker": {
             "colorbar": {
              "outlinewidth": 0,
              "ticks": ""
             }
            },
            "type": "scattergl"
           }
          ],
          "scattermapbox": [
           {
            "marker": {
             "colorbar": {
              "outlinewidth": 0,
              "ticks": ""
             }
            },
            "type": "scattermapbox"
           }
          ],
          "scatterpolar": [
           {
            "marker": {
             "colorbar": {
              "outlinewidth": 0,
              "ticks": ""
             }
            },
            "type": "scatterpolar"
           }
          ],
          "scatterpolargl": [
           {
            "marker": {
             "colorbar": {
              "outlinewidth": 0,
              "ticks": ""
             }
            },
            "type": "scatterpolargl"
           }
          ],
          "scatterternary": [
           {
            "marker": {
             "colorbar": {
              "outlinewidth": 0,
              "ticks": ""
             }
            },
            "type": "scatterternary"
           }
          ],
          "surface": [
           {
            "colorbar": {
             "outlinewidth": 0,
             "ticks": ""
            },
            "colorscale": [
             [
              0,
              "#0d0887"
             ],
             [
              0.1111111111111111,
              "#46039f"
             ],
             [
              0.2222222222222222,
              "#7201a8"
             ],
             [
              0.3333333333333333,
              "#9c179e"
             ],
             [
              0.4444444444444444,
              "#bd3786"
             ],
             [
              0.5555555555555556,
              "#d8576b"
             ],
             [
              0.6666666666666666,
              "#ed7953"
             ],
             [
              0.7777777777777778,
              "#fb9f3a"
             ],
             [
              0.8888888888888888,
              "#fdca26"
             ],
             [
              1,
              "#f0f921"
             ]
            ],
            "type": "surface"
           }
          ],
          "table": [
           {
            "cells": {
             "fill": {
              "color": "#EBF0F8"
             },
             "line": {
              "color": "white"
             }
            },
            "header": {
             "fill": {
              "color": "#C8D4E3"
             },
             "line": {
              "color": "white"
             }
            },
            "type": "table"
           }
          ]
         },
         "layout": {
          "annotationdefaults": {
           "arrowcolor": "#2a3f5f",
           "arrowhead": 0,
           "arrowwidth": 1
          },
          "coloraxis": {
           "colorbar": {
            "outlinewidth": 0,
            "ticks": ""
           }
          },
          "colorscale": {
           "diverging": [
            [
             0,
             "#8e0152"
            ],
            [
             0.1,
             "#c51b7d"
            ],
            [
             0.2,
             "#de77ae"
            ],
            [
             0.3,
             "#f1b6da"
            ],
            [
             0.4,
             "#fde0ef"
            ],
            [
             0.5,
             "#f7f7f7"
            ],
            [
             0.6,
             "#e6f5d0"
            ],
            [
             0.7,
             "#b8e186"
            ],
            [
             0.8,
             "#7fbc41"
            ],
            [
             0.9,
             "#4d9221"
            ],
            [
             1,
             "#276419"
            ]
           ],
           "sequential": [
            [
             0,
             "#0d0887"
            ],
            [
             0.1111111111111111,
             "#46039f"
            ],
            [
             0.2222222222222222,
             "#7201a8"
            ],
            [
             0.3333333333333333,
             "#9c179e"
            ],
            [
             0.4444444444444444,
             "#bd3786"
            ],
            [
             0.5555555555555556,
             "#d8576b"
            ],
            [
             0.6666666666666666,
             "#ed7953"
            ],
            [
             0.7777777777777778,
             "#fb9f3a"
            ],
            [
             0.8888888888888888,
             "#fdca26"
            ],
            [
             1,
             "#f0f921"
            ]
           ],
           "sequentialminus": [
            [
             0,
             "#0d0887"
            ],
            [
             0.1111111111111111,
             "#46039f"
            ],
            [
             0.2222222222222222,
             "#7201a8"
            ],
            [
             0.3333333333333333,
             "#9c179e"
            ],
            [
             0.4444444444444444,
             "#bd3786"
            ],
            [
             0.5555555555555556,
             "#d8576b"
            ],
            [
             0.6666666666666666,
             "#ed7953"
            ],
            [
             0.7777777777777778,
             "#fb9f3a"
            ],
            [
             0.8888888888888888,
             "#fdca26"
            ],
            [
             1,
             "#f0f921"
            ]
           ]
          },
          "colorway": [
           "#636efa",
           "#EF553B",
           "#00cc96",
           "#ab63fa",
           "#FFA15A",
           "#19d3f3",
           "#FF6692",
           "#B6E880",
           "#FF97FF",
           "#FECB52"
          ],
          "font": {
           "color": "#2a3f5f"
          },
          "geo": {
           "bgcolor": "white",
           "lakecolor": "white",
           "landcolor": "#E5ECF6",
           "showlakes": true,
           "showland": true,
           "subunitcolor": "white"
          },
          "hoverlabel": {
           "align": "left"
          },
          "hovermode": "closest",
          "mapbox": {
           "style": "light"
          },
          "paper_bgcolor": "white",
          "plot_bgcolor": "#E5ECF6",
          "polar": {
           "angularaxis": {
            "gridcolor": "white",
            "linecolor": "white",
            "ticks": ""
           },
           "bgcolor": "#E5ECF6",
           "radialaxis": {
            "gridcolor": "white",
            "linecolor": "white",
            "ticks": ""
           }
          },
          "scene": {
           "xaxis": {
            "backgroundcolor": "#E5ECF6",
            "gridcolor": "white",
            "gridwidth": 2,
            "linecolor": "white",
            "showbackground": true,
            "ticks": "",
            "zerolinecolor": "white"
           },
           "yaxis": {
            "backgroundcolor": "#E5ECF6",
            "gridcolor": "white",
            "gridwidth": 2,
            "linecolor": "white",
            "showbackground": true,
            "ticks": "",
            "zerolinecolor": "white"
           },
           "zaxis": {
            "backgroundcolor": "#E5ECF6",
            "gridcolor": "white",
            "gridwidth": 2,
            "linecolor": "white",
            "showbackground": true,
            "ticks": "",
            "zerolinecolor": "white"
           }
          },
          "shapedefaults": {
           "line": {
            "color": "#2a3f5f"
           }
          },
          "ternary": {
           "aaxis": {
            "gridcolor": "white",
            "linecolor": "white",
            "ticks": ""
           },
           "baxis": {
            "gridcolor": "white",
            "linecolor": "white",
            "ticks": ""
           },
           "bgcolor": "#E5ECF6",
           "caxis": {
            "gridcolor": "white",
            "linecolor": "white",
            "ticks": ""
           }
          },
          "title": {
           "x": 0.05
          },
          "xaxis": {
           "automargin": true,
           "gridcolor": "white",
           "linecolor": "white",
           "ticks": "",
           "title": {
            "standoff": 15
           },
           "zerolinecolor": "white",
           "zerolinewidth": 2
          },
          "yaxis": {
           "automargin": true,
           "gridcolor": "white",
           "linecolor": "white",
           "ticks": "",
           "title": {
            "standoff": 15
           },
           "zerolinecolor": "white",
           "zerolinewidth": 2
          }
         }
        },
        "title": {
         "text": "<b>Culmen Length (mm) vs. Body Mass (g)</b>"
        },
        "xaxis": {
         "title": {
          "text": "Culmen Length (mm)"
         }
        },
        "yaxis": {
         "title": {
          "text": "Body Mass (g)"
         }
        }
       }
      },
      "text/html": [
       "<div>\n",
       "        \n",
       "        \n",
       "            <div id=\"2edc6ba9-8cad-4c8c-8100-84f407039418\" class=\"plotly-graph-div\" style=\"height:525px; width:100%;\"></div>\n",
       "            <script type=\"text/javascript\">\n",
       "                require([\"plotly\"], function(Plotly) {\n",
       "                    window.PLOTLYENV=window.PLOTLYENV || {};\n",
       "                    \n",
       "                if (document.getElementById(\"2edc6ba9-8cad-4c8c-8100-84f407039418\")) {\n",
       "                    Plotly.newPlot(\n",
       "                        '2edc6ba9-8cad-4c8c-8100-84f407039418',\n",
       "                        [{\"marker\": {\"color\": [\"darkorange\", \"darkorange\", \"darkorange\", \"darkorange\", \"darkorange\", \"darkorange\", \"darkorange\", \"darkorange\", \"darkorange\", \"darkorange\", \"darkorange\", \"darkorange\", \"darkorange\", \"darkorange\", \"darkorange\", \"darkorange\", \"darkorange\", \"darkorange\", \"darkorange\", \"darkorange\", \"darkorange\", \"darkorange\", \"darkorange\", \"darkorange\", \"darkorange\", \"darkorange\", \"darkorange\", \"darkorange\", \"darkorange\", \"darkorange\", \"darkorange\", \"darkorange\", \"darkorange\", \"darkorange\", \"darkorange\", \"darkorange\", \"darkorange\", \"darkorange\", \"darkorange\", \"darkorange\", \"darkorange\", \"darkorange\", \"darkorange\", \"darkorange\", \"darkorange\", \"darkorange\", \"darkorange\", \"darkorange\", \"darkorange\", \"darkorange\", \"darkorange\", \"darkorange\", \"darkorange\", \"darkorange\", \"darkorange\", \"darkorange\", \"darkorange\", \"darkorange\", \"darkorange\", \"darkorange\", \"darkorange\", \"darkorange\", \"darkorange\", \"darkorange\", \"darkorange\", \"darkorange\", \"darkorange\", \"darkorange\", \"darkorange\", \"darkorange\", \"darkorange\", \"darkorange\", \"darkorange\", \"darkorange\", \"darkorange\", \"darkorange\", \"darkorange\", \"darkorange\", \"darkorange\", \"darkorange\", \"darkorange\", \"darkorange\", \"darkorange\", \"darkorange\", \"darkorange\", \"darkorange\", \"darkorange\", \"darkorange\", \"darkorange\", \"darkorange\", \"darkorange\", \"darkorange\", \"darkorange\", \"darkorange\", \"darkorange\", \"darkorange\", \"darkorange\", \"darkorange\", \"darkorange\", \"darkorange\", \"darkorange\", \"darkorange\", \"darkorange\", \"darkorange\", \"darkorange\", \"darkorange\", \"darkorange\", \"darkorange\", \"darkorange\", \"darkorange\", \"darkorange\", \"darkorange\", \"darkorange\", \"darkorange\", \"darkorange\", \"darkorange\", \"darkorange\", \"darkorange\", \"darkorange\", \"darkorange\", \"darkorange\", \"darkorange\", \"darkorange\", \"darkorange\", \"darkorange\", \"darkorange\", \"darkorange\", \"darkorange\", \"darkorange\", \"darkorange\", \"darkorange\", \"darkorange\", \"darkorange\", \"darkorange\", \"darkorange\", \"darkorange\", \"darkorange\", \"darkorange\", \"darkorange\", \"darkorange\", \"darkorange\", \"darkorange\", \"darkorange\", \"darkorange\", \"darkorange\", \"darkorange\", \"darkorange\", \"darkorange\", \"darkorange\", \"darkorange\", \"darkorange\", \"darkorange\"], \"line\": {\"color\": \"rgb(0,0,0)\", \"width\": 0.5}, \"size\": 10, \"symbol\": \"circle\"}, \"mode\": \"markers\", \"name\": \"Adelie Penguin\", \"text\": [\"Adelie Penguin (Pygoscelis adeliae)\", \"Adelie Penguin (Pygoscelis adeliae)\", \"Adelie Penguin (Pygoscelis adeliae)\", \"Adelie Penguin (Pygoscelis adeliae)\", \"Adelie Penguin (Pygoscelis adeliae)\", \"Adelie Penguin (Pygoscelis adeliae)\", \"Adelie Penguin (Pygoscelis adeliae)\", \"Adelie Penguin (Pygoscelis adeliae)\", \"Adelie Penguin (Pygoscelis adeliae)\", \"Adelie Penguin (Pygoscelis adeliae)\", \"Adelie Penguin (Pygoscelis adeliae)\", \"Adelie Penguin (Pygoscelis adeliae)\", \"Adelie Penguin (Pygoscelis adeliae)\", \"Adelie Penguin (Pygoscelis adeliae)\", \"Adelie Penguin (Pygoscelis adeliae)\", \"Adelie Penguin (Pygoscelis adeliae)\", \"Adelie Penguin (Pygoscelis adeliae)\", \"Adelie Penguin (Pygoscelis adeliae)\", \"Adelie Penguin (Pygoscelis adeliae)\", \"Adelie Penguin (Pygoscelis adeliae)\", \"Adelie Penguin (Pygoscelis adeliae)\", \"Adelie Penguin (Pygoscelis adeliae)\", \"Adelie Penguin (Pygoscelis adeliae)\", \"Adelie Penguin (Pygoscelis adeliae)\", \"Adelie Penguin (Pygoscelis adeliae)\", \"Adelie Penguin (Pygoscelis adeliae)\", \"Adelie Penguin (Pygoscelis adeliae)\", \"Adelie Penguin (Pygoscelis adeliae)\", \"Adelie Penguin (Pygoscelis adeliae)\", \"Adelie Penguin (Pygoscelis adeliae)\", \"Adelie Penguin (Pygoscelis adeliae)\", \"Adelie Penguin (Pygoscelis adeliae)\", \"Adelie Penguin (Pygoscelis adeliae)\", \"Adelie Penguin (Pygoscelis adeliae)\", \"Adelie Penguin (Pygoscelis adeliae)\", \"Adelie Penguin (Pygoscelis adeliae)\", \"Adelie Penguin (Pygoscelis adeliae)\", \"Adelie Penguin (Pygoscelis adeliae)\", \"Adelie Penguin (Pygoscelis adeliae)\", \"Adelie Penguin (Pygoscelis adeliae)\", \"Adelie Penguin (Pygoscelis adeliae)\", \"Adelie Penguin (Pygoscelis adeliae)\", \"Adelie Penguin (Pygoscelis adeliae)\", \"Adelie Penguin (Pygoscelis adeliae)\", \"Adelie Penguin (Pygoscelis adeliae)\", \"Adelie Penguin (Pygoscelis adeliae)\", \"Adelie Penguin (Pygoscelis adeliae)\", \"Adelie Penguin (Pygoscelis adeliae)\", \"Adelie Penguin (Pygoscelis adeliae)\", \"Adelie Penguin (Pygoscelis adeliae)\", \"Adelie Penguin (Pygoscelis adeliae)\", \"Adelie Penguin (Pygoscelis adeliae)\", \"Adelie Penguin (Pygoscelis adeliae)\", \"Adelie Penguin (Pygoscelis adeliae)\", \"Adelie Penguin (Pygoscelis adeliae)\", \"Adelie Penguin (Pygoscelis adeliae)\", \"Adelie Penguin (Pygoscelis adeliae)\", \"Adelie Penguin (Pygoscelis adeliae)\", \"Adelie Penguin (Pygoscelis adeliae)\", \"Adelie Penguin (Pygoscelis adeliae)\", \"Adelie Penguin (Pygoscelis adeliae)\", \"Adelie Penguin (Pygoscelis adeliae)\", \"Adelie Penguin (Pygoscelis adeliae)\", \"Adelie Penguin (Pygoscelis adeliae)\", \"Adelie Penguin (Pygoscelis adeliae)\", \"Adelie Penguin (Pygoscelis adeliae)\", \"Adelie Penguin (Pygoscelis adeliae)\", \"Adelie Penguin (Pygoscelis adeliae)\", \"Adelie Penguin (Pygoscelis adeliae)\", \"Adelie Penguin (Pygoscelis adeliae)\", \"Adelie Penguin (Pygoscelis adeliae)\", \"Adelie Penguin (Pygoscelis adeliae)\", \"Adelie Penguin (Pygoscelis adeliae)\", \"Adelie Penguin (Pygoscelis adeliae)\", \"Adelie Penguin (Pygoscelis adeliae)\", \"Adelie Penguin (Pygoscelis adeliae)\", \"Adelie Penguin (Pygoscelis adeliae)\", \"Adelie Penguin (Pygoscelis adeliae)\", \"Adelie Penguin (Pygoscelis adeliae)\", \"Adelie Penguin (Pygoscelis adeliae)\", \"Adelie Penguin (Pygoscelis adeliae)\", \"Adelie Penguin (Pygoscelis adeliae)\", \"Adelie Penguin (Pygoscelis adeliae)\", \"Adelie Penguin (Pygoscelis adeliae)\", \"Adelie Penguin (Pygoscelis adeliae)\", \"Adelie Penguin (Pygoscelis adeliae)\", \"Adelie Penguin (Pygoscelis adeliae)\", \"Adelie Penguin (Pygoscelis adeliae)\", \"Adelie Penguin (Pygoscelis adeliae)\", \"Adelie Penguin (Pygoscelis adeliae)\", \"Adelie Penguin (Pygoscelis adeliae)\", \"Adelie Penguin (Pygoscelis adeliae)\", \"Adelie Penguin (Pygoscelis adeliae)\", \"Adelie Penguin (Pygoscelis adeliae)\", \"Adelie Penguin (Pygoscelis adeliae)\", \"Adelie Penguin (Pygoscelis adeliae)\", \"Adelie Penguin (Pygoscelis adeliae)\", \"Adelie Penguin (Pygoscelis adeliae)\", \"Adelie Penguin (Pygoscelis adeliae)\", \"Adelie Penguin (Pygoscelis adeliae)\", \"Adelie Penguin (Pygoscelis adeliae)\", \"Adelie Penguin (Pygoscelis adeliae)\", \"Adelie Penguin (Pygoscelis adeliae)\", \"Adelie Penguin (Pygoscelis adeliae)\", \"Adelie Penguin (Pygoscelis adeliae)\", \"Adelie Penguin (Pygoscelis adeliae)\", \"Adelie Penguin (Pygoscelis adeliae)\", \"Adelie Penguin (Pygoscelis adeliae)\", \"Adelie Penguin (Pygoscelis adeliae)\", \"Adelie Penguin (Pygoscelis adeliae)\", \"Adelie Penguin (Pygoscelis adeliae)\", \"Adelie Penguin (Pygoscelis adeliae)\", \"Adelie Penguin (Pygoscelis adeliae)\", \"Adelie Penguin (Pygoscelis adeliae)\", \"Adelie Penguin (Pygoscelis adeliae)\", \"Adelie Penguin (Pygoscelis adeliae)\", \"Adelie Penguin (Pygoscelis adeliae)\", \"Adelie Penguin (Pygoscelis adeliae)\", \"Adelie Penguin (Pygoscelis adeliae)\", \"Adelie Penguin (Pygoscelis adeliae)\", \"Adelie Penguin (Pygoscelis adeliae)\", \"Adelie Penguin (Pygoscelis adeliae)\", \"Adelie Penguin (Pygoscelis adeliae)\", \"Adelie Penguin (Pygoscelis adeliae)\", \"Adelie Penguin (Pygoscelis adeliae)\", \"Adelie Penguin (Pygoscelis adeliae)\", \"Adelie Penguin (Pygoscelis adeliae)\", \"Adelie Penguin (Pygoscelis adeliae)\", \"Adelie Penguin (Pygoscelis adeliae)\", \"Adelie Penguin (Pygoscelis adeliae)\", \"Adelie Penguin (Pygoscelis adeliae)\", \"Adelie Penguin (Pygoscelis adeliae)\", \"Adelie Penguin (Pygoscelis adeliae)\", \"Adelie Penguin (Pygoscelis adeliae)\", \"Adelie Penguin (Pygoscelis adeliae)\", \"Adelie Penguin (Pygoscelis adeliae)\", \"Adelie Penguin (Pygoscelis adeliae)\", \"Adelie Penguin (Pygoscelis adeliae)\", \"Adelie Penguin (Pygoscelis adeliae)\", \"Adelie Penguin (Pygoscelis adeliae)\", \"Adelie Penguin (Pygoscelis adeliae)\", \"Adelie Penguin (Pygoscelis adeliae)\", \"Adelie Penguin (Pygoscelis adeliae)\", \"Adelie Penguin (Pygoscelis adeliae)\", \"Adelie Penguin (Pygoscelis adeliae)\", \"Adelie Penguin (Pygoscelis adeliae)\", \"Adelie Penguin (Pygoscelis adeliae)\", \"Adelie Penguin (Pygoscelis adeliae)\", \"Adelie Penguin (Pygoscelis adeliae)\", \"Adelie Penguin (Pygoscelis adeliae)\", \"Adelie Penguin (Pygoscelis adeliae)\", \"Adelie Penguin (Pygoscelis adeliae)\"], \"type\": \"scatter\", \"x\": [39.1, 39.5, 40.3, 41.1, 36.7, 39.3, 38.9, 39.2, 34.1, 42.0, 37.8, 37.8, 41.1, 38.6, 34.6, 36.6, 38.7, 42.5, 34.4, 46.0, 37.8, 37.7, 35.9, 38.2, 38.8, 35.3, 40.6, 40.5, 37.9, 40.5, 39.5, 37.2, 39.5, 40.9, 36.4, 39.2, 38.8, 42.2, 37.6, 39.8, 36.5, 40.8, 36.0, 44.1, 37.0, 39.6, 41.1, 37.5, 36.0, 42.3, 39.6, 40.1, 35.0, 42.0, 34.5, 41.4, 39.0, 40.6, 36.5, 37.6, 35.7, 41.3, 37.6, 41.1, 36.4, 41.6, 35.5, 41.1, 35.9, 41.8, 33.5, 39.7, 39.6, 45.8, 35.5, 42.8, 40.9, 37.2, 36.2, 42.1, 34.6, 42.9, 36.7, 35.1, 37.3, 41.3, 36.3, 36.9, 38.3, 38.9, 35.7, 41.1, 34.0, 39.6, 36.2, 40.8, 38.1, 40.3, 33.1, 43.2, 35.0, 41.0, 37.7, 37.8, 37.9, 39.7, 38.6, 38.2, 38.1, 43.2, 38.1, 45.6, 39.7, 42.2, 39.6, 42.7, 38.6, 37.3, 35.7, 41.1, 36.2, 37.7, 40.2, 41.4, 35.2, 40.6, 38.8, 41.5, 39.0, 44.1, 38.5, 43.1, 36.8, 37.5, 38.1, 41.1, 35.6, 40.2, 37.0, 39.7, 40.2, 40.6, 32.1, 40.7, 37.3, 39.0, 39.2, 36.6, 36.0, 37.8, 36.0, 41.5], \"y\": [3750.0, 3800.0, 3250.0, 3800.0, 3450.0, 3650.0, 3625.0, 4675.0, 3475.0, 4250.0, 3300.0, 3700.0, 3200.0, 3800.0, 4400.0, 3700.0, 3450.0, 4500.0, 3325.0, 4200.0, 3400.0, 3600.0, 3800.0, 3950.0, 3800.0, 3800.0, 3550.0, 3200.0, 3150.0, 3950.0, 3250.0, 3900.0, 3300.0, 3900.0, 3325.0, 4150.0, 3950.0, 3550.0, 3300.0, 4650.0, 3150.0, 3900.0, 3100.0, 4400.0, 3000.0, 4600.0, 3425.0, 2975.0, 3450.0, 4150.0, 3500.0, 4300.0, 3450.0, 4050.0, 2900.0, 3700.0, 3550.0, 3800.0, 2850.0, 3750.0, 3150.0, 4400.0, 3600.0, 4050.0, 2850.0, 3950.0, 3350.0, 4100.0, 3050.0, 4450.0, 3600.0, 3900.0, 3550.0, 4150.0, 3700.0, 4250.0, 3700.0, 3900.0, 3550.0, 4000.0, 3200.0, 4700.0, 3800.0, 4200.0, 3350.0, 3550.0, 3800.0, 3500.0, 3950.0, 3600.0, 3550.0, 4300.0, 3400.0, 4450.0, 3300.0, 4300.0, 3700.0, 4350.0, 2900.0, 4100.0, 3725.0, 4725.0, 3075.0, 4250.0, 2925.0, 3550.0, 3750.0, 3900.0, 3175.0, 4775.0, 3825.0, 4600.0, 3200.0, 4275.0, 3900.0, 4075.0, 2900.0, 3775.0, 3350.0, 3325.0, 3150.0, 3500.0, 3450.0, 3875.0, 3050.0, 4000.0, 3275.0, 4300.0, 3050.0, 4000.0, 3325.0, 3500.0, 3500.0, 4475.0, 3425.0, 3900.0, 3175.0, 3975.0, 3400.0, 4250.0, 3400.0, 3475.0, 3050.0, 3725.0, 3000.0, 3650.0, 4250.0, 3475.0, 3450.0, 3750.0, 3700.0, 4000.0]}, {\"marker\": {\"color\": [\"teal\", \"teal\", \"teal\", \"teal\", \"teal\", \"teal\", \"teal\", \"teal\", \"teal\", \"teal\", \"teal\", \"teal\", \"teal\", \"teal\", \"teal\", \"teal\", \"teal\", \"teal\", \"teal\", \"teal\", \"teal\", \"teal\", \"teal\", \"teal\", \"teal\", \"teal\", \"teal\", \"teal\", \"teal\", \"teal\", \"teal\", \"teal\", \"teal\", \"teal\", \"teal\", \"teal\", \"teal\", \"teal\", \"teal\", \"teal\", \"teal\", \"teal\", \"teal\", \"teal\", \"teal\", \"teal\", \"teal\", \"teal\", \"teal\", \"teal\", \"teal\", \"teal\", \"teal\", \"teal\", \"teal\", \"teal\", \"teal\", \"teal\", \"teal\", \"teal\", \"teal\", \"teal\", \"teal\", \"teal\", \"teal\", \"teal\", \"teal\", \"teal\", \"teal\", \"teal\", \"teal\", \"teal\", \"teal\", \"teal\", \"teal\", \"teal\", \"teal\", \"teal\", \"teal\", \"teal\", \"teal\", \"teal\", \"teal\", \"teal\", \"teal\", \"teal\", \"teal\", \"teal\", \"teal\", \"teal\", \"teal\", \"teal\", \"teal\", \"teal\", \"teal\", \"teal\", \"teal\", \"teal\", \"teal\", \"teal\", \"teal\", \"teal\", \"teal\", \"teal\", \"teal\", \"teal\", \"teal\", \"teal\", \"teal\", \"teal\", \"teal\", \"teal\", \"teal\", \"teal\", \"teal\", \"teal\", \"teal\", \"teal\", \"teal\", \"teal\", \"teal\", \"teal\", \"teal\", \"teal\"], \"line\": {\"color\": \"rgb(0,0,0)\", \"width\": 0.5}, \"size\": 10, \"symbol\": \"square\"}, \"mode\": \"markers\", \"name\": \"Gentoo penguin\", \"text\": [\"Gentoo penguin (Pygoscelis papua)\", \"Gentoo penguin (Pygoscelis papua)\", \"Gentoo penguin (Pygoscelis papua)\", \"Gentoo penguin (Pygoscelis papua)\", \"Gentoo penguin (Pygoscelis papua)\", \"Gentoo penguin (Pygoscelis papua)\", \"Gentoo penguin (Pygoscelis papua)\", \"Gentoo penguin (Pygoscelis papua)\", \"Gentoo penguin (Pygoscelis papua)\", \"Gentoo penguin (Pygoscelis papua)\", \"Gentoo penguin (Pygoscelis papua)\", \"Gentoo penguin (Pygoscelis papua)\", \"Gentoo penguin (Pygoscelis papua)\", \"Gentoo penguin (Pygoscelis papua)\", \"Gentoo penguin (Pygoscelis papua)\", \"Gentoo penguin (Pygoscelis papua)\", \"Gentoo penguin (Pygoscelis papua)\", \"Gentoo penguin (Pygoscelis papua)\", \"Gentoo penguin (Pygoscelis papua)\", \"Gentoo penguin (Pygoscelis papua)\", \"Gentoo penguin (Pygoscelis papua)\", \"Gentoo penguin (Pygoscelis papua)\", \"Gentoo penguin (Pygoscelis papua)\", \"Gentoo penguin (Pygoscelis papua)\", \"Gentoo penguin (Pygoscelis papua)\", \"Gentoo penguin (Pygoscelis papua)\", \"Gentoo penguin (Pygoscelis papua)\", \"Gentoo penguin (Pygoscelis papua)\", \"Gentoo penguin (Pygoscelis papua)\", \"Gentoo penguin (Pygoscelis papua)\", \"Gentoo penguin (Pygoscelis papua)\", \"Gentoo penguin (Pygoscelis papua)\", \"Gentoo penguin (Pygoscelis papua)\", \"Gentoo penguin (Pygoscelis papua)\", \"Gentoo penguin (Pygoscelis papua)\", \"Gentoo penguin (Pygoscelis papua)\", \"Gentoo penguin (Pygoscelis papua)\", \"Gentoo penguin (Pygoscelis papua)\", \"Gentoo penguin (Pygoscelis papua)\", \"Gentoo penguin (Pygoscelis papua)\", \"Gentoo penguin (Pygoscelis papua)\", \"Gentoo penguin (Pygoscelis papua)\", \"Gentoo penguin (Pygoscelis papua)\", \"Gentoo penguin (Pygoscelis papua)\", \"Gentoo penguin (Pygoscelis papua)\", \"Gentoo penguin (Pygoscelis papua)\", \"Gentoo penguin (Pygoscelis papua)\", \"Gentoo penguin (Pygoscelis papua)\", \"Gentoo penguin (Pygoscelis papua)\", \"Gentoo penguin (Pygoscelis papua)\", \"Gentoo penguin (Pygoscelis papua)\", \"Gentoo penguin (Pygoscelis papua)\", \"Gentoo penguin (Pygoscelis papua)\", \"Gentoo penguin (Pygoscelis papua)\", \"Gentoo penguin (Pygoscelis papua)\", \"Gentoo penguin (Pygoscelis papua)\", \"Gentoo penguin (Pygoscelis papua)\", \"Gentoo penguin (Pygoscelis papua)\", \"Gentoo penguin (Pygoscelis papua)\", \"Gentoo penguin (Pygoscelis papua)\", \"Gentoo penguin (Pygoscelis papua)\", \"Gentoo penguin (Pygoscelis papua)\", \"Gentoo penguin (Pygoscelis papua)\", \"Gentoo penguin (Pygoscelis papua)\", \"Gentoo penguin (Pygoscelis papua)\", \"Gentoo penguin (Pygoscelis papua)\", \"Gentoo penguin (Pygoscelis papua)\", \"Gentoo penguin (Pygoscelis papua)\", \"Gentoo penguin (Pygoscelis papua)\", \"Gentoo penguin (Pygoscelis papua)\", \"Gentoo penguin (Pygoscelis papua)\", \"Gentoo penguin (Pygoscelis papua)\", \"Gentoo penguin (Pygoscelis papua)\", \"Gentoo penguin (Pygoscelis papua)\", \"Gentoo penguin (Pygoscelis papua)\", \"Gentoo penguin (Pygoscelis papua)\", \"Gentoo penguin (Pygoscelis papua)\", \"Gentoo penguin (Pygoscelis papua)\", \"Gentoo penguin (Pygoscelis papua)\", \"Gentoo penguin (Pygoscelis papua)\", \"Gentoo penguin (Pygoscelis papua)\", \"Gentoo penguin (Pygoscelis papua)\", \"Gentoo penguin (Pygoscelis papua)\", \"Gentoo penguin (Pygoscelis papua)\", \"Gentoo penguin (Pygoscelis papua)\", \"Gentoo penguin (Pygoscelis papua)\", \"Gentoo penguin (Pygoscelis papua)\", \"Gentoo penguin (Pygoscelis papua)\", \"Gentoo penguin (Pygoscelis papua)\", \"Gentoo penguin (Pygoscelis papua)\", \"Gentoo penguin (Pygoscelis papua)\", \"Gentoo penguin (Pygoscelis papua)\", \"Gentoo penguin (Pygoscelis papua)\", \"Gentoo penguin (Pygoscelis papua)\", \"Gentoo penguin (Pygoscelis papua)\", \"Gentoo penguin (Pygoscelis papua)\", \"Gentoo penguin (Pygoscelis papua)\", \"Gentoo penguin (Pygoscelis papua)\", \"Gentoo penguin (Pygoscelis papua)\", \"Gentoo penguin (Pygoscelis papua)\", \"Gentoo penguin (Pygoscelis papua)\", \"Gentoo penguin (Pygoscelis papua)\", \"Gentoo penguin (Pygoscelis papua)\", \"Gentoo penguin (Pygoscelis papua)\", \"Gentoo penguin (Pygoscelis papua)\", \"Gentoo penguin (Pygoscelis papua)\", \"Gentoo penguin (Pygoscelis papua)\", \"Gentoo penguin (Pygoscelis papua)\", \"Gentoo penguin (Pygoscelis papua)\", \"Gentoo penguin (Pygoscelis papua)\", \"Gentoo penguin (Pygoscelis papua)\", \"Gentoo penguin (Pygoscelis papua)\", \"Gentoo penguin (Pygoscelis papua)\", \"Gentoo penguin (Pygoscelis papua)\", \"Gentoo penguin (Pygoscelis papua)\", \"Gentoo penguin (Pygoscelis papua)\", \"Gentoo penguin (Pygoscelis papua)\", \"Gentoo penguin (Pygoscelis papua)\", \"Gentoo penguin (Pygoscelis papua)\", \"Gentoo penguin (Pygoscelis papua)\", \"Gentoo penguin (Pygoscelis papua)\", \"Gentoo penguin (Pygoscelis papua)\", \"Gentoo penguin (Pygoscelis papua)\", \"Gentoo penguin (Pygoscelis papua)\"], \"type\": \"scatter\", \"x\": [46.1, 50.0, 48.7, 50.0, 47.6, 46.5, 45.4, 46.7, 43.3, 46.8, 40.9, 49.0, 45.5, 48.4, 45.8, 49.3, 42.0, 49.2, 46.2, 48.7, 50.2, 45.1, 46.5, 46.3, 42.9, 46.1, 44.5, 47.8, 48.2, 50.0, 47.3, 42.8, 45.1, 59.6, 49.1, 48.4, 42.6, 44.4, 44.0, 48.7, 42.7, 49.6, 45.3, 49.6, 50.5, 43.6, 45.5, 50.5, 44.9, 45.2, 46.6, 48.5, 45.1, 50.1, 46.5, 45.0, 43.8, 45.5, 43.2, 50.4, 45.3, 46.2, 45.7, 54.3, 45.8, 49.8, 46.2, 49.5, 43.5, 50.7, 47.7, 46.4, 48.2, 46.5, 46.4, 48.6, 47.5, 51.1, 45.2, 45.2, 49.1, 52.5, 47.4, 50.0, 44.9, 50.8, 43.4, 51.3, 47.5, 52.1, 47.5, 52.2, 45.5, 49.5, 44.5, 50.8, 49.4, 46.9, 48.4, 51.1, 48.5, 55.9, 47.2, 49.1, 47.3, 46.8, 41.7, 53.4, 43.3, 48.1, 50.5, 49.8, 43.5, 51.5, 46.2, 55.1, 44.5, 48.8, 47.2, 41.1, 46.8, 50.4, 45.2, 49.9], \"y\": [4500.0, 5700.0, 4450.0, 5700.0, 5400.0, 4550.0, 4800.0, 5200.0, 4400.0, 5150.0, 4650.0, 5550.0, 4650.0, 5850.0, 4200.0, 5850.0, 4150.0, 6300.0, 4800.0, 5350.0, 5700.0, 5000.0, 4400.0, 5050.0, 5000.0, 5100.0, 4100.0, 5650.0, 4600.0, 5550.0, 5250.0, 4700.0, 5050.0, 6050.0, 5150.0, 5400.0, 4950.0, 5250.0, 4350.0, 5350.0, 3950.0, 5700.0, 4300.0, 4750.0, 5550.0, 4900.0, 4200.0, 5400.0, 5100.0, 5300.0, 4850.0, 5300.0, 4400.0, 5000.0, 4900.0, 5050.0, 4300.0, 5000.0, 4450.0, 5550.0, 4200.0, 5300.0, 4400.0, 5650.0, 4700.0, 5700.0, 4650.0, 5800.0, 4700.0, 5550.0, 4750.0, 5000.0, 5100.0, 5200.0, 4700.0, 5800.0, 4600.0, 6000.0, 4750.0, 5950.0, 4625.0, 5450.0, 4725.0, 5350.0, 4750.0, 5600.0, 4600.0, 5300.0, 4875.0, 5550.0, 4950.0, 5400.0, 4750.0, 5650.0, 4850.0, 5200.0, 4925.0, 4875.0, 4625.0, 5250.0, 4850.0, 5600.0, 4975.0, 5500.0, 4725.0, 5500.0, 4700.0, 5500.0, 4575.0, 5500.0, 5000.0, 5950.0, 4650.0, 5500.0, 4375.0, 5850.0, 4875.0, 6000.0, 4925.0, 3800.0, 4850.0, 5750.0, 5200.0, 5400.0]}, {\"marker\": {\"color\": [\"mediumorchid\", \"mediumorchid\", \"mediumorchid\", \"mediumorchid\", \"mediumorchid\", \"mediumorchid\", \"mediumorchid\", \"mediumorchid\", \"mediumorchid\", \"mediumorchid\", \"mediumorchid\", \"mediumorchid\", \"mediumorchid\", \"mediumorchid\", \"mediumorchid\", \"mediumorchid\", \"mediumorchid\", \"mediumorchid\", \"mediumorchid\", \"mediumorchid\", \"mediumorchid\", \"mediumorchid\", \"mediumorchid\", \"mediumorchid\", \"mediumorchid\", \"mediumorchid\", \"mediumorchid\", \"mediumorchid\", \"mediumorchid\", \"mediumorchid\", \"mediumorchid\", \"mediumorchid\", \"mediumorchid\", \"mediumorchid\", \"mediumorchid\", \"mediumorchid\", \"mediumorchid\", \"mediumorchid\", \"mediumorchid\", \"mediumorchid\", \"mediumorchid\", \"mediumorchid\", \"mediumorchid\", \"mediumorchid\", \"mediumorchid\", \"mediumorchid\", \"mediumorchid\", \"mediumorchid\", \"mediumorchid\", \"mediumorchid\", \"mediumorchid\", \"mediumorchid\", \"mediumorchid\", \"mediumorchid\", \"mediumorchid\", \"mediumorchid\", \"mediumorchid\", \"mediumorchid\", \"mediumorchid\", \"mediumorchid\", \"mediumorchid\", \"mediumorchid\", \"mediumorchid\", \"mediumorchid\", \"mediumorchid\", \"mediumorchid\", \"mediumorchid\", \"mediumorchid\"], \"line\": {\"color\": \"rgb(0,0,0)\", \"width\": 0.5}, \"size\": 12, \"symbol\": \"triangle-up\"}, \"mode\": \"markers\", \"name\": \"Chinstrap penguin\", \"text\": [\"Chinstrap penguin (Pygoscelis antarctica)\", \"Chinstrap penguin (Pygoscelis antarctica)\", \"Chinstrap penguin (Pygoscelis antarctica)\", \"Chinstrap penguin (Pygoscelis antarctica)\", \"Chinstrap penguin (Pygoscelis antarctica)\", \"Chinstrap penguin (Pygoscelis antarctica)\", \"Chinstrap penguin (Pygoscelis antarctica)\", \"Chinstrap penguin (Pygoscelis antarctica)\", \"Chinstrap penguin (Pygoscelis antarctica)\", \"Chinstrap penguin (Pygoscelis antarctica)\", \"Chinstrap penguin (Pygoscelis antarctica)\", \"Chinstrap penguin (Pygoscelis antarctica)\", \"Chinstrap penguin (Pygoscelis antarctica)\", \"Chinstrap penguin (Pygoscelis antarctica)\", \"Chinstrap penguin (Pygoscelis antarctica)\", \"Chinstrap penguin (Pygoscelis antarctica)\", \"Chinstrap penguin (Pygoscelis antarctica)\", \"Chinstrap penguin (Pygoscelis antarctica)\", \"Chinstrap penguin (Pygoscelis antarctica)\", \"Chinstrap penguin (Pygoscelis antarctica)\", \"Chinstrap penguin (Pygoscelis antarctica)\", \"Chinstrap penguin (Pygoscelis antarctica)\", \"Chinstrap penguin (Pygoscelis antarctica)\", \"Chinstrap penguin (Pygoscelis antarctica)\", \"Chinstrap penguin (Pygoscelis antarctica)\", \"Chinstrap penguin (Pygoscelis antarctica)\", \"Chinstrap penguin (Pygoscelis antarctica)\", \"Chinstrap penguin (Pygoscelis antarctica)\", \"Chinstrap penguin (Pygoscelis antarctica)\", \"Chinstrap penguin (Pygoscelis antarctica)\", \"Chinstrap penguin (Pygoscelis antarctica)\", \"Chinstrap penguin (Pygoscelis antarctica)\", \"Chinstrap penguin (Pygoscelis antarctica)\", \"Chinstrap penguin (Pygoscelis antarctica)\", \"Chinstrap penguin (Pygoscelis antarctica)\", \"Chinstrap penguin (Pygoscelis antarctica)\", \"Chinstrap penguin (Pygoscelis antarctica)\", \"Chinstrap penguin (Pygoscelis antarctica)\", \"Chinstrap penguin (Pygoscelis antarctica)\", \"Chinstrap penguin (Pygoscelis antarctica)\", \"Chinstrap penguin (Pygoscelis antarctica)\", \"Chinstrap penguin (Pygoscelis antarctica)\", \"Chinstrap penguin (Pygoscelis antarctica)\", \"Chinstrap penguin (Pygoscelis antarctica)\", \"Chinstrap penguin (Pygoscelis antarctica)\", \"Chinstrap penguin (Pygoscelis antarctica)\", \"Chinstrap penguin (Pygoscelis antarctica)\", \"Chinstrap penguin (Pygoscelis antarctica)\", \"Chinstrap penguin (Pygoscelis antarctica)\", \"Chinstrap penguin (Pygoscelis antarctica)\", \"Chinstrap penguin (Pygoscelis antarctica)\", \"Chinstrap penguin (Pygoscelis antarctica)\", \"Chinstrap penguin (Pygoscelis antarctica)\", \"Chinstrap penguin (Pygoscelis antarctica)\", \"Chinstrap penguin (Pygoscelis antarctica)\", \"Chinstrap penguin (Pygoscelis antarctica)\", \"Chinstrap penguin (Pygoscelis antarctica)\", \"Chinstrap penguin (Pygoscelis antarctica)\", \"Chinstrap penguin (Pygoscelis antarctica)\", \"Chinstrap penguin (Pygoscelis antarctica)\", \"Chinstrap penguin (Pygoscelis antarctica)\", \"Chinstrap penguin (Pygoscelis antarctica)\", \"Chinstrap penguin (Pygoscelis antarctica)\", \"Chinstrap penguin (Pygoscelis antarctica)\", \"Chinstrap penguin (Pygoscelis antarctica)\", \"Chinstrap penguin (Pygoscelis antarctica)\", \"Chinstrap penguin (Pygoscelis antarctica)\", \"Chinstrap penguin (Pygoscelis antarctica)\"], \"type\": \"scatter\", \"x\": [46.5, 50.0, 51.3, 45.4, 52.7, 45.2, 46.1, 51.3, 46.0, 51.3, 46.6, 51.7, 47.0, 52.0, 45.9, 50.5, 50.3, 58.0, 46.4, 49.2, 42.4, 48.5, 43.2, 50.6, 46.7, 52.0, 50.5, 49.5, 46.4, 52.8, 40.9, 54.2, 42.5, 51.0, 49.7, 47.5, 47.6, 52.0, 46.9, 53.5, 49.0, 46.2, 50.9, 45.5, 50.9, 50.8, 50.1, 49.0, 51.5, 49.8, 48.1, 51.4, 45.7, 50.7, 42.5, 52.2, 45.2, 49.3, 50.2, 45.6, 51.9, 46.8, 45.7, 55.8, 43.5, 49.6, 50.8, 50.2], \"y\": [3500.0, 3900.0, 3650.0, 3525.0, 3725.0, 3950.0, 3250.0, 3750.0, 4150.0, 3700.0, 3800.0, 3775.0, 3700.0, 4050.0, 3575.0, 4050.0, 3300.0, 3700.0, 3450.0, 4400.0, 3600.0, 3400.0, 2900.0, 3800.0, 3300.0, 4150.0, 3400.0, 3800.0, 3700.0, 4550.0, 3200.0, 4300.0, 3350.0, 4100.0, 3600.0, 3900.0, 3850.0, 4800.0, 2700.0, 4500.0, 3950.0, 3650.0, 3550.0, 3500.0, 3675.0, 4450.0, 3400.0, 4300.0, 3250.0, 3675.0, 3325.0, 3950.0, 3600.0, 4050.0, 3350.0, 3450.0, 3250.0, 4050.0, 3800.0, 3525.0, 3950.0, 3650.0, 3650.0, 4000.0, 3400.0, 3775.0, 4100.0, 3775.0]}],\n",
       "                        {\"paper_bgcolor\": \"rgba(0,0,0,0)\", \"plot_bgcolor\": \"rgba(0,0,0,0)\", \"showlegend\": true, \"template\": {\"data\": {\"bar\": [{\"error_x\": {\"color\": \"#2a3f5f\"}, \"error_y\": {\"color\": \"#2a3f5f\"}, \"marker\": {\"line\": {\"color\": \"#E5ECF6\", \"width\": 0.5}}, \"type\": \"bar\"}], \"barpolar\": [{\"marker\": {\"line\": {\"color\": \"#E5ECF6\", \"width\": 0.5}}, \"type\": \"barpolar\"}], \"carpet\": [{\"aaxis\": {\"endlinecolor\": \"#2a3f5f\", \"gridcolor\": \"white\", \"linecolor\": \"white\", \"minorgridcolor\": \"white\", \"startlinecolor\": \"#2a3f5f\"}, \"baxis\": {\"endlinecolor\": \"#2a3f5f\", \"gridcolor\": \"white\", \"linecolor\": \"white\", \"minorgridcolor\": \"white\", \"startlinecolor\": \"#2a3f5f\"}, \"type\": \"carpet\"}], \"choropleth\": [{\"colorbar\": {\"outlinewidth\": 0, \"ticks\": \"\"}, \"type\": \"choropleth\"}], \"contour\": [{\"colorbar\": {\"outlinewidth\": 0, \"ticks\": \"\"}, \"colorscale\": [[0.0, \"#0d0887\"], [0.1111111111111111, \"#46039f\"], [0.2222222222222222, \"#7201a8\"], [0.3333333333333333, \"#9c179e\"], [0.4444444444444444, \"#bd3786\"], [0.5555555555555556, \"#d8576b\"], [0.6666666666666666, \"#ed7953\"], [0.7777777777777778, \"#fb9f3a\"], [0.8888888888888888, \"#fdca26\"], [1.0, \"#f0f921\"]], \"type\": \"contour\"}], \"contourcarpet\": [{\"colorbar\": {\"outlinewidth\": 0, \"ticks\": \"\"}, \"type\": \"contourcarpet\"}], \"heatmap\": [{\"colorbar\": {\"outlinewidth\": 0, \"ticks\": \"\"}, \"colorscale\": [[0.0, \"#0d0887\"], [0.1111111111111111, \"#46039f\"], [0.2222222222222222, \"#7201a8\"], [0.3333333333333333, \"#9c179e\"], [0.4444444444444444, \"#bd3786\"], [0.5555555555555556, \"#d8576b\"], [0.6666666666666666, \"#ed7953\"], [0.7777777777777778, \"#fb9f3a\"], [0.8888888888888888, \"#fdca26\"], [1.0, \"#f0f921\"]], \"type\": \"heatmap\"}], \"heatmapgl\": [{\"colorbar\": {\"outlinewidth\": 0, \"ticks\": \"\"}, \"colorscale\": [[0.0, \"#0d0887\"], [0.1111111111111111, \"#46039f\"], [0.2222222222222222, \"#7201a8\"], [0.3333333333333333, \"#9c179e\"], [0.4444444444444444, \"#bd3786\"], [0.5555555555555556, \"#d8576b\"], [0.6666666666666666, \"#ed7953\"], [0.7777777777777778, \"#fb9f3a\"], [0.8888888888888888, \"#fdca26\"], [1.0, \"#f0f921\"]], \"type\": \"heatmapgl\"}], \"histogram\": [{\"marker\": {\"colorbar\": {\"outlinewidth\": 0, \"ticks\": \"\"}}, \"type\": \"histogram\"}], \"histogram2d\": [{\"colorbar\": {\"outlinewidth\": 0, \"ticks\": \"\"}, \"colorscale\": [[0.0, \"#0d0887\"], [0.1111111111111111, \"#46039f\"], [0.2222222222222222, \"#7201a8\"], [0.3333333333333333, \"#9c179e\"], [0.4444444444444444, \"#bd3786\"], [0.5555555555555556, \"#d8576b\"], [0.6666666666666666, \"#ed7953\"], [0.7777777777777778, \"#fb9f3a\"], [0.8888888888888888, \"#fdca26\"], [1.0, \"#f0f921\"]], \"type\": \"histogram2d\"}], \"histogram2dcontour\": [{\"colorbar\": {\"outlinewidth\": 0, \"ticks\": \"\"}, \"colorscale\": [[0.0, \"#0d0887\"], [0.1111111111111111, \"#46039f\"], [0.2222222222222222, \"#7201a8\"], [0.3333333333333333, \"#9c179e\"], [0.4444444444444444, \"#bd3786\"], [0.5555555555555556, \"#d8576b\"], [0.6666666666666666, \"#ed7953\"], [0.7777777777777778, \"#fb9f3a\"], [0.8888888888888888, \"#fdca26\"], [1.0, \"#f0f921\"]], \"type\": \"histogram2dcontour\"}], \"mesh3d\": [{\"colorbar\": {\"outlinewidth\": 0, \"ticks\": \"\"}, \"type\": \"mesh3d\"}], \"parcoords\": [{\"line\": {\"colorbar\": {\"outlinewidth\": 0, \"ticks\": \"\"}}, \"type\": \"parcoords\"}], \"pie\": [{\"automargin\": true, \"type\": \"pie\"}], \"scatter\": [{\"marker\": {\"colorbar\": {\"outlinewidth\": 0, \"ticks\": \"\"}}, \"type\": \"scatter\"}], \"scatter3d\": [{\"line\": {\"colorbar\": {\"outlinewidth\": 0, \"ticks\": \"\"}}, \"marker\": {\"colorbar\": {\"outlinewidth\": 0, \"ticks\": \"\"}}, \"type\": \"scatter3d\"}], \"scattercarpet\": [{\"marker\": {\"colorbar\": {\"outlinewidth\": 0, \"ticks\": \"\"}}, \"type\": \"scattercarpet\"}], \"scattergeo\": [{\"marker\": {\"colorbar\": {\"outlinewidth\": 0, \"ticks\": \"\"}}, \"type\": \"scattergeo\"}], \"scattergl\": [{\"marker\": {\"colorbar\": {\"outlinewidth\": 0, \"ticks\": \"\"}}, \"type\": \"scattergl\"}], \"scattermapbox\": [{\"marker\": {\"colorbar\": {\"outlinewidth\": 0, \"ticks\": \"\"}}, \"type\": \"scattermapbox\"}], \"scatterpolar\": [{\"marker\": {\"colorbar\": {\"outlinewidth\": 0, \"ticks\": \"\"}}, \"type\": \"scatterpolar\"}], \"scatterpolargl\": [{\"marker\": {\"colorbar\": {\"outlinewidth\": 0, \"ticks\": \"\"}}, \"type\": \"scatterpolargl\"}], \"scatterternary\": [{\"marker\": {\"colorbar\": {\"outlinewidth\": 0, \"ticks\": \"\"}}, \"type\": \"scatterternary\"}], \"surface\": [{\"colorbar\": {\"outlinewidth\": 0, \"ticks\": \"\"}, \"colorscale\": [[0.0, \"#0d0887\"], [0.1111111111111111, \"#46039f\"], [0.2222222222222222, \"#7201a8\"], [0.3333333333333333, \"#9c179e\"], [0.4444444444444444, \"#bd3786\"], [0.5555555555555556, \"#d8576b\"], [0.6666666666666666, \"#ed7953\"], [0.7777777777777778, \"#fb9f3a\"], [0.8888888888888888, \"#fdca26\"], [1.0, \"#f0f921\"]], \"type\": \"surface\"}], \"table\": [{\"cells\": {\"fill\": {\"color\": \"#EBF0F8\"}, \"line\": {\"color\": \"white\"}}, \"header\": {\"fill\": {\"color\": \"#C8D4E3\"}, \"line\": {\"color\": \"white\"}}, \"type\": \"table\"}]}, \"layout\": {\"annotationdefaults\": {\"arrowcolor\": \"#2a3f5f\", \"arrowhead\": 0, \"arrowwidth\": 1}, \"coloraxis\": {\"colorbar\": {\"outlinewidth\": 0, \"ticks\": \"\"}}, \"colorscale\": {\"diverging\": [[0, \"#8e0152\"], [0.1, \"#c51b7d\"], [0.2, \"#de77ae\"], [0.3, \"#f1b6da\"], [0.4, \"#fde0ef\"], [0.5, \"#f7f7f7\"], [0.6, \"#e6f5d0\"], [0.7, \"#b8e186\"], [0.8, \"#7fbc41\"], [0.9, \"#4d9221\"], [1, \"#276419\"]], \"sequential\": [[0.0, \"#0d0887\"], [0.1111111111111111, \"#46039f\"], [0.2222222222222222, \"#7201a8\"], [0.3333333333333333, \"#9c179e\"], [0.4444444444444444, \"#bd3786\"], [0.5555555555555556, \"#d8576b\"], [0.6666666666666666, \"#ed7953\"], [0.7777777777777778, \"#fb9f3a\"], [0.8888888888888888, \"#fdca26\"], [1.0, \"#f0f921\"]], \"sequentialminus\": [[0.0, \"#0d0887\"], [0.1111111111111111, \"#46039f\"], [0.2222222222222222, \"#7201a8\"], [0.3333333333333333, \"#9c179e\"], [0.4444444444444444, \"#bd3786\"], [0.5555555555555556, \"#d8576b\"], [0.6666666666666666, \"#ed7953\"], [0.7777777777777778, \"#fb9f3a\"], [0.8888888888888888, \"#fdca26\"], [1.0, \"#f0f921\"]]}, \"colorway\": [\"#636efa\", \"#EF553B\", \"#00cc96\", \"#ab63fa\", \"#FFA15A\", \"#19d3f3\", \"#FF6692\", \"#B6E880\", \"#FF97FF\", \"#FECB52\"], \"font\": {\"color\": \"#2a3f5f\"}, \"geo\": {\"bgcolor\": \"white\", \"lakecolor\": \"white\", \"landcolor\": \"#E5ECF6\", \"showlakes\": true, \"showland\": true, \"subunitcolor\": \"white\"}, \"hoverlabel\": {\"align\": \"left\"}, \"hovermode\": \"closest\", \"mapbox\": {\"style\": \"light\"}, \"paper_bgcolor\": \"white\", \"plot_bgcolor\": \"#E5ECF6\", \"polar\": {\"angularaxis\": {\"gridcolor\": \"white\", \"linecolor\": \"white\", \"ticks\": \"\"}, \"bgcolor\": \"#E5ECF6\", \"radialaxis\": {\"gridcolor\": \"white\", \"linecolor\": \"white\", \"ticks\": \"\"}}, \"scene\": {\"xaxis\": {\"backgroundcolor\": \"#E5ECF6\", \"gridcolor\": \"white\", \"gridwidth\": 2, \"linecolor\": \"white\", \"showbackground\": true, \"ticks\": \"\", \"zerolinecolor\": \"white\"}, \"yaxis\": {\"backgroundcolor\": \"#E5ECF6\", \"gridcolor\": \"white\", \"gridwidth\": 2, \"linecolor\": \"white\", \"showbackground\": true, \"ticks\": \"\", \"zerolinecolor\": \"white\"}, \"zaxis\": {\"backgroundcolor\": \"#E5ECF6\", \"gridcolor\": \"white\", \"gridwidth\": 2, \"linecolor\": \"white\", \"showbackground\": true, \"ticks\": \"\", \"zerolinecolor\": \"white\"}}, \"shapedefaults\": {\"line\": {\"color\": \"#2a3f5f\"}}, \"ternary\": {\"aaxis\": {\"gridcolor\": \"white\", \"linecolor\": \"white\", \"ticks\": \"\"}, \"baxis\": {\"gridcolor\": \"white\", \"linecolor\": \"white\", \"ticks\": \"\"}, \"bgcolor\": \"#E5ECF6\", \"caxis\": {\"gridcolor\": \"white\", \"linecolor\": \"white\", \"ticks\": \"\"}}, \"title\": {\"x\": 0.05}, \"xaxis\": {\"automargin\": true, \"gridcolor\": \"white\", \"linecolor\": \"white\", \"ticks\": \"\", \"title\": {\"standoff\": 15}, \"zerolinecolor\": \"white\", \"zerolinewidth\": 2}, \"yaxis\": {\"automargin\": true, \"gridcolor\": \"white\", \"linecolor\": \"white\", \"ticks\": \"\", \"title\": {\"standoff\": 15}, \"zerolinecolor\": \"white\", \"zerolinewidth\": 2}}}, \"title\": {\"text\": \"<b>Culmen Length (mm) vs. Body Mass (g)</b>\"}, \"xaxis\": {\"title\": {\"text\": \"Culmen Length (mm)\"}}, \"yaxis\": {\"title\": {\"text\": \"Body Mass (g)\"}}},\n",
       "                        {\"responsive\": true}\n",
       "                    ).then(function(){\n",
       "                            \n",
       "var gd = document.getElementById('2edc6ba9-8cad-4c8c-8100-84f407039418');\n",
       "var x = new MutationObserver(function (mutations, observer) {{\n",
       "        var display = window.getComputedStyle(gd).display;\n",
       "        if (!display || display === 'none') {{\n",
       "            console.log([gd, 'removed!']);\n",
       "            Plotly.purge(gd);\n",
       "            observer.disconnect();\n",
       "        }}\n",
       "}});\n",
       "\n",
       "// Listen for the removal of the full notebook cells\n",
       "var notebookContainer = gd.closest('#notebook-container');\n",
       "if (notebookContainer) {{\n",
       "    x.observe(notebookContainer, {childList: true});\n",
       "}}\n",
       "\n",
       "// Listen for the clearing of the current output cell\n",
       "var outputEl = gd.closest('.output');\n",
       "if (outputEl) {{\n",
       "    x.observe(outputEl, {childList: true});\n",
       "}}\n",
       "\n",
       "                        })\n",
       "                };\n",
       "                });\n",
       "            </script>\n",
       "        </div>"
      ]
     },
     "metadata": {},
     "output_type": "display_data"
    },
    {
     "data": {
      "application/javascript": [
       "\n",
       "            setTimeout(function() {\n",
       "                var nbb_cell_id = 24;\n",
       "                var nbb_unformatted_code = \"# Culmen Length (mm) vs. Body Mass (g)\\n\\ntrace1 = go.Scatter(\\n    x=adelie_df[\\\"Culmen Length (mm)\\\"],\\n    y=adelie_df[\\\"Body Mass (g)\\\"],\\n    text=adelie_df[\\\"Species\\\"],\\n    mode=\\\"markers\\\",\\n    marker=dict(size=10, symbol=\\\"circle\\\", line=dict(color=\\\"rgb(0,0,0)\\\", width=0.5)),\\n    marker_color=adelie_df[\\\"Color\\\"],\\n    name=\\\"Adelie Penguin\\\",\\n)\\n\\ntrace2 = go.Scatter(\\n    x=gentoo_df[\\\"Culmen Length (mm)\\\"],\\n    y=gentoo_df[\\\"Body Mass (g)\\\"],\\n    text=gentoo_df[\\\"Species\\\"],\\n    mode=\\\"markers\\\",\\n    marker=dict(size=10, symbol=\\\"square\\\", line=dict(color=\\\"rgb(0,0,0)\\\", width=0.5)),\\n    marker_color=gentoo_df[\\\"Color\\\"],\\n    name=\\\"Gentoo penguin\\\",\\n)\\n\\ntrace3 = go.Scatter(\\n    x=chinstrap_df[\\\"Culmen Length (mm)\\\"],\\n    y=chinstrap_df[\\\"Body Mass (g)\\\"],\\n    text=chinstrap_df[\\\"Species\\\"],\\n    mode=\\\"markers\\\",\\n    marker=dict(\\n        size=12, symbol=\\\"triangle-up\\\", line=dict(color=\\\"rgb(0,0,0)\\\", width=0.5)\\n    ),\\n    marker_color=chinstrap_df[\\\"Color\\\"],\\n    name=\\\"Chinstrap penguin\\\",\\n)\\n\\ndata = [trace1, trace2, trace3]\\n\\n\\nlayout = dict(\\n    title=\\\"<b>Culmen Length (mm) vs. Body Mass (g)</b>\\\",\\n    showlegend=True,\\n    xaxis=dict(title=\\\"Culmen Length (mm)\\\"),\\n    yaxis=dict(title=\\\"Body Mass (g)\\\"),\\n    #               legend_orientation=\\\"h\\\",\\n    #               autosize=False,\\n    #               width=1000,\\n    #               height=600,\\n    #               xaxis=dict(showgrid=False),\\n    #               yaxis=dict(title=\\\"Number of Jobs Posted\\\",\\n    #                          showgrid=False,\\n    #                          autorange=True,\\n    #                          zeroline=False,\\n    #                          showline=False,\\n    #                          ticks='',\\n    #                          showticklabels=True),\\n    plot_bgcolor=\\\"rgba(0,0,0,0)\\\",\\n    paper_bgcolor=\\\"rgba(0,0,0,0)\\\",\\n)\\n\\nfig = dict(data=data, layout=layout)\\n\\niplot(fig)\";\n",
       "                var nbb_formatted_code = \"# Culmen Length (mm) vs. Body Mass (g)\\n\\ntrace1 = go.Scatter(\\n    x=adelie_df[\\\"Culmen Length (mm)\\\"],\\n    y=adelie_df[\\\"Body Mass (g)\\\"],\\n    text=adelie_df[\\\"Species\\\"],\\n    mode=\\\"markers\\\",\\n    marker=dict(size=10, symbol=\\\"circle\\\", line=dict(color=\\\"rgb(0,0,0)\\\", width=0.5)),\\n    marker_color=adelie_df[\\\"Color\\\"],\\n    name=\\\"Adelie Penguin\\\",\\n)\\n\\ntrace2 = go.Scatter(\\n    x=gentoo_df[\\\"Culmen Length (mm)\\\"],\\n    y=gentoo_df[\\\"Body Mass (g)\\\"],\\n    text=gentoo_df[\\\"Species\\\"],\\n    mode=\\\"markers\\\",\\n    marker=dict(size=10, symbol=\\\"square\\\", line=dict(color=\\\"rgb(0,0,0)\\\", width=0.5)),\\n    marker_color=gentoo_df[\\\"Color\\\"],\\n    name=\\\"Gentoo penguin\\\",\\n)\\n\\ntrace3 = go.Scatter(\\n    x=chinstrap_df[\\\"Culmen Length (mm)\\\"],\\n    y=chinstrap_df[\\\"Body Mass (g)\\\"],\\n    text=chinstrap_df[\\\"Species\\\"],\\n    mode=\\\"markers\\\",\\n    marker=dict(\\n        size=12, symbol=\\\"triangle-up\\\", line=dict(color=\\\"rgb(0,0,0)\\\", width=0.5)\\n    ),\\n    marker_color=chinstrap_df[\\\"Color\\\"],\\n    name=\\\"Chinstrap penguin\\\",\\n)\\n\\ndata = [trace1, trace2, trace3]\\n\\n\\nlayout = dict(\\n    title=\\\"<b>Culmen Length (mm) vs. Body Mass (g)</b>\\\",\\n    showlegend=True,\\n    xaxis=dict(title=\\\"Culmen Length (mm)\\\"),\\n    yaxis=dict(title=\\\"Body Mass (g)\\\"),\\n    #               legend_orientation=\\\"h\\\",\\n    #               autosize=False,\\n    #               width=1000,\\n    #               height=600,\\n    #               xaxis=dict(showgrid=False),\\n    #               yaxis=dict(title=\\\"Number of Jobs Posted\\\",\\n    #                          showgrid=False,\\n    #                          autorange=True,\\n    #                          zeroline=False,\\n    #                          showline=False,\\n    #                          ticks='',\\n    #                          showticklabels=True),\\n    plot_bgcolor=\\\"rgba(0,0,0,0)\\\",\\n    paper_bgcolor=\\\"rgba(0,0,0,0)\\\",\\n)\\n\\nfig = dict(data=data, layout=layout)\\n\\niplot(fig)\";\n",
       "                var nbb_cells = Jupyter.notebook.get_cells();\n",
       "                for (var i = 0; i < nbb_cells.length; ++i) {\n",
       "                    if (nbb_cells[i].input_prompt_number == nbb_cell_id) {\n",
       "                        if (nbb_cells[i].get_text() == nbb_unformatted_code) {\n",
       "                             nbb_cells[i].set_text(nbb_formatted_code);\n",
       "                        }\n",
       "                        break;\n",
       "                    }\n",
       "                }\n",
       "            }, 500);\n",
       "            "
      ],
      "text/plain": [
       "<IPython.core.display.Javascript object>"
      ]
     },
     "metadata": {},
     "output_type": "display_data"
    }
   ],
   "source": [
    "# Culmen Length (mm) vs. Body Mass (g)\n",
    "\n",
    "trace1 = go.Scatter(\n",
    "    x=adelie_df[\"Culmen Length (mm)\"],\n",
    "    y=adelie_df[\"Body Mass (g)\"],\n",
    "    text=adelie_df[\"Species\"],\n",
    "    mode=\"markers\",\n",
    "    marker=dict(size=10, symbol=\"circle\", line=dict(color=\"rgb(0,0,0)\", width=0.5)),\n",
    "    marker_color=adelie_df[\"Color\"],\n",
    "    name=\"Adelie Penguin\",\n",
    ")\n",
    "\n",
    "trace2 = go.Scatter(\n",
    "    x=gentoo_df[\"Culmen Length (mm)\"],\n",
    "    y=gentoo_df[\"Body Mass (g)\"],\n",
    "    text=gentoo_df[\"Species\"],\n",
    "    mode=\"markers\",\n",
    "    marker=dict(size=10, symbol=\"square\", line=dict(color=\"rgb(0,0,0)\", width=0.5)),\n",
    "    marker_color=gentoo_df[\"Color\"],\n",
    "    name=\"Gentoo penguin\",\n",
    ")\n",
    "\n",
    "trace3 = go.Scatter(\n",
    "    x=chinstrap_df[\"Culmen Length (mm)\"],\n",
    "    y=chinstrap_df[\"Body Mass (g)\"],\n",
    "    text=chinstrap_df[\"Species\"],\n",
    "    mode=\"markers\",\n",
    "    marker=dict(\n",
    "        size=12, symbol=\"triangle-up\", line=dict(color=\"rgb(0,0,0)\", width=0.5)\n",
    "    ),\n",
    "    marker_color=chinstrap_df[\"Color\"],\n",
    "    name=\"Chinstrap penguin\",\n",
    ")\n",
    "\n",
    "data = [trace1, trace2, trace3]\n",
    "\n",
    "\n",
    "layout = dict(\n",
    "    title=\"<b>Culmen Length (mm) vs. Body Mass (g)</b>\",\n",
    "    showlegend=True,\n",
    "    xaxis=dict(title=\"Culmen Length (mm)\"),\n",
    "    yaxis=dict(title=\"Body Mass (g)\"),\n",
    "    #               legend_orientation=\"h\",\n",
    "    #               autosize=False,\n",
    "    #               width=1000,\n",
    "    #               height=600,\n",
    "    #               xaxis=dict(showgrid=False),\n",
    "    #               yaxis=dict(title=\"Number of Jobs Posted\",\n",
    "    #                          showgrid=False,\n",
    "    #                          autorange=True,\n",
    "    #                          zeroline=False,\n",
    "    #                          showline=False,\n",
    "    #                          ticks='',\n",
    "    #                          showticklabels=True),\n",
    "    plot_bgcolor=\"rgba(0,0,0,0)\",\n",
    "    paper_bgcolor=\"rgba(0,0,0,0)\",\n",
    ")\n",
    "\n",
    "fig = dict(data=data, layout=layout)\n",
    "\n",
    "iplot(fig)"
   ]
  },
  {
   "cell_type": "code",
   "execution_count": 25,
   "metadata": {},
   "outputs": [
    {
     "data": {
      "application/vnd.plotly.v1+json": {
       "config": {
        "linkText": "Export to plot.ly",
        "plotlyServerURL": "https://plot.ly",
        "showLink": false
       },
       "data": [
        {
         "marker": {
          "color": [
           "darkorange",
           "darkorange",
           "darkorange",
           "darkorange",
           "darkorange",
           "darkorange",
           "darkorange",
           "darkorange",
           "darkorange",
           "darkorange",
           "darkorange",
           "darkorange",
           "darkorange",
           "darkorange",
           "darkorange",
           "darkorange",
           "darkorange",
           "darkorange",
           "darkorange",
           "darkorange",
           "darkorange",
           "darkorange",
           "darkorange",
           "darkorange",
           "darkorange",
           "darkorange",
           "darkorange",
           "darkorange",
           "darkorange",
           "darkorange",
           "darkorange",
           "darkorange",
           "darkorange",
           "darkorange",
           "darkorange",
           "darkorange",
           "darkorange",
           "darkorange",
           "darkorange",
           "darkorange",
           "darkorange",
           "darkorange",
           "darkorange",
           "darkorange",
           "darkorange",
           "darkorange",
           "darkorange",
           "darkorange",
           "darkorange",
           "darkorange",
           "darkorange",
           "darkorange",
           "darkorange",
           "darkorange",
           "darkorange",
           "darkorange",
           "darkorange",
           "darkorange",
           "darkorange",
           "darkorange",
           "darkorange",
           "darkorange",
           "darkorange",
           "darkorange",
           "darkorange",
           "darkorange",
           "darkorange",
           "darkorange",
           "darkorange",
           "darkorange",
           "darkorange",
           "darkorange",
           "darkorange",
           "darkorange",
           "darkorange",
           "darkorange",
           "darkorange",
           "darkorange",
           "darkorange",
           "darkorange",
           "darkorange",
           "darkorange",
           "darkorange",
           "darkorange",
           "darkorange",
           "darkorange",
           "darkorange",
           "darkorange",
           "darkorange",
           "darkorange",
           "darkorange",
           "darkorange",
           "darkorange",
           "darkorange",
           "darkorange",
           "darkorange",
           "darkorange",
           "darkorange",
           "darkorange",
           "darkorange",
           "darkorange",
           "darkorange",
           "darkorange",
           "darkorange",
           "darkorange",
           "darkorange",
           "darkorange",
           "darkorange",
           "darkorange",
           "darkorange",
           "darkorange",
           "darkorange",
           "darkorange",
           "darkorange",
           "darkorange",
           "darkorange",
           "darkorange",
           "darkorange",
           "darkorange",
           "darkorange",
           "darkorange",
           "darkorange",
           "darkorange",
           "darkorange",
           "darkorange",
           "darkorange",
           "darkorange",
           "darkorange",
           "darkorange",
           "darkorange",
           "darkorange",
           "darkorange",
           "darkorange",
           "darkorange",
           "darkorange",
           "darkorange",
           "darkorange",
           "darkorange",
           "darkorange",
           "darkorange",
           "darkorange",
           "darkorange",
           "darkorange",
           "darkorange",
           "darkorange",
           "darkorange",
           "darkorange",
           "darkorange",
           "darkorange",
           "darkorange",
           "darkorange",
           "darkorange"
          ],
          "line": {
           "color": "rgb(0,0,0)",
           "width": 0.5
          },
          "size": 9,
          "symbol": "circle"
         },
         "mode": "markers",
         "name": "Adelie Penguin",
         "text": [
          "Adelie Penguin (Pygoscelis adeliae)",
          "Adelie Penguin (Pygoscelis adeliae)",
          "Adelie Penguin (Pygoscelis adeliae)",
          "Adelie Penguin (Pygoscelis adeliae)",
          "Adelie Penguin (Pygoscelis adeliae)",
          "Adelie Penguin (Pygoscelis adeliae)",
          "Adelie Penguin (Pygoscelis adeliae)",
          "Adelie Penguin (Pygoscelis adeliae)",
          "Adelie Penguin (Pygoscelis adeliae)",
          "Adelie Penguin (Pygoscelis adeliae)",
          "Adelie Penguin (Pygoscelis adeliae)",
          "Adelie Penguin (Pygoscelis adeliae)",
          "Adelie Penguin (Pygoscelis adeliae)",
          "Adelie Penguin (Pygoscelis adeliae)",
          "Adelie Penguin (Pygoscelis adeliae)",
          "Adelie Penguin (Pygoscelis adeliae)",
          "Adelie Penguin (Pygoscelis adeliae)",
          "Adelie Penguin (Pygoscelis adeliae)",
          "Adelie Penguin (Pygoscelis adeliae)",
          "Adelie Penguin (Pygoscelis adeliae)",
          "Adelie Penguin (Pygoscelis adeliae)",
          "Adelie Penguin (Pygoscelis adeliae)",
          "Adelie Penguin (Pygoscelis adeliae)",
          "Adelie Penguin (Pygoscelis adeliae)",
          "Adelie Penguin (Pygoscelis adeliae)",
          "Adelie Penguin (Pygoscelis adeliae)",
          "Adelie Penguin (Pygoscelis adeliae)",
          "Adelie Penguin (Pygoscelis adeliae)",
          "Adelie Penguin (Pygoscelis adeliae)",
          "Adelie Penguin (Pygoscelis adeliae)",
          "Adelie Penguin (Pygoscelis adeliae)",
          "Adelie Penguin (Pygoscelis adeliae)",
          "Adelie Penguin (Pygoscelis adeliae)",
          "Adelie Penguin (Pygoscelis adeliae)",
          "Adelie Penguin (Pygoscelis adeliae)",
          "Adelie Penguin (Pygoscelis adeliae)",
          "Adelie Penguin (Pygoscelis adeliae)",
          "Adelie Penguin (Pygoscelis adeliae)",
          "Adelie Penguin (Pygoscelis adeliae)",
          "Adelie Penguin (Pygoscelis adeliae)",
          "Adelie Penguin (Pygoscelis adeliae)",
          "Adelie Penguin (Pygoscelis adeliae)",
          "Adelie Penguin (Pygoscelis adeliae)",
          "Adelie Penguin (Pygoscelis adeliae)",
          "Adelie Penguin (Pygoscelis adeliae)",
          "Adelie Penguin (Pygoscelis adeliae)",
          "Adelie Penguin (Pygoscelis adeliae)",
          "Adelie Penguin (Pygoscelis adeliae)",
          "Adelie Penguin (Pygoscelis adeliae)",
          "Adelie Penguin (Pygoscelis adeliae)",
          "Adelie Penguin (Pygoscelis adeliae)",
          "Adelie Penguin (Pygoscelis adeliae)",
          "Adelie Penguin (Pygoscelis adeliae)",
          "Adelie Penguin (Pygoscelis adeliae)",
          "Adelie Penguin (Pygoscelis adeliae)",
          "Adelie Penguin (Pygoscelis adeliae)",
          "Adelie Penguin (Pygoscelis adeliae)",
          "Adelie Penguin (Pygoscelis adeliae)",
          "Adelie Penguin (Pygoscelis adeliae)",
          "Adelie Penguin (Pygoscelis adeliae)",
          "Adelie Penguin (Pygoscelis adeliae)",
          "Adelie Penguin (Pygoscelis adeliae)",
          "Adelie Penguin (Pygoscelis adeliae)",
          "Adelie Penguin (Pygoscelis adeliae)",
          "Adelie Penguin (Pygoscelis adeliae)",
          "Adelie Penguin (Pygoscelis adeliae)",
          "Adelie Penguin (Pygoscelis adeliae)",
          "Adelie Penguin (Pygoscelis adeliae)",
          "Adelie Penguin (Pygoscelis adeliae)",
          "Adelie Penguin (Pygoscelis adeliae)",
          "Adelie Penguin (Pygoscelis adeliae)",
          "Adelie Penguin (Pygoscelis adeliae)",
          "Adelie Penguin (Pygoscelis adeliae)",
          "Adelie Penguin (Pygoscelis adeliae)",
          "Adelie Penguin (Pygoscelis adeliae)",
          "Adelie Penguin (Pygoscelis adeliae)",
          "Adelie Penguin (Pygoscelis adeliae)",
          "Adelie Penguin (Pygoscelis adeliae)",
          "Adelie Penguin (Pygoscelis adeliae)",
          "Adelie Penguin (Pygoscelis adeliae)",
          "Adelie Penguin (Pygoscelis adeliae)",
          "Adelie Penguin (Pygoscelis adeliae)",
          "Adelie Penguin (Pygoscelis adeliae)",
          "Adelie Penguin (Pygoscelis adeliae)",
          "Adelie Penguin (Pygoscelis adeliae)",
          "Adelie Penguin (Pygoscelis adeliae)",
          "Adelie Penguin (Pygoscelis adeliae)",
          "Adelie Penguin (Pygoscelis adeliae)",
          "Adelie Penguin (Pygoscelis adeliae)",
          "Adelie Penguin (Pygoscelis adeliae)",
          "Adelie Penguin (Pygoscelis adeliae)",
          "Adelie Penguin (Pygoscelis adeliae)",
          "Adelie Penguin (Pygoscelis adeliae)",
          "Adelie Penguin (Pygoscelis adeliae)",
          "Adelie Penguin (Pygoscelis adeliae)",
          "Adelie Penguin (Pygoscelis adeliae)",
          "Adelie Penguin (Pygoscelis adeliae)",
          "Adelie Penguin (Pygoscelis adeliae)",
          "Adelie Penguin (Pygoscelis adeliae)",
          "Adelie Penguin (Pygoscelis adeliae)",
          "Adelie Penguin (Pygoscelis adeliae)",
          "Adelie Penguin (Pygoscelis adeliae)",
          "Adelie Penguin (Pygoscelis adeliae)",
          "Adelie Penguin (Pygoscelis adeliae)",
          "Adelie Penguin (Pygoscelis adeliae)",
          "Adelie Penguin (Pygoscelis adeliae)",
          "Adelie Penguin (Pygoscelis adeliae)",
          "Adelie Penguin (Pygoscelis adeliae)",
          "Adelie Penguin (Pygoscelis adeliae)",
          "Adelie Penguin (Pygoscelis adeliae)",
          "Adelie Penguin (Pygoscelis adeliae)",
          "Adelie Penguin (Pygoscelis adeliae)",
          "Adelie Penguin (Pygoscelis adeliae)",
          "Adelie Penguin (Pygoscelis adeliae)",
          "Adelie Penguin (Pygoscelis adeliae)",
          "Adelie Penguin (Pygoscelis adeliae)",
          "Adelie Penguin (Pygoscelis adeliae)",
          "Adelie Penguin (Pygoscelis adeliae)",
          "Adelie Penguin (Pygoscelis adeliae)",
          "Adelie Penguin (Pygoscelis adeliae)",
          "Adelie Penguin (Pygoscelis adeliae)",
          "Adelie Penguin (Pygoscelis adeliae)",
          "Adelie Penguin (Pygoscelis adeliae)",
          "Adelie Penguin (Pygoscelis adeliae)",
          "Adelie Penguin (Pygoscelis adeliae)",
          "Adelie Penguin (Pygoscelis adeliae)",
          "Adelie Penguin (Pygoscelis adeliae)",
          "Adelie Penguin (Pygoscelis adeliae)",
          "Adelie Penguin (Pygoscelis adeliae)",
          "Adelie Penguin (Pygoscelis adeliae)",
          "Adelie Penguin (Pygoscelis adeliae)",
          "Adelie Penguin (Pygoscelis adeliae)",
          "Adelie Penguin (Pygoscelis adeliae)",
          "Adelie Penguin (Pygoscelis adeliae)",
          "Adelie Penguin (Pygoscelis adeliae)",
          "Adelie Penguin (Pygoscelis adeliae)",
          "Adelie Penguin (Pygoscelis adeliae)",
          "Adelie Penguin (Pygoscelis adeliae)",
          "Adelie Penguin (Pygoscelis adeliae)",
          "Adelie Penguin (Pygoscelis adeliae)",
          "Adelie Penguin (Pygoscelis adeliae)",
          "Adelie Penguin (Pygoscelis adeliae)",
          "Adelie Penguin (Pygoscelis adeliae)",
          "Adelie Penguin (Pygoscelis adeliae)",
          "Adelie Penguin (Pygoscelis adeliae)",
          "Adelie Penguin (Pygoscelis adeliae)",
          "Adelie Penguin (Pygoscelis adeliae)",
          "Adelie Penguin (Pygoscelis adeliae)",
          "Adelie Penguin (Pygoscelis adeliae)",
          "Adelie Penguin (Pygoscelis adeliae)",
          "Adelie Penguin (Pygoscelis adeliae)",
          "Adelie Penguin (Pygoscelis adeliae)"
         ],
         "type": "scatter",
         "x": [
          181,
          186,
          195,
          190,
          193,
          190,
          181,
          195,
          193,
          190,
          186,
          180,
          182,
          191,
          198,
          185,
          195,
          197,
          184,
          194,
          174,
          180,
          189,
          185,
          180,
          187,
          183,
          187,
          172,
          180,
          178,
          178,
          188,
          184,
          195,
          196,
          190,
          180,
          181,
          184,
          182,
          195,
          186,
          196,
          185,
          190,
          182,
          179,
          190,
          191,
          186,
          188,
          190,
          200,
          187,
          191,
          186,
          193,
          181,
          194,
          185,
          195,
          185,
          192,
          184,
          192,
          195,
          188,
          190,
          198,
          190,
          190,
          196,
          197,
          190,
          195,
          191,
          184,
          187,
          195,
          189,
          196,
          187,
          193,
          191,
          194,
          190,
          189,
          189,
          190,
          202,
          205,
          185,
          186,
          187,
          208,
          190,
          196,
          178,
          192,
          192,
          203,
          183,
          190,
          193,
          184,
          199,
          190,
          181,
          197,
          198,
          191,
          193,
          197,
          191,
          196,
          188,
          199,
          189,
          189,
          187,
          198,
          176,
          202,
          186,
          199,
          191,
          195,
          191,
          210,
          190,
          197,
          193,
          199,
          187,
          190,
          191,
          200,
          185,
          193,
          193,
          187,
          188,
          190,
          192,
          185,
          190,
          184,
          195,
          193,
          187,
          201
         ],
         "y": [
          3750,
          3800,
          3250,
          3800,
          3450,
          3650,
          3625,
          4675,
          3475,
          4250,
          3300,
          3700,
          3200,
          3800,
          4400,
          3700,
          3450,
          4500,
          3325,
          4200,
          3400,
          3600,
          3800,
          3950,
          3800,
          3800,
          3550,
          3200,
          3150,
          3950,
          3250,
          3900,
          3300,
          3900,
          3325,
          4150,
          3950,
          3550,
          3300,
          4650,
          3150,
          3900,
          3100,
          4400,
          3000,
          4600,
          3425,
          2975,
          3450,
          4150,
          3500,
          4300,
          3450,
          4050,
          2900,
          3700,
          3550,
          3800,
          2850,
          3750,
          3150,
          4400,
          3600,
          4050,
          2850,
          3950,
          3350,
          4100,
          3050,
          4450,
          3600,
          3900,
          3550,
          4150,
          3700,
          4250,
          3700,
          3900,
          3550,
          4000,
          3200,
          4700,
          3800,
          4200,
          3350,
          3550,
          3800,
          3500,
          3950,
          3600,
          3550,
          4300,
          3400,
          4450,
          3300,
          4300,
          3700,
          4350,
          2900,
          4100,
          3725,
          4725,
          3075,
          4250,
          2925,
          3550,
          3750,
          3900,
          3175,
          4775,
          3825,
          4600,
          3200,
          4275,
          3900,
          4075,
          2900,
          3775,
          3350,
          3325,
          3150,
          3500,
          3450,
          3875,
          3050,
          4000,
          3275,
          4300,
          3050,
          4000,
          3325,
          3500,
          3500,
          4475,
          3425,
          3900,
          3175,
          3975,
          3400,
          4250,
          3400,
          3475,
          3050,
          3725,
          3000,
          3650,
          4250,
          3475,
          3450,
          3750,
          3700,
          4000
         ]
        },
        {
         "marker": {
          "color": [
           "teal",
           "teal",
           "teal",
           "teal",
           "teal",
           "teal",
           "teal",
           "teal",
           "teal",
           "teal",
           "teal",
           "teal",
           "teal",
           "teal",
           "teal",
           "teal",
           "teal",
           "teal",
           "teal",
           "teal",
           "teal",
           "teal",
           "teal",
           "teal",
           "teal",
           "teal",
           "teal",
           "teal",
           "teal",
           "teal",
           "teal",
           "teal",
           "teal",
           "teal",
           "teal",
           "teal",
           "teal",
           "teal",
           "teal",
           "teal",
           "teal",
           "teal",
           "teal",
           "teal",
           "teal",
           "teal",
           "teal",
           "teal",
           "teal",
           "teal",
           "teal",
           "teal",
           "teal",
           "teal",
           "teal",
           "teal",
           "teal",
           "teal",
           "teal",
           "teal",
           "teal",
           "teal",
           "teal",
           "teal",
           "teal",
           "teal",
           "teal",
           "teal",
           "teal",
           "teal",
           "teal",
           "teal",
           "teal",
           "teal",
           "teal",
           "teal",
           "teal",
           "teal",
           "teal",
           "teal",
           "teal",
           "teal",
           "teal",
           "teal",
           "teal",
           "teal",
           "teal",
           "teal",
           "teal",
           "teal",
           "teal",
           "teal",
           "teal",
           "teal",
           "teal",
           "teal",
           "teal",
           "teal",
           "teal",
           "teal",
           "teal",
           "teal",
           "teal",
           "teal",
           "teal",
           "teal",
           "teal",
           "teal",
           "teal",
           "teal",
           "teal",
           "teal",
           "teal",
           "teal",
           "teal",
           "teal",
           "teal",
           "teal",
           "teal",
           "teal",
           "teal",
           "teal",
           "teal",
           "teal"
          ],
          "line": {
           "color": "rgb(0,0,0)",
           "width": 0.5
          },
          "size": 9,
          "symbol": "square"
         },
         "mode": "markers",
         "name": "Gentoo penguin",
         "text": [
          "Gentoo penguin (Pygoscelis papua)",
          "Gentoo penguin (Pygoscelis papua)",
          "Gentoo penguin (Pygoscelis papua)",
          "Gentoo penguin (Pygoscelis papua)",
          "Gentoo penguin (Pygoscelis papua)",
          "Gentoo penguin (Pygoscelis papua)",
          "Gentoo penguin (Pygoscelis papua)",
          "Gentoo penguin (Pygoscelis papua)",
          "Gentoo penguin (Pygoscelis papua)",
          "Gentoo penguin (Pygoscelis papua)",
          "Gentoo penguin (Pygoscelis papua)",
          "Gentoo penguin (Pygoscelis papua)",
          "Gentoo penguin (Pygoscelis papua)",
          "Gentoo penguin (Pygoscelis papua)",
          "Gentoo penguin (Pygoscelis papua)",
          "Gentoo penguin (Pygoscelis papua)",
          "Gentoo penguin (Pygoscelis papua)",
          "Gentoo penguin (Pygoscelis papua)",
          "Gentoo penguin (Pygoscelis papua)",
          "Gentoo penguin (Pygoscelis papua)",
          "Gentoo penguin (Pygoscelis papua)",
          "Gentoo penguin (Pygoscelis papua)",
          "Gentoo penguin (Pygoscelis papua)",
          "Gentoo penguin (Pygoscelis papua)",
          "Gentoo penguin (Pygoscelis papua)",
          "Gentoo penguin (Pygoscelis papua)",
          "Gentoo penguin (Pygoscelis papua)",
          "Gentoo penguin (Pygoscelis papua)",
          "Gentoo penguin (Pygoscelis papua)",
          "Gentoo penguin (Pygoscelis papua)",
          "Gentoo penguin (Pygoscelis papua)",
          "Gentoo penguin (Pygoscelis papua)",
          "Gentoo penguin (Pygoscelis papua)",
          "Gentoo penguin (Pygoscelis papua)",
          "Gentoo penguin (Pygoscelis papua)",
          "Gentoo penguin (Pygoscelis papua)",
          "Gentoo penguin (Pygoscelis papua)",
          "Gentoo penguin (Pygoscelis papua)",
          "Gentoo penguin (Pygoscelis papua)",
          "Gentoo penguin (Pygoscelis papua)",
          "Gentoo penguin (Pygoscelis papua)",
          "Gentoo penguin (Pygoscelis papua)",
          "Gentoo penguin (Pygoscelis papua)",
          "Gentoo penguin (Pygoscelis papua)",
          "Gentoo penguin (Pygoscelis papua)",
          "Gentoo penguin (Pygoscelis papua)",
          "Gentoo penguin (Pygoscelis papua)",
          "Gentoo penguin (Pygoscelis papua)",
          "Gentoo penguin (Pygoscelis papua)",
          "Gentoo penguin (Pygoscelis papua)",
          "Gentoo penguin (Pygoscelis papua)",
          "Gentoo penguin (Pygoscelis papua)",
          "Gentoo penguin (Pygoscelis papua)",
          "Gentoo penguin (Pygoscelis papua)",
          "Gentoo penguin (Pygoscelis papua)",
          "Gentoo penguin (Pygoscelis papua)",
          "Gentoo penguin (Pygoscelis papua)",
          "Gentoo penguin (Pygoscelis papua)",
          "Gentoo penguin (Pygoscelis papua)",
          "Gentoo penguin (Pygoscelis papua)",
          "Gentoo penguin (Pygoscelis papua)",
          "Gentoo penguin (Pygoscelis papua)",
          "Gentoo penguin (Pygoscelis papua)",
          "Gentoo penguin (Pygoscelis papua)",
          "Gentoo penguin (Pygoscelis papua)",
          "Gentoo penguin (Pygoscelis papua)",
          "Gentoo penguin (Pygoscelis papua)",
          "Gentoo penguin (Pygoscelis papua)",
          "Gentoo penguin (Pygoscelis papua)",
          "Gentoo penguin (Pygoscelis papua)",
          "Gentoo penguin (Pygoscelis papua)",
          "Gentoo penguin (Pygoscelis papua)",
          "Gentoo penguin (Pygoscelis papua)",
          "Gentoo penguin (Pygoscelis papua)",
          "Gentoo penguin (Pygoscelis papua)",
          "Gentoo penguin (Pygoscelis papua)",
          "Gentoo penguin (Pygoscelis papua)",
          "Gentoo penguin (Pygoscelis papua)",
          "Gentoo penguin (Pygoscelis papua)",
          "Gentoo penguin (Pygoscelis papua)",
          "Gentoo penguin (Pygoscelis papua)",
          "Gentoo penguin (Pygoscelis papua)",
          "Gentoo penguin (Pygoscelis papua)",
          "Gentoo penguin (Pygoscelis papua)",
          "Gentoo penguin (Pygoscelis papua)",
          "Gentoo penguin (Pygoscelis papua)",
          "Gentoo penguin (Pygoscelis papua)",
          "Gentoo penguin (Pygoscelis papua)",
          "Gentoo penguin (Pygoscelis papua)",
          "Gentoo penguin (Pygoscelis papua)",
          "Gentoo penguin (Pygoscelis papua)",
          "Gentoo penguin (Pygoscelis papua)",
          "Gentoo penguin (Pygoscelis papua)",
          "Gentoo penguin (Pygoscelis papua)",
          "Gentoo penguin (Pygoscelis papua)",
          "Gentoo penguin (Pygoscelis papua)",
          "Gentoo penguin (Pygoscelis papua)",
          "Gentoo penguin (Pygoscelis papua)",
          "Gentoo penguin (Pygoscelis papua)",
          "Gentoo penguin (Pygoscelis papua)",
          "Gentoo penguin (Pygoscelis papua)",
          "Gentoo penguin (Pygoscelis papua)",
          "Gentoo penguin (Pygoscelis papua)",
          "Gentoo penguin (Pygoscelis papua)",
          "Gentoo penguin (Pygoscelis papua)",
          "Gentoo penguin (Pygoscelis papua)",
          "Gentoo penguin (Pygoscelis papua)",
          "Gentoo penguin (Pygoscelis papua)",
          "Gentoo penguin (Pygoscelis papua)",
          "Gentoo penguin (Pygoscelis papua)",
          "Gentoo penguin (Pygoscelis papua)",
          "Gentoo penguin (Pygoscelis papua)",
          "Gentoo penguin (Pygoscelis papua)",
          "Gentoo penguin (Pygoscelis papua)",
          "Gentoo penguin (Pygoscelis papua)",
          "Gentoo penguin (Pygoscelis papua)",
          "Gentoo penguin (Pygoscelis papua)",
          "Gentoo penguin (Pygoscelis papua)",
          "Gentoo penguin (Pygoscelis papua)",
          "Gentoo penguin (Pygoscelis papua)",
          "Gentoo penguin (Pygoscelis papua)",
          "Gentoo penguin (Pygoscelis papua)",
          "Gentoo penguin (Pygoscelis papua)",
          "Gentoo penguin (Pygoscelis papua)"
         ],
         "type": "scatter",
         "x": [
          211,
          230,
          210,
          218,
          215,
          210,
          211,
          219,
          209,
          215,
          214,
          216,
          214,
          213,
          210,
          217,
          210,
          221,
          209,
          222,
          218,
          215,
          213,
          215,
          215,
          215,
          216,
          215,
          210,
          220,
          222,
          209,
          207,
          230,
          220,
          220,
          213,
          219,
          208,
          208,
          208,
          225,
          210,
          216,
          222,
          217,
          210,
          225,
          213,
          215,
          210,
          220,
          210,
          225,
          217,
          220,
          208,
          220,
          208,
          224,
          208,
          221,
          214,
          231,
          219,
          230,
          214,
          229,
          220,
          223,
          216,
          221,
          221,
          217,
          216,
          230,
          209,
          220,
          215,
          223,
          212,
          221,
          212,
          224,
          212,
          228,
          218,
          218,
          212,
          230,
          218,
          228,
          212,
          224,
          214,
          226,
          216,
          222,
          203,
          225,
          219,
          228,
          215,
          228,
          216,
          215,
          210,
          219,
          208,
          209,
          216,
          229,
          213,
          230,
          217,
          230,
          217,
          222,
          214,
          190,
          215,
          222,
          212,
          213
         ],
         "y": [
          4500,
          5700,
          4450,
          5700,
          5400,
          4550,
          4800,
          5200,
          4400,
          5150,
          4650,
          5550,
          4650,
          5850,
          4200,
          5850,
          4150,
          6300,
          4800,
          5350,
          5700,
          5000,
          4400,
          5050,
          5000,
          5100,
          4100,
          5650,
          4600,
          5550,
          5250,
          4700,
          5050,
          6050,
          5150,
          5400,
          4950,
          5250,
          4350,
          5350,
          3950,
          5700,
          4300,
          4750,
          5550,
          4900,
          4200,
          5400,
          5100,
          5300,
          4850,
          5300,
          4400,
          5000,
          4900,
          5050,
          4300,
          5000,
          4450,
          5550,
          4200,
          5300,
          4400,
          5650,
          4700,
          5700,
          4650,
          5800,
          4700,
          5550,
          4750,
          5000,
          5100,
          5200,
          4700,
          5800,
          4600,
          6000,
          4750,
          5950,
          4625,
          5450,
          4725,
          5350,
          4750,
          5600,
          4600,
          5300,
          4875,
          5550,
          4950,
          5400,
          4750,
          5650,
          4850,
          5200,
          4925,
          4875,
          4625,
          5250,
          4850,
          5600,
          4975,
          5500,
          4725,
          5500,
          4700,
          5500,
          4575,
          5500,
          5000,
          5950,
          4650,
          5500,
          4375,
          5850,
          4875,
          6000,
          4925,
          3800,
          4850,
          5750,
          5200,
          5400
         ]
        },
        {
         "marker": {
          "color": [
           "mediumorchid",
           "mediumorchid",
           "mediumorchid",
           "mediumorchid",
           "mediumorchid",
           "mediumorchid",
           "mediumorchid",
           "mediumorchid",
           "mediumorchid",
           "mediumorchid",
           "mediumorchid",
           "mediumorchid",
           "mediumorchid",
           "mediumorchid",
           "mediumorchid",
           "mediumorchid",
           "mediumorchid",
           "mediumorchid",
           "mediumorchid",
           "mediumorchid",
           "mediumorchid",
           "mediumorchid",
           "mediumorchid",
           "mediumorchid",
           "mediumorchid",
           "mediumorchid",
           "mediumorchid",
           "mediumorchid",
           "mediumorchid",
           "mediumorchid",
           "mediumorchid",
           "mediumorchid",
           "mediumorchid",
           "mediumorchid",
           "mediumorchid",
           "mediumorchid",
           "mediumorchid",
           "mediumorchid",
           "mediumorchid",
           "mediumorchid",
           "mediumorchid",
           "mediumorchid",
           "mediumorchid",
           "mediumorchid",
           "mediumorchid",
           "mediumorchid",
           "mediumorchid",
           "mediumorchid",
           "mediumorchid",
           "mediumorchid",
           "mediumorchid",
           "mediumorchid",
           "mediumorchid",
           "mediumorchid",
           "mediumorchid",
           "mediumorchid",
           "mediumorchid",
           "mediumorchid",
           "mediumorchid",
           "mediumorchid",
           "mediumorchid",
           "mediumorchid",
           "mediumorchid",
           "mediumorchid",
           "mediumorchid",
           "mediumorchid",
           "mediumorchid",
           "mediumorchid"
          ],
          "line": {
           "color": "rgb(0,0,0)",
           "width": 0.5
          },
          "size": 11,
          "symbol": "triangle-up"
         },
         "mode": "markers",
         "name": "Chinstrap penguin",
         "text": [
          "Chinstrap penguin (Pygoscelis antarctica)",
          "Chinstrap penguin (Pygoscelis antarctica)",
          "Chinstrap penguin (Pygoscelis antarctica)",
          "Chinstrap penguin (Pygoscelis antarctica)",
          "Chinstrap penguin (Pygoscelis antarctica)",
          "Chinstrap penguin (Pygoscelis antarctica)",
          "Chinstrap penguin (Pygoscelis antarctica)",
          "Chinstrap penguin (Pygoscelis antarctica)",
          "Chinstrap penguin (Pygoscelis antarctica)",
          "Chinstrap penguin (Pygoscelis antarctica)",
          "Chinstrap penguin (Pygoscelis antarctica)",
          "Chinstrap penguin (Pygoscelis antarctica)",
          "Chinstrap penguin (Pygoscelis antarctica)",
          "Chinstrap penguin (Pygoscelis antarctica)",
          "Chinstrap penguin (Pygoscelis antarctica)",
          "Chinstrap penguin (Pygoscelis antarctica)",
          "Chinstrap penguin (Pygoscelis antarctica)",
          "Chinstrap penguin (Pygoscelis antarctica)",
          "Chinstrap penguin (Pygoscelis antarctica)",
          "Chinstrap penguin (Pygoscelis antarctica)",
          "Chinstrap penguin (Pygoscelis antarctica)",
          "Chinstrap penguin (Pygoscelis antarctica)",
          "Chinstrap penguin (Pygoscelis antarctica)",
          "Chinstrap penguin (Pygoscelis antarctica)",
          "Chinstrap penguin (Pygoscelis antarctica)",
          "Chinstrap penguin (Pygoscelis antarctica)",
          "Chinstrap penguin (Pygoscelis antarctica)",
          "Chinstrap penguin (Pygoscelis antarctica)",
          "Chinstrap penguin (Pygoscelis antarctica)",
          "Chinstrap penguin (Pygoscelis antarctica)",
          "Chinstrap penguin (Pygoscelis antarctica)",
          "Chinstrap penguin (Pygoscelis antarctica)",
          "Chinstrap penguin (Pygoscelis antarctica)",
          "Chinstrap penguin (Pygoscelis antarctica)",
          "Chinstrap penguin (Pygoscelis antarctica)",
          "Chinstrap penguin (Pygoscelis antarctica)",
          "Chinstrap penguin (Pygoscelis antarctica)",
          "Chinstrap penguin (Pygoscelis antarctica)",
          "Chinstrap penguin (Pygoscelis antarctica)",
          "Chinstrap penguin (Pygoscelis antarctica)",
          "Chinstrap penguin (Pygoscelis antarctica)",
          "Chinstrap penguin (Pygoscelis antarctica)",
          "Chinstrap penguin (Pygoscelis antarctica)",
          "Chinstrap penguin (Pygoscelis antarctica)",
          "Chinstrap penguin (Pygoscelis antarctica)",
          "Chinstrap penguin (Pygoscelis antarctica)",
          "Chinstrap penguin (Pygoscelis antarctica)",
          "Chinstrap penguin (Pygoscelis antarctica)",
          "Chinstrap penguin (Pygoscelis antarctica)",
          "Chinstrap penguin (Pygoscelis antarctica)",
          "Chinstrap penguin (Pygoscelis antarctica)",
          "Chinstrap penguin (Pygoscelis antarctica)",
          "Chinstrap penguin (Pygoscelis antarctica)",
          "Chinstrap penguin (Pygoscelis antarctica)",
          "Chinstrap penguin (Pygoscelis antarctica)",
          "Chinstrap penguin (Pygoscelis antarctica)",
          "Chinstrap penguin (Pygoscelis antarctica)",
          "Chinstrap penguin (Pygoscelis antarctica)",
          "Chinstrap penguin (Pygoscelis antarctica)",
          "Chinstrap penguin (Pygoscelis antarctica)",
          "Chinstrap penguin (Pygoscelis antarctica)",
          "Chinstrap penguin (Pygoscelis antarctica)",
          "Chinstrap penguin (Pygoscelis antarctica)",
          "Chinstrap penguin (Pygoscelis antarctica)",
          "Chinstrap penguin (Pygoscelis antarctica)",
          "Chinstrap penguin (Pygoscelis antarctica)",
          "Chinstrap penguin (Pygoscelis antarctica)",
          "Chinstrap penguin (Pygoscelis antarctica)"
         ],
         "type": "scatter",
         "x": [
          192,
          196,
          193,
          188,
          197,
          198,
          178,
          197,
          195,
          198,
          193,
          194,
          185,
          201,
          190,
          201,
          197,
          181,
          190,
          195,
          181,
          191,
          187,
          193,
          195,
          197,
          200,
          200,
          191,
          205,
          187,
          201,
          187,
          203,
          195,
          199,
          195,
          210,
          192,
          205,
          210,
          187,
          196,
          196,
          196,
          201,
          190,
          212,
          187,
          198,
          199,
          201,
          193,
          203,
          187,
          197,
          191,
          203,
          202,
          194,
          206,
          189,
          195,
          207,
          202,
          193,
          210,
          198
         ],
         "y": [
          3500,
          3900,
          3650,
          3525,
          3725,
          3950,
          3250,
          3750,
          4150,
          3700,
          3800,
          3775,
          3700,
          4050,
          3575,
          4050,
          3300,
          3700,
          3450,
          4400,
          3600,
          3400,
          2900,
          3800,
          3300,
          4150,
          3400,
          3800,
          3700,
          4550,
          3200,
          4300,
          3350,
          4100,
          3600,
          3900,
          3850,
          4800,
          2700,
          4500,
          3950,
          3650,
          3550,
          3500,
          3675,
          4450,
          3400,
          4300,
          3250,
          3675,
          3325,
          3950,
          3600,
          4050,
          3350,
          3450,
          3250,
          4050,
          3800,
          3525,
          3950,
          3650,
          3650,
          4000,
          3400,
          3775,
          4100,
          3775
         ]
        }
       ],
       "layout": {
        "paper_bgcolor": "rgba(0,0,0,0)",
        "plot_bgcolor": "rgba(0,0,0,0)",
        "showlegend": true,
        "template": {
         "data": {
          "bar": [
           {
            "error_x": {
             "color": "#2a3f5f"
            },
            "error_y": {
             "color": "#2a3f5f"
            },
            "marker": {
             "line": {
              "color": "#E5ECF6",
              "width": 0.5
             }
            },
            "type": "bar"
           }
          ],
          "barpolar": [
           {
            "marker": {
             "line": {
              "color": "#E5ECF6",
              "width": 0.5
             }
            },
            "type": "barpolar"
           }
          ],
          "carpet": [
           {
            "aaxis": {
             "endlinecolor": "#2a3f5f",
             "gridcolor": "white",
             "linecolor": "white",
             "minorgridcolor": "white",
             "startlinecolor": "#2a3f5f"
            },
            "baxis": {
             "endlinecolor": "#2a3f5f",
             "gridcolor": "white",
             "linecolor": "white",
             "minorgridcolor": "white",
             "startlinecolor": "#2a3f5f"
            },
            "type": "carpet"
           }
          ],
          "choropleth": [
           {
            "colorbar": {
             "outlinewidth": 0,
             "ticks": ""
            },
            "type": "choropleth"
           }
          ],
          "contour": [
           {
            "colorbar": {
             "outlinewidth": 0,
             "ticks": ""
            },
            "colorscale": [
             [
              0,
              "#0d0887"
             ],
             [
              0.1111111111111111,
              "#46039f"
             ],
             [
              0.2222222222222222,
              "#7201a8"
             ],
             [
              0.3333333333333333,
              "#9c179e"
             ],
             [
              0.4444444444444444,
              "#bd3786"
             ],
             [
              0.5555555555555556,
              "#d8576b"
             ],
             [
              0.6666666666666666,
              "#ed7953"
             ],
             [
              0.7777777777777778,
              "#fb9f3a"
             ],
             [
              0.8888888888888888,
              "#fdca26"
             ],
             [
              1,
              "#f0f921"
             ]
            ],
            "type": "contour"
           }
          ],
          "contourcarpet": [
           {
            "colorbar": {
             "outlinewidth": 0,
             "ticks": ""
            },
            "type": "contourcarpet"
           }
          ],
          "heatmap": [
           {
            "colorbar": {
             "outlinewidth": 0,
             "ticks": ""
            },
            "colorscale": [
             [
              0,
              "#0d0887"
             ],
             [
              0.1111111111111111,
              "#46039f"
             ],
             [
              0.2222222222222222,
              "#7201a8"
             ],
             [
              0.3333333333333333,
              "#9c179e"
             ],
             [
              0.4444444444444444,
              "#bd3786"
             ],
             [
              0.5555555555555556,
              "#d8576b"
             ],
             [
              0.6666666666666666,
              "#ed7953"
             ],
             [
              0.7777777777777778,
              "#fb9f3a"
             ],
             [
              0.8888888888888888,
              "#fdca26"
             ],
             [
              1,
              "#f0f921"
             ]
            ],
            "type": "heatmap"
           }
          ],
          "heatmapgl": [
           {
            "colorbar": {
             "outlinewidth": 0,
             "ticks": ""
            },
            "colorscale": [
             [
              0,
              "#0d0887"
             ],
             [
              0.1111111111111111,
              "#46039f"
             ],
             [
              0.2222222222222222,
              "#7201a8"
             ],
             [
              0.3333333333333333,
              "#9c179e"
             ],
             [
              0.4444444444444444,
              "#bd3786"
             ],
             [
              0.5555555555555556,
              "#d8576b"
             ],
             [
              0.6666666666666666,
              "#ed7953"
             ],
             [
              0.7777777777777778,
              "#fb9f3a"
             ],
             [
              0.8888888888888888,
              "#fdca26"
             ],
             [
              1,
              "#f0f921"
             ]
            ],
            "type": "heatmapgl"
           }
          ],
          "histogram": [
           {
            "marker": {
             "colorbar": {
              "outlinewidth": 0,
              "ticks": ""
             }
            },
            "type": "histogram"
           }
          ],
          "histogram2d": [
           {
            "colorbar": {
             "outlinewidth": 0,
             "ticks": ""
            },
            "colorscale": [
             [
              0,
              "#0d0887"
             ],
             [
              0.1111111111111111,
              "#46039f"
             ],
             [
              0.2222222222222222,
              "#7201a8"
             ],
             [
              0.3333333333333333,
              "#9c179e"
             ],
             [
              0.4444444444444444,
              "#bd3786"
             ],
             [
              0.5555555555555556,
              "#d8576b"
             ],
             [
              0.6666666666666666,
              "#ed7953"
             ],
             [
              0.7777777777777778,
              "#fb9f3a"
             ],
             [
              0.8888888888888888,
              "#fdca26"
             ],
             [
              1,
              "#f0f921"
             ]
            ],
            "type": "histogram2d"
           }
          ],
          "histogram2dcontour": [
           {
            "colorbar": {
             "outlinewidth": 0,
             "ticks": ""
            },
            "colorscale": [
             [
              0,
              "#0d0887"
             ],
             [
              0.1111111111111111,
              "#46039f"
             ],
             [
              0.2222222222222222,
              "#7201a8"
             ],
             [
              0.3333333333333333,
              "#9c179e"
             ],
             [
              0.4444444444444444,
              "#bd3786"
             ],
             [
              0.5555555555555556,
              "#d8576b"
             ],
             [
              0.6666666666666666,
              "#ed7953"
             ],
             [
              0.7777777777777778,
              "#fb9f3a"
             ],
             [
              0.8888888888888888,
              "#fdca26"
             ],
             [
              1,
              "#f0f921"
             ]
            ],
            "type": "histogram2dcontour"
           }
          ],
          "mesh3d": [
           {
            "colorbar": {
             "outlinewidth": 0,
             "ticks": ""
            },
            "type": "mesh3d"
           }
          ],
          "parcoords": [
           {
            "line": {
             "colorbar": {
              "outlinewidth": 0,
              "ticks": ""
             }
            },
            "type": "parcoords"
           }
          ],
          "pie": [
           {
            "automargin": true,
            "type": "pie"
           }
          ],
          "scatter": [
           {
            "marker": {
             "colorbar": {
              "outlinewidth": 0,
              "ticks": ""
             }
            },
            "type": "scatter"
           }
          ],
          "scatter3d": [
           {
            "line": {
             "colorbar": {
              "outlinewidth": 0,
              "ticks": ""
             }
            },
            "marker": {
             "colorbar": {
              "outlinewidth": 0,
              "ticks": ""
             }
            },
            "type": "scatter3d"
           }
          ],
          "scattercarpet": [
           {
            "marker": {
             "colorbar": {
              "outlinewidth": 0,
              "ticks": ""
             }
            },
            "type": "scattercarpet"
           }
          ],
          "scattergeo": [
           {
            "marker": {
             "colorbar": {
              "outlinewidth": 0,
              "ticks": ""
             }
            },
            "type": "scattergeo"
           }
          ],
          "scattergl": [
           {
            "marker": {
             "colorbar": {
              "outlinewidth": 0,
              "ticks": ""
             }
            },
            "type": "scattergl"
           }
          ],
          "scattermapbox": [
           {
            "marker": {
             "colorbar": {
              "outlinewidth": 0,
              "ticks": ""
             }
            },
            "type": "scattermapbox"
           }
          ],
          "scatterpolar": [
           {
            "marker": {
             "colorbar": {
              "outlinewidth": 0,
              "ticks": ""
             }
            },
            "type": "scatterpolar"
           }
          ],
          "scatterpolargl": [
           {
            "marker": {
             "colorbar": {
              "outlinewidth": 0,
              "ticks": ""
             }
            },
            "type": "scatterpolargl"
           }
          ],
          "scatterternary": [
           {
            "marker": {
             "colorbar": {
              "outlinewidth": 0,
              "ticks": ""
             }
            },
            "type": "scatterternary"
           }
          ],
          "surface": [
           {
            "colorbar": {
             "outlinewidth": 0,
             "ticks": ""
            },
            "colorscale": [
             [
              0,
              "#0d0887"
             ],
             [
              0.1111111111111111,
              "#46039f"
             ],
             [
              0.2222222222222222,
              "#7201a8"
             ],
             [
              0.3333333333333333,
              "#9c179e"
             ],
             [
              0.4444444444444444,
              "#bd3786"
             ],
             [
              0.5555555555555556,
              "#d8576b"
             ],
             [
              0.6666666666666666,
              "#ed7953"
             ],
             [
              0.7777777777777778,
              "#fb9f3a"
             ],
             [
              0.8888888888888888,
              "#fdca26"
             ],
             [
              1,
              "#f0f921"
             ]
            ],
            "type": "surface"
           }
          ],
          "table": [
           {
            "cells": {
             "fill": {
              "color": "#EBF0F8"
             },
             "line": {
              "color": "white"
             }
            },
            "header": {
             "fill": {
              "color": "#C8D4E3"
             },
             "line": {
              "color": "white"
             }
            },
            "type": "table"
           }
          ]
         },
         "layout": {
          "annotationdefaults": {
           "arrowcolor": "#2a3f5f",
           "arrowhead": 0,
           "arrowwidth": 1
          },
          "coloraxis": {
           "colorbar": {
            "outlinewidth": 0,
            "ticks": ""
           }
          },
          "colorscale": {
           "diverging": [
            [
             0,
             "#8e0152"
            ],
            [
             0.1,
             "#c51b7d"
            ],
            [
             0.2,
             "#de77ae"
            ],
            [
             0.3,
             "#f1b6da"
            ],
            [
             0.4,
             "#fde0ef"
            ],
            [
             0.5,
             "#f7f7f7"
            ],
            [
             0.6,
             "#e6f5d0"
            ],
            [
             0.7,
             "#b8e186"
            ],
            [
             0.8,
             "#7fbc41"
            ],
            [
             0.9,
             "#4d9221"
            ],
            [
             1,
             "#276419"
            ]
           ],
           "sequential": [
            [
             0,
             "#0d0887"
            ],
            [
             0.1111111111111111,
             "#46039f"
            ],
            [
             0.2222222222222222,
             "#7201a8"
            ],
            [
             0.3333333333333333,
             "#9c179e"
            ],
            [
             0.4444444444444444,
             "#bd3786"
            ],
            [
             0.5555555555555556,
             "#d8576b"
            ],
            [
             0.6666666666666666,
             "#ed7953"
            ],
            [
             0.7777777777777778,
             "#fb9f3a"
            ],
            [
             0.8888888888888888,
             "#fdca26"
            ],
            [
             1,
             "#f0f921"
            ]
           ],
           "sequentialminus": [
            [
             0,
             "#0d0887"
            ],
            [
             0.1111111111111111,
             "#46039f"
            ],
            [
             0.2222222222222222,
             "#7201a8"
            ],
            [
             0.3333333333333333,
             "#9c179e"
            ],
            [
             0.4444444444444444,
             "#bd3786"
            ],
            [
             0.5555555555555556,
             "#d8576b"
            ],
            [
             0.6666666666666666,
             "#ed7953"
            ],
            [
             0.7777777777777778,
             "#fb9f3a"
            ],
            [
             0.8888888888888888,
             "#fdca26"
            ],
            [
             1,
             "#f0f921"
            ]
           ]
          },
          "colorway": [
           "#636efa",
           "#EF553B",
           "#00cc96",
           "#ab63fa",
           "#FFA15A",
           "#19d3f3",
           "#FF6692",
           "#B6E880",
           "#FF97FF",
           "#FECB52"
          ],
          "font": {
           "color": "#2a3f5f"
          },
          "geo": {
           "bgcolor": "white",
           "lakecolor": "white",
           "landcolor": "#E5ECF6",
           "showlakes": true,
           "showland": true,
           "subunitcolor": "white"
          },
          "hoverlabel": {
           "align": "left"
          },
          "hovermode": "closest",
          "mapbox": {
           "style": "light"
          },
          "paper_bgcolor": "white",
          "plot_bgcolor": "#E5ECF6",
          "polar": {
           "angularaxis": {
            "gridcolor": "white",
            "linecolor": "white",
            "ticks": ""
           },
           "bgcolor": "#E5ECF6",
           "radialaxis": {
            "gridcolor": "white",
            "linecolor": "white",
            "ticks": ""
           }
          },
          "scene": {
           "xaxis": {
            "backgroundcolor": "#E5ECF6",
            "gridcolor": "white",
            "gridwidth": 2,
            "linecolor": "white",
            "showbackground": true,
            "ticks": "",
            "zerolinecolor": "white"
           },
           "yaxis": {
            "backgroundcolor": "#E5ECF6",
            "gridcolor": "white",
            "gridwidth": 2,
            "linecolor": "white",
            "showbackground": true,
            "ticks": "",
            "zerolinecolor": "white"
           },
           "zaxis": {
            "backgroundcolor": "#E5ECF6",
            "gridcolor": "white",
            "gridwidth": 2,
            "linecolor": "white",
            "showbackground": true,
            "ticks": "",
            "zerolinecolor": "white"
           }
          },
          "shapedefaults": {
           "line": {
            "color": "#2a3f5f"
           }
          },
          "ternary": {
           "aaxis": {
            "gridcolor": "white",
            "linecolor": "white",
            "ticks": ""
           },
           "baxis": {
            "gridcolor": "white",
            "linecolor": "white",
            "ticks": ""
           },
           "bgcolor": "#E5ECF6",
           "caxis": {
            "gridcolor": "white",
            "linecolor": "white",
            "ticks": ""
           }
          },
          "title": {
           "x": 0.05
          },
          "xaxis": {
           "automargin": true,
           "gridcolor": "white",
           "linecolor": "white",
           "ticks": "",
           "title": {
            "standoff": 15
           },
           "zerolinecolor": "white",
           "zerolinewidth": 2
          },
          "yaxis": {
           "automargin": true,
           "gridcolor": "white",
           "linecolor": "white",
           "ticks": "",
           "title": {
            "standoff": 15
           },
           "zerolinecolor": "white",
           "zerolinewidth": 2
          }
         }
        },
        "title": {
         "text": "<b>Flipper Length (mm) vs. Body Mass (g)</b>"
        },
        "xaxis": {
         "title": {
          "text": "Flipper Length (mm)"
         }
        },
        "yaxis": {
         "title": {
          "text": "Body Mass (g)"
         }
        }
       }
      },
      "text/html": [
       "<div>\n",
       "        \n",
       "        \n",
       "            <div id=\"058b5014-9759-4ffb-83f0-359ea5727b69\" class=\"plotly-graph-div\" style=\"height:525px; width:100%;\"></div>\n",
       "            <script type=\"text/javascript\">\n",
       "                require([\"plotly\"], function(Plotly) {\n",
       "                    window.PLOTLYENV=window.PLOTLYENV || {};\n",
       "                    \n",
       "                if (document.getElementById(\"058b5014-9759-4ffb-83f0-359ea5727b69\")) {\n",
       "                    Plotly.newPlot(\n",
       "                        '058b5014-9759-4ffb-83f0-359ea5727b69',\n",
       "                        [{\"marker\": {\"color\": [\"darkorange\", \"darkorange\", \"darkorange\", \"darkorange\", \"darkorange\", \"darkorange\", \"darkorange\", \"darkorange\", \"darkorange\", \"darkorange\", \"darkorange\", \"darkorange\", \"darkorange\", \"darkorange\", \"darkorange\", \"darkorange\", \"darkorange\", \"darkorange\", \"darkorange\", \"darkorange\", \"darkorange\", \"darkorange\", \"darkorange\", \"darkorange\", \"darkorange\", \"darkorange\", \"darkorange\", \"darkorange\", \"darkorange\", \"darkorange\", \"darkorange\", \"darkorange\", \"darkorange\", \"darkorange\", \"darkorange\", \"darkorange\", \"darkorange\", \"darkorange\", \"darkorange\", \"darkorange\", \"darkorange\", \"darkorange\", \"darkorange\", \"darkorange\", \"darkorange\", \"darkorange\", \"darkorange\", \"darkorange\", \"darkorange\", \"darkorange\", \"darkorange\", \"darkorange\", \"darkorange\", \"darkorange\", \"darkorange\", \"darkorange\", \"darkorange\", \"darkorange\", \"darkorange\", \"darkorange\", \"darkorange\", \"darkorange\", \"darkorange\", \"darkorange\", \"darkorange\", \"darkorange\", \"darkorange\", \"darkorange\", \"darkorange\", \"darkorange\", \"darkorange\", \"darkorange\", \"darkorange\", \"darkorange\", \"darkorange\", \"darkorange\", \"darkorange\", \"darkorange\", \"darkorange\", \"darkorange\", \"darkorange\", \"darkorange\", \"darkorange\", \"darkorange\", \"darkorange\", \"darkorange\", \"darkorange\", \"darkorange\", \"darkorange\", \"darkorange\", \"darkorange\", \"darkorange\", \"darkorange\", \"darkorange\", \"darkorange\", \"darkorange\", \"darkorange\", \"darkorange\", \"darkorange\", \"darkorange\", \"darkorange\", \"darkorange\", \"darkorange\", \"darkorange\", \"darkorange\", \"darkorange\", \"darkorange\", \"darkorange\", \"darkorange\", \"darkorange\", \"darkorange\", \"darkorange\", \"darkorange\", \"darkorange\", \"darkorange\", \"darkorange\", \"darkorange\", \"darkorange\", \"darkorange\", \"darkorange\", \"darkorange\", \"darkorange\", \"darkorange\", \"darkorange\", \"darkorange\", \"darkorange\", \"darkorange\", \"darkorange\", \"darkorange\", \"darkorange\", \"darkorange\", \"darkorange\", \"darkorange\", \"darkorange\", \"darkorange\", \"darkorange\", \"darkorange\", \"darkorange\", \"darkorange\", \"darkorange\", \"darkorange\", \"darkorange\", \"darkorange\", \"darkorange\", \"darkorange\", \"darkorange\", \"darkorange\", \"darkorange\", \"darkorange\", \"darkorange\", \"darkorange\", \"darkorange\"], \"line\": {\"color\": \"rgb(0,0,0)\", \"width\": 0.5}, \"size\": 9, \"symbol\": \"circle\"}, \"mode\": \"markers\", \"name\": \"Adelie Penguin\", \"text\": [\"Adelie Penguin (Pygoscelis adeliae)\", \"Adelie Penguin (Pygoscelis adeliae)\", \"Adelie Penguin (Pygoscelis adeliae)\", \"Adelie Penguin (Pygoscelis adeliae)\", \"Adelie Penguin (Pygoscelis adeliae)\", \"Adelie Penguin (Pygoscelis adeliae)\", \"Adelie Penguin (Pygoscelis adeliae)\", \"Adelie Penguin (Pygoscelis adeliae)\", \"Adelie Penguin (Pygoscelis adeliae)\", \"Adelie Penguin (Pygoscelis adeliae)\", \"Adelie Penguin (Pygoscelis adeliae)\", \"Adelie Penguin (Pygoscelis adeliae)\", \"Adelie Penguin (Pygoscelis adeliae)\", \"Adelie Penguin (Pygoscelis adeliae)\", \"Adelie Penguin (Pygoscelis adeliae)\", \"Adelie Penguin (Pygoscelis adeliae)\", \"Adelie Penguin (Pygoscelis adeliae)\", \"Adelie Penguin (Pygoscelis adeliae)\", \"Adelie Penguin (Pygoscelis adeliae)\", \"Adelie Penguin (Pygoscelis adeliae)\", \"Adelie Penguin (Pygoscelis adeliae)\", \"Adelie Penguin (Pygoscelis adeliae)\", \"Adelie Penguin (Pygoscelis adeliae)\", \"Adelie Penguin (Pygoscelis adeliae)\", \"Adelie Penguin (Pygoscelis adeliae)\", \"Adelie Penguin (Pygoscelis adeliae)\", \"Adelie Penguin (Pygoscelis adeliae)\", \"Adelie Penguin (Pygoscelis adeliae)\", \"Adelie Penguin (Pygoscelis adeliae)\", \"Adelie Penguin (Pygoscelis adeliae)\", \"Adelie Penguin (Pygoscelis adeliae)\", \"Adelie Penguin (Pygoscelis adeliae)\", \"Adelie Penguin (Pygoscelis adeliae)\", \"Adelie Penguin (Pygoscelis adeliae)\", \"Adelie Penguin (Pygoscelis adeliae)\", \"Adelie Penguin (Pygoscelis adeliae)\", \"Adelie Penguin (Pygoscelis adeliae)\", \"Adelie Penguin (Pygoscelis adeliae)\", \"Adelie Penguin (Pygoscelis adeliae)\", \"Adelie Penguin (Pygoscelis adeliae)\", \"Adelie Penguin (Pygoscelis adeliae)\", \"Adelie Penguin (Pygoscelis adeliae)\", \"Adelie Penguin (Pygoscelis adeliae)\", \"Adelie Penguin (Pygoscelis adeliae)\", \"Adelie Penguin (Pygoscelis adeliae)\", \"Adelie Penguin (Pygoscelis adeliae)\", \"Adelie Penguin (Pygoscelis adeliae)\", \"Adelie Penguin (Pygoscelis adeliae)\", \"Adelie Penguin (Pygoscelis adeliae)\", \"Adelie Penguin (Pygoscelis adeliae)\", \"Adelie Penguin (Pygoscelis adeliae)\", \"Adelie Penguin (Pygoscelis adeliae)\", \"Adelie Penguin (Pygoscelis adeliae)\", \"Adelie Penguin (Pygoscelis adeliae)\", \"Adelie Penguin (Pygoscelis adeliae)\", \"Adelie Penguin (Pygoscelis adeliae)\", \"Adelie Penguin (Pygoscelis adeliae)\", \"Adelie Penguin (Pygoscelis adeliae)\", \"Adelie Penguin (Pygoscelis adeliae)\", \"Adelie Penguin (Pygoscelis adeliae)\", \"Adelie Penguin (Pygoscelis adeliae)\", \"Adelie Penguin (Pygoscelis adeliae)\", \"Adelie Penguin (Pygoscelis adeliae)\", \"Adelie Penguin (Pygoscelis adeliae)\", \"Adelie Penguin (Pygoscelis adeliae)\", \"Adelie Penguin (Pygoscelis adeliae)\", \"Adelie Penguin (Pygoscelis adeliae)\", \"Adelie Penguin (Pygoscelis adeliae)\", \"Adelie Penguin (Pygoscelis adeliae)\", \"Adelie Penguin (Pygoscelis adeliae)\", \"Adelie Penguin (Pygoscelis adeliae)\", \"Adelie Penguin (Pygoscelis adeliae)\", \"Adelie Penguin (Pygoscelis adeliae)\", \"Adelie Penguin (Pygoscelis adeliae)\", \"Adelie Penguin (Pygoscelis adeliae)\", \"Adelie Penguin (Pygoscelis adeliae)\", \"Adelie Penguin (Pygoscelis adeliae)\", \"Adelie Penguin (Pygoscelis adeliae)\", \"Adelie Penguin (Pygoscelis adeliae)\", \"Adelie Penguin (Pygoscelis adeliae)\", \"Adelie Penguin (Pygoscelis adeliae)\", \"Adelie Penguin (Pygoscelis adeliae)\", \"Adelie Penguin (Pygoscelis adeliae)\", \"Adelie Penguin (Pygoscelis adeliae)\", \"Adelie Penguin (Pygoscelis adeliae)\", \"Adelie Penguin (Pygoscelis adeliae)\", \"Adelie Penguin (Pygoscelis adeliae)\", \"Adelie Penguin (Pygoscelis adeliae)\", \"Adelie Penguin (Pygoscelis adeliae)\", \"Adelie Penguin (Pygoscelis adeliae)\", \"Adelie Penguin (Pygoscelis adeliae)\", \"Adelie Penguin (Pygoscelis adeliae)\", \"Adelie Penguin (Pygoscelis adeliae)\", \"Adelie Penguin (Pygoscelis adeliae)\", \"Adelie Penguin (Pygoscelis adeliae)\", \"Adelie Penguin (Pygoscelis adeliae)\", \"Adelie Penguin (Pygoscelis adeliae)\", \"Adelie Penguin (Pygoscelis adeliae)\", \"Adelie Penguin (Pygoscelis adeliae)\", \"Adelie Penguin (Pygoscelis adeliae)\", \"Adelie Penguin (Pygoscelis adeliae)\", \"Adelie Penguin (Pygoscelis adeliae)\", \"Adelie Penguin (Pygoscelis adeliae)\", \"Adelie Penguin (Pygoscelis adeliae)\", \"Adelie Penguin (Pygoscelis adeliae)\", \"Adelie Penguin (Pygoscelis adeliae)\", \"Adelie Penguin (Pygoscelis adeliae)\", \"Adelie Penguin (Pygoscelis adeliae)\", \"Adelie Penguin (Pygoscelis adeliae)\", \"Adelie Penguin (Pygoscelis adeliae)\", \"Adelie Penguin (Pygoscelis adeliae)\", \"Adelie Penguin (Pygoscelis adeliae)\", \"Adelie Penguin (Pygoscelis adeliae)\", \"Adelie Penguin (Pygoscelis adeliae)\", \"Adelie Penguin (Pygoscelis adeliae)\", \"Adelie Penguin (Pygoscelis adeliae)\", \"Adelie Penguin (Pygoscelis adeliae)\", \"Adelie Penguin (Pygoscelis adeliae)\", \"Adelie Penguin (Pygoscelis adeliae)\", \"Adelie Penguin (Pygoscelis adeliae)\", \"Adelie Penguin (Pygoscelis adeliae)\", \"Adelie Penguin (Pygoscelis adeliae)\", \"Adelie Penguin (Pygoscelis adeliae)\", \"Adelie Penguin (Pygoscelis adeliae)\", \"Adelie Penguin (Pygoscelis adeliae)\", \"Adelie Penguin (Pygoscelis adeliae)\", \"Adelie Penguin (Pygoscelis adeliae)\", \"Adelie Penguin (Pygoscelis adeliae)\", \"Adelie Penguin (Pygoscelis adeliae)\", \"Adelie Penguin (Pygoscelis adeliae)\", \"Adelie Penguin (Pygoscelis adeliae)\", \"Adelie Penguin (Pygoscelis adeliae)\", \"Adelie Penguin (Pygoscelis adeliae)\", \"Adelie Penguin (Pygoscelis adeliae)\", \"Adelie Penguin (Pygoscelis adeliae)\", \"Adelie Penguin (Pygoscelis adeliae)\", \"Adelie Penguin (Pygoscelis adeliae)\", \"Adelie Penguin (Pygoscelis adeliae)\", \"Adelie Penguin (Pygoscelis adeliae)\", \"Adelie Penguin (Pygoscelis adeliae)\", \"Adelie Penguin (Pygoscelis adeliae)\", \"Adelie Penguin (Pygoscelis adeliae)\", \"Adelie Penguin (Pygoscelis adeliae)\", \"Adelie Penguin (Pygoscelis adeliae)\", \"Adelie Penguin (Pygoscelis adeliae)\", \"Adelie Penguin (Pygoscelis adeliae)\", \"Adelie Penguin (Pygoscelis adeliae)\", \"Adelie Penguin (Pygoscelis adeliae)\", \"Adelie Penguin (Pygoscelis adeliae)\", \"Adelie Penguin (Pygoscelis adeliae)\", \"Adelie Penguin (Pygoscelis adeliae)\", \"Adelie Penguin (Pygoscelis adeliae)\"], \"type\": \"scatter\", \"x\": [181.0, 186.0, 195.0, 190.0, 193.0, 190.0, 181.0, 195.0, 193.0, 190.0, 186.0, 180.0, 182.0, 191.0, 198.0, 185.0, 195.0, 197.0, 184.0, 194.0, 174.0, 180.0, 189.0, 185.0, 180.0, 187.0, 183.0, 187.0, 172.0, 180.0, 178.0, 178.0, 188.0, 184.0, 195.0, 196.0, 190.0, 180.0, 181.0, 184.0, 182.0, 195.0, 186.0, 196.0, 185.0, 190.0, 182.0, 179.0, 190.0, 191.0, 186.0, 188.0, 190.0, 200.0, 187.0, 191.0, 186.0, 193.0, 181.0, 194.0, 185.0, 195.0, 185.0, 192.0, 184.0, 192.0, 195.0, 188.0, 190.0, 198.0, 190.0, 190.0, 196.0, 197.0, 190.0, 195.0, 191.0, 184.0, 187.0, 195.0, 189.0, 196.0, 187.0, 193.0, 191.0, 194.0, 190.0, 189.0, 189.0, 190.0, 202.0, 205.0, 185.0, 186.0, 187.0, 208.0, 190.0, 196.0, 178.0, 192.0, 192.0, 203.0, 183.0, 190.0, 193.0, 184.0, 199.0, 190.0, 181.0, 197.0, 198.0, 191.0, 193.0, 197.0, 191.0, 196.0, 188.0, 199.0, 189.0, 189.0, 187.0, 198.0, 176.0, 202.0, 186.0, 199.0, 191.0, 195.0, 191.0, 210.0, 190.0, 197.0, 193.0, 199.0, 187.0, 190.0, 191.0, 200.0, 185.0, 193.0, 193.0, 187.0, 188.0, 190.0, 192.0, 185.0, 190.0, 184.0, 195.0, 193.0, 187.0, 201.0], \"y\": [3750.0, 3800.0, 3250.0, 3800.0, 3450.0, 3650.0, 3625.0, 4675.0, 3475.0, 4250.0, 3300.0, 3700.0, 3200.0, 3800.0, 4400.0, 3700.0, 3450.0, 4500.0, 3325.0, 4200.0, 3400.0, 3600.0, 3800.0, 3950.0, 3800.0, 3800.0, 3550.0, 3200.0, 3150.0, 3950.0, 3250.0, 3900.0, 3300.0, 3900.0, 3325.0, 4150.0, 3950.0, 3550.0, 3300.0, 4650.0, 3150.0, 3900.0, 3100.0, 4400.0, 3000.0, 4600.0, 3425.0, 2975.0, 3450.0, 4150.0, 3500.0, 4300.0, 3450.0, 4050.0, 2900.0, 3700.0, 3550.0, 3800.0, 2850.0, 3750.0, 3150.0, 4400.0, 3600.0, 4050.0, 2850.0, 3950.0, 3350.0, 4100.0, 3050.0, 4450.0, 3600.0, 3900.0, 3550.0, 4150.0, 3700.0, 4250.0, 3700.0, 3900.0, 3550.0, 4000.0, 3200.0, 4700.0, 3800.0, 4200.0, 3350.0, 3550.0, 3800.0, 3500.0, 3950.0, 3600.0, 3550.0, 4300.0, 3400.0, 4450.0, 3300.0, 4300.0, 3700.0, 4350.0, 2900.0, 4100.0, 3725.0, 4725.0, 3075.0, 4250.0, 2925.0, 3550.0, 3750.0, 3900.0, 3175.0, 4775.0, 3825.0, 4600.0, 3200.0, 4275.0, 3900.0, 4075.0, 2900.0, 3775.0, 3350.0, 3325.0, 3150.0, 3500.0, 3450.0, 3875.0, 3050.0, 4000.0, 3275.0, 4300.0, 3050.0, 4000.0, 3325.0, 3500.0, 3500.0, 4475.0, 3425.0, 3900.0, 3175.0, 3975.0, 3400.0, 4250.0, 3400.0, 3475.0, 3050.0, 3725.0, 3000.0, 3650.0, 4250.0, 3475.0, 3450.0, 3750.0, 3700.0, 4000.0]}, {\"marker\": {\"color\": [\"teal\", \"teal\", \"teal\", \"teal\", \"teal\", \"teal\", \"teal\", \"teal\", \"teal\", \"teal\", \"teal\", \"teal\", \"teal\", \"teal\", \"teal\", \"teal\", \"teal\", \"teal\", \"teal\", \"teal\", \"teal\", \"teal\", \"teal\", \"teal\", \"teal\", \"teal\", \"teal\", \"teal\", \"teal\", \"teal\", \"teal\", \"teal\", \"teal\", \"teal\", \"teal\", \"teal\", \"teal\", \"teal\", \"teal\", \"teal\", \"teal\", \"teal\", \"teal\", \"teal\", \"teal\", \"teal\", \"teal\", \"teal\", \"teal\", \"teal\", \"teal\", \"teal\", \"teal\", \"teal\", \"teal\", \"teal\", \"teal\", \"teal\", \"teal\", \"teal\", \"teal\", \"teal\", \"teal\", \"teal\", \"teal\", \"teal\", \"teal\", \"teal\", \"teal\", \"teal\", \"teal\", \"teal\", \"teal\", \"teal\", \"teal\", \"teal\", \"teal\", \"teal\", \"teal\", \"teal\", \"teal\", \"teal\", \"teal\", \"teal\", \"teal\", \"teal\", \"teal\", \"teal\", \"teal\", \"teal\", \"teal\", \"teal\", \"teal\", \"teal\", \"teal\", \"teal\", \"teal\", \"teal\", \"teal\", \"teal\", \"teal\", \"teal\", \"teal\", \"teal\", \"teal\", \"teal\", \"teal\", \"teal\", \"teal\", \"teal\", \"teal\", \"teal\", \"teal\", \"teal\", \"teal\", \"teal\", \"teal\", \"teal\", \"teal\", \"teal\", \"teal\", \"teal\", \"teal\", \"teal\"], \"line\": {\"color\": \"rgb(0,0,0)\", \"width\": 0.5}, \"size\": 9, \"symbol\": \"square\"}, \"mode\": \"markers\", \"name\": \"Gentoo penguin\", \"text\": [\"Gentoo penguin (Pygoscelis papua)\", \"Gentoo penguin (Pygoscelis papua)\", \"Gentoo penguin (Pygoscelis papua)\", \"Gentoo penguin (Pygoscelis papua)\", \"Gentoo penguin (Pygoscelis papua)\", \"Gentoo penguin (Pygoscelis papua)\", \"Gentoo penguin (Pygoscelis papua)\", \"Gentoo penguin (Pygoscelis papua)\", \"Gentoo penguin (Pygoscelis papua)\", \"Gentoo penguin (Pygoscelis papua)\", \"Gentoo penguin (Pygoscelis papua)\", \"Gentoo penguin (Pygoscelis papua)\", \"Gentoo penguin (Pygoscelis papua)\", \"Gentoo penguin (Pygoscelis papua)\", \"Gentoo penguin (Pygoscelis papua)\", \"Gentoo penguin (Pygoscelis papua)\", \"Gentoo penguin (Pygoscelis papua)\", \"Gentoo penguin (Pygoscelis papua)\", \"Gentoo penguin (Pygoscelis papua)\", \"Gentoo penguin (Pygoscelis papua)\", \"Gentoo penguin (Pygoscelis papua)\", \"Gentoo penguin (Pygoscelis papua)\", \"Gentoo penguin (Pygoscelis papua)\", \"Gentoo penguin (Pygoscelis papua)\", \"Gentoo penguin (Pygoscelis papua)\", \"Gentoo penguin (Pygoscelis papua)\", \"Gentoo penguin (Pygoscelis papua)\", \"Gentoo penguin (Pygoscelis papua)\", \"Gentoo penguin (Pygoscelis papua)\", \"Gentoo penguin (Pygoscelis papua)\", \"Gentoo penguin (Pygoscelis papua)\", \"Gentoo penguin (Pygoscelis papua)\", \"Gentoo penguin (Pygoscelis papua)\", \"Gentoo penguin (Pygoscelis papua)\", \"Gentoo penguin (Pygoscelis papua)\", \"Gentoo penguin (Pygoscelis papua)\", \"Gentoo penguin (Pygoscelis papua)\", \"Gentoo penguin (Pygoscelis papua)\", \"Gentoo penguin (Pygoscelis papua)\", \"Gentoo penguin (Pygoscelis papua)\", \"Gentoo penguin (Pygoscelis papua)\", \"Gentoo penguin (Pygoscelis papua)\", \"Gentoo penguin (Pygoscelis papua)\", \"Gentoo penguin (Pygoscelis papua)\", \"Gentoo penguin (Pygoscelis papua)\", \"Gentoo penguin (Pygoscelis papua)\", \"Gentoo penguin (Pygoscelis papua)\", \"Gentoo penguin (Pygoscelis papua)\", \"Gentoo penguin (Pygoscelis papua)\", \"Gentoo penguin (Pygoscelis papua)\", \"Gentoo penguin (Pygoscelis papua)\", \"Gentoo penguin (Pygoscelis papua)\", \"Gentoo penguin (Pygoscelis papua)\", \"Gentoo penguin (Pygoscelis papua)\", \"Gentoo penguin (Pygoscelis papua)\", \"Gentoo penguin (Pygoscelis papua)\", \"Gentoo penguin (Pygoscelis papua)\", \"Gentoo penguin (Pygoscelis papua)\", \"Gentoo penguin (Pygoscelis papua)\", \"Gentoo penguin (Pygoscelis papua)\", \"Gentoo penguin (Pygoscelis papua)\", \"Gentoo penguin (Pygoscelis papua)\", \"Gentoo penguin (Pygoscelis papua)\", \"Gentoo penguin (Pygoscelis papua)\", \"Gentoo penguin (Pygoscelis papua)\", \"Gentoo penguin (Pygoscelis papua)\", \"Gentoo penguin (Pygoscelis papua)\", \"Gentoo penguin (Pygoscelis papua)\", \"Gentoo penguin (Pygoscelis papua)\", \"Gentoo penguin (Pygoscelis papua)\", \"Gentoo penguin (Pygoscelis papua)\", \"Gentoo penguin (Pygoscelis papua)\", \"Gentoo penguin (Pygoscelis papua)\", \"Gentoo penguin (Pygoscelis papua)\", \"Gentoo penguin (Pygoscelis papua)\", \"Gentoo penguin (Pygoscelis papua)\", \"Gentoo penguin (Pygoscelis papua)\", \"Gentoo penguin (Pygoscelis papua)\", \"Gentoo penguin (Pygoscelis papua)\", \"Gentoo penguin (Pygoscelis papua)\", \"Gentoo penguin (Pygoscelis papua)\", \"Gentoo penguin (Pygoscelis papua)\", \"Gentoo penguin (Pygoscelis papua)\", \"Gentoo penguin (Pygoscelis papua)\", \"Gentoo penguin (Pygoscelis papua)\", \"Gentoo penguin (Pygoscelis papua)\", \"Gentoo penguin (Pygoscelis papua)\", \"Gentoo penguin (Pygoscelis papua)\", \"Gentoo penguin (Pygoscelis papua)\", \"Gentoo penguin (Pygoscelis papua)\", \"Gentoo penguin (Pygoscelis papua)\", \"Gentoo penguin (Pygoscelis papua)\", \"Gentoo penguin (Pygoscelis papua)\", \"Gentoo penguin (Pygoscelis papua)\", \"Gentoo penguin (Pygoscelis papua)\", \"Gentoo penguin (Pygoscelis papua)\", \"Gentoo penguin (Pygoscelis papua)\", \"Gentoo penguin (Pygoscelis papua)\", \"Gentoo penguin (Pygoscelis papua)\", \"Gentoo penguin (Pygoscelis papua)\", \"Gentoo penguin (Pygoscelis papua)\", \"Gentoo penguin (Pygoscelis papua)\", \"Gentoo penguin (Pygoscelis papua)\", \"Gentoo penguin (Pygoscelis papua)\", \"Gentoo penguin (Pygoscelis papua)\", \"Gentoo penguin (Pygoscelis papua)\", \"Gentoo penguin (Pygoscelis papua)\", \"Gentoo penguin (Pygoscelis papua)\", \"Gentoo penguin (Pygoscelis papua)\", \"Gentoo penguin (Pygoscelis papua)\", \"Gentoo penguin (Pygoscelis papua)\", \"Gentoo penguin (Pygoscelis papua)\", \"Gentoo penguin (Pygoscelis papua)\", \"Gentoo penguin (Pygoscelis papua)\", \"Gentoo penguin (Pygoscelis papua)\", \"Gentoo penguin (Pygoscelis papua)\", \"Gentoo penguin (Pygoscelis papua)\", \"Gentoo penguin (Pygoscelis papua)\", \"Gentoo penguin (Pygoscelis papua)\", \"Gentoo penguin (Pygoscelis papua)\", \"Gentoo penguin (Pygoscelis papua)\", \"Gentoo penguin (Pygoscelis papua)\", \"Gentoo penguin (Pygoscelis papua)\", \"Gentoo penguin (Pygoscelis papua)\"], \"type\": \"scatter\", \"x\": [211.0, 230.0, 210.0, 218.0, 215.0, 210.0, 211.0, 219.0, 209.0, 215.0, 214.0, 216.0, 214.0, 213.0, 210.0, 217.0, 210.0, 221.0, 209.0, 222.0, 218.0, 215.0, 213.0, 215.0, 215.0, 215.0, 216.0, 215.0, 210.0, 220.0, 222.0, 209.0, 207.0, 230.0, 220.0, 220.0, 213.0, 219.0, 208.0, 208.0, 208.0, 225.0, 210.0, 216.0, 222.0, 217.0, 210.0, 225.0, 213.0, 215.0, 210.0, 220.0, 210.0, 225.0, 217.0, 220.0, 208.0, 220.0, 208.0, 224.0, 208.0, 221.0, 214.0, 231.0, 219.0, 230.0, 214.0, 229.0, 220.0, 223.0, 216.0, 221.0, 221.0, 217.0, 216.0, 230.0, 209.0, 220.0, 215.0, 223.0, 212.0, 221.0, 212.0, 224.0, 212.0, 228.0, 218.0, 218.0, 212.0, 230.0, 218.0, 228.0, 212.0, 224.0, 214.0, 226.0, 216.0, 222.0, 203.0, 225.0, 219.0, 228.0, 215.0, 228.0, 216.0, 215.0, 210.0, 219.0, 208.0, 209.0, 216.0, 229.0, 213.0, 230.0, 217.0, 230.0, 217.0, 222.0, 214.0, 190.0, 215.0, 222.0, 212.0, 213.0], \"y\": [4500.0, 5700.0, 4450.0, 5700.0, 5400.0, 4550.0, 4800.0, 5200.0, 4400.0, 5150.0, 4650.0, 5550.0, 4650.0, 5850.0, 4200.0, 5850.0, 4150.0, 6300.0, 4800.0, 5350.0, 5700.0, 5000.0, 4400.0, 5050.0, 5000.0, 5100.0, 4100.0, 5650.0, 4600.0, 5550.0, 5250.0, 4700.0, 5050.0, 6050.0, 5150.0, 5400.0, 4950.0, 5250.0, 4350.0, 5350.0, 3950.0, 5700.0, 4300.0, 4750.0, 5550.0, 4900.0, 4200.0, 5400.0, 5100.0, 5300.0, 4850.0, 5300.0, 4400.0, 5000.0, 4900.0, 5050.0, 4300.0, 5000.0, 4450.0, 5550.0, 4200.0, 5300.0, 4400.0, 5650.0, 4700.0, 5700.0, 4650.0, 5800.0, 4700.0, 5550.0, 4750.0, 5000.0, 5100.0, 5200.0, 4700.0, 5800.0, 4600.0, 6000.0, 4750.0, 5950.0, 4625.0, 5450.0, 4725.0, 5350.0, 4750.0, 5600.0, 4600.0, 5300.0, 4875.0, 5550.0, 4950.0, 5400.0, 4750.0, 5650.0, 4850.0, 5200.0, 4925.0, 4875.0, 4625.0, 5250.0, 4850.0, 5600.0, 4975.0, 5500.0, 4725.0, 5500.0, 4700.0, 5500.0, 4575.0, 5500.0, 5000.0, 5950.0, 4650.0, 5500.0, 4375.0, 5850.0, 4875.0, 6000.0, 4925.0, 3800.0, 4850.0, 5750.0, 5200.0, 5400.0]}, {\"marker\": {\"color\": [\"mediumorchid\", \"mediumorchid\", \"mediumorchid\", \"mediumorchid\", \"mediumorchid\", \"mediumorchid\", \"mediumorchid\", \"mediumorchid\", \"mediumorchid\", \"mediumorchid\", \"mediumorchid\", \"mediumorchid\", \"mediumorchid\", \"mediumorchid\", \"mediumorchid\", \"mediumorchid\", \"mediumorchid\", \"mediumorchid\", \"mediumorchid\", \"mediumorchid\", \"mediumorchid\", \"mediumorchid\", \"mediumorchid\", \"mediumorchid\", \"mediumorchid\", \"mediumorchid\", \"mediumorchid\", \"mediumorchid\", \"mediumorchid\", \"mediumorchid\", \"mediumorchid\", \"mediumorchid\", \"mediumorchid\", \"mediumorchid\", \"mediumorchid\", \"mediumorchid\", \"mediumorchid\", \"mediumorchid\", \"mediumorchid\", \"mediumorchid\", \"mediumorchid\", \"mediumorchid\", \"mediumorchid\", \"mediumorchid\", \"mediumorchid\", \"mediumorchid\", \"mediumorchid\", \"mediumorchid\", \"mediumorchid\", \"mediumorchid\", \"mediumorchid\", \"mediumorchid\", \"mediumorchid\", \"mediumorchid\", \"mediumorchid\", \"mediumorchid\", \"mediumorchid\", \"mediumorchid\", \"mediumorchid\", \"mediumorchid\", \"mediumorchid\", \"mediumorchid\", \"mediumorchid\", \"mediumorchid\", \"mediumorchid\", \"mediumorchid\", \"mediumorchid\", \"mediumorchid\"], \"line\": {\"color\": \"rgb(0,0,0)\", \"width\": 0.5}, \"size\": 11, \"symbol\": \"triangle-up\"}, \"mode\": \"markers\", \"name\": \"Chinstrap penguin\", \"text\": [\"Chinstrap penguin (Pygoscelis antarctica)\", \"Chinstrap penguin (Pygoscelis antarctica)\", \"Chinstrap penguin (Pygoscelis antarctica)\", \"Chinstrap penguin (Pygoscelis antarctica)\", \"Chinstrap penguin (Pygoscelis antarctica)\", \"Chinstrap penguin (Pygoscelis antarctica)\", \"Chinstrap penguin (Pygoscelis antarctica)\", \"Chinstrap penguin (Pygoscelis antarctica)\", \"Chinstrap penguin (Pygoscelis antarctica)\", \"Chinstrap penguin (Pygoscelis antarctica)\", \"Chinstrap penguin (Pygoscelis antarctica)\", \"Chinstrap penguin (Pygoscelis antarctica)\", \"Chinstrap penguin (Pygoscelis antarctica)\", \"Chinstrap penguin (Pygoscelis antarctica)\", \"Chinstrap penguin (Pygoscelis antarctica)\", \"Chinstrap penguin (Pygoscelis antarctica)\", \"Chinstrap penguin (Pygoscelis antarctica)\", \"Chinstrap penguin (Pygoscelis antarctica)\", \"Chinstrap penguin (Pygoscelis antarctica)\", \"Chinstrap penguin (Pygoscelis antarctica)\", \"Chinstrap penguin (Pygoscelis antarctica)\", \"Chinstrap penguin (Pygoscelis antarctica)\", \"Chinstrap penguin (Pygoscelis antarctica)\", \"Chinstrap penguin (Pygoscelis antarctica)\", \"Chinstrap penguin (Pygoscelis antarctica)\", \"Chinstrap penguin (Pygoscelis antarctica)\", \"Chinstrap penguin (Pygoscelis antarctica)\", \"Chinstrap penguin (Pygoscelis antarctica)\", \"Chinstrap penguin (Pygoscelis antarctica)\", \"Chinstrap penguin (Pygoscelis antarctica)\", \"Chinstrap penguin (Pygoscelis antarctica)\", \"Chinstrap penguin (Pygoscelis antarctica)\", \"Chinstrap penguin (Pygoscelis antarctica)\", \"Chinstrap penguin (Pygoscelis antarctica)\", \"Chinstrap penguin (Pygoscelis antarctica)\", \"Chinstrap penguin (Pygoscelis antarctica)\", \"Chinstrap penguin (Pygoscelis antarctica)\", \"Chinstrap penguin (Pygoscelis antarctica)\", \"Chinstrap penguin (Pygoscelis antarctica)\", \"Chinstrap penguin (Pygoscelis antarctica)\", \"Chinstrap penguin (Pygoscelis antarctica)\", \"Chinstrap penguin (Pygoscelis antarctica)\", \"Chinstrap penguin (Pygoscelis antarctica)\", \"Chinstrap penguin (Pygoscelis antarctica)\", \"Chinstrap penguin (Pygoscelis antarctica)\", \"Chinstrap penguin (Pygoscelis antarctica)\", \"Chinstrap penguin (Pygoscelis antarctica)\", \"Chinstrap penguin (Pygoscelis antarctica)\", \"Chinstrap penguin (Pygoscelis antarctica)\", \"Chinstrap penguin (Pygoscelis antarctica)\", \"Chinstrap penguin (Pygoscelis antarctica)\", \"Chinstrap penguin (Pygoscelis antarctica)\", \"Chinstrap penguin (Pygoscelis antarctica)\", \"Chinstrap penguin (Pygoscelis antarctica)\", \"Chinstrap penguin (Pygoscelis antarctica)\", \"Chinstrap penguin (Pygoscelis antarctica)\", \"Chinstrap penguin (Pygoscelis antarctica)\", \"Chinstrap penguin (Pygoscelis antarctica)\", \"Chinstrap penguin (Pygoscelis antarctica)\", \"Chinstrap penguin (Pygoscelis antarctica)\", \"Chinstrap penguin (Pygoscelis antarctica)\", \"Chinstrap penguin (Pygoscelis antarctica)\", \"Chinstrap penguin (Pygoscelis antarctica)\", \"Chinstrap penguin (Pygoscelis antarctica)\", \"Chinstrap penguin (Pygoscelis antarctica)\", \"Chinstrap penguin (Pygoscelis antarctica)\", \"Chinstrap penguin (Pygoscelis antarctica)\", \"Chinstrap penguin (Pygoscelis antarctica)\"], \"type\": \"scatter\", \"x\": [192.0, 196.0, 193.0, 188.0, 197.0, 198.0, 178.0, 197.0, 195.0, 198.0, 193.0, 194.0, 185.0, 201.0, 190.0, 201.0, 197.0, 181.0, 190.0, 195.0, 181.0, 191.0, 187.0, 193.0, 195.0, 197.0, 200.0, 200.0, 191.0, 205.0, 187.0, 201.0, 187.0, 203.0, 195.0, 199.0, 195.0, 210.0, 192.0, 205.0, 210.0, 187.0, 196.0, 196.0, 196.0, 201.0, 190.0, 212.0, 187.0, 198.0, 199.0, 201.0, 193.0, 203.0, 187.0, 197.0, 191.0, 203.0, 202.0, 194.0, 206.0, 189.0, 195.0, 207.0, 202.0, 193.0, 210.0, 198.0], \"y\": [3500.0, 3900.0, 3650.0, 3525.0, 3725.0, 3950.0, 3250.0, 3750.0, 4150.0, 3700.0, 3800.0, 3775.0, 3700.0, 4050.0, 3575.0, 4050.0, 3300.0, 3700.0, 3450.0, 4400.0, 3600.0, 3400.0, 2900.0, 3800.0, 3300.0, 4150.0, 3400.0, 3800.0, 3700.0, 4550.0, 3200.0, 4300.0, 3350.0, 4100.0, 3600.0, 3900.0, 3850.0, 4800.0, 2700.0, 4500.0, 3950.0, 3650.0, 3550.0, 3500.0, 3675.0, 4450.0, 3400.0, 4300.0, 3250.0, 3675.0, 3325.0, 3950.0, 3600.0, 4050.0, 3350.0, 3450.0, 3250.0, 4050.0, 3800.0, 3525.0, 3950.0, 3650.0, 3650.0, 4000.0, 3400.0, 3775.0, 4100.0, 3775.0]}],\n",
       "                        {\"paper_bgcolor\": \"rgba(0,0,0,0)\", \"plot_bgcolor\": \"rgba(0,0,0,0)\", \"showlegend\": true, \"template\": {\"data\": {\"bar\": [{\"error_x\": {\"color\": \"#2a3f5f\"}, \"error_y\": {\"color\": \"#2a3f5f\"}, \"marker\": {\"line\": {\"color\": \"#E5ECF6\", \"width\": 0.5}}, \"type\": \"bar\"}], \"barpolar\": [{\"marker\": {\"line\": {\"color\": \"#E5ECF6\", \"width\": 0.5}}, \"type\": \"barpolar\"}], \"carpet\": [{\"aaxis\": {\"endlinecolor\": \"#2a3f5f\", \"gridcolor\": \"white\", \"linecolor\": \"white\", \"minorgridcolor\": \"white\", \"startlinecolor\": \"#2a3f5f\"}, \"baxis\": {\"endlinecolor\": \"#2a3f5f\", \"gridcolor\": \"white\", \"linecolor\": \"white\", \"minorgridcolor\": \"white\", \"startlinecolor\": \"#2a3f5f\"}, \"type\": \"carpet\"}], \"choropleth\": [{\"colorbar\": {\"outlinewidth\": 0, \"ticks\": \"\"}, \"type\": \"choropleth\"}], \"contour\": [{\"colorbar\": {\"outlinewidth\": 0, \"ticks\": \"\"}, \"colorscale\": [[0.0, \"#0d0887\"], [0.1111111111111111, \"#46039f\"], [0.2222222222222222, \"#7201a8\"], [0.3333333333333333, \"#9c179e\"], [0.4444444444444444, \"#bd3786\"], [0.5555555555555556, \"#d8576b\"], [0.6666666666666666, \"#ed7953\"], [0.7777777777777778, \"#fb9f3a\"], [0.8888888888888888, \"#fdca26\"], [1.0, \"#f0f921\"]], \"type\": \"contour\"}], \"contourcarpet\": [{\"colorbar\": {\"outlinewidth\": 0, \"ticks\": \"\"}, \"type\": \"contourcarpet\"}], \"heatmap\": [{\"colorbar\": {\"outlinewidth\": 0, \"ticks\": \"\"}, \"colorscale\": [[0.0, \"#0d0887\"], [0.1111111111111111, \"#46039f\"], [0.2222222222222222, \"#7201a8\"], [0.3333333333333333, \"#9c179e\"], [0.4444444444444444, \"#bd3786\"], [0.5555555555555556, \"#d8576b\"], [0.6666666666666666, \"#ed7953\"], [0.7777777777777778, \"#fb9f3a\"], [0.8888888888888888, \"#fdca26\"], [1.0, \"#f0f921\"]], \"type\": \"heatmap\"}], \"heatmapgl\": [{\"colorbar\": {\"outlinewidth\": 0, \"ticks\": \"\"}, \"colorscale\": [[0.0, \"#0d0887\"], [0.1111111111111111, \"#46039f\"], [0.2222222222222222, \"#7201a8\"], [0.3333333333333333, \"#9c179e\"], [0.4444444444444444, \"#bd3786\"], [0.5555555555555556, \"#d8576b\"], [0.6666666666666666, \"#ed7953\"], [0.7777777777777778, \"#fb9f3a\"], [0.8888888888888888, \"#fdca26\"], [1.0, \"#f0f921\"]], \"type\": \"heatmapgl\"}], \"histogram\": [{\"marker\": {\"colorbar\": {\"outlinewidth\": 0, \"ticks\": \"\"}}, \"type\": \"histogram\"}], \"histogram2d\": [{\"colorbar\": {\"outlinewidth\": 0, \"ticks\": \"\"}, \"colorscale\": [[0.0, \"#0d0887\"], [0.1111111111111111, \"#46039f\"], [0.2222222222222222, \"#7201a8\"], [0.3333333333333333, \"#9c179e\"], [0.4444444444444444, \"#bd3786\"], [0.5555555555555556, \"#d8576b\"], [0.6666666666666666, \"#ed7953\"], [0.7777777777777778, \"#fb9f3a\"], [0.8888888888888888, \"#fdca26\"], [1.0, \"#f0f921\"]], \"type\": \"histogram2d\"}], \"histogram2dcontour\": [{\"colorbar\": {\"outlinewidth\": 0, \"ticks\": \"\"}, \"colorscale\": [[0.0, \"#0d0887\"], [0.1111111111111111, \"#46039f\"], [0.2222222222222222, \"#7201a8\"], [0.3333333333333333, \"#9c179e\"], [0.4444444444444444, \"#bd3786\"], [0.5555555555555556, \"#d8576b\"], [0.6666666666666666, \"#ed7953\"], [0.7777777777777778, \"#fb9f3a\"], [0.8888888888888888, \"#fdca26\"], [1.0, \"#f0f921\"]], \"type\": \"histogram2dcontour\"}], \"mesh3d\": [{\"colorbar\": {\"outlinewidth\": 0, \"ticks\": \"\"}, \"type\": \"mesh3d\"}], \"parcoords\": [{\"line\": {\"colorbar\": {\"outlinewidth\": 0, \"ticks\": \"\"}}, \"type\": \"parcoords\"}], \"pie\": [{\"automargin\": true, \"type\": \"pie\"}], \"scatter\": [{\"marker\": {\"colorbar\": {\"outlinewidth\": 0, \"ticks\": \"\"}}, \"type\": \"scatter\"}], \"scatter3d\": [{\"line\": {\"colorbar\": {\"outlinewidth\": 0, \"ticks\": \"\"}}, \"marker\": {\"colorbar\": {\"outlinewidth\": 0, \"ticks\": \"\"}}, \"type\": \"scatter3d\"}], \"scattercarpet\": [{\"marker\": {\"colorbar\": {\"outlinewidth\": 0, \"ticks\": \"\"}}, \"type\": \"scattercarpet\"}], \"scattergeo\": [{\"marker\": {\"colorbar\": {\"outlinewidth\": 0, \"ticks\": \"\"}}, \"type\": \"scattergeo\"}], \"scattergl\": [{\"marker\": {\"colorbar\": {\"outlinewidth\": 0, \"ticks\": \"\"}}, \"type\": \"scattergl\"}], \"scattermapbox\": [{\"marker\": {\"colorbar\": {\"outlinewidth\": 0, \"ticks\": \"\"}}, \"type\": \"scattermapbox\"}], \"scatterpolar\": [{\"marker\": {\"colorbar\": {\"outlinewidth\": 0, \"ticks\": \"\"}}, \"type\": \"scatterpolar\"}], \"scatterpolargl\": [{\"marker\": {\"colorbar\": {\"outlinewidth\": 0, \"ticks\": \"\"}}, \"type\": \"scatterpolargl\"}], \"scatterternary\": [{\"marker\": {\"colorbar\": {\"outlinewidth\": 0, \"ticks\": \"\"}}, \"type\": \"scatterternary\"}], \"surface\": [{\"colorbar\": {\"outlinewidth\": 0, \"ticks\": \"\"}, \"colorscale\": [[0.0, \"#0d0887\"], [0.1111111111111111, \"#46039f\"], [0.2222222222222222, \"#7201a8\"], [0.3333333333333333, \"#9c179e\"], [0.4444444444444444, \"#bd3786\"], [0.5555555555555556, \"#d8576b\"], [0.6666666666666666, \"#ed7953\"], [0.7777777777777778, \"#fb9f3a\"], [0.8888888888888888, \"#fdca26\"], [1.0, \"#f0f921\"]], \"type\": \"surface\"}], \"table\": [{\"cells\": {\"fill\": {\"color\": \"#EBF0F8\"}, \"line\": {\"color\": \"white\"}}, \"header\": {\"fill\": {\"color\": \"#C8D4E3\"}, \"line\": {\"color\": \"white\"}}, \"type\": \"table\"}]}, \"layout\": {\"annotationdefaults\": {\"arrowcolor\": \"#2a3f5f\", \"arrowhead\": 0, \"arrowwidth\": 1}, \"coloraxis\": {\"colorbar\": {\"outlinewidth\": 0, \"ticks\": \"\"}}, \"colorscale\": {\"diverging\": [[0, \"#8e0152\"], [0.1, \"#c51b7d\"], [0.2, \"#de77ae\"], [0.3, \"#f1b6da\"], [0.4, \"#fde0ef\"], [0.5, \"#f7f7f7\"], [0.6, \"#e6f5d0\"], [0.7, \"#b8e186\"], [0.8, \"#7fbc41\"], [0.9, \"#4d9221\"], [1, \"#276419\"]], \"sequential\": [[0.0, \"#0d0887\"], [0.1111111111111111, \"#46039f\"], [0.2222222222222222, \"#7201a8\"], [0.3333333333333333, \"#9c179e\"], [0.4444444444444444, \"#bd3786\"], [0.5555555555555556, \"#d8576b\"], [0.6666666666666666, \"#ed7953\"], [0.7777777777777778, \"#fb9f3a\"], [0.8888888888888888, \"#fdca26\"], [1.0, \"#f0f921\"]], \"sequentialminus\": [[0.0, \"#0d0887\"], [0.1111111111111111, \"#46039f\"], [0.2222222222222222, \"#7201a8\"], [0.3333333333333333, \"#9c179e\"], [0.4444444444444444, \"#bd3786\"], [0.5555555555555556, \"#d8576b\"], [0.6666666666666666, \"#ed7953\"], [0.7777777777777778, \"#fb9f3a\"], [0.8888888888888888, \"#fdca26\"], [1.0, \"#f0f921\"]]}, \"colorway\": [\"#636efa\", \"#EF553B\", \"#00cc96\", \"#ab63fa\", \"#FFA15A\", \"#19d3f3\", \"#FF6692\", \"#B6E880\", \"#FF97FF\", \"#FECB52\"], \"font\": {\"color\": \"#2a3f5f\"}, \"geo\": {\"bgcolor\": \"white\", \"lakecolor\": \"white\", \"landcolor\": \"#E5ECF6\", \"showlakes\": true, \"showland\": true, \"subunitcolor\": \"white\"}, \"hoverlabel\": {\"align\": \"left\"}, \"hovermode\": \"closest\", \"mapbox\": {\"style\": \"light\"}, \"paper_bgcolor\": \"white\", \"plot_bgcolor\": \"#E5ECF6\", \"polar\": {\"angularaxis\": {\"gridcolor\": \"white\", \"linecolor\": \"white\", \"ticks\": \"\"}, \"bgcolor\": \"#E5ECF6\", \"radialaxis\": {\"gridcolor\": \"white\", \"linecolor\": \"white\", \"ticks\": \"\"}}, \"scene\": {\"xaxis\": {\"backgroundcolor\": \"#E5ECF6\", \"gridcolor\": \"white\", \"gridwidth\": 2, \"linecolor\": \"white\", \"showbackground\": true, \"ticks\": \"\", \"zerolinecolor\": \"white\"}, \"yaxis\": {\"backgroundcolor\": \"#E5ECF6\", \"gridcolor\": \"white\", \"gridwidth\": 2, \"linecolor\": \"white\", \"showbackground\": true, \"ticks\": \"\", \"zerolinecolor\": \"white\"}, \"zaxis\": {\"backgroundcolor\": \"#E5ECF6\", \"gridcolor\": \"white\", \"gridwidth\": 2, \"linecolor\": \"white\", \"showbackground\": true, \"ticks\": \"\", \"zerolinecolor\": \"white\"}}, \"shapedefaults\": {\"line\": {\"color\": \"#2a3f5f\"}}, \"ternary\": {\"aaxis\": {\"gridcolor\": \"white\", \"linecolor\": \"white\", \"ticks\": \"\"}, \"baxis\": {\"gridcolor\": \"white\", \"linecolor\": \"white\", \"ticks\": \"\"}, \"bgcolor\": \"#E5ECF6\", \"caxis\": {\"gridcolor\": \"white\", \"linecolor\": \"white\", \"ticks\": \"\"}}, \"title\": {\"x\": 0.05}, \"xaxis\": {\"automargin\": true, \"gridcolor\": \"white\", \"linecolor\": \"white\", \"ticks\": \"\", \"title\": {\"standoff\": 15}, \"zerolinecolor\": \"white\", \"zerolinewidth\": 2}, \"yaxis\": {\"automargin\": true, \"gridcolor\": \"white\", \"linecolor\": \"white\", \"ticks\": \"\", \"title\": {\"standoff\": 15}, \"zerolinecolor\": \"white\", \"zerolinewidth\": 2}}}, \"title\": {\"text\": \"<b>Flipper Length (mm) vs. Body Mass (g)</b>\"}, \"xaxis\": {\"title\": {\"text\": \"Flipper Length (mm)\"}}, \"yaxis\": {\"title\": {\"text\": \"Body Mass (g)\"}}},\n",
       "                        {\"responsive\": true}\n",
       "                    ).then(function(){\n",
       "                            \n",
       "var gd = document.getElementById('058b5014-9759-4ffb-83f0-359ea5727b69');\n",
       "var x = new MutationObserver(function (mutations, observer) {{\n",
       "        var display = window.getComputedStyle(gd).display;\n",
       "        if (!display || display === 'none') {{\n",
       "            console.log([gd, 'removed!']);\n",
       "            Plotly.purge(gd);\n",
       "            observer.disconnect();\n",
       "        }}\n",
       "}});\n",
       "\n",
       "// Listen for the removal of the full notebook cells\n",
       "var notebookContainer = gd.closest('#notebook-container');\n",
       "if (notebookContainer) {{\n",
       "    x.observe(notebookContainer, {childList: true});\n",
       "}}\n",
       "\n",
       "// Listen for the clearing of the current output cell\n",
       "var outputEl = gd.closest('.output');\n",
       "if (outputEl) {{\n",
       "    x.observe(outputEl, {childList: true});\n",
       "}}\n",
       "\n",
       "                        })\n",
       "                };\n",
       "                });\n",
       "            </script>\n",
       "        </div>"
      ]
     },
     "metadata": {},
     "output_type": "display_data"
    },
    {
     "data": {
      "application/javascript": [
       "\n",
       "            setTimeout(function() {\n",
       "                var nbb_cell_id = 25;\n",
       "                var nbb_unformatted_code = \"# Flipper Length (mm) vs. Body Mass (g)\\n\\ntrace1 = go.Scatter(\\n    x=adelie_df[\\\"Flipper Length (mm)\\\"],\\n    y=adelie_df[\\\"Body Mass (g)\\\"],\\n    text=adelie_df[\\\"Species\\\"],\\n    mode=\\\"markers\\\",\\n    marker=dict(size=9, symbol=\\\"circle\\\", line=dict(color=\\\"rgb(0,0,0)\\\", width=0.5)),\\n    marker_color=adelie_df[\\\"Color\\\"],\\n    name=\\\"Adelie Penguin\\\",\\n)\\n\\ntrace2 = go.Scatter(\\n    x=gentoo_df[\\\"Flipper Length (mm)\\\"],\\n    y=gentoo_df[\\\"Body Mass (g)\\\"],\\n    text=gentoo_df[\\\"Species\\\"],\\n    mode=\\\"markers\\\",\\n    marker=dict(size=9, symbol=\\\"square\\\", line=dict(color=\\\"rgb(0,0,0)\\\", width=0.5)),\\n    marker_color=gentoo_df[\\\"Color\\\"],\\n    name=\\\"Gentoo penguin\\\",\\n)\\n\\ntrace3 = go.Scatter(\\n    x=chinstrap_df[\\\"Flipper Length (mm)\\\"],\\n    y=chinstrap_df[\\\"Body Mass (g)\\\"],\\n    text=chinstrap_df[\\\"Species\\\"],\\n    mode=\\\"markers\\\",\\n    marker=dict(\\n        size=11, symbol=\\\"triangle-up\\\", line=dict(color=\\\"rgb(0,0,0)\\\", width=0.5)\\n    ),\\n    marker_color=chinstrap_df[\\\"Color\\\"],\\n    name=\\\"Chinstrap penguin\\\",\\n)\\n\\ndata = [trace1, trace2, trace3]\\n\\n\\nlayout = dict(\\n    title=\\\"<b>Flipper Length (mm) vs. Body Mass (g)</b>\\\",\\n    showlegend=True,\\n    xaxis=dict(title=\\\"Flipper Length (mm)\\\"),\\n    yaxis=dict(title=\\\"Body Mass (g)\\\"),\\n    plot_bgcolor=\\\"rgba(0,0,0,0)\\\",\\n    paper_bgcolor=\\\"rgba(0,0,0,0)\\\",\\n)\\n\\nfig = dict(data=data, layout=layout)\\n\\niplot(fig)\";\n",
       "                var nbb_formatted_code = \"# Flipper Length (mm) vs. Body Mass (g)\\n\\ntrace1 = go.Scatter(\\n    x=adelie_df[\\\"Flipper Length (mm)\\\"],\\n    y=adelie_df[\\\"Body Mass (g)\\\"],\\n    text=adelie_df[\\\"Species\\\"],\\n    mode=\\\"markers\\\",\\n    marker=dict(size=9, symbol=\\\"circle\\\", line=dict(color=\\\"rgb(0,0,0)\\\", width=0.5)),\\n    marker_color=adelie_df[\\\"Color\\\"],\\n    name=\\\"Adelie Penguin\\\",\\n)\\n\\ntrace2 = go.Scatter(\\n    x=gentoo_df[\\\"Flipper Length (mm)\\\"],\\n    y=gentoo_df[\\\"Body Mass (g)\\\"],\\n    text=gentoo_df[\\\"Species\\\"],\\n    mode=\\\"markers\\\",\\n    marker=dict(size=9, symbol=\\\"square\\\", line=dict(color=\\\"rgb(0,0,0)\\\", width=0.5)),\\n    marker_color=gentoo_df[\\\"Color\\\"],\\n    name=\\\"Gentoo penguin\\\",\\n)\\n\\ntrace3 = go.Scatter(\\n    x=chinstrap_df[\\\"Flipper Length (mm)\\\"],\\n    y=chinstrap_df[\\\"Body Mass (g)\\\"],\\n    text=chinstrap_df[\\\"Species\\\"],\\n    mode=\\\"markers\\\",\\n    marker=dict(\\n        size=11, symbol=\\\"triangle-up\\\", line=dict(color=\\\"rgb(0,0,0)\\\", width=0.5)\\n    ),\\n    marker_color=chinstrap_df[\\\"Color\\\"],\\n    name=\\\"Chinstrap penguin\\\",\\n)\\n\\ndata = [trace1, trace2, trace3]\\n\\n\\nlayout = dict(\\n    title=\\\"<b>Flipper Length (mm) vs. Body Mass (g)</b>\\\",\\n    showlegend=True,\\n    xaxis=dict(title=\\\"Flipper Length (mm)\\\"),\\n    yaxis=dict(title=\\\"Body Mass (g)\\\"),\\n    plot_bgcolor=\\\"rgba(0,0,0,0)\\\",\\n    paper_bgcolor=\\\"rgba(0,0,0,0)\\\",\\n)\\n\\nfig = dict(data=data, layout=layout)\\n\\niplot(fig)\";\n",
       "                var nbb_cells = Jupyter.notebook.get_cells();\n",
       "                for (var i = 0; i < nbb_cells.length; ++i) {\n",
       "                    if (nbb_cells[i].input_prompt_number == nbb_cell_id) {\n",
       "                        if (nbb_cells[i].get_text() == nbb_unformatted_code) {\n",
       "                             nbb_cells[i].set_text(nbb_formatted_code);\n",
       "                        }\n",
       "                        break;\n",
       "                    }\n",
       "                }\n",
       "            }, 500);\n",
       "            "
      ],
      "text/plain": [
       "<IPython.core.display.Javascript object>"
      ]
     },
     "metadata": {},
     "output_type": "display_data"
    }
   ],
   "source": [
    "# Flipper Length (mm) vs. Body Mass (g)\n",
    "\n",
    "trace1 = go.Scatter(\n",
    "    x=adelie_df[\"Flipper Length (mm)\"],\n",
    "    y=adelie_df[\"Body Mass (g)\"],\n",
    "    text=adelie_df[\"Species\"],\n",
    "    mode=\"markers\",\n",
    "    marker=dict(size=9, symbol=\"circle\", line=dict(color=\"rgb(0,0,0)\", width=0.5)),\n",
    "    marker_color=adelie_df[\"Color\"],\n",
    "    name=\"Adelie Penguin\",\n",
    ")\n",
    "\n",
    "trace2 = go.Scatter(\n",
    "    x=gentoo_df[\"Flipper Length (mm)\"],\n",
    "    y=gentoo_df[\"Body Mass (g)\"],\n",
    "    text=gentoo_df[\"Species\"],\n",
    "    mode=\"markers\",\n",
    "    marker=dict(size=9, symbol=\"square\", line=dict(color=\"rgb(0,0,0)\", width=0.5)),\n",
    "    marker_color=gentoo_df[\"Color\"],\n",
    "    name=\"Gentoo penguin\",\n",
    ")\n",
    "\n",
    "trace3 = go.Scatter(\n",
    "    x=chinstrap_df[\"Flipper Length (mm)\"],\n",
    "    y=chinstrap_df[\"Body Mass (g)\"],\n",
    "    text=chinstrap_df[\"Species\"],\n",
    "    mode=\"markers\",\n",
    "    marker=dict(\n",
    "        size=11, symbol=\"triangle-up\", line=dict(color=\"rgb(0,0,0)\", width=0.5)\n",
    "    ),\n",
    "    marker_color=chinstrap_df[\"Color\"],\n",
    "    name=\"Chinstrap penguin\",\n",
    ")\n",
    "\n",
    "data = [trace1, trace2, trace3]\n",
    "\n",
    "\n",
    "layout = dict(\n",
    "    title=\"<b>Flipper Length (mm) vs. Body Mass (g)</b>\",\n",
    "    showlegend=True,\n",
    "    xaxis=dict(title=\"Flipper Length (mm)\"),\n",
    "    yaxis=dict(title=\"Body Mass (g)\"),\n",
    "    plot_bgcolor=\"rgba(0,0,0,0)\",\n",
    "    paper_bgcolor=\"rgba(0,0,0,0)\",\n",
    ")\n",
    "\n",
    "fig = dict(data=data, layout=layout)\n",
    "\n",
    "iplot(fig)"
   ]
  },
  {
   "cell_type": "code",
   "execution_count": 26,
   "metadata": {},
   "outputs": [
    {
     "data": {
      "application/vnd.plotly.v1+json": {
       "config": {
        "linkText": "Export to plot.ly",
        "plotlyServerURL": "https://plot.ly",
        "showLink": false
       },
       "data": [
        {
         "marker": {
          "color": [
           "darkorange",
           "darkorange",
           "darkorange",
           "darkorange",
           "darkorange",
           "darkorange",
           "darkorange",
           "darkorange",
           "darkorange",
           "darkorange",
           "darkorange",
           "darkorange",
           "darkorange",
           "darkorange",
           "darkorange",
           "darkorange",
           "darkorange",
           "darkorange",
           "darkorange",
           "darkorange",
           "darkorange",
           "darkorange",
           "darkorange",
           "darkorange",
           "darkorange",
           "darkorange",
           "darkorange",
           "darkorange",
           "darkorange",
           "darkorange",
           "darkorange",
           "darkorange",
           "darkorange",
           "darkorange",
           "darkorange",
           "darkorange",
           "darkorange",
           "darkorange",
           "darkorange",
           "darkorange",
           "darkorange",
           "darkorange",
           "darkorange",
           "darkorange",
           "darkorange",
           "darkorange",
           "darkorange",
           "darkorange",
           "darkorange",
           "darkorange",
           "darkorange",
           "darkorange",
           "darkorange",
           "darkorange",
           "darkorange",
           "darkorange",
           "darkorange",
           "darkorange",
           "darkorange",
           "darkorange",
           "darkorange",
           "darkorange",
           "darkorange",
           "darkorange",
           "darkorange",
           "darkorange",
           "darkorange",
           "darkorange",
           "darkorange",
           "darkorange",
           "darkorange",
           "darkorange",
           "darkorange",
           "darkorange",
           "darkorange",
           "darkorange",
           "darkorange",
           "darkorange",
           "darkorange",
           "darkorange",
           "darkorange",
           "darkorange",
           "darkorange",
           "darkorange",
           "darkorange",
           "darkorange",
           "darkorange",
           "darkorange",
           "darkorange",
           "darkorange",
           "darkorange",
           "darkorange",
           "darkorange",
           "darkorange",
           "darkorange",
           "darkorange",
           "darkorange",
           "darkorange",
           "darkorange",
           "darkorange",
           "darkorange",
           "darkorange",
           "darkorange",
           "darkorange",
           "darkorange",
           "darkorange",
           "darkorange",
           "darkorange",
           "darkorange",
           "darkorange",
           "darkorange",
           "darkorange",
           "darkorange",
           "darkorange",
           "darkorange",
           "darkorange",
           "darkorange",
           "darkorange",
           "darkorange",
           "darkorange",
           "darkorange",
           "darkorange",
           "darkorange",
           "darkorange",
           "darkorange",
           "darkorange",
           "darkorange",
           "darkorange",
           "darkorange",
           "darkorange",
           "darkorange",
           "darkorange",
           "darkorange",
           "darkorange",
           "darkorange",
           "darkorange",
           "darkorange",
           "darkorange",
           "darkorange",
           "darkorange",
           "darkorange",
           "darkorange",
           "darkorange",
           "darkorange",
           "darkorange",
           "darkorange",
           "darkorange",
           "darkorange",
           "darkorange",
           "darkorange",
           "darkorange",
           "darkorange"
          ],
          "line": {
           "color": "rgb(0,0,0)",
           "width": 0.5
          },
          "size": 9,
          "symbol": "circle"
         },
         "mode": "markers",
         "name": "Adelie Penguin",
         "text": [
          "Adelie Penguin (Pygoscelis adeliae)",
          "Adelie Penguin (Pygoscelis adeliae)",
          "Adelie Penguin (Pygoscelis adeliae)",
          "Adelie Penguin (Pygoscelis adeliae)",
          "Adelie Penguin (Pygoscelis adeliae)",
          "Adelie Penguin (Pygoscelis adeliae)",
          "Adelie Penguin (Pygoscelis adeliae)",
          "Adelie Penguin (Pygoscelis adeliae)",
          "Adelie Penguin (Pygoscelis adeliae)",
          "Adelie Penguin (Pygoscelis adeliae)",
          "Adelie Penguin (Pygoscelis adeliae)",
          "Adelie Penguin (Pygoscelis adeliae)",
          "Adelie Penguin (Pygoscelis adeliae)",
          "Adelie Penguin (Pygoscelis adeliae)",
          "Adelie Penguin (Pygoscelis adeliae)",
          "Adelie Penguin (Pygoscelis adeliae)",
          "Adelie Penguin (Pygoscelis adeliae)",
          "Adelie Penguin (Pygoscelis adeliae)",
          "Adelie Penguin (Pygoscelis adeliae)",
          "Adelie Penguin (Pygoscelis adeliae)",
          "Adelie Penguin (Pygoscelis adeliae)",
          "Adelie Penguin (Pygoscelis adeliae)",
          "Adelie Penguin (Pygoscelis adeliae)",
          "Adelie Penguin (Pygoscelis adeliae)",
          "Adelie Penguin (Pygoscelis adeliae)",
          "Adelie Penguin (Pygoscelis adeliae)",
          "Adelie Penguin (Pygoscelis adeliae)",
          "Adelie Penguin (Pygoscelis adeliae)",
          "Adelie Penguin (Pygoscelis adeliae)",
          "Adelie Penguin (Pygoscelis adeliae)",
          "Adelie Penguin (Pygoscelis adeliae)",
          "Adelie Penguin (Pygoscelis adeliae)",
          "Adelie Penguin (Pygoscelis adeliae)",
          "Adelie Penguin (Pygoscelis adeliae)",
          "Adelie Penguin (Pygoscelis adeliae)",
          "Adelie Penguin (Pygoscelis adeliae)",
          "Adelie Penguin (Pygoscelis adeliae)",
          "Adelie Penguin (Pygoscelis adeliae)",
          "Adelie Penguin (Pygoscelis adeliae)",
          "Adelie Penguin (Pygoscelis adeliae)",
          "Adelie Penguin (Pygoscelis adeliae)",
          "Adelie Penguin (Pygoscelis adeliae)",
          "Adelie Penguin (Pygoscelis adeliae)",
          "Adelie Penguin (Pygoscelis adeliae)",
          "Adelie Penguin (Pygoscelis adeliae)",
          "Adelie Penguin (Pygoscelis adeliae)",
          "Adelie Penguin (Pygoscelis adeliae)",
          "Adelie Penguin (Pygoscelis adeliae)",
          "Adelie Penguin (Pygoscelis adeliae)",
          "Adelie Penguin (Pygoscelis adeliae)",
          "Adelie Penguin (Pygoscelis adeliae)",
          "Adelie Penguin (Pygoscelis adeliae)",
          "Adelie Penguin (Pygoscelis adeliae)",
          "Adelie Penguin (Pygoscelis adeliae)",
          "Adelie Penguin (Pygoscelis adeliae)",
          "Adelie Penguin (Pygoscelis adeliae)",
          "Adelie Penguin (Pygoscelis adeliae)",
          "Adelie Penguin (Pygoscelis adeliae)",
          "Adelie Penguin (Pygoscelis adeliae)",
          "Adelie Penguin (Pygoscelis adeliae)",
          "Adelie Penguin (Pygoscelis adeliae)",
          "Adelie Penguin (Pygoscelis adeliae)",
          "Adelie Penguin (Pygoscelis adeliae)",
          "Adelie Penguin (Pygoscelis adeliae)",
          "Adelie Penguin (Pygoscelis adeliae)",
          "Adelie Penguin (Pygoscelis adeliae)",
          "Adelie Penguin (Pygoscelis adeliae)",
          "Adelie Penguin (Pygoscelis adeliae)",
          "Adelie Penguin (Pygoscelis adeliae)",
          "Adelie Penguin (Pygoscelis adeliae)",
          "Adelie Penguin (Pygoscelis adeliae)",
          "Adelie Penguin (Pygoscelis adeliae)",
          "Adelie Penguin (Pygoscelis adeliae)",
          "Adelie Penguin (Pygoscelis adeliae)",
          "Adelie Penguin (Pygoscelis adeliae)",
          "Adelie Penguin (Pygoscelis adeliae)",
          "Adelie Penguin (Pygoscelis adeliae)",
          "Adelie Penguin (Pygoscelis adeliae)",
          "Adelie Penguin (Pygoscelis adeliae)",
          "Adelie Penguin (Pygoscelis adeliae)",
          "Adelie Penguin (Pygoscelis adeliae)",
          "Adelie Penguin (Pygoscelis adeliae)",
          "Adelie Penguin (Pygoscelis adeliae)",
          "Adelie Penguin (Pygoscelis adeliae)",
          "Adelie Penguin (Pygoscelis adeliae)",
          "Adelie Penguin (Pygoscelis adeliae)",
          "Adelie Penguin (Pygoscelis adeliae)",
          "Adelie Penguin (Pygoscelis adeliae)",
          "Adelie Penguin (Pygoscelis adeliae)",
          "Adelie Penguin (Pygoscelis adeliae)",
          "Adelie Penguin (Pygoscelis adeliae)",
          "Adelie Penguin (Pygoscelis adeliae)",
          "Adelie Penguin (Pygoscelis adeliae)",
          "Adelie Penguin (Pygoscelis adeliae)",
          "Adelie Penguin (Pygoscelis adeliae)",
          "Adelie Penguin (Pygoscelis adeliae)",
          "Adelie Penguin (Pygoscelis adeliae)",
          "Adelie Penguin (Pygoscelis adeliae)",
          "Adelie Penguin (Pygoscelis adeliae)",
          "Adelie Penguin (Pygoscelis adeliae)",
          "Adelie Penguin (Pygoscelis adeliae)",
          "Adelie Penguin (Pygoscelis adeliae)",
          "Adelie Penguin (Pygoscelis adeliae)",
          "Adelie Penguin (Pygoscelis adeliae)",
          "Adelie Penguin (Pygoscelis adeliae)",
          "Adelie Penguin (Pygoscelis adeliae)",
          "Adelie Penguin (Pygoscelis adeliae)",
          "Adelie Penguin (Pygoscelis adeliae)",
          "Adelie Penguin (Pygoscelis adeliae)",
          "Adelie Penguin (Pygoscelis adeliae)",
          "Adelie Penguin (Pygoscelis adeliae)",
          "Adelie Penguin (Pygoscelis adeliae)",
          "Adelie Penguin (Pygoscelis adeliae)",
          "Adelie Penguin (Pygoscelis adeliae)",
          "Adelie Penguin (Pygoscelis adeliae)",
          "Adelie Penguin (Pygoscelis adeliae)",
          "Adelie Penguin (Pygoscelis adeliae)",
          "Adelie Penguin (Pygoscelis adeliae)",
          "Adelie Penguin (Pygoscelis adeliae)",
          "Adelie Penguin (Pygoscelis adeliae)",
          "Adelie Penguin (Pygoscelis adeliae)",
          "Adelie Penguin (Pygoscelis adeliae)",
          "Adelie Penguin (Pygoscelis adeliae)",
          "Adelie Penguin (Pygoscelis adeliae)",
          "Adelie Penguin (Pygoscelis adeliae)",
          "Adelie Penguin (Pygoscelis adeliae)",
          "Adelie Penguin (Pygoscelis adeliae)",
          "Adelie Penguin (Pygoscelis adeliae)",
          "Adelie Penguin (Pygoscelis adeliae)",
          "Adelie Penguin (Pygoscelis adeliae)",
          "Adelie Penguin (Pygoscelis adeliae)",
          "Adelie Penguin (Pygoscelis adeliae)",
          "Adelie Penguin (Pygoscelis adeliae)",
          "Adelie Penguin (Pygoscelis adeliae)",
          "Adelie Penguin (Pygoscelis adeliae)",
          "Adelie Penguin (Pygoscelis adeliae)",
          "Adelie Penguin (Pygoscelis adeliae)",
          "Adelie Penguin (Pygoscelis adeliae)",
          "Adelie Penguin (Pygoscelis adeliae)",
          "Adelie Penguin (Pygoscelis adeliae)",
          "Adelie Penguin (Pygoscelis adeliae)",
          "Adelie Penguin (Pygoscelis adeliae)",
          "Adelie Penguin (Pygoscelis adeliae)",
          "Adelie Penguin (Pygoscelis adeliae)",
          "Adelie Penguin (Pygoscelis adeliae)",
          "Adelie Penguin (Pygoscelis adeliae)",
          "Adelie Penguin (Pygoscelis adeliae)",
          "Adelie Penguin (Pygoscelis adeliae)",
          "Adelie Penguin (Pygoscelis adeliae)",
          "Adelie Penguin (Pygoscelis adeliae)",
          "Adelie Penguin (Pygoscelis adeliae)",
          "Adelie Penguin (Pygoscelis adeliae)"
         ],
         "type": "scatter",
         "x": [
          18.7,
          17.4,
          18,
          17,
          19.3,
          20.6,
          17.8,
          19.6,
          18.1,
          20.2,
          17.1,
          17.3,
          17.6,
          21.2,
          21.1,
          17.8,
          19,
          20.7,
          18.4,
          21.5,
          18.3,
          18.7,
          19.2,
          18.1,
          17.2,
          18.9,
          18.6,
          17.9,
          18.6,
          18.9,
          16.7,
          18.1,
          17.8,
          18.9,
          17,
          21.1,
          20,
          18.5,
          19.3,
          19.1,
          18,
          18.4,
          18.5,
          19.7,
          16.9,
          18.8,
          19,
          18.9,
          17.9,
          21.2,
          17.7,
          18.9,
          17.9,
          19.5,
          18.1,
          18.6,
          17.5,
          18.8,
          16.6,
          19.1,
          16.9,
          21.1,
          17,
          18.2,
          17.1,
          18,
          16.2,
          19.1,
          16.6,
          19.4,
          19,
          18.4,
          17.2,
          18.9,
          17.5,
          18.5,
          16.8,
          19.4,
          16.1,
          19.1,
          17.2,
          17.6,
          18.8,
          19.4,
          17.8,
          20.3,
          19.5,
          18.6,
          19.2,
          18.8,
          18,
          18.1,
          17.1,
          18.1,
          17.3,
          18.9,
          18.6,
          18.5,
          16.1,
          18.5,
          17.9,
          20,
          16,
          20,
          18.6,
          18.9,
          17.2,
          20,
          17,
          19,
          16.5,
          20.3,
          17.7,
          19.5,
          20.7,
          18.3,
          17,
          20.5,
          17,
          18.6,
          17.2,
          19.8,
          17,
          18.5,
          15.9,
          19,
          17.6,
          18.3,
          17.1,
          18,
          17.9,
          19.2,
          18.5,
          18.5,
          17.6,
          17.5,
          17.5,
          20.1,
          16.5,
          17.9,
          17.1,
          17.2,
          15.5,
          17,
          16.8,
          18.7,
          18.6,
          18.4,
          17.8,
          18.1,
          17.1,
          18.5
         ],
         "y": [
          3750,
          3800,
          3250,
          3800,
          3450,
          3650,
          3625,
          4675,
          3475,
          4250,
          3300,
          3700,
          3200,
          3800,
          4400,
          3700,
          3450,
          4500,
          3325,
          4200,
          3400,
          3600,
          3800,
          3950,
          3800,
          3800,
          3550,
          3200,
          3150,
          3950,
          3250,
          3900,
          3300,
          3900,
          3325,
          4150,
          3950,
          3550,
          3300,
          4650,
          3150,
          3900,
          3100,
          4400,
          3000,
          4600,
          3425,
          2975,
          3450,
          4150,
          3500,
          4300,
          3450,
          4050,
          2900,
          3700,
          3550,
          3800,
          2850,
          3750,
          3150,
          4400,
          3600,
          4050,
          2850,
          3950,
          3350,
          4100,
          3050,
          4450,
          3600,
          3900,
          3550,
          4150,
          3700,
          4250,
          3700,
          3900,
          3550,
          4000,
          3200,
          4700,
          3800,
          4200,
          3350,
          3550,
          3800,
          3500,
          3950,
          3600,
          3550,
          4300,
          3400,
          4450,
          3300,
          4300,
          3700,
          4350,
          2900,
          4100,
          3725,
          4725,
          3075,
          4250,
          2925,
          3550,
          3750,
          3900,
          3175,
          4775,
          3825,
          4600,
          3200,
          4275,
          3900,
          4075,
          2900,
          3775,
          3350,
          3325,
          3150,
          3500,
          3450,
          3875,
          3050,
          4000,
          3275,
          4300,
          3050,
          4000,
          3325,
          3500,
          3500,
          4475,
          3425,
          3900,
          3175,
          3975,
          3400,
          4250,
          3400,
          3475,
          3050,
          3725,
          3000,
          3650,
          4250,
          3475,
          3450,
          3750,
          3700,
          4000
         ]
        },
        {
         "marker": {
          "color": [
           "teal",
           "teal",
           "teal",
           "teal",
           "teal",
           "teal",
           "teal",
           "teal",
           "teal",
           "teal",
           "teal",
           "teal",
           "teal",
           "teal",
           "teal",
           "teal",
           "teal",
           "teal",
           "teal",
           "teal",
           "teal",
           "teal",
           "teal",
           "teal",
           "teal",
           "teal",
           "teal",
           "teal",
           "teal",
           "teal",
           "teal",
           "teal",
           "teal",
           "teal",
           "teal",
           "teal",
           "teal",
           "teal",
           "teal",
           "teal",
           "teal",
           "teal",
           "teal",
           "teal",
           "teal",
           "teal",
           "teal",
           "teal",
           "teal",
           "teal",
           "teal",
           "teal",
           "teal",
           "teal",
           "teal",
           "teal",
           "teal",
           "teal",
           "teal",
           "teal",
           "teal",
           "teal",
           "teal",
           "teal",
           "teal",
           "teal",
           "teal",
           "teal",
           "teal",
           "teal",
           "teal",
           "teal",
           "teal",
           "teal",
           "teal",
           "teal",
           "teal",
           "teal",
           "teal",
           "teal",
           "teal",
           "teal",
           "teal",
           "teal",
           "teal",
           "teal",
           "teal",
           "teal",
           "teal",
           "teal",
           "teal",
           "teal",
           "teal",
           "teal",
           "teal",
           "teal",
           "teal",
           "teal",
           "teal",
           "teal",
           "teal",
           "teal",
           "teal",
           "teal",
           "teal",
           "teal",
           "teal",
           "teal",
           "teal",
           "teal",
           "teal",
           "teal",
           "teal",
           "teal",
           "teal",
           "teal",
           "teal",
           "teal",
           "teal",
           "teal",
           "teal",
           "teal",
           "teal",
           "teal"
          ],
          "line": {
           "color": "rgb(0,0,0)",
           "width": 0.5
          },
          "size": 9,
          "symbol": "square"
         },
         "mode": "markers",
         "name": "Gentoo penguin",
         "text": [
          "Gentoo penguin (Pygoscelis papua)",
          "Gentoo penguin (Pygoscelis papua)",
          "Gentoo penguin (Pygoscelis papua)",
          "Gentoo penguin (Pygoscelis papua)",
          "Gentoo penguin (Pygoscelis papua)",
          "Gentoo penguin (Pygoscelis papua)",
          "Gentoo penguin (Pygoscelis papua)",
          "Gentoo penguin (Pygoscelis papua)",
          "Gentoo penguin (Pygoscelis papua)",
          "Gentoo penguin (Pygoscelis papua)",
          "Gentoo penguin (Pygoscelis papua)",
          "Gentoo penguin (Pygoscelis papua)",
          "Gentoo penguin (Pygoscelis papua)",
          "Gentoo penguin (Pygoscelis papua)",
          "Gentoo penguin (Pygoscelis papua)",
          "Gentoo penguin (Pygoscelis papua)",
          "Gentoo penguin (Pygoscelis papua)",
          "Gentoo penguin (Pygoscelis papua)",
          "Gentoo penguin (Pygoscelis papua)",
          "Gentoo penguin (Pygoscelis papua)",
          "Gentoo penguin (Pygoscelis papua)",
          "Gentoo penguin (Pygoscelis papua)",
          "Gentoo penguin (Pygoscelis papua)",
          "Gentoo penguin (Pygoscelis papua)",
          "Gentoo penguin (Pygoscelis papua)",
          "Gentoo penguin (Pygoscelis papua)",
          "Gentoo penguin (Pygoscelis papua)",
          "Gentoo penguin (Pygoscelis papua)",
          "Gentoo penguin (Pygoscelis papua)",
          "Gentoo penguin (Pygoscelis papua)",
          "Gentoo penguin (Pygoscelis papua)",
          "Gentoo penguin (Pygoscelis papua)",
          "Gentoo penguin (Pygoscelis papua)",
          "Gentoo penguin (Pygoscelis papua)",
          "Gentoo penguin (Pygoscelis papua)",
          "Gentoo penguin (Pygoscelis papua)",
          "Gentoo penguin (Pygoscelis papua)",
          "Gentoo penguin (Pygoscelis papua)",
          "Gentoo penguin (Pygoscelis papua)",
          "Gentoo penguin (Pygoscelis papua)",
          "Gentoo penguin (Pygoscelis papua)",
          "Gentoo penguin (Pygoscelis papua)",
          "Gentoo penguin (Pygoscelis papua)",
          "Gentoo penguin (Pygoscelis papua)",
          "Gentoo penguin (Pygoscelis papua)",
          "Gentoo penguin (Pygoscelis papua)",
          "Gentoo penguin (Pygoscelis papua)",
          "Gentoo penguin (Pygoscelis papua)",
          "Gentoo penguin (Pygoscelis papua)",
          "Gentoo penguin (Pygoscelis papua)",
          "Gentoo penguin (Pygoscelis papua)",
          "Gentoo penguin (Pygoscelis papua)",
          "Gentoo penguin (Pygoscelis papua)",
          "Gentoo penguin (Pygoscelis papua)",
          "Gentoo penguin (Pygoscelis papua)",
          "Gentoo penguin (Pygoscelis papua)",
          "Gentoo penguin (Pygoscelis papua)",
          "Gentoo penguin (Pygoscelis papua)",
          "Gentoo penguin (Pygoscelis papua)",
          "Gentoo penguin (Pygoscelis papua)",
          "Gentoo penguin (Pygoscelis papua)",
          "Gentoo penguin (Pygoscelis papua)",
          "Gentoo penguin (Pygoscelis papua)",
          "Gentoo penguin (Pygoscelis papua)",
          "Gentoo penguin (Pygoscelis papua)",
          "Gentoo penguin (Pygoscelis papua)",
          "Gentoo penguin (Pygoscelis papua)",
          "Gentoo penguin (Pygoscelis papua)",
          "Gentoo penguin (Pygoscelis papua)",
          "Gentoo penguin (Pygoscelis papua)",
          "Gentoo penguin (Pygoscelis papua)",
          "Gentoo penguin (Pygoscelis papua)",
          "Gentoo penguin (Pygoscelis papua)",
          "Gentoo penguin (Pygoscelis papua)",
          "Gentoo penguin (Pygoscelis papua)",
          "Gentoo penguin (Pygoscelis papua)",
          "Gentoo penguin (Pygoscelis papua)",
          "Gentoo penguin (Pygoscelis papua)",
          "Gentoo penguin (Pygoscelis papua)",
          "Gentoo penguin (Pygoscelis papua)",
          "Gentoo penguin (Pygoscelis papua)",
          "Gentoo penguin (Pygoscelis papua)",
          "Gentoo penguin (Pygoscelis papua)",
          "Gentoo penguin (Pygoscelis papua)",
          "Gentoo penguin (Pygoscelis papua)",
          "Gentoo penguin (Pygoscelis papua)",
          "Gentoo penguin (Pygoscelis papua)",
          "Gentoo penguin (Pygoscelis papua)",
          "Gentoo penguin (Pygoscelis papua)",
          "Gentoo penguin (Pygoscelis papua)",
          "Gentoo penguin (Pygoscelis papua)",
          "Gentoo penguin (Pygoscelis papua)",
          "Gentoo penguin (Pygoscelis papua)",
          "Gentoo penguin (Pygoscelis papua)",
          "Gentoo penguin (Pygoscelis papua)",
          "Gentoo penguin (Pygoscelis papua)",
          "Gentoo penguin (Pygoscelis papua)",
          "Gentoo penguin (Pygoscelis papua)",
          "Gentoo penguin (Pygoscelis papua)",
          "Gentoo penguin (Pygoscelis papua)",
          "Gentoo penguin (Pygoscelis papua)",
          "Gentoo penguin (Pygoscelis papua)",
          "Gentoo penguin (Pygoscelis papua)",
          "Gentoo penguin (Pygoscelis papua)",
          "Gentoo penguin (Pygoscelis papua)",
          "Gentoo penguin (Pygoscelis papua)",
          "Gentoo penguin (Pygoscelis papua)",
          "Gentoo penguin (Pygoscelis papua)",
          "Gentoo penguin (Pygoscelis papua)",
          "Gentoo penguin (Pygoscelis papua)",
          "Gentoo penguin (Pygoscelis papua)",
          "Gentoo penguin (Pygoscelis papua)",
          "Gentoo penguin (Pygoscelis papua)",
          "Gentoo penguin (Pygoscelis papua)",
          "Gentoo penguin (Pygoscelis papua)",
          "Gentoo penguin (Pygoscelis papua)",
          "Gentoo penguin (Pygoscelis papua)",
          "Gentoo penguin (Pygoscelis papua)",
          "Gentoo penguin (Pygoscelis papua)",
          "Gentoo penguin (Pygoscelis papua)",
          "Gentoo penguin (Pygoscelis papua)",
          "Gentoo penguin (Pygoscelis papua)",
          "Gentoo penguin (Pygoscelis papua)",
          "Gentoo penguin (Pygoscelis papua)"
         ],
         "type": "scatter",
         "x": [
          13.2,
          16.3,
          14.1,
          15.2,
          14.5,
          13.5,
          14.6,
          15.3,
          13.4,
          15.4,
          13.7,
          16.1,
          13.7,
          14.6,
          14.6,
          15.7,
          13.5,
          15.2,
          14.5,
          15.1,
          14.3,
          14.5,
          14.5,
          15.8,
          13.1,
          15.1,
          14.3,
          15,
          14.3,
          15.3,
          15.3,
          14.2,
          14.5,
          17,
          14.8,
          16.3,
          13.7,
          17.3,
          13.6,
          15.7,
          13.7,
          16,
          13.7,
          15,
          15.9,
          13.9,
          13.9,
          15.9,
          13.3,
          15.8,
          14.2,
          14.1,
          14.4,
          15,
          14.4,
          15.4,
          13.9,
          15,
          14.5,
          15.3,
          13.8,
          14.9,
          13.9,
          15.7,
          14.2,
          16.8,
          14.4,
          16.2,
          14.2,
          15,
          15,
          15.6,
          15.6,
          14.8,
          15,
          16,
          14.2,
          16.3,
          13.8,
          16.4,
          14.5,
          15.6,
          14.6,
          15.9,
          13.8,
          17.3,
          14.4,
          14.2,
          14,
          17,
          15,
          17.1,
          14.5,
          16.1,
          14.7,
          15.7,
          15.8,
          14.6,
          14.4,
          16.5,
          15,
          17,
          15.5,
          15,
          13.8,
          16.1,
          14.7,
          15.8,
          14,
          15.1,
          15.2,
          15.9,
          15.2,
          16.3,
          14.1,
          16,
          15.7,
          16.2,
          13.7,
          17,
          14.3,
          15.7,
          14.8,
          16.1
         ],
         "y": [
          4500,
          5700,
          4450,
          5700,
          5400,
          4550,
          4800,
          5200,
          4400,
          5150,
          4650,
          5550,
          4650,
          5850,
          4200,
          5850,
          4150,
          6300,
          4800,
          5350,
          5700,
          5000,
          4400,
          5050,
          5000,
          5100,
          4100,
          5650,
          4600,
          5550,
          5250,
          4700,
          5050,
          6050,
          5150,
          5400,
          4950,
          5250,
          4350,
          5350,
          3950,
          5700,
          4300,
          4750,
          5550,
          4900,
          4200,
          5400,
          5100,
          5300,
          4850,
          5300,
          4400,
          5000,
          4900,
          5050,
          4300,
          5000,
          4450,
          5550,
          4200,
          5300,
          4400,
          5650,
          4700,
          5700,
          4650,
          5800,
          4700,
          5550,
          4750,
          5000,
          5100,
          5200,
          4700,
          5800,
          4600,
          6000,
          4750,
          5950,
          4625,
          5450,
          4725,
          5350,
          4750,
          5600,
          4600,
          5300,
          4875,
          5550,
          4950,
          5400,
          4750,
          5650,
          4850,
          5200,
          4925,
          4875,
          4625,
          5250,
          4850,
          5600,
          4975,
          5500,
          4725,
          5500,
          4700,
          5500,
          4575,
          5500,
          5000,
          5950,
          4650,
          5500,
          4375,
          5850,
          4875,
          6000,
          4925,
          3800,
          4850,
          5750,
          5200,
          5400
         ]
        },
        {
         "marker": {
          "color": [
           "mediumorchid",
           "mediumorchid",
           "mediumorchid",
           "mediumorchid",
           "mediumorchid",
           "mediumorchid",
           "mediumorchid",
           "mediumorchid",
           "mediumorchid",
           "mediumorchid",
           "mediumorchid",
           "mediumorchid",
           "mediumorchid",
           "mediumorchid",
           "mediumorchid",
           "mediumorchid",
           "mediumorchid",
           "mediumorchid",
           "mediumorchid",
           "mediumorchid",
           "mediumorchid",
           "mediumorchid",
           "mediumorchid",
           "mediumorchid",
           "mediumorchid",
           "mediumorchid",
           "mediumorchid",
           "mediumorchid",
           "mediumorchid",
           "mediumorchid",
           "mediumorchid",
           "mediumorchid",
           "mediumorchid",
           "mediumorchid",
           "mediumorchid",
           "mediumorchid",
           "mediumorchid",
           "mediumorchid",
           "mediumorchid",
           "mediumorchid",
           "mediumorchid",
           "mediumorchid",
           "mediumorchid",
           "mediumorchid",
           "mediumorchid",
           "mediumorchid",
           "mediumorchid",
           "mediumorchid",
           "mediumorchid",
           "mediumorchid",
           "mediumorchid",
           "mediumorchid",
           "mediumorchid",
           "mediumorchid",
           "mediumorchid",
           "mediumorchid",
           "mediumorchid",
           "mediumorchid",
           "mediumorchid",
           "mediumorchid",
           "mediumorchid",
           "mediumorchid",
           "mediumorchid",
           "mediumorchid",
           "mediumorchid",
           "mediumorchid",
           "mediumorchid",
           "mediumorchid"
          ],
          "line": {
           "color": "rgb(0,0,0)",
           "width": 0.5
          },
          "size": 11,
          "symbol": "triangle-up"
         },
         "mode": "markers",
         "name": "Chinstrap penguin",
         "text": [
          "Chinstrap penguin (Pygoscelis antarctica)",
          "Chinstrap penguin (Pygoscelis antarctica)",
          "Chinstrap penguin (Pygoscelis antarctica)",
          "Chinstrap penguin (Pygoscelis antarctica)",
          "Chinstrap penguin (Pygoscelis antarctica)",
          "Chinstrap penguin (Pygoscelis antarctica)",
          "Chinstrap penguin (Pygoscelis antarctica)",
          "Chinstrap penguin (Pygoscelis antarctica)",
          "Chinstrap penguin (Pygoscelis antarctica)",
          "Chinstrap penguin (Pygoscelis antarctica)",
          "Chinstrap penguin (Pygoscelis antarctica)",
          "Chinstrap penguin (Pygoscelis antarctica)",
          "Chinstrap penguin (Pygoscelis antarctica)",
          "Chinstrap penguin (Pygoscelis antarctica)",
          "Chinstrap penguin (Pygoscelis antarctica)",
          "Chinstrap penguin (Pygoscelis antarctica)",
          "Chinstrap penguin (Pygoscelis antarctica)",
          "Chinstrap penguin (Pygoscelis antarctica)",
          "Chinstrap penguin (Pygoscelis antarctica)",
          "Chinstrap penguin (Pygoscelis antarctica)",
          "Chinstrap penguin (Pygoscelis antarctica)",
          "Chinstrap penguin (Pygoscelis antarctica)",
          "Chinstrap penguin (Pygoscelis antarctica)",
          "Chinstrap penguin (Pygoscelis antarctica)",
          "Chinstrap penguin (Pygoscelis antarctica)",
          "Chinstrap penguin (Pygoscelis antarctica)",
          "Chinstrap penguin (Pygoscelis antarctica)",
          "Chinstrap penguin (Pygoscelis antarctica)",
          "Chinstrap penguin (Pygoscelis antarctica)",
          "Chinstrap penguin (Pygoscelis antarctica)",
          "Chinstrap penguin (Pygoscelis antarctica)",
          "Chinstrap penguin (Pygoscelis antarctica)",
          "Chinstrap penguin (Pygoscelis antarctica)",
          "Chinstrap penguin (Pygoscelis antarctica)",
          "Chinstrap penguin (Pygoscelis antarctica)",
          "Chinstrap penguin (Pygoscelis antarctica)",
          "Chinstrap penguin (Pygoscelis antarctica)",
          "Chinstrap penguin (Pygoscelis antarctica)",
          "Chinstrap penguin (Pygoscelis antarctica)",
          "Chinstrap penguin (Pygoscelis antarctica)",
          "Chinstrap penguin (Pygoscelis antarctica)",
          "Chinstrap penguin (Pygoscelis antarctica)",
          "Chinstrap penguin (Pygoscelis antarctica)",
          "Chinstrap penguin (Pygoscelis antarctica)",
          "Chinstrap penguin (Pygoscelis antarctica)",
          "Chinstrap penguin (Pygoscelis antarctica)",
          "Chinstrap penguin (Pygoscelis antarctica)",
          "Chinstrap penguin (Pygoscelis antarctica)",
          "Chinstrap penguin (Pygoscelis antarctica)",
          "Chinstrap penguin (Pygoscelis antarctica)",
          "Chinstrap penguin (Pygoscelis antarctica)",
          "Chinstrap penguin (Pygoscelis antarctica)",
          "Chinstrap penguin (Pygoscelis antarctica)",
          "Chinstrap penguin (Pygoscelis antarctica)",
          "Chinstrap penguin (Pygoscelis antarctica)",
          "Chinstrap penguin (Pygoscelis antarctica)",
          "Chinstrap penguin (Pygoscelis antarctica)",
          "Chinstrap penguin (Pygoscelis antarctica)",
          "Chinstrap penguin (Pygoscelis antarctica)",
          "Chinstrap penguin (Pygoscelis antarctica)",
          "Chinstrap penguin (Pygoscelis antarctica)",
          "Chinstrap penguin (Pygoscelis antarctica)",
          "Chinstrap penguin (Pygoscelis antarctica)",
          "Chinstrap penguin (Pygoscelis antarctica)",
          "Chinstrap penguin (Pygoscelis antarctica)",
          "Chinstrap penguin (Pygoscelis antarctica)",
          "Chinstrap penguin (Pygoscelis antarctica)",
          "Chinstrap penguin (Pygoscelis antarctica)"
         ],
         "type": "scatter",
         "x": [
          17.9,
          19.5,
          19.2,
          18.7,
          19.8,
          17.8,
          18.2,
          18.2,
          18.9,
          19.9,
          17.8,
          20.3,
          17.3,
          18.1,
          17.1,
          19.6,
          20,
          17.8,
          18.6,
          18.2,
          17.3,
          17.5,
          16.6,
          19.4,
          17.9,
          19,
          18.4,
          19,
          17.8,
          20,
          16.6,
          20.8,
          16.7,
          18.8,
          18.6,
          16.8,
          18.3,
          20.7,
          16.6,
          19.9,
          19.5,
          17.5,
          19.1,
          17,
          17.9,
          18.5,
          17.9,
          19.6,
          18.7,
          17.3,
          16.4,
          19,
          17.3,
          19.7,
          17.3,
          18.8,
          16.6,
          19.9,
          18.8,
          19.4,
          19.5,
          16.5,
          17,
          19.8,
          18.1,
          18.2,
          19,
          18.7
         ],
         "y": [
          3500,
          3900,
          3650,
          3525,
          3725,
          3950,
          3250,
          3750,
          4150,
          3700,
          3800,
          3775,
          3700,
          4050,
          3575,
          4050,
          3300,
          3700,
          3450,
          4400,
          3600,
          3400,
          2900,
          3800,
          3300,
          4150,
          3400,
          3800,
          3700,
          4550,
          3200,
          4300,
          3350,
          4100,
          3600,
          3900,
          3850,
          4800,
          2700,
          4500,
          3950,
          3650,
          3550,
          3500,
          3675,
          4450,
          3400,
          4300,
          3250,
          3675,
          3325,
          3950,
          3600,
          4050,
          3350,
          3450,
          3250,
          4050,
          3800,
          3525,
          3950,
          3650,
          3650,
          4000,
          3400,
          3775,
          4100,
          3775
         ]
        }
       ],
       "layout": {
        "paper_bgcolor": "rgba(0,0,0,0)",
        "plot_bgcolor": "rgba(0,0,0,0)",
        "showlegend": true,
        "template": {
         "data": {
          "bar": [
           {
            "error_x": {
             "color": "#2a3f5f"
            },
            "error_y": {
             "color": "#2a3f5f"
            },
            "marker": {
             "line": {
              "color": "#E5ECF6",
              "width": 0.5
             }
            },
            "type": "bar"
           }
          ],
          "barpolar": [
           {
            "marker": {
             "line": {
              "color": "#E5ECF6",
              "width": 0.5
             }
            },
            "type": "barpolar"
           }
          ],
          "carpet": [
           {
            "aaxis": {
             "endlinecolor": "#2a3f5f",
             "gridcolor": "white",
             "linecolor": "white",
             "minorgridcolor": "white",
             "startlinecolor": "#2a3f5f"
            },
            "baxis": {
             "endlinecolor": "#2a3f5f",
             "gridcolor": "white",
             "linecolor": "white",
             "minorgridcolor": "white",
             "startlinecolor": "#2a3f5f"
            },
            "type": "carpet"
           }
          ],
          "choropleth": [
           {
            "colorbar": {
             "outlinewidth": 0,
             "ticks": ""
            },
            "type": "choropleth"
           }
          ],
          "contour": [
           {
            "colorbar": {
             "outlinewidth": 0,
             "ticks": ""
            },
            "colorscale": [
             [
              0,
              "#0d0887"
             ],
             [
              0.1111111111111111,
              "#46039f"
             ],
             [
              0.2222222222222222,
              "#7201a8"
             ],
             [
              0.3333333333333333,
              "#9c179e"
             ],
             [
              0.4444444444444444,
              "#bd3786"
             ],
             [
              0.5555555555555556,
              "#d8576b"
             ],
             [
              0.6666666666666666,
              "#ed7953"
             ],
             [
              0.7777777777777778,
              "#fb9f3a"
             ],
             [
              0.8888888888888888,
              "#fdca26"
             ],
             [
              1,
              "#f0f921"
             ]
            ],
            "type": "contour"
           }
          ],
          "contourcarpet": [
           {
            "colorbar": {
             "outlinewidth": 0,
             "ticks": ""
            },
            "type": "contourcarpet"
           }
          ],
          "heatmap": [
           {
            "colorbar": {
             "outlinewidth": 0,
             "ticks": ""
            },
            "colorscale": [
             [
              0,
              "#0d0887"
             ],
             [
              0.1111111111111111,
              "#46039f"
             ],
             [
              0.2222222222222222,
              "#7201a8"
             ],
             [
              0.3333333333333333,
              "#9c179e"
             ],
             [
              0.4444444444444444,
              "#bd3786"
             ],
             [
              0.5555555555555556,
              "#d8576b"
             ],
             [
              0.6666666666666666,
              "#ed7953"
             ],
             [
              0.7777777777777778,
              "#fb9f3a"
             ],
             [
              0.8888888888888888,
              "#fdca26"
             ],
             [
              1,
              "#f0f921"
             ]
            ],
            "type": "heatmap"
           }
          ],
          "heatmapgl": [
           {
            "colorbar": {
             "outlinewidth": 0,
             "ticks": ""
            },
            "colorscale": [
             [
              0,
              "#0d0887"
             ],
             [
              0.1111111111111111,
              "#46039f"
             ],
             [
              0.2222222222222222,
              "#7201a8"
             ],
             [
              0.3333333333333333,
              "#9c179e"
             ],
             [
              0.4444444444444444,
              "#bd3786"
             ],
             [
              0.5555555555555556,
              "#d8576b"
             ],
             [
              0.6666666666666666,
              "#ed7953"
             ],
             [
              0.7777777777777778,
              "#fb9f3a"
             ],
             [
              0.8888888888888888,
              "#fdca26"
             ],
             [
              1,
              "#f0f921"
             ]
            ],
            "type": "heatmapgl"
           }
          ],
          "histogram": [
           {
            "marker": {
             "colorbar": {
              "outlinewidth": 0,
              "ticks": ""
             }
            },
            "type": "histogram"
           }
          ],
          "histogram2d": [
           {
            "colorbar": {
             "outlinewidth": 0,
             "ticks": ""
            },
            "colorscale": [
             [
              0,
              "#0d0887"
             ],
             [
              0.1111111111111111,
              "#46039f"
             ],
             [
              0.2222222222222222,
              "#7201a8"
             ],
             [
              0.3333333333333333,
              "#9c179e"
             ],
             [
              0.4444444444444444,
              "#bd3786"
             ],
             [
              0.5555555555555556,
              "#d8576b"
             ],
             [
              0.6666666666666666,
              "#ed7953"
             ],
             [
              0.7777777777777778,
              "#fb9f3a"
             ],
             [
              0.8888888888888888,
              "#fdca26"
             ],
             [
              1,
              "#f0f921"
             ]
            ],
            "type": "histogram2d"
           }
          ],
          "histogram2dcontour": [
           {
            "colorbar": {
             "outlinewidth": 0,
             "ticks": ""
            },
            "colorscale": [
             [
              0,
              "#0d0887"
             ],
             [
              0.1111111111111111,
              "#46039f"
             ],
             [
              0.2222222222222222,
              "#7201a8"
             ],
             [
              0.3333333333333333,
              "#9c179e"
             ],
             [
              0.4444444444444444,
              "#bd3786"
             ],
             [
              0.5555555555555556,
              "#d8576b"
             ],
             [
              0.6666666666666666,
              "#ed7953"
             ],
             [
              0.7777777777777778,
              "#fb9f3a"
             ],
             [
              0.8888888888888888,
              "#fdca26"
             ],
             [
              1,
              "#f0f921"
             ]
            ],
            "type": "histogram2dcontour"
           }
          ],
          "mesh3d": [
           {
            "colorbar": {
             "outlinewidth": 0,
             "ticks": ""
            },
            "type": "mesh3d"
           }
          ],
          "parcoords": [
           {
            "line": {
             "colorbar": {
              "outlinewidth": 0,
              "ticks": ""
             }
            },
            "type": "parcoords"
           }
          ],
          "pie": [
           {
            "automargin": true,
            "type": "pie"
           }
          ],
          "scatter": [
           {
            "marker": {
             "colorbar": {
              "outlinewidth": 0,
              "ticks": ""
             }
            },
            "type": "scatter"
           }
          ],
          "scatter3d": [
           {
            "line": {
             "colorbar": {
              "outlinewidth": 0,
              "ticks": ""
             }
            },
            "marker": {
             "colorbar": {
              "outlinewidth": 0,
              "ticks": ""
             }
            },
            "type": "scatter3d"
           }
          ],
          "scattercarpet": [
           {
            "marker": {
             "colorbar": {
              "outlinewidth": 0,
              "ticks": ""
             }
            },
            "type": "scattercarpet"
           }
          ],
          "scattergeo": [
           {
            "marker": {
             "colorbar": {
              "outlinewidth": 0,
              "ticks": ""
             }
            },
            "type": "scattergeo"
           }
          ],
          "scattergl": [
           {
            "marker": {
             "colorbar": {
              "outlinewidth": 0,
              "ticks": ""
             }
            },
            "type": "scattergl"
           }
          ],
          "scattermapbox": [
           {
            "marker": {
             "colorbar": {
              "outlinewidth": 0,
              "ticks": ""
             }
            },
            "type": "scattermapbox"
           }
          ],
          "scatterpolar": [
           {
            "marker": {
             "colorbar": {
              "outlinewidth": 0,
              "ticks": ""
             }
            },
            "type": "scatterpolar"
           }
          ],
          "scatterpolargl": [
           {
            "marker": {
             "colorbar": {
              "outlinewidth": 0,
              "ticks": ""
             }
            },
            "type": "scatterpolargl"
           }
          ],
          "scatterternary": [
           {
            "marker": {
             "colorbar": {
              "outlinewidth": 0,
              "ticks": ""
             }
            },
            "type": "scatterternary"
           }
          ],
          "surface": [
           {
            "colorbar": {
             "outlinewidth": 0,
             "ticks": ""
            },
            "colorscale": [
             [
              0,
              "#0d0887"
             ],
             [
              0.1111111111111111,
              "#46039f"
             ],
             [
              0.2222222222222222,
              "#7201a8"
             ],
             [
              0.3333333333333333,
              "#9c179e"
             ],
             [
              0.4444444444444444,
              "#bd3786"
             ],
             [
              0.5555555555555556,
              "#d8576b"
             ],
             [
              0.6666666666666666,
              "#ed7953"
             ],
             [
              0.7777777777777778,
              "#fb9f3a"
             ],
             [
              0.8888888888888888,
              "#fdca26"
             ],
             [
              1,
              "#f0f921"
             ]
            ],
            "type": "surface"
           }
          ],
          "table": [
           {
            "cells": {
             "fill": {
              "color": "#EBF0F8"
             },
             "line": {
              "color": "white"
             }
            },
            "header": {
             "fill": {
              "color": "#C8D4E3"
             },
             "line": {
              "color": "white"
             }
            },
            "type": "table"
           }
          ]
         },
         "layout": {
          "annotationdefaults": {
           "arrowcolor": "#2a3f5f",
           "arrowhead": 0,
           "arrowwidth": 1
          },
          "coloraxis": {
           "colorbar": {
            "outlinewidth": 0,
            "ticks": ""
           }
          },
          "colorscale": {
           "diverging": [
            [
             0,
             "#8e0152"
            ],
            [
             0.1,
             "#c51b7d"
            ],
            [
             0.2,
             "#de77ae"
            ],
            [
             0.3,
             "#f1b6da"
            ],
            [
             0.4,
             "#fde0ef"
            ],
            [
             0.5,
             "#f7f7f7"
            ],
            [
             0.6,
             "#e6f5d0"
            ],
            [
             0.7,
             "#b8e186"
            ],
            [
             0.8,
             "#7fbc41"
            ],
            [
             0.9,
             "#4d9221"
            ],
            [
             1,
             "#276419"
            ]
           ],
           "sequential": [
            [
             0,
             "#0d0887"
            ],
            [
             0.1111111111111111,
             "#46039f"
            ],
            [
             0.2222222222222222,
             "#7201a8"
            ],
            [
             0.3333333333333333,
             "#9c179e"
            ],
            [
             0.4444444444444444,
             "#bd3786"
            ],
            [
             0.5555555555555556,
             "#d8576b"
            ],
            [
             0.6666666666666666,
             "#ed7953"
            ],
            [
             0.7777777777777778,
             "#fb9f3a"
            ],
            [
             0.8888888888888888,
             "#fdca26"
            ],
            [
             1,
             "#f0f921"
            ]
           ],
           "sequentialminus": [
            [
             0,
             "#0d0887"
            ],
            [
             0.1111111111111111,
             "#46039f"
            ],
            [
             0.2222222222222222,
             "#7201a8"
            ],
            [
             0.3333333333333333,
             "#9c179e"
            ],
            [
             0.4444444444444444,
             "#bd3786"
            ],
            [
             0.5555555555555556,
             "#d8576b"
            ],
            [
             0.6666666666666666,
             "#ed7953"
            ],
            [
             0.7777777777777778,
             "#fb9f3a"
            ],
            [
             0.8888888888888888,
             "#fdca26"
            ],
            [
             1,
             "#f0f921"
            ]
           ]
          },
          "colorway": [
           "#636efa",
           "#EF553B",
           "#00cc96",
           "#ab63fa",
           "#FFA15A",
           "#19d3f3",
           "#FF6692",
           "#B6E880",
           "#FF97FF",
           "#FECB52"
          ],
          "font": {
           "color": "#2a3f5f"
          },
          "geo": {
           "bgcolor": "white",
           "lakecolor": "white",
           "landcolor": "#E5ECF6",
           "showlakes": true,
           "showland": true,
           "subunitcolor": "white"
          },
          "hoverlabel": {
           "align": "left"
          },
          "hovermode": "closest",
          "mapbox": {
           "style": "light"
          },
          "paper_bgcolor": "white",
          "plot_bgcolor": "#E5ECF6",
          "polar": {
           "angularaxis": {
            "gridcolor": "white",
            "linecolor": "white",
            "ticks": ""
           },
           "bgcolor": "#E5ECF6",
           "radialaxis": {
            "gridcolor": "white",
            "linecolor": "white",
            "ticks": ""
           }
          },
          "scene": {
           "xaxis": {
            "backgroundcolor": "#E5ECF6",
            "gridcolor": "white",
            "gridwidth": 2,
            "linecolor": "white",
            "showbackground": true,
            "ticks": "",
            "zerolinecolor": "white"
           },
           "yaxis": {
            "backgroundcolor": "#E5ECF6",
            "gridcolor": "white",
            "gridwidth": 2,
            "linecolor": "white",
            "showbackground": true,
            "ticks": "",
            "zerolinecolor": "white"
           },
           "zaxis": {
            "backgroundcolor": "#E5ECF6",
            "gridcolor": "white",
            "gridwidth": 2,
            "linecolor": "white",
            "showbackground": true,
            "ticks": "",
            "zerolinecolor": "white"
           }
          },
          "shapedefaults": {
           "line": {
            "color": "#2a3f5f"
           }
          },
          "ternary": {
           "aaxis": {
            "gridcolor": "white",
            "linecolor": "white",
            "ticks": ""
           },
           "baxis": {
            "gridcolor": "white",
            "linecolor": "white",
            "ticks": ""
           },
           "bgcolor": "#E5ECF6",
           "caxis": {
            "gridcolor": "white",
            "linecolor": "white",
            "ticks": ""
           }
          },
          "title": {
           "x": 0.05
          },
          "xaxis": {
           "automargin": true,
           "gridcolor": "white",
           "linecolor": "white",
           "ticks": "",
           "title": {
            "standoff": 15
           },
           "zerolinecolor": "white",
           "zerolinewidth": 2
          },
          "yaxis": {
           "automargin": true,
           "gridcolor": "white",
           "linecolor": "white",
           "ticks": "",
           "title": {
            "standoff": 15
           },
           "zerolinecolor": "white",
           "zerolinewidth": 2
          }
         }
        },
        "title": {
         "text": "<b>Culmen Depth (mm) vs. Body Mass (g)</b>"
        },
        "xaxis": {
         "title": {
          "text": "Culmen Depth (mm)"
         }
        },
        "yaxis": {
         "title": {
          "text": "Body Mass (g)"
         }
        }
       }
      },
      "text/html": [
       "<div>\n",
       "        \n",
       "        \n",
       "            <div id=\"9d6c879a-e483-431d-b6c5-51eac22ebaed\" class=\"plotly-graph-div\" style=\"height:525px; width:100%;\"></div>\n",
       "            <script type=\"text/javascript\">\n",
       "                require([\"plotly\"], function(Plotly) {\n",
       "                    window.PLOTLYENV=window.PLOTLYENV || {};\n",
       "                    \n",
       "                if (document.getElementById(\"9d6c879a-e483-431d-b6c5-51eac22ebaed\")) {\n",
       "                    Plotly.newPlot(\n",
       "                        '9d6c879a-e483-431d-b6c5-51eac22ebaed',\n",
       "                        [{\"marker\": {\"color\": [\"darkorange\", \"darkorange\", \"darkorange\", \"darkorange\", \"darkorange\", \"darkorange\", \"darkorange\", \"darkorange\", \"darkorange\", \"darkorange\", \"darkorange\", \"darkorange\", \"darkorange\", \"darkorange\", \"darkorange\", \"darkorange\", \"darkorange\", \"darkorange\", \"darkorange\", \"darkorange\", \"darkorange\", \"darkorange\", \"darkorange\", \"darkorange\", \"darkorange\", \"darkorange\", \"darkorange\", \"darkorange\", \"darkorange\", \"darkorange\", \"darkorange\", \"darkorange\", \"darkorange\", \"darkorange\", \"darkorange\", \"darkorange\", \"darkorange\", \"darkorange\", \"darkorange\", \"darkorange\", \"darkorange\", \"darkorange\", \"darkorange\", \"darkorange\", \"darkorange\", \"darkorange\", \"darkorange\", \"darkorange\", \"darkorange\", \"darkorange\", \"darkorange\", \"darkorange\", \"darkorange\", \"darkorange\", \"darkorange\", \"darkorange\", \"darkorange\", \"darkorange\", \"darkorange\", \"darkorange\", \"darkorange\", \"darkorange\", \"darkorange\", \"darkorange\", \"darkorange\", \"darkorange\", \"darkorange\", \"darkorange\", \"darkorange\", \"darkorange\", \"darkorange\", \"darkorange\", \"darkorange\", \"darkorange\", \"darkorange\", \"darkorange\", \"darkorange\", \"darkorange\", \"darkorange\", \"darkorange\", \"darkorange\", \"darkorange\", \"darkorange\", \"darkorange\", \"darkorange\", \"darkorange\", \"darkorange\", \"darkorange\", \"darkorange\", \"darkorange\", \"darkorange\", \"darkorange\", \"darkorange\", \"darkorange\", \"darkorange\", \"darkorange\", \"darkorange\", \"darkorange\", \"darkorange\", \"darkorange\", \"darkorange\", \"darkorange\", \"darkorange\", \"darkorange\", \"darkorange\", \"darkorange\", \"darkorange\", \"darkorange\", \"darkorange\", \"darkorange\", \"darkorange\", \"darkorange\", \"darkorange\", \"darkorange\", \"darkorange\", \"darkorange\", \"darkorange\", \"darkorange\", \"darkorange\", \"darkorange\", \"darkorange\", \"darkorange\", \"darkorange\", \"darkorange\", \"darkorange\", \"darkorange\", \"darkorange\", \"darkorange\", \"darkorange\", \"darkorange\", \"darkorange\", \"darkorange\", \"darkorange\", \"darkorange\", \"darkorange\", \"darkorange\", \"darkorange\", \"darkorange\", \"darkorange\", \"darkorange\", \"darkorange\", \"darkorange\", \"darkorange\", \"darkorange\", \"darkorange\", \"darkorange\", \"darkorange\", \"darkorange\", \"darkorange\", \"darkorange\", \"darkorange\", \"darkorange\"], \"line\": {\"color\": \"rgb(0,0,0)\", \"width\": 0.5}, \"size\": 9, \"symbol\": \"circle\"}, \"mode\": \"markers\", \"name\": \"Adelie Penguin\", \"text\": [\"Adelie Penguin (Pygoscelis adeliae)\", \"Adelie Penguin (Pygoscelis adeliae)\", \"Adelie Penguin (Pygoscelis adeliae)\", \"Adelie Penguin (Pygoscelis adeliae)\", \"Adelie Penguin (Pygoscelis adeliae)\", \"Adelie Penguin (Pygoscelis adeliae)\", \"Adelie Penguin (Pygoscelis adeliae)\", \"Adelie Penguin (Pygoscelis adeliae)\", \"Adelie Penguin (Pygoscelis adeliae)\", \"Adelie Penguin (Pygoscelis adeliae)\", \"Adelie Penguin (Pygoscelis adeliae)\", \"Adelie Penguin (Pygoscelis adeliae)\", \"Adelie Penguin (Pygoscelis adeliae)\", \"Adelie Penguin (Pygoscelis adeliae)\", \"Adelie Penguin (Pygoscelis adeliae)\", \"Adelie Penguin (Pygoscelis adeliae)\", \"Adelie Penguin (Pygoscelis adeliae)\", \"Adelie Penguin (Pygoscelis adeliae)\", \"Adelie Penguin (Pygoscelis adeliae)\", \"Adelie Penguin (Pygoscelis adeliae)\", \"Adelie Penguin (Pygoscelis adeliae)\", \"Adelie Penguin (Pygoscelis adeliae)\", \"Adelie Penguin (Pygoscelis adeliae)\", \"Adelie Penguin (Pygoscelis adeliae)\", \"Adelie Penguin (Pygoscelis adeliae)\", \"Adelie Penguin (Pygoscelis adeliae)\", \"Adelie Penguin (Pygoscelis adeliae)\", \"Adelie Penguin (Pygoscelis adeliae)\", \"Adelie Penguin (Pygoscelis adeliae)\", \"Adelie Penguin (Pygoscelis adeliae)\", \"Adelie Penguin (Pygoscelis adeliae)\", \"Adelie Penguin (Pygoscelis adeliae)\", \"Adelie Penguin (Pygoscelis adeliae)\", \"Adelie Penguin (Pygoscelis adeliae)\", \"Adelie Penguin (Pygoscelis adeliae)\", \"Adelie Penguin (Pygoscelis adeliae)\", \"Adelie Penguin (Pygoscelis adeliae)\", \"Adelie Penguin (Pygoscelis adeliae)\", \"Adelie Penguin (Pygoscelis adeliae)\", \"Adelie Penguin (Pygoscelis adeliae)\", \"Adelie Penguin (Pygoscelis adeliae)\", \"Adelie Penguin (Pygoscelis adeliae)\", \"Adelie Penguin (Pygoscelis adeliae)\", \"Adelie Penguin (Pygoscelis adeliae)\", \"Adelie Penguin (Pygoscelis adeliae)\", \"Adelie Penguin (Pygoscelis adeliae)\", \"Adelie Penguin (Pygoscelis adeliae)\", \"Adelie Penguin (Pygoscelis adeliae)\", \"Adelie Penguin (Pygoscelis adeliae)\", \"Adelie Penguin (Pygoscelis adeliae)\", \"Adelie Penguin (Pygoscelis adeliae)\", \"Adelie Penguin (Pygoscelis adeliae)\", \"Adelie Penguin (Pygoscelis adeliae)\", \"Adelie Penguin (Pygoscelis adeliae)\", \"Adelie Penguin (Pygoscelis adeliae)\", \"Adelie Penguin (Pygoscelis adeliae)\", \"Adelie Penguin (Pygoscelis adeliae)\", \"Adelie Penguin (Pygoscelis adeliae)\", \"Adelie Penguin (Pygoscelis adeliae)\", \"Adelie Penguin (Pygoscelis adeliae)\", \"Adelie Penguin (Pygoscelis adeliae)\", \"Adelie Penguin (Pygoscelis adeliae)\", \"Adelie Penguin (Pygoscelis adeliae)\", \"Adelie Penguin (Pygoscelis adeliae)\", \"Adelie Penguin (Pygoscelis adeliae)\", \"Adelie Penguin (Pygoscelis adeliae)\", \"Adelie Penguin (Pygoscelis adeliae)\", \"Adelie Penguin (Pygoscelis adeliae)\", \"Adelie Penguin (Pygoscelis adeliae)\", \"Adelie Penguin (Pygoscelis adeliae)\", \"Adelie Penguin (Pygoscelis adeliae)\", \"Adelie Penguin (Pygoscelis adeliae)\", \"Adelie Penguin (Pygoscelis adeliae)\", \"Adelie Penguin (Pygoscelis adeliae)\", \"Adelie Penguin (Pygoscelis adeliae)\", \"Adelie Penguin (Pygoscelis adeliae)\", \"Adelie Penguin (Pygoscelis adeliae)\", \"Adelie Penguin (Pygoscelis adeliae)\", \"Adelie Penguin (Pygoscelis adeliae)\", \"Adelie Penguin (Pygoscelis adeliae)\", \"Adelie Penguin (Pygoscelis adeliae)\", \"Adelie Penguin (Pygoscelis adeliae)\", \"Adelie Penguin (Pygoscelis adeliae)\", \"Adelie Penguin (Pygoscelis adeliae)\", \"Adelie Penguin (Pygoscelis adeliae)\", \"Adelie Penguin (Pygoscelis adeliae)\", \"Adelie Penguin (Pygoscelis adeliae)\", \"Adelie Penguin (Pygoscelis adeliae)\", \"Adelie Penguin (Pygoscelis adeliae)\", \"Adelie Penguin (Pygoscelis adeliae)\", \"Adelie Penguin (Pygoscelis adeliae)\", \"Adelie Penguin (Pygoscelis adeliae)\", \"Adelie Penguin (Pygoscelis adeliae)\", \"Adelie Penguin (Pygoscelis adeliae)\", \"Adelie Penguin (Pygoscelis adeliae)\", \"Adelie Penguin (Pygoscelis adeliae)\", \"Adelie Penguin (Pygoscelis adeliae)\", \"Adelie Penguin (Pygoscelis adeliae)\", \"Adelie Penguin (Pygoscelis adeliae)\", \"Adelie Penguin (Pygoscelis adeliae)\", \"Adelie Penguin (Pygoscelis adeliae)\", \"Adelie Penguin (Pygoscelis adeliae)\", \"Adelie Penguin (Pygoscelis adeliae)\", \"Adelie Penguin (Pygoscelis adeliae)\", \"Adelie Penguin (Pygoscelis adeliae)\", \"Adelie Penguin (Pygoscelis adeliae)\", \"Adelie Penguin (Pygoscelis adeliae)\", \"Adelie Penguin (Pygoscelis adeliae)\", \"Adelie Penguin (Pygoscelis adeliae)\", \"Adelie Penguin (Pygoscelis adeliae)\", \"Adelie Penguin (Pygoscelis adeliae)\", \"Adelie Penguin (Pygoscelis adeliae)\", \"Adelie Penguin (Pygoscelis adeliae)\", \"Adelie Penguin (Pygoscelis adeliae)\", \"Adelie Penguin (Pygoscelis adeliae)\", \"Adelie Penguin (Pygoscelis adeliae)\", \"Adelie Penguin (Pygoscelis adeliae)\", \"Adelie Penguin (Pygoscelis adeliae)\", \"Adelie Penguin (Pygoscelis adeliae)\", \"Adelie Penguin (Pygoscelis adeliae)\", \"Adelie Penguin (Pygoscelis adeliae)\", \"Adelie Penguin (Pygoscelis adeliae)\", \"Adelie Penguin (Pygoscelis adeliae)\", \"Adelie Penguin (Pygoscelis adeliae)\", \"Adelie Penguin (Pygoscelis adeliae)\", \"Adelie Penguin (Pygoscelis adeliae)\", \"Adelie Penguin (Pygoscelis adeliae)\", \"Adelie Penguin (Pygoscelis adeliae)\", \"Adelie Penguin (Pygoscelis adeliae)\", \"Adelie Penguin (Pygoscelis adeliae)\", \"Adelie Penguin (Pygoscelis adeliae)\", \"Adelie Penguin (Pygoscelis adeliae)\", \"Adelie Penguin (Pygoscelis adeliae)\", \"Adelie Penguin (Pygoscelis adeliae)\", \"Adelie Penguin (Pygoscelis adeliae)\", \"Adelie Penguin (Pygoscelis adeliae)\", \"Adelie Penguin (Pygoscelis adeliae)\", \"Adelie Penguin (Pygoscelis adeliae)\", \"Adelie Penguin (Pygoscelis adeliae)\", \"Adelie Penguin (Pygoscelis adeliae)\", \"Adelie Penguin (Pygoscelis adeliae)\", \"Adelie Penguin (Pygoscelis adeliae)\", \"Adelie Penguin (Pygoscelis adeliae)\", \"Adelie Penguin (Pygoscelis adeliae)\", \"Adelie Penguin (Pygoscelis adeliae)\", \"Adelie Penguin (Pygoscelis adeliae)\", \"Adelie Penguin (Pygoscelis adeliae)\", \"Adelie Penguin (Pygoscelis adeliae)\", \"Adelie Penguin (Pygoscelis adeliae)\", \"Adelie Penguin (Pygoscelis adeliae)\", \"Adelie Penguin (Pygoscelis adeliae)\", \"Adelie Penguin (Pygoscelis adeliae)\"], \"type\": \"scatter\", \"x\": [18.7, 17.4, 18.0, 17.0, 19.3, 20.6, 17.8, 19.6, 18.1, 20.2, 17.1, 17.3, 17.6, 21.2, 21.1, 17.8, 19.0, 20.7, 18.4, 21.5, 18.3, 18.7, 19.2, 18.1, 17.2, 18.9, 18.6, 17.9, 18.6, 18.9, 16.7, 18.1, 17.8, 18.9, 17.0, 21.1, 20.0, 18.5, 19.3, 19.1, 18.0, 18.4, 18.5, 19.7, 16.9, 18.8, 19.0, 18.9, 17.9, 21.2, 17.7, 18.9, 17.9, 19.5, 18.1, 18.6, 17.5, 18.8, 16.6, 19.1, 16.9, 21.1, 17.0, 18.2, 17.1, 18.0, 16.2, 19.1, 16.6, 19.4, 19.0, 18.4, 17.2, 18.9, 17.5, 18.5, 16.8, 19.4, 16.1, 19.1, 17.2, 17.6, 18.8, 19.4, 17.8, 20.3, 19.5, 18.6, 19.2, 18.8, 18.0, 18.1, 17.1, 18.1, 17.3, 18.9, 18.6, 18.5, 16.1, 18.5, 17.9, 20.0, 16.0, 20.0, 18.6, 18.9, 17.2, 20.0, 17.0, 19.0, 16.5, 20.3, 17.7, 19.5, 20.7, 18.3, 17.0, 20.5, 17.0, 18.6, 17.2, 19.8, 17.0, 18.5, 15.9, 19.0, 17.6, 18.3, 17.1, 18.0, 17.9, 19.2, 18.5, 18.5, 17.6, 17.5, 17.5, 20.1, 16.5, 17.9, 17.1, 17.2, 15.5, 17.0, 16.8, 18.7, 18.6, 18.4, 17.8, 18.1, 17.1, 18.5], \"y\": [3750.0, 3800.0, 3250.0, 3800.0, 3450.0, 3650.0, 3625.0, 4675.0, 3475.0, 4250.0, 3300.0, 3700.0, 3200.0, 3800.0, 4400.0, 3700.0, 3450.0, 4500.0, 3325.0, 4200.0, 3400.0, 3600.0, 3800.0, 3950.0, 3800.0, 3800.0, 3550.0, 3200.0, 3150.0, 3950.0, 3250.0, 3900.0, 3300.0, 3900.0, 3325.0, 4150.0, 3950.0, 3550.0, 3300.0, 4650.0, 3150.0, 3900.0, 3100.0, 4400.0, 3000.0, 4600.0, 3425.0, 2975.0, 3450.0, 4150.0, 3500.0, 4300.0, 3450.0, 4050.0, 2900.0, 3700.0, 3550.0, 3800.0, 2850.0, 3750.0, 3150.0, 4400.0, 3600.0, 4050.0, 2850.0, 3950.0, 3350.0, 4100.0, 3050.0, 4450.0, 3600.0, 3900.0, 3550.0, 4150.0, 3700.0, 4250.0, 3700.0, 3900.0, 3550.0, 4000.0, 3200.0, 4700.0, 3800.0, 4200.0, 3350.0, 3550.0, 3800.0, 3500.0, 3950.0, 3600.0, 3550.0, 4300.0, 3400.0, 4450.0, 3300.0, 4300.0, 3700.0, 4350.0, 2900.0, 4100.0, 3725.0, 4725.0, 3075.0, 4250.0, 2925.0, 3550.0, 3750.0, 3900.0, 3175.0, 4775.0, 3825.0, 4600.0, 3200.0, 4275.0, 3900.0, 4075.0, 2900.0, 3775.0, 3350.0, 3325.0, 3150.0, 3500.0, 3450.0, 3875.0, 3050.0, 4000.0, 3275.0, 4300.0, 3050.0, 4000.0, 3325.0, 3500.0, 3500.0, 4475.0, 3425.0, 3900.0, 3175.0, 3975.0, 3400.0, 4250.0, 3400.0, 3475.0, 3050.0, 3725.0, 3000.0, 3650.0, 4250.0, 3475.0, 3450.0, 3750.0, 3700.0, 4000.0]}, {\"marker\": {\"color\": [\"teal\", \"teal\", \"teal\", \"teal\", \"teal\", \"teal\", \"teal\", \"teal\", \"teal\", \"teal\", \"teal\", \"teal\", \"teal\", \"teal\", \"teal\", \"teal\", \"teal\", \"teal\", \"teal\", \"teal\", \"teal\", \"teal\", \"teal\", \"teal\", \"teal\", \"teal\", \"teal\", \"teal\", \"teal\", \"teal\", \"teal\", \"teal\", \"teal\", \"teal\", \"teal\", \"teal\", \"teal\", \"teal\", \"teal\", \"teal\", \"teal\", \"teal\", \"teal\", \"teal\", \"teal\", \"teal\", \"teal\", \"teal\", \"teal\", \"teal\", \"teal\", \"teal\", \"teal\", \"teal\", \"teal\", \"teal\", \"teal\", \"teal\", \"teal\", \"teal\", \"teal\", \"teal\", \"teal\", \"teal\", \"teal\", \"teal\", \"teal\", \"teal\", \"teal\", \"teal\", \"teal\", \"teal\", \"teal\", \"teal\", \"teal\", \"teal\", \"teal\", \"teal\", \"teal\", \"teal\", \"teal\", \"teal\", \"teal\", \"teal\", \"teal\", \"teal\", \"teal\", \"teal\", \"teal\", \"teal\", \"teal\", \"teal\", \"teal\", \"teal\", \"teal\", \"teal\", \"teal\", \"teal\", \"teal\", \"teal\", \"teal\", \"teal\", \"teal\", \"teal\", \"teal\", \"teal\", \"teal\", \"teal\", \"teal\", \"teal\", \"teal\", \"teal\", \"teal\", \"teal\", \"teal\", \"teal\", \"teal\", \"teal\", \"teal\", \"teal\", \"teal\", \"teal\", \"teal\", \"teal\"], \"line\": {\"color\": \"rgb(0,0,0)\", \"width\": 0.5}, \"size\": 9, \"symbol\": \"square\"}, \"mode\": \"markers\", \"name\": \"Gentoo penguin\", \"text\": [\"Gentoo penguin (Pygoscelis papua)\", \"Gentoo penguin (Pygoscelis papua)\", \"Gentoo penguin (Pygoscelis papua)\", \"Gentoo penguin (Pygoscelis papua)\", \"Gentoo penguin (Pygoscelis papua)\", \"Gentoo penguin (Pygoscelis papua)\", \"Gentoo penguin (Pygoscelis papua)\", \"Gentoo penguin (Pygoscelis papua)\", \"Gentoo penguin (Pygoscelis papua)\", \"Gentoo penguin (Pygoscelis papua)\", \"Gentoo penguin (Pygoscelis papua)\", \"Gentoo penguin (Pygoscelis papua)\", \"Gentoo penguin (Pygoscelis papua)\", \"Gentoo penguin (Pygoscelis papua)\", \"Gentoo penguin (Pygoscelis papua)\", \"Gentoo penguin (Pygoscelis papua)\", \"Gentoo penguin (Pygoscelis papua)\", \"Gentoo penguin (Pygoscelis papua)\", \"Gentoo penguin (Pygoscelis papua)\", \"Gentoo penguin (Pygoscelis papua)\", \"Gentoo penguin (Pygoscelis papua)\", \"Gentoo penguin (Pygoscelis papua)\", \"Gentoo penguin (Pygoscelis papua)\", \"Gentoo penguin (Pygoscelis papua)\", \"Gentoo penguin (Pygoscelis papua)\", \"Gentoo penguin (Pygoscelis papua)\", \"Gentoo penguin (Pygoscelis papua)\", \"Gentoo penguin (Pygoscelis papua)\", \"Gentoo penguin (Pygoscelis papua)\", \"Gentoo penguin (Pygoscelis papua)\", \"Gentoo penguin (Pygoscelis papua)\", \"Gentoo penguin (Pygoscelis papua)\", \"Gentoo penguin (Pygoscelis papua)\", \"Gentoo penguin (Pygoscelis papua)\", \"Gentoo penguin (Pygoscelis papua)\", \"Gentoo penguin (Pygoscelis papua)\", \"Gentoo penguin (Pygoscelis papua)\", \"Gentoo penguin (Pygoscelis papua)\", \"Gentoo penguin (Pygoscelis papua)\", \"Gentoo penguin (Pygoscelis papua)\", \"Gentoo penguin (Pygoscelis papua)\", \"Gentoo penguin (Pygoscelis papua)\", \"Gentoo penguin (Pygoscelis papua)\", \"Gentoo penguin (Pygoscelis papua)\", \"Gentoo penguin (Pygoscelis papua)\", \"Gentoo penguin (Pygoscelis papua)\", \"Gentoo penguin (Pygoscelis papua)\", \"Gentoo penguin (Pygoscelis papua)\", \"Gentoo penguin (Pygoscelis papua)\", \"Gentoo penguin (Pygoscelis papua)\", \"Gentoo penguin (Pygoscelis papua)\", \"Gentoo penguin (Pygoscelis papua)\", \"Gentoo penguin (Pygoscelis papua)\", \"Gentoo penguin (Pygoscelis papua)\", \"Gentoo penguin (Pygoscelis papua)\", \"Gentoo penguin (Pygoscelis papua)\", \"Gentoo penguin (Pygoscelis papua)\", \"Gentoo penguin (Pygoscelis papua)\", \"Gentoo penguin (Pygoscelis papua)\", \"Gentoo penguin (Pygoscelis papua)\", \"Gentoo penguin (Pygoscelis papua)\", \"Gentoo penguin (Pygoscelis papua)\", \"Gentoo penguin (Pygoscelis papua)\", \"Gentoo penguin (Pygoscelis papua)\", \"Gentoo penguin (Pygoscelis papua)\", \"Gentoo penguin (Pygoscelis papua)\", \"Gentoo penguin (Pygoscelis papua)\", \"Gentoo penguin (Pygoscelis papua)\", \"Gentoo penguin (Pygoscelis papua)\", \"Gentoo penguin (Pygoscelis papua)\", \"Gentoo penguin (Pygoscelis papua)\", \"Gentoo penguin (Pygoscelis papua)\", \"Gentoo penguin (Pygoscelis papua)\", \"Gentoo penguin (Pygoscelis papua)\", \"Gentoo penguin (Pygoscelis papua)\", \"Gentoo penguin (Pygoscelis papua)\", \"Gentoo penguin (Pygoscelis papua)\", \"Gentoo penguin (Pygoscelis papua)\", \"Gentoo penguin (Pygoscelis papua)\", \"Gentoo penguin (Pygoscelis papua)\", \"Gentoo penguin (Pygoscelis papua)\", \"Gentoo penguin (Pygoscelis papua)\", \"Gentoo penguin (Pygoscelis papua)\", \"Gentoo penguin (Pygoscelis papua)\", \"Gentoo penguin (Pygoscelis papua)\", \"Gentoo penguin (Pygoscelis papua)\", \"Gentoo penguin (Pygoscelis papua)\", \"Gentoo penguin (Pygoscelis papua)\", \"Gentoo penguin (Pygoscelis papua)\", \"Gentoo penguin (Pygoscelis papua)\", \"Gentoo penguin (Pygoscelis papua)\", \"Gentoo penguin (Pygoscelis papua)\", \"Gentoo penguin (Pygoscelis papua)\", \"Gentoo penguin (Pygoscelis papua)\", \"Gentoo penguin (Pygoscelis papua)\", \"Gentoo penguin (Pygoscelis papua)\", \"Gentoo penguin (Pygoscelis papua)\", \"Gentoo penguin (Pygoscelis papua)\", \"Gentoo penguin (Pygoscelis papua)\", \"Gentoo penguin (Pygoscelis papua)\", \"Gentoo penguin (Pygoscelis papua)\", \"Gentoo penguin (Pygoscelis papua)\", \"Gentoo penguin (Pygoscelis papua)\", \"Gentoo penguin (Pygoscelis papua)\", \"Gentoo penguin (Pygoscelis papua)\", \"Gentoo penguin (Pygoscelis papua)\", \"Gentoo penguin (Pygoscelis papua)\", \"Gentoo penguin (Pygoscelis papua)\", \"Gentoo penguin (Pygoscelis papua)\", \"Gentoo penguin (Pygoscelis papua)\", \"Gentoo penguin (Pygoscelis papua)\", \"Gentoo penguin (Pygoscelis papua)\", \"Gentoo penguin (Pygoscelis papua)\", \"Gentoo penguin (Pygoscelis papua)\", \"Gentoo penguin (Pygoscelis papua)\", \"Gentoo penguin (Pygoscelis papua)\", \"Gentoo penguin (Pygoscelis papua)\", \"Gentoo penguin (Pygoscelis papua)\", \"Gentoo penguin (Pygoscelis papua)\", \"Gentoo penguin (Pygoscelis papua)\", \"Gentoo penguin (Pygoscelis papua)\", \"Gentoo penguin (Pygoscelis papua)\", \"Gentoo penguin (Pygoscelis papua)\", \"Gentoo penguin (Pygoscelis papua)\"], \"type\": \"scatter\", \"x\": [13.2, 16.3, 14.1, 15.2, 14.5, 13.5, 14.6, 15.3, 13.4, 15.4, 13.7, 16.1, 13.7, 14.6, 14.6, 15.7, 13.5, 15.2, 14.5, 15.1, 14.3, 14.5, 14.5, 15.8, 13.1, 15.1, 14.3, 15.0, 14.3, 15.3, 15.3, 14.2, 14.5, 17.0, 14.8, 16.3, 13.7, 17.3, 13.6, 15.7, 13.7, 16.0, 13.7, 15.0, 15.9, 13.9, 13.9, 15.9, 13.3, 15.8, 14.2, 14.1, 14.4, 15.0, 14.4, 15.4, 13.9, 15.0, 14.5, 15.3, 13.8, 14.9, 13.9, 15.7, 14.2, 16.8, 14.4, 16.2, 14.2, 15.0, 15.0, 15.6, 15.6, 14.8, 15.0, 16.0, 14.2, 16.3, 13.8, 16.4, 14.5, 15.6, 14.6, 15.9, 13.8, 17.3, 14.4, 14.2, 14.0, 17.0, 15.0, 17.1, 14.5, 16.1, 14.7, 15.7, 15.8, 14.6, 14.4, 16.5, 15.0, 17.0, 15.5, 15.0, 13.8, 16.1, 14.7, 15.8, 14.0, 15.1, 15.2, 15.9, 15.2, 16.3, 14.1, 16.0, 15.7, 16.2, 13.7, 17.0, 14.3, 15.7, 14.8, 16.1], \"y\": [4500.0, 5700.0, 4450.0, 5700.0, 5400.0, 4550.0, 4800.0, 5200.0, 4400.0, 5150.0, 4650.0, 5550.0, 4650.0, 5850.0, 4200.0, 5850.0, 4150.0, 6300.0, 4800.0, 5350.0, 5700.0, 5000.0, 4400.0, 5050.0, 5000.0, 5100.0, 4100.0, 5650.0, 4600.0, 5550.0, 5250.0, 4700.0, 5050.0, 6050.0, 5150.0, 5400.0, 4950.0, 5250.0, 4350.0, 5350.0, 3950.0, 5700.0, 4300.0, 4750.0, 5550.0, 4900.0, 4200.0, 5400.0, 5100.0, 5300.0, 4850.0, 5300.0, 4400.0, 5000.0, 4900.0, 5050.0, 4300.0, 5000.0, 4450.0, 5550.0, 4200.0, 5300.0, 4400.0, 5650.0, 4700.0, 5700.0, 4650.0, 5800.0, 4700.0, 5550.0, 4750.0, 5000.0, 5100.0, 5200.0, 4700.0, 5800.0, 4600.0, 6000.0, 4750.0, 5950.0, 4625.0, 5450.0, 4725.0, 5350.0, 4750.0, 5600.0, 4600.0, 5300.0, 4875.0, 5550.0, 4950.0, 5400.0, 4750.0, 5650.0, 4850.0, 5200.0, 4925.0, 4875.0, 4625.0, 5250.0, 4850.0, 5600.0, 4975.0, 5500.0, 4725.0, 5500.0, 4700.0, 5500.0, 4575.0, 5500.0, 5000.0, 5950.0, 4650.0, 5500.0, 4375.0, 5850.0, 4875.0, 6000.0, 4925.0, 3800.0, 4850.0, 5750.0, 5200.0, 5400.0]}, {\"marker\": {\"color\": [\"mediumorchid\", \"mediumorchid\", \"mediumorchid\", \"mediumorchid\", \"mediumorchid\", \"mediumorchid\", \"mediumorchid\", \"mediumorchid\", \"mediumorchid\", \"mediumorchid\", \"mediumorchid\", \"mediumorchid\", \"mediumorchid\", \"mediumorchid\", \"mediumorchid\", \"mediumorchid\", \"mediumorchid\", \"mediumorchid\", \"mediumorchid\", \"mediumorchid\", \"mediumorchid\", \"mediumorchid\", \"mediumorchid\", \"mediumorchid\", \"mediumorchid\", \"mediumorchid\", \"mediumorchid\", \"mediumorchid\", \"mediumorchid\", \"mediumorchid\", \"mediumorchid\", \"mediumorchid\", \"mediumorchid\", \"mediumorchid\", \"mediumorchid\", \"mediumorchid\", \"mediumorchid\", \"mediumorchid\", \"mediumorchid\", \"mediumorchid\", \"mediumorchid\", \"mediumorchid\", \"mediumorchid\", \"mediumorchid\", \"mediumorchid\", \"mediumorchid\", \"mediumorchid\", \"mediumorchid\", \"mediumorchid\", \"mediumorchid\", \"mediumorchid\", \"mediumorchid\", \"mediumorchid\", \"mediumorchid\", \"mediumorchid\", \"mediumorchid\", \"mediumorchid\", \"mediumorchid\", \"mediumorchid\", \"mediumorchid\", \"mediumorchid\", \"mediumorchid\", \"mediumorchid\", \"mediumorchid\", \"mediumorchid\", \"mediumorchid\", \"mediumorchid\", \"mediumorchid\"], \"line\": {\"color\": \"rgb(0,0,0)\", \"width\": 0.5}, \"size\": 11, \"symbol\": \"triangle-up\"}, \"mode\": \"markers\", \"name\": \"Chinstrap penguin\", \"text\": [\"Chinstrap penguin (Pygoscelis antarctica)\", \"Chinstrap penguin (Pygoscelis antarctica)\", \"Chinstrap penguin (Pygoscelis antarctica)\", \"Chinstrap penguin (Pygoscelis antarctica)\", \"Chinstrap penguin (Pygoscelis antarctica)\", \"Chinstrap penguin (Pygoscelis antarctica)\", \"Chinstrap penguin (Pygoscelis antarctica)\", \"Chinstrap penguin (Pygoscelis antarctica)\", \"Chinstrap penguin (Pygoscelis antarctica)\", \"Chinstrap penguin (Pygoscelis antarctica)\", \"Chinstrap penguin (Pygoscelis antarctica)\", \"Chinstrap penguin (Pygoscelis antarctica)\", \"Chinstrap penguin (Pygoscelis antarctica)\", \"Chinstrap penguin (Pygoscelis antarctica)\", \"Chinstrap penguin (Pygoscelis antarctica)\", \"Chinstrap penguin (Pygoscelis antarctica)\", \"Chinstrap penguin (Pygoscelis antarctica)\", \"Chinstrap penguin (Pygoscelis antarctica)\", \"Chinstrap penguin (Pygoscelis antarctica)\", \"Chinstrap penguin (Pygoscelis antarctica)\", \"Chinstrap penguin (Pygoscelis antarctica)\", \"Chinstrap penguin (Pygoscelis antarctica)\", \"Chinstrap penguin (Pygoscelis antarctica)\", \"Chinstrap penguin (Pygoscelis antarctica)\", \"Chinstrap penguin (Pygoscelis antarctica)\", \"Chinstrap penguin (Pygoscelis antarctica)\", \"Chinstrap penguin (Pygoscelis antarctica)\", \"Chinstrap penguin (Pygoscelis antarctica)\", \"Chinstrap penguin (Pygoscelis antarctica)\", \"Chinstrap penguin (Pygoscelis antarctica)\", \"Chinstrap penguin (Pygoscelis antarctica)\", \"Chinstrap penguin (Pygoscelis antarctica)\", \"Chinstrap penguin (Pygoscelis antarctica)\", \"Chinstrap penguin (Pygoscelis antarctica)\", \"Chinstrap penguin (Pygoscelis antarctica)\", \"Chinstrap penguin (Pygoscelis antarctica)\", \"Chinstrap penguin (Pygoscelis antarctica)\", \"Chinstrap penguin (Pygoscelis antarctica)\", \"Chinstrap penguin (Pygoscelis antarctica)\", \"Chinstrap penguin (Pygoscelis antarctica)\", \"Chinstrap penguin (Pygoscelis antarctica)\", \"Chinstrap penguin (Pygoscelis antarctica)\", \"Chinstrap penguin (Pygoscelis antarctica)\", \"Chinstrap penguin (Pygoscelis antarctica)\", \"Chinstrap penguin (Pygoscelis antarctica)\", \"Chinstrap penguin (Pygoscelis antarctica)\", \"Chinstrap penguin (Pygoscelis antarctica)\", \"Chinstrap penguin (Pygoscelis antarctica)\", \"Chinstrap penguin (Pygoscelis antarctica)\", \"Chinstrap penguin (Pygoscelis antarctica)\", \"Chinstrap penguin (Pygoscelis antarctica)\", \"Chinstrap penguin (Pygoscelis antarctica)\", \"Chinstrap penguin (Pygoscelis antarctica)\", \"Chinstrap penguin (Pygoscelis antarctica)\", \"Chinstrap penguin (Pygoscelis antarctica)\", \"Chinstrap penguin (Pygoscelis antarctica)\", \"Chinstrap penguin (Pygoscelis antarctica)\", \"Chinstrap penguin (Pygoscelis antarctica)\", \"Chinstrap penguin (Pygoscelis antarctica)\", \"Chinstrap penguin (Pygoscelis antarctica)\", \"Chinstrap penguin (Pygoscelis antarctica)\", \"Chinstrap penguin (Pygoscelis antarctica)\", \"Chinstrap penguin (Pygoscelis antarctica)\", \"Chinstrap penguin (Pygoscelis antarctica)\", \"Chinstrap penguin (Pygoscelis antarctica)\", \"Chinstrap penguin (Pygoscelis antarctica)\", \"Chinstrap penguin (Pygoscelis antarctica)\", \"Chinstrap penguin (Pygoscelis antarctica)\"], \"type\": \"scatter\", \"x\": [17.9, 19.5, 19.2, 18.7, 19.8, 17.8, 18.2, 18.2, 18.9, 19.9, 17.8, 20.3, 17.3, 18.1, 17.1, 19.6, 20.0, 17.8, 18.6, 18.2, 17.3, 17.5, 16.6, 19.4, 17.9, 19.0, 18.4, 19.0, 17.8, 20.0, 16.6, 20.8, 16.7, 18.8, 18.6, 16.8, 18.3, 20.7, 16.6, 19.9, 19.5, 17.5, 19.1, 17.0, 17.9, 18.5, 17.9, 19.6, 18.7, 17.3, 16.4, 19.0, 17.3, 19.7, 17.3, 18.8, 16.6, 19.9, 18.8, 19.4, 19.5, 16.5, 17.0, 19.8, 18.1, 18.2, 19.0, 18.7], \"y\": [3500.0, 3900.0, 3650.0, 3525.0, 3725.0, 3950.0, 3250.0, 3750.0, 4150.0, 3700.0, 3800.0, 3775.0, 3700.0, 4050.0, 3575.0, 4050.0, 3300.0, 3700.0, 3450.0, 4400.0, 3600.0, 3400.0, 2900.0, 3800.0, 3300.0, 4150.0, 3400.0, 3800.0, 3700.0, 4550.0, 3200.0, 4300.0, 3350.0, 4100.0, 3600.0, 3900.0, 3850.0, 4800.0, 2700.0, 4500.0, 3950.0, 3650.0, 3550.0, 3500.0, 3675.0, 4450.0, 3400.0, 4300.0, 3250.0, 3675.0, 3325.0, 3950.0, 3600.0, 4050.0, 3350.0, 3450.0, 3250.0, 4050.0, 3800.0, 3525.0, 3950.0, 3650.0, 3650.0, 4000.0, 3400.0, 3775.0, 4100.0, 3775.0]}],\n",
       "                        {\"paper_bgcolor\": \"rgba(0,0,0,0)\", \"plot_bgcolor\": \"rgba(0,0,0,0)\", \"showlegend\": true, \"template\": {\"data\": {\"bar\": [{\"error_x\": {\"color\": \"#2a3f5f\"}, \"error_y\": {\"color\": \"#2a3f5f\"}, \"marker\": {\"line\": {\"color\": \"#E5ECF6\", \"width\": 0.5}}, \"type\": \"bar\"}], \"barpolar\": [{\"marker\": {\"line\": {\"color\": \"#E5ECF6\", \"width\": 0.5}}, \"type\": \"barpolar\"}], \"carpet\": [{\"aaxis\": {\"endlinecolor\": \"#2a3f5f\", \"gridcolor\": \"white\", \"linecolor\": \"white\", \"minorgridcolor\": \"white\", \"startlinecolor\": \"#2a3f5f\"}, \"baxis\": {\"endlinecolor\": \"#2a3f5f\", \"gridcolor\": \"white\", \"linecolor\": \"white\", \"minorgridcolor\": \"white\", \"startlinecolor\": \"#2a3f5f\"}, \"type\": \"carpet\"}], \"choropleth\": [{\"colorbar\": {\"outlinewidth\": 0, \"ticks\": \"\"}, \"type\": \"choropleth\"}], \"contour\": [{\"colorbar\": {\"outlinewidth\": 0, \"ticks\": \"\"}, \"colorscale\": [[0.0, \"#0d0887\"], [0.1111111111111111, \"#46039f\"], [0.2222222222222222, \"#7201a8\"], [0.3333333333333333, \"#9c179e\"], [0.4444444444444444, \"#bd3786\"], [0.5555555555555556, \"#d8576b\"], [0.6666666666666666, \"#ed7953\"], [0.7777777777777778, \"#fb9f3a\"], [0.8888888888888888, \"#fdca26\"], [1.0, \"#f0f921\"]], \"type\": \"contour\"}], \"contourcarpet\": [{\"colorbar\": {\"outlinewidth\": 0, \"ticks\": \"\"}, \"type\": \"contourcarpet\"}], \"heatmap\": [{\"colorbar\": {\"outlinewidth\": 0, \"ticks\": \"\"}, \"colorscale\": [[0.0, \"#0d0887\"], [0.1111111111111111, \"#46039f\"], [0.2222222222222222, \"#7201a8\"], [0.3333333333333333, \"#9c179e\"], [0.4444444444444444, \"#bd3786\"], [0.5555555555555556, \"#d8576b\"], [0.6666666666666666, \"#ed7953\"], [0.7777777777777778, \"#fb9f3a\"], [0.8888888888888888, \"#fdca26\"], [1.0, \"#f0f921\"]], \"type\": \"heatmap\"}], \"heatmapgl\": [{\"colorbar\": {\"outlinewidth\": 0, \"ticks\": \"\"}, \"colorscale\": [[0.0, \"#0d0887\"], [0.1111111111111111, \"#46039f\"], [0.2222222222222222, \"#7201a8\"], [0.3333333333333333, \"#9c179e\"], [0.4444444444444444, \"#bd3786\"], [0.5555555555555556, \"#d8576b\"], [0.6666666666666666, \"#ed7953\"], [0.7777777777777778, \"#fb9f3a\"], [0.8888888888888888, \"#fdca26\"], [1.0, \"#f0f921\"]], \"type\": \"heatmapgl\"}], \"histogram\": [{\"marker\": {\"colorbar\": {\"outlinewidth\": 0, \"ticks\": \"\"}}, \"type\": \"histogram\"}], \"histogram2d\": [{\"colorbar\": {\"outlinewidth\": 0, \"ticks\": \"\"}, \"colorscale\": [[0.0, \"#0d0887\"], [0.1111111111111111, \"#46039f\"], [0.2222222222222222, \"#7201a8\"], [0.3333333333333333, \"#9c179e\"], [0.4444444444444444, \"#bd3786\"], [0.5555555555555556, \"#d8576b\"], [0.6666666666666666, \"#ed7953\"], [0.7777777777777778, \"#fb9f3a\"], [0.8888888888888888, \"#fdca26\"], [1.0, \"#f0f921\"]], \"type\": \"histogram2d\"}], \"histogram2dcontour\": [{\"colorbar\": {\"outlinewidth\": 0, \"ticks\": \"\"}, \"colorscale\": [[0.0, \"#0d0887\"], [0.1111111111111111, \"#46039f\"], [0.2222222222222222, \"#7201a8\"], [0.3333333333333333, \"#9c179e\"], [0.4444444444444444, \"#bd3786\"], [0.5555555555555556, \"#d8576b\"], [0.6666666666666666, \"#ed7953\"], [0.7777777777777778, \"#fb9f3a\"], [0.8888888888888888, \"#fdca26\"], [1.0, \"#f0f921\"]], \"type\": \"histogram2dcontour\"}], \"mesh3d\": [{\"colorbar\": {\"outlinewidth\": 0, \"ticks\": \"\"}, \"type\": \"mesh3d\"}], \"parcoords\": [{\"line\": {\"colorbar\": {\"outlinewidth\": 0, \"ticks\": \"\"}}, \"type\": \"parcoords\"}], \"pie\": [{\"automargin\": true, \"type\": \"pie\"}], \"scatter\": [{\"marker\": {\"colorbar\": {\"outlinewidth\": 0, \"ticks\": \"\"}}, \"type\": \"scatter\"}], \"scatter3d\": [{\"line\": {\"colorbar\": {\"outlinewidth\": 0, \"ticks\": \"\"}}, \"marker\": {\"colorbar\": {\"outlinewidth\": 0, \"ticks\": \"\"}}, \"type\": \"scatter3d\"}], \"scattercarpet\": [{\"marker\": {\"colorbar\": {\"outlinewidth\": 0, \"ticks\": \"\"}}, \"type\": \"scattercarpet\"}], \"scattergeo\": [{\"marker\": {\"colorbar\": {\"outlinewidth\": 0, \"ticks\": \"\"}}, \"type\": \"scattergeo\"}], \"scattergl\": [{\"marker\": {\"colorbar\": {\"outlinewidth\": 0, \"ticks\": \"\"}}, \"type\": \"scattergl\"}], \"scattermapbox\": [{\"marker\": {\"colorbar\": {\"outlinewidth\": 0, \"ticks\": \"\"}}, \"type\": \"scattermapbox\"}], \"scatterpolar\": [{\"marker\": {\"colorbar\": {\"outlinewidth\": 0, \"ticks\": \"\"}}, \"type\": \"scatterpolar\"}], \"scatterpolargl\": [{\"marker\": {\"colorbar\": {\"outlinewidth\": 0, \"ticks\": \"\"}}, \"type\": \"scatterpolargl\"}], \"scatterternary\": [{\"marker\": {\"colorbar\": {\"outlinewidth\": 0, \"ticks\": \"\"}}, \"type\": \"scatterternary\"}], \"surface\": [{\"colorbar\": {\"outlinewidth\": 0, \"ticks\": \"\"}, \"colorscale\": [[0.0, \"#0d0887\"], [0.1111111111111111, \"#46039f\"], [0.2222222222222222, \"#7201a8\"], [0.3333333333333333, \"#9c179e\"], [0.4444444444444444, \"#bd3786\"], [0.5555555555555556, \"#d8576b\"], [0.6666666666666666, \"#ed7953\"], [0.7777777777777778, \"#fb9f3a\"], [0.8888888888888888, \"#fdca26\"], [1.0, \"#f0f921\"]], \"type\": \"surface\"}], \"table\": [{\"cells\": {\"fill\": {\"color\": \"#EBF0F8\"}, \"line\": {\"color\": \"white\"}}, \"header\": {\"fill\": {\"color\": \"#C8D4E3\"}, \"line\": {\"color\": \"white\"}}, \"type\": \"table\"}]}, \"layout\": {\"annotationdefaults\": {\"arrowcolor\": \"#2a3f5f\", \"arrowhead\": 0, \"arrowwidth\": 1}, \"coloraxis\": {\"colorbar\": {\"outlinewidth\": 0, \"ticks\": \"\"}}, \"colorscale\": {\"diverging\": [[0, \"#8e0152\"], [0.1, \"#c51b7d\"], [0.2, \"#de77ae\"], [0.3, \"#f1b6da\"], [0.4, \"#fde0ef\"], [0.5, \"#f7f7f7\"], [0.6, \"#e6f5d0\"], [0.7, \"#b8e186\"], [0.8, \"#7fbc41\"], [0.9, \"#4d9221\"], [1, \"#276419\"]], \"sequential\": [[0.0, \"#0d0887\"], [0.1111111111111111, \"#46039f\"], [0.2222222222222222, \"#7201a8\"], [0.3333333333333333, \"#9c179e\"], [0.4444444444444444, \"#bd3786\"], [0.5555555555555556, \"#d8576b\"], [0.6666666666666666, \"#ed7953\"], [0.7777777777777778, \"#fb9f3a\"], [0.8888888888888888, \"#fdca26\"], [1.0, \"#f0f921\"]], \"sequentialminus\": [[0.0, \"#0d0887\"], [0.1111111111111111, \"#46039f\"], [0.2222222222222222, \"#7201a8\"], [0.3333333333333333, \"#9c179e\"], [0.4444444444444444, \"#bd3786\"], [0.5555555555555556, \"#d8576b\"], [0.6666666666666666, \"#ed7953\"], [0.7777777777777778, \"#fb9f3a\"], [0.8888888888888888, \"#fdca26\"], [1.0, \"#f0f921\"]]}, \"colorway\": [\"#636efa\", \"#EF553B\", \"#00cc96\", \"#ab63fa\", \"#FFA15A\", \"#19d3f3\", \"#FF6692\", \"#B6E880\", \"#FF97FF\", \"#FECB52\"], \"font\": {\"color\": \"#2a3f5f\"}, \"geo\": {\"bgcolor\": \"white\", \"lakecolor\": \"white\", \"landcolor\": \"#E5ECF6\", \"showlakes\": true, \"showland\": true, \"subunitcolor\": \"white\"}, \"hoverlabel\": {\"align\": \"left\"}, \"hovermode\": \"closest\", \"mapbox\": {\"style\": \"light\"}, \"paper_bgcolor\": \"white\", \"plot_bgcolor\": \"#E5ECF6\", \"polar\": {\"angularaxis\": {\"gridcolor\": \"white\", \"linecolor\": \"white\", \"ticks\": \"\"}, \"bgcolor\": \"#E5ECF6\", \"radialaxis\": {\"gridcolor\": \"white\", \"linecolor\": \"white\", \"ticks\": \"\"}}, \"scene\": {\"xaxis\": {\"backgroundcolor\": \"#E5ECF6\", \"gridcolor\": \"white\", \"gridwidth\": 2, \"linecolor\": \"white\", \"showbackground\": true, \"ticks\": \"\", \"zerolinecolor\": \"white\"}, \"yaxis\": {\"backgroundcolor\": \"#E5ECF6\", \"gridcolor\": \"white\", \"gridwidth\": 2, \"linecolor\": \"white\", \"showbackground\": true, \"ticks\": \"\", \"zerolinecolor\": \"white\"}, \"zaxis\": {\"backgroundcolor\": \"#E5ECF6\", \"gridcolor\": \"white\", \"gridwidth\": 2, \"linecolor\": \"white\", \"showbackground\": true, \"ticks\": \"\", \"zerolinecolor\": \"white\"}}, \"shapedefaults\": {\"line\": {\"color\": \"#2a3f5f\"}}, \"ternary\": {\"aaxis\": {\"gridcolor\": \"white\", \"linecolor\": \"white\", \"ticks\": \"\"}, \"baxis\": {\"gridcolor\": \"white\", \"linecolor\": \"white\", \"ticks\": \"\"}, \"bgcolor\": \"#E5ECF6\", \"caxis\": {\"gridcolor\": \"white\", \"linecolor\": \"white\", \"ticks\": \"\"}}, \"title\": {\"x\": 0.05}, \"xaxis\": {\"automargin\": true, \"gridcolor\": \"white\", \"linecolor\": \"white\", \"ticks\": \"\", \"title\": {\"standoff\": 15}, \"zerolinecolor\": \"white\", \"zerolinewidth\": 2}, \"yaxis\": {\"automargin\": true, \"gridcolor\": \"white\", \"linecolor\": \"white\", \"ticks\": \"\", \"title\": {\"standoff\": 15}, \"zerolinecolor\": \"white\", \"zerolinewidth\": 2}}}, \"title\": {\"text\": \"<b>Culmen Depth (mm) vs. Body Mass (g)</b>\"}, \"xaxis\": {\"title\": {\"text\": \"Culmen Depth (mm)\"}}, \"yaxis\": {\"title\": {\"text\": \"Body Mass (g)\"}}},\n",
       "                        {\"responsive\": true}\n",
       "                    ).then(function(){\n",
       "                            \n",
       "var gd = document.getElementById('9d6c879a-e483-431d-b6c5-51eac22ebaed');\n",
       "var x = new MutationObserver(function (mutations, observer) {{\n",
       "        var display = window.getComputedStyle(gd).display;\n",
       "        if (!display || display === 'none') {{\n",
       "            console.log([gd, 'removed!']);\n",
       "            Plotly.purge(gd);\n",
       "            observer.disconnect();\n",
       "        }}\n",
       "}});\n",
       "\n",
       "// Listen for the removal of the full notebook cells\n",
       "var notebookContainer = gd.closest('#notebook-container');\n",
       "if (notebookContainer) {{\n",
       "    x.observe(notebookContainer, {childList: true});\n",
       "}}\n",
       "\n",
       "// Listen for the clearing of the current output cell\n",
       "var outputEl = gd.closest('.output');\n",
       "if (outputEl) {{\n",
       "    x.observe(outputEl, {childList: true});\n",
       "}}\n",
       "\n",
       "                        })\n",
       "                };\n",
       "                });\n",
       "            </script>\n",
       "        </div>"
      ]
     },
     "metadata": {},
     "output_type": "display_data"
    },
    {
     "data": {
      "application/javascript": [
       "\n",
       "            setTimeout(function() {\n",
       "                var nbb_cell_id = 26;\n",
       "                var nbb_unformatted_code = \"# Culmen Depth (mm) vs. Body Mass (g)\\n\\ntrace1 = go.Scatter(\\n    x=adelie_df[\\\"Culmen Depth (mm)\\\"],\\n    y=adelie_df[\\\"Body Mass (g)\\\"],\\n    text=adelie_df[\\\"Species\\\"],\\n    mode=\\\"markers\\\",\\n    marker=dict(size=9, symbol=\\\"circle\\\", line=dict(color=\\\"rgb(0,0,0)\\\", width=0.5)),\\n    marker_color=adelie_df[\\\"Color\\\"],\\n    name=\\\"Adelie Penguin\\\",\\n)\\n\\ntrace2 = go.Scatter(\\n    x=gentoo_df[\\\"Culmen Depth (mm)\\\"],\\n    y=gentoo_df[\\\"Body Mass (g)\\\"],\\n    text=gentoo_df[\\\"Species\\\"],\\n    mode=\\\"markers\\\",\\n    marker=dict(size=9, symbol=\\\"square\\\", line=dict(color=\\\"rgb(0,0,0)\\\", width=0.5)),\\n    marker_color=gentoo_df[\\\"Color\\\"],\\n    name=\\\"Gentoo penguin\\\",\\n)\\n\\ntrace3 = go.Scatter(\\n    x=chinstrap_df[\\\"Culmen Depth (mm)\\\"],\\n    y=chinstrap_df[\\\"Body Mass (g)\\\"],\\n    text=chinstrap_df[\\\"Species\\\"],\\n    mode=\\\"markers\\\",\\n    marker=dict(\\n        size=11, symbol=\\\"triangle-up\\\", line=dict(color=\\\"rgb(0,0,0)\\\", width=0.5)\\n    ),\\n    marker_color=chinstrap_df[\\\"Color\\\"],\\n    name=\\\"Chinstrap penguin\\\",\\n)\\n\\ndata = [trace1, trace2, trace3]\\n\\n\\nlayout = dict(\\n    title=\\\"<b>Culmen Depth (mm) vs. Body Mass (g)</b>\\\",\\n    showlegend=True,\\n    xaxis=dict(title=\\\"Culmen Depth (mm)\\\"),\\n    yaxis=dict(title=\\\"Body Mass (g)\\\"),\\n    plot_bgcolor=\\\"rgba(0,0,0,0)\\\",\\n    paper_bgcolor=\\\"rgba(0,0,0,0)\\\",\\n)\\n\\nfig = dict(data=data, layout=layout)\\n\\niplot(fig)\";\n",
       "                var nbb_formatted_code = \"# Culmen Depth (mm) vs. Body Mass (g)\\n\\ntrace1 = go.Scatter(\\n    x=adelie_df[\\\"Culmen Depth (mm)\\\"],\\n    y=adelie_df[\\\"Body Mass (g)\\\"],\\n    text=adelie_df[\\\"Species\\\"],\\n    mode=\\\"markers\\\",\\n    marker=dict(size=9, symbol=\\\"circle\\\", line=dict(color=\\\"rgb(0,0,0)\\\", width=0.5)),\\n    marker_color=adelie_df[\\\"Color\\\"],\\n    name=\\\"Adelie Penguin\\\",\\n)\\n\\ntrace2 = go.Scatter(\\n    x=gentoo_df[\\\"Culmen Depth (mm)\\\"],\\n    y=gentoo_df[\\\"Body Mass (g)\\\"],\\n    text=gentoo_df[\\\"Species\\\"],\\n    mode=\\\"markers\\\",\\n    marker=dict(size=9, symbol=\\\"square\\\", line=dict(color=\\\"rgb(0,0,0)\\\", width=0.5)),\\n    marker_color=gentoo_df[\\\"Color\\\"],\\n    name=\\\"Gentoo penguin\\\",\\n)\\n\\ntrace3 = go.Scatter(\\n    x=chinstrap_df[\\\"Culmen Depth (mm)\\\"],\\n    y=chinstrap_df[\\\"Body Mass (g)\\\"],\\n    text=chinstrap_df[\\\"Species\\\"],\\n    mode=\\\"markers\\\",\\n    marker=dict(\\n        size=11, symbol=\\\"triangle-up\\\", line=dict(color=\\\"rgb(0,0,0)\\\", width=0.5)\\n    ),\\n    marker_color=chinstrap_df[\\\"Color\\\"],\\n    name=\\\"Chinstrap penguin\\\",\\n)\\n\\ndata = [trace1, trace2, trace3]\\n\\n\\nlayout = dict(\\n    title=\\\"<b>Culmen Depth (mm) vs. Body Mass (g)</b>\\\",\\n    showlegend=True,\\n    xaxis=dict(title=\\\"Culmen Depth (mm)\\\"),\\n    yaxis=dict(title=\\\"Body Mass (g)\\\"),\\n    plot_bgcolor=\\\"rgba(0,0,0,0)\\\",\\n    paper_bgcolor=\\\"rgba(0,0,0,0)\\\",\\n)\\n\\nfig = dict(data=data, layout=layout)\\n\\niplot(fig)\";\n",
       "                var nbb_cells = Jupyter.notebook.get_cells();\n",
       "                for (var i = 0; i < nbb_cells.length; ++i) {\n",
       "                    if (nbb_cells[i].input_prompt_number == nbb_cell_id) {\n",
       "                        if (nbb_cells[i].get_text() == nbb_unformatted_code) {\n",
       "                             nbb_cells[i].set_text(nbb_formatted_code);\n",
       "                        }\n",
       "                        break;\n",
       "                    }\n",
       "                }\n",
       "            }, 500);\n",
       "            "
      ],
      "text/plain": [
       "<IPython.core.display.Javascript object>"
      ]
     },
     "metadata": {},
     "output_type": "display_data"
    }
   ],
   "source": [
    "# Culmen Depth (mm) vs. Body Mass (g)\n",
    "\n",
    "trace1 = go.Scatter(\n",
    "    x=adelie_df[\"Culmen Depth (mm)\"],\n",
    "    y=adelie_df[\"Body Mass (g)\"],\n",
    "    text=adelie_df[\"Species\"],\n",
    "    mode=\"markers\",\n",
    "    marker=dict(size=9, symbol=\"circle\", line=dict(color=\"rgb(0,0,0)\", width=0.5)),\n",
    "    marker_color=adelie_df[\"Color\"],\n",
    "    name=\"Adelie Penguin\",\n",
    ")\n",
    "\n",
    "trace2 = go.Scatter(\n",
    "    x=gentoo_df[\"Culmen Depth (mm)\"],\n",
    "    y=gentoo_df[\"Body Mass (g)\"],\n",
    "    text=gentoo_df[\"Species\"],\n",
    "    mode=\"markers\",\n",
    "    marker=dict(size=9, symbol=\"square\", line=dict(color=\"rgb(0,0,0)\", width=0.5)),\n",
    "    marker_color=gentoo_df[\"Color\"],\n",
    "    name=\"Gentoo penguin\",\n",
    ")\n",
    "\n",
    "trace3 = go.Scatter(\n",
    "    x=chinstrap_df[\"Culmen Depth (mm)\"],\n",
    "    y=chinstrap_df[\"Body Mass (g)\"],\n",
    "    text=chinstrap_df[\"Species\"],\n",
    "    mode=\"markers\",\n",
    "    marker=dict(\n",
    "        size=11, symbol=\"triangle-up\", line=dict(color=\"rgb(0,0,0)\", width=0.5)\n",
    "    ),\n",
    "    marker_color=chinstrap_df[\"Color\"],\n",
    "    name=\"Chinstrap penguin\",\n",
    ")\n",
    "\n",
    "data = [trace1, trace2, trace3]\n",
    "\n",
    "\n",
    "layout = dict(\n",
    "    title=\"<b>Culmen Depth (mm) vs. Body Mass (g)</b>\",\n",
    "    showlegend=True,\n",
    "    xaxis=dict(title=\"Culmen Depth (mm)\"),\n",
    "    yaxis=dict(title=\"Body Mass (g)\"),\n",
    "    plot_bgcolor=\"rgba(0,0,0,0)\",\n",
    "    paper_bgcolor=\"rgba(0,0,0,0)\",\n",
    ")\n",
    "\n",
    "fig = dict(data=data, layout=layout)\n",
    "\n",
    "iplot(fig)"
   ]
  },
  {
   "cell_type": "code",
   "execution_count": 27,
   "metadata": {
    "scrolled": true
   },
   "outputs": [
    {
     "data": {
      "application/vnd.plotly.v1+json": {
       "config": {
        "linkText": "Export to plot.ly",
        "plotlyServerURL": "https://plot.ly",
        "showLink": false
       },
       "data": [
        {
         "box": {
          "visible": true
         },
         "line": {
          "color": "darkorange"
         },
         "meanline": {
          "visible": true
         },
         "name": "Adelie Penguin",
         "points": "all",
         "type": "violin",
         "x": [
          "Adelie Penguin (Pygoscelis adeliae)",
          "Adelie Penguin (Pygoscelis adeliae)",
          "Adelie Penguin (Pygoscelis adeliae)",
          "Adelie Penguin (Pygoscelis adeliae)",
          "Adelie Penguin (Pygoscelis adeliae)",
          "Adelie Penguin (Pygoscelis adeliae)",
          "Adelie Penguin (Pygoscelis adeliae)",
          "Adelie Penguin (Pygoscelis adeliae)",
          "Adelie Penguin (Pygoscelis adeliae)",
          "Adelie Penguin (Pygoscelis adeliae)",
          "Adelie Penguin (Pygoscelis adeliae)",
          "Adelie Penguin (Pygoscelis adeliae)",
          "Adelie Penguin (Pygoscelis adeliae)",
          "Adelie Penguin (Pygoscelis adeliae)",
          "Adelie Penguin (Pygoscelis adeliae)",
          "Adelie Penguin (Pygoscelis adeliae)",
          "Adelie Penguin (Pygoscelis adeliae)",
          "Adelie Penguin (Pygoscelis adeliae)",
          "Adelie Penguin (Pygoscelis adeliae)",
          "Adelie Penguin (Pygoscelis adeliae)",
          "Adelie Penguin (Pygoscelis adeliae)",
          "Adelie Penguin (Pygoscelis adeliae)",
          "Adelie Penguin (Pygoscelis adeliae)",
          "Adelie Penguin (Pygoscelis adeliae)",
          "Adelie Penguin (Pygoscelis adeliae)",
          "Adelie Penguin (Pygoscelis adeliae)",
          "Adelie Penguin (Pygoscelis adeliae)",
          "Adelie Penguin (Pygoscelis adeliae)",
          "Adelie Penguin (Pygoscelis adeliae)",
          "Adelie Penguin (Pygoscelis adeliae)",
          "Adelie Penguin (Pygoscelis adeliae)",
          "Adelie Penguin (Pygoscelis adeliae)",
          "Adelie Penguin (Pygoscelis adeliae)",
          "Adelie Penguin (Pygoscelis adeliae)",
          "Adelie Penguin (Pygoscelis adeliae)",
          "Adelie Penguin (Pygoscelis adeliae)",
          "Adelie Penguin (Pygoscelis adeliae)",
          "Adelie Penguin (Pygoscelis adeliae)",
          "Adelie Penguin (Pygoscelis adeliae)",
          "Adelie Penguin (Pygoscelis adeliae)",
          "Adelie Penguin (Pygoscelis adeliae)",
          "Adelie Penguin (Pygoscelis adeliae)",
          "Adelie Penguin (Pygoscelis adeliae)",
          "Adelie Penguin (Pygoscelis adeliae)",
          "Adelie Penguin (Pygoscelis adeliae)",
          "Adelie Penguin (Pygoscelis adeliae)",
          "Adelie Penguin (Pygoscelis adeliae)",
          "Adelie Penguin (Pygoscelis adeliae)",
          "Adelie Penguin (Pygoscelis adeliae)",
          "Adelie Penguin (Pygoscelis adeliae)",
          "Adelie Penguin (Pygoscelis adeliae)",
          "Adelie Penguin (Pygoscelis adeliae)",
          "Adelie Penguin (Pygoscelis adeliae)",
          "Adelie Penguin (Pygoscelis adeliae)",
          "Adelie Penguin (Pygoscelis adeliae)",
          "Adelie Penguin (Pygoscelis adeliae)",
          "Adelie Penguin (Pygoscelis adeliae)",
          "Adelie Penguin (Pygoscelis adeliae)",
          "Adelie Penguin (Pygoscelis adeliae)",
          "Adelie Penguin (Pygoscelis adeliae)",
          "Adelie Penguin (Pygoscelis adeliae)",
          "Adelie Penguin (Pygoscelis adeliae)",
          "Adelie Penguin (Pygoscelis adeliae)",
          "Adelie Penguin (Pygoscelis adeliae)",
          "Adelie Penguin (Pygoscelis adeliae)",
          "Adelie Penguin (Pygoscelis adeliae)",
          "Adelie Penguin (Pygoscelis adeliae)",
          "Adelie Penguin (Pygoscelis adeliae)",
          "Adelie Penguin (Pygoscelis adeliae)",
          "Adelie Penguin (Pygoscelis adeliae)",
          "Adelie Penguin (Pygoscelis adeliae)",
          "Adelie Penguin (Pygoscelis adeliae)",
          "Adelie Penguin (Pygoscelis adeliae)",
          "Adelie Penguin (Pygoscelis adeliae)",
          "Adelie Penguin (Pygoscelis adeliae)",
          "Adelie Penguin (Pygoscelis adeliae)",
          "Adelie Penguin (Pygoscelis adeliae)",
          "Adelie Penguin (Pygoscelis adeliae)",
          "Adelie Penguin (Pygoscelis adeliae)",
          "Adelie Penguin (Pygoscelis adeliae)",
          "Adelie Penguin (Pygoscelis adeliae)",
          "Adelie Penguin (Pygoscelis adeliae)",
          "Adelie Penguin (Pygoscelis adeliae)",
          "Adelie Penguin (Pygoscelis adeliae)",
          "Adelie Penguin (Pygoscelis adeliae)",
          "Adelie Penguin (Pygoscelis adeliae)",
          "Adelie Penguin (Pygoscelis adeliae)",
          "Adelie Penguin (Pygoscelis adeliae)",
          "Adelie Penguin (Pygoscelis adeliae)",
          "Adelie Penguin (Pygoscelis adeliae)",
          "Adelie Penguin (Pygoscelis adeliae)",
          "Adelie Penguin (Pygoscelis adeliae)",
          "Adelie Penguin (Pygoscelis adeliae)",
          "Adelie Penguin (Pygoscelis adeliae)",
          "Adelie Penguin (Pygoscelis adeliae)",
          "Adelie Penguin (Pygoscelis adeliae)",
          "Adelie Penguin (Pygoscelis adeliae)",
          "Adelie Penguin (Pygoscelis adeliae)",
          "Adelie Penguin (Pygoscelis adeliae)",
          "Adelie Penguin (Pygoscelis adeliae)",
          "Adelie Penguin (Pygoscelis adeliae)",
          "Adelie Penguin (Pygoscelis adeliae)",
          "Adelie Penguin (Pygoscelis adeliae)",
          "Adelie Penguin (Pygoscelis adeliae)",
          "Adelie Penguin (Pygoscelis adeliae)",
          "Adelie Penguin (Pygoscelis adeliae)",
          "Adelie Penguin (Pygoscelis adeliae)",
          "Adelie Penguin (Pygoscelis adeliae)",
          "Adelie Penguin (Pygoscelis adeliae)",
          "Adelie Penguin (Pygoscelis adeliae)",
          "Adelie Penguin (Pygoscelis adeliae)",
          "Adelie Penguin (Pygoscelis adeliae)",
          "Adelie Penguin (Pygoscelis adeliae)",
          "Adelie Penguin (Pygoscelis adeliae)",
          "Adelie Penguin (Pygoscelis adeliae)",
          "Adelie Penguin (Pygoscelis adeliae)",
          "Adelie Penguin (Pygoscelis adeliae)",
          "Adelie Penguin (Pygoscelis adeliae)",
          "Adelie Penguin (Pygoscelis adeliae)",
          "Adelie Penguin (Pygoscelis adeliae)",
          "Adelie Penguin (Pygoscelis adeliae)",
          "Adelie Penguin (Pygoscelis adeliae)",
          "Adelie Penguin (Pygoscelis adeliae)",
          "Adelie Penguin (Pygoscelis adeliae)",
          "Adelie Penguin (Pygoscelis adeliae)",
          "Adelie Penguin (Pygoscelis adeliae)",
          "Adelie Penguin (Pygoscelis adeliae)",
          "Adelie Penguin (Pygoscelis adeliae)",
          "Adelie Penguin (Pygoscelis adeliae)",
          "Adelie Penguin (Pygoscelis adeliae)",
          "Adelie Penguin (Pygoscelis adeliae)",
          "Adelie Penguin (Pygoscelis adeliae)",
          "Adelie Penguin (Pygoscelis adeliae)",
          "Adelie Penguin (Pygoscelis adeliae)",
          "Adelie Penguin (Pygoscelis adeliae)",
          "Adelie Penguin (Pygoscelis adeliae)",
          "Adelie Penguin (Pygoscelis adeliae)",
          "Adelie Penguin (Pygoscelis adeliae)",
          "Adelie Penguin (Pygoscelis adeliae)",
          "Adelie Penguin (Pygoscelis adeliae)",
          "Adelie Penguin (Pygoscelis adeliae)",
          "Adelie Penguin (Pygoscelis adeliae)",
          "Adelie Penguin (Pygoscelis adeliae)",
          "Adelie Penguin (Pygoscelis adeliae)",
          "Adelie Penguin (Pygoscelis adeliae)",
          "Adelie Penguin (Pygoscelis adeliae)",
          "Adelie Penguin (Pygoscelis adeliae)",
          "Adelie Penguin (Pygoscelis adeliae)",
          "Adelie Penguin (Pygoscelis adeliae)",
          "Adelie Penguin (Pygoscelis adeliae)",
          "Adelie Penguin (Pygoscelis adeliae)",
          "Adelie Penguin (Pygoscelis adeliae)"
         ],
         "y": [
          181,
          186,
          195,
          190,
          193,
          190,
          181,
          195,
          193,
          190,
          186,
          180,
          182,
          191,
          198,
          185,
          195,
          197,
          184,
          194,
          174,
          180,
          189,
          185,
          180,
          187,
          183,
          187,
          172,
          180,
          178,
          178,
          188,
          184,
          195,
          196,
          190,
          180,
          181,
          184,
          182,
          195,
          186,
          196,
          185,
          190,
          182,
          179,
          190,
          191,
          186,
          188,
          190,
          200,
          187,
          191,
          186,
          193,
          181,
          194,
          185,
          195,
          185,
          192,
          184,
          192,
          195,
          188,
          190,
          198,
          190,
          190,
          196,
          197,
          190,
          195,
          191,
          184,
          187,
          195,
          189,
          196,
          187,
          193,
          191,
          194,
          190,
          189,
          189,
          190,
          202,
          205,
          185,
          186,
          187,
          208,
          190,
          196,
          178,
          192,
          192,
          203,
          183,
          190,
          193,
          184,
          199,
          190,
          181,
          197,
          198,
          191,
          193,
          197,
          191,
          196,
          188,
          199,
          189,
          189,
          187,
          198,
          176,
          202,
          186,
          199,
          191,
          195,
          191,
          210,
          190,
          197,
          193,
          199,
          187,
          190,
          191,
          200,
          185,
          193,
          193,
          187,
          188,
          190,
          192,
          185,
          190,
          184,
          195,
          193,
          187,
          201
         ]
        },
        {
         "box": {
          "visible": true
         },
         "line": {
          "color": "teal"
         },
         "meanline": {
          "visible": true
         },
         "name": "Gentoo penguin",
         "points": "all",
         "type": "violin",
         "x": [
          "Gentoo penguin (Pygoscelis papua)",
          "Gentoo penguin (Pygoscelis papua)",
          "Gentoo penguin (Pygoscelis papua)",
          "Gentoo penguin (Pygoscelis papua)",
          "Gentoo penguin (Pygoscelis papua)",
          "Gentoo penguin (Pygoscelis papua)",
          "Gentoo penguin (Pygoscelis papua)",
          "Gentoo penguin (Pygoscelis papua)",
          "Gentoo penguin (Pygoscelis papua)",
          "Gentoo penguin (Pygoscelis papua)",
          "Gentoo penguin (Pygoscelis papua)",
          "Gentoo penguin (Pygoscelis papua)",
          "Gentoo penguin (Pygoscelis papua)",
          "Gentoo penguin (Pygoscelis papua)",
          "Gentoo penguin (Pygoscelis papua)",
          "Gentoo penguin (Pygoscelis papua)",
          "Gentoo penguin (Pygoscelis papua)",
          "Gentoo penguin (Pygoscelis papua)",
          "Gentoo penguin (Pygoscelis papua)",
          "Gentoo penguin (Pygoscelis papua)",
          "Gentoo penguin (Pygoscelis papua)",
          "Gentoo penguin (Pygoscelis papua)",
          "Gentoo penguin (Pygoscelis papua)",
          "Gentoo penguin (Pygoscelis papua)",
          "Gentoo penguin (Pygoscelis papua)",
          "Gentoo penguin (Pygoscelis papua)",
          "Gentoo penguin (Pygoscelis papua)",
          "Gentoo penguin (Pygoscelis papua)",
          "Gentoo penguin (Pygoscelis papua)",
          "Gentoo penguin (Pygoscelis papua)",
          "Gentoo penguin (Pygoscelis papua)",
          "Gentoo penguin (Pygoscelis papua)",
          "Gentoo penguin (Pygoscelis papua)",
          "Gentoo penguin (Pygoscelis papua)",
          "Gentoo penguin (Pygoscelis papua)",
          "Gentoo penguin (Pygoscelis papua)",
          "Gentoo penguin (Pygoscelis papua)",
          "Gentoo penguin (Pygoscelis papua)",
          "Gentoo penguin (Pygoscelis papua)",
          "Gentoo penguin (Pygoscelis papua)",
          "Gentoo penguin (Pygoscelis papua)",
          "Gentoo penguin (Pygoscelis papua)",
          "Gentoo penguin (Pygoscelis papua)",
          "Gentoo penguin (Pygoscelis papua)",
          "Gentoo penguin (Pygoscelis papua)",
          "Gentoo penguin (Pygoscelis papua)",
          "Gentoo penguin (Pygoscelis papua)",
          "Gentoo penguin (Pygoscelis papua)",
          "Gentoo penguin (Pygoscelis papua)",
          "Gentoo penguin (Pygoscelis papua)",
          "Gentoo penguin (Pygoscelis papua)",
          "Gentoo penguin (Pygoscelis papua)",
          "Gentoo penguin (Pygoscelis papua)",
          "Gentoo penguin (Pygoscelis papua)",
          "Gentoo penguin (Pygoscelis papua)",
          "Gentoo penguin (Pygoscelis papua)",
          "Gentoo penguin (Pygoscelis papua)",
          "Gentoo penguin (Pygoscelis papua)",
          "Gentoo penguin (Pygoscelis papua)",
          "Gentoo penguin (Pygoscelis papua)",
          "Gentoo penguin (Pygoscelis papua)",
          "Gentoo penguin (Pygoscelis papua)",
          "Gentoo penguin (Pygoscelis papua)",
          "Gentoo penguin (Pygoscelis papua)",
          "Gentoo penguin (Pygoscelis papua)",
          "Gentoo penguin (Pygoscelis papua)",
          "Gentoo penguin (Pygoscelis papua)",
          "Gentoo penguin (Pygoscelis papua)",
          "Gentoo penguin (Pygoscelis papua)",
          "Gentoo penguin (Pygoscelis papua)",
          "Gentoo penguin (Pygoscelis papua)",
          "Gentoo penguin (Pygoscelis papua)",
          "Gentoo penguin (Pygoscelis papua)",
          "Gentoo penguin (Pygoscelis papua)",
          "Gentoo penguin (Pygoscelis papua)",
          "Gentoo penguin (Pygoscelis papua)",
          "Gentoo penguin (Pygoscelis papua)",
          "Gentoo penguin (Pygoscelis papua)",
          "Gentoo penguin (Pygoscelis papua)",
          "Gentoo penguin (Pygoscelis papua)",
          "Gentoo penguin (Pygoscelis papua)",
          "Gentoo penguin (Pygoscelis papua)",
          "Gentoo penguin (Pygoscelis papua)",
          "Gentoo penguin (Pygoscelis papua)",
          "Gentoo penguin (Pygoscelis papua)",
          "Gentoo penguin (Pygoscelis papua)",
          "Gentoo penguin (Pygoscelis papua)",
          "Gentoo penguin (Pygoscelis papua)",
          "Gentoo penguin (Pygoscelis papua)",
          "Gentoo penguin (Pygoscelis papua)",
          "Gentoo penguin (Pygoscelis papua)",
          "Gentoo penguin (Pygoscelis papua)",
          "Gentoo penguin (Pygoscelis papua)",
          "Gentoo penguin (Pygoscelis papua)",
          "Gentoo penguin (Pygoscelis papua)",
          "Gentoo penguin (Pygoscelis papua)",
          "Gentoo penguin (Pygoscelis papua)",
          "Gentoo penguin (Pygoscelis papua)",
          "Gentoo penguin (Pygoscelis papua)",
          "Gentoo penguin (Pygoscelis papua)",
          "Gentoo penguin (Pygoscelis papua)",
          "Gentoo penguin (Pygoscelis papua)",
          "Gentoo penguin (Pygoscelis papua)",
          "Gentoo penguin (Pygoscelis papua)",
          "Gentoo penguin (Pygoscelis papua)",
          "Gentoo penguin (Pygoscelis papua)",
          "Gentoo penguin (Pygoscelis papua)",
          "Gentoo penguin (Pygoscelis papua)",
          "Gentoo penguin (Pygoscelis papua)",
          "Gentoo penguin (Pygoscelis papua)",
          "Gentoo penguin (Pygoscelis papua)",
          "Gentoo penguin (Pygoscelis papua)",
          "Gentoo penguin (Pygoscelis papua)",
          "Gentoo penguin (Pygoscelis papua)",
          "Gentoo penguin (Pygoscelis papua)",
          "Gentoo penguin (Pygoscelis papua)",
          "Gentoo penguin (Pygoscelis papua)",
          "Gentoo penguin (Pygoscelis papua)",
          "Gentoo penguin (Pygoscelis papua)",
          "Gentoo penguin (Pygoscelis papua)",
          "Gentoo penguin (Pygoscelis papua)",
          "Gentoo penguin (Pygoscelis papua)",
          "Gentoo penguin (Pygoscelis papua)",
          "Gentoo penguin (Pygoscelis papua)"
         ],
         "y": [
          211,
          230,
          210,
          218,
          215,
          210,
          211,
          219,
          209,
          215,
          214,
          216,
          214,
          213,
          210,
          217,
          210,
          221,
          209,
          222,
          218,
          215,
          213,
          215,
          215,
          215,
          216,
          215,
          210,
          220,
          222,
          209,
          207,
          230,
          220,
          220,
          213,
          219,
          208,
          208,
          208,
          225,
          210,
          216,
          222,
          217,
          210,
          225,
          213,
          215,
          210,
          220,
          210,
          225,
          217,
          220,
          208,
          220,
          208,
          224,
          208,
          221,
          214,
          231,
          219,
          230,
          214,
          229,
          220,
          223,
          216,
          221,
          221,
          217,
          216,
          230,
          209,
          220,
          215,
          223,
          212,
          221,
          212,
          224,
          212,
          228,
          218,
          218,
          212,
          230,
          218,
          228,
          212,
          224,
          214,
          226,
          216,
          222,
          203,
          225,
          219,
          228,
          215,
          228,
          216,
          215,
          210,
          219,
          208,
          209,
          216,
          229,
          213,
          230,
          217,
          230,
          217,
          222,
          214,
          190,
          215,
          222,
          212,
          213
         ]
        },
        {
         "box": {
          "visible": true
         },
         "line": {
          "color": "mediumorchid"
         },
         "meanline": {
          "visible": true
         },
         "name": "Chinstrap penguin",
         "points": "all",
         "type": "violin",
         "x": [
          "Chinstrap penguin (Pygoscelis antarctica)",
          "Chinstrap penguin (Pygoscelis antarctica)",
          "Chinstrap penguin (Pygoscelis antarctica)",
          "Chinstrap penguin (Pygoscelis antarctica)",
          "Chinstrap penguin (Pygoscelis antarctica)",
          "Chinstrap penguin (Pygoscelis antarctica)",
          "Chinstrap penguin (Pygoscelis antarctica)",
          "Chinstrap penguin (Pygoscelis antarctica)",
          "Chinstrap penguin (Pygoscelis antarctica)",
          "Chinstrap penguin (Pygoscelis antarctica)",
          "Chinstrap penguin (Pygoscelis antarctica)",
          "Chinstrap penguin (Pygoscelis antarctica)",
          "Chinstrap penguin (Pygoscelis antarctica)",
          "Chinstrap penguin (Pygoscelis antarctica)",
          "Chinstrap penguin (Pygoscelis antarctica)",
          "Chinstrap penguin (Pygoscelis antarctica)",
          "Chinstrap penguin (Pygoscelis antarctica)",
          "Chinstrap penguin (Pygoscelis antarctica)",
          "Chinstrap penguin (Pygoscelis antarctica)",
          "Chinstrap penguin (Pygoscelis antarctica)",
          "Chinstrap penguin (Pygoscelis antarctica)",
          "Chinstrap penguin (Pygoscelis antarctica)",
          "Chinstrap penguin (Pygoscelis antarctica)",
          "Chinstrap penguin (Pygoscelis antarctica)",
          "Chinstrap penguin (Pygoscelis antarctica)",
          "Chinstrap penguin (Pygoscelis antarctica)",
          "Chinstrap penguin (Pygoscelis antarctica)",
          "Chinstrap penguin (Pygoscelis antarctica)",
          "Chinstrap penguin (Pygoscelis antarctica)",
          "Chinstrap penguin (Pygoscelis antarctica)",
          "Chinstrap penguin (Pygoscelis antarctica)",
          "Chinstrap penguin (Pygoscelis antarctica)",
          "Chinstrap penguin (Pygoscelis antarctica)",
          "Chinstrap penguin (Pygoscelis antarctica)",
          "Chinstrap penguin (Pygoscelis antarctica)",
          "Chinstrap penguin (Pygoscelis antarctica)",
          "Chinstrap penguin (Pygoscelis antarctica)",
          "Chinstrap penguin (Pygoscelis antarctica)",
          "Chinstrap penguin (Pygoscelis antarctica)",
          "Chinstrap penguin (Pygoscelis antarctica)",
          "Chinstrap penguin (Pygoscelis antarctica)",
          "Chinstrap penguin (Pygoscelis antarctica)",
          "Chinstrap penguin (Pygoscelis antarctica)",
          "Chinstrap penguin (Pygoscelis antarctica)",
          "Chinstrap penguin (Pygoscelis antarctica)",
          "Chinstrap penguin (Pygoscelis antarctica)",
          "Chinstrap penguin (Pygoscelis antarctica)",
          "Chinstrap penguin (Pygoscelis antarctica)",
          "Chinstrap penguin (Pygoscelis antarctica)",
          "Chinstrap penguin (Pygoscelis antarctica)",
          "Chinstrap penguin (Pygoscelis antarctica)",
          "Chinstrap penguin (Pygoscelis antarctica)",
          "Chinstrap penguin (Pygoscelis antarctica)",
          "Chinstrap penguin (Pygoscelis antarctica)",
          "Chinstrap penguin (Pygoscelis antarctica)",
          "Chinstrap penguin (Pygoscelis antarctica)",
          "Chinstrap penguin (Pygoscelis antarctica)",
          "Chinstrap penguin (Pygoscelis antarctica)",
          "Chinstrap penguin (Pygoscelis antarctica)",
          "Chinstrap penguin (Pygoscelis antarctica)",
          "Chinstrap penguin (Pygoscelis antarctica)",
          "Chinstrap penguin (Pygoscelis antarctica)",
          "Chinstrap penguin (Pygoscelis antarctica)",
          "Chinstrap penguin (Pygoscelis antarctica)",
          "Chinstrap penguin (Pygoscelis antarctica)",
          "Chinstrap penguin (Pygoscelis antarctica)",
          "Chinstrap penguin (Pygoscelis antarctica)",
          "Chinstrap penguin (Pygoscelis antarctica)"
         ],
         "y": [
          192,
          196,
          193,
          188,
          197,
          198,
          178,
          197,
          195,
          198,
          193,
          194,
          185,
          201,
          190,
          201,
          197,
          181,
          190,
          195,
          181,
          191,
          187,
          193,
          195,
          197,
          200,
          200,
          191,
          205,
          187,
          201,
          187,
          203,
          195,
          199,
          195,
          210,
          192,
          205,
          210,
          187,
          196,
          196,
          196,
          201,
          190,
          212,
          187,
          198,
          199,
          201,
          193,
          203,
          187,
          197,
          191,
          203,
          202,
          194,
          206,
          189,
          195,
          207,
          202,
          193,
          210,
          198
         ]
        }
       ],
       "layout": {
        "paper_bgcolor": "rgba(0,0,0,0)",
        "plot_bgcolor": "rgba(0,0,0,0)",
        "showlegend": true,
        "template": {
         "data": {
          "bar": [
           {
            "error_x": {
             "color": "#2a3f5f"
            },
            "error_y": {
             "color": "#2a3f5f"
            },
            "marker": {
             "line": {
              "color": "#E5ECF6",
              "width": 0.5
             }
            },
            "type": "bar"
           }
          ],
          "barpolar": [
           {
            "marker": {
             "line": {
              "color": "#E5ECF6",
              "width": 0.5
             }
            },
            "type": "barpolar"
           }
          ],
          "carpet": [
           {
            "aaxis": {
             "endlinecolor": "#2a3f5f",
             "gridcolor": "white",
             "linecolor": "white",
             "minorgridcolor": "white",
             "startlinecolor": "#2a3f5f"
            },
            "baxis": {
             "endlinecolor": "#2a3f5f",
             "gridcolor": "white",
             "linecolor": "white",
             "minorgridcolor": "white",
             "startlinecolor": "#2a3f5f"
            },
            "type": "carpet"
           }
          ],
          "choropleth": [
           {
            "colorbar": {
             "outlinewidth": 0,
             "ticks": ""
            },
            "type": "choropleth"
           }
          ],
          "contour": [
           {
            "colorbar": {
             "outlinewidth": 0,
             "ticks": ""
            },
            "colorscale": [
             [
              0,
              "#0d0887"
             ],
             [
              0.1111111111111111,
              "#46039f"
             ],
             [
              0.2222222222222222,
              "#7201a8"
             ],
             [
              0.3333333333333333,
              "#9c179e"
             ],
             [
              0.4444444444444444,
              "#bd3786"
             ],
             [
              0.5555555555555556,
              "#d8576b"
             ],
             [
              0.6666666666666666,
              "#ed7953"
             ],
             [
              0.7777777777777778,
              "#fb9f3a"
             ],
             [
              0.8888888888888888,
              "#fdca26"
             ],
             [
              1,
              "#f0f921"
             ]
            ],
            "type": "contour"
           }
          ],
          "contourcarpet": [
           {
            "colorbar": {
             "outlinewidth": 0,
             "ticks": ""
            },
            "type": "contourcarpet"
           }
          ],
          "heatmap": [
           {
            "colorbar": {
             "outlinewidth": 0,
             "ticks": ""
            },
            "colorscale": [
             [
              0,
              "#0d0887"
             ],
             [
              0.1111111111111111,
              "#46039f"
             ],
             [
              0.2222222222222222,
              "#7201a8"
             ],
             [
              0.3333333333333333,
              "#9c179e"
             ],
             [
              0.4444444444444444,
              "#bd3786"
             ],
             [
              0.5555555555555556,
              "#d8576b"
             ],
             [
              0.6666666666666666,
              "#ed7953"
             ],
             [
              0.7777777777777778,
              "#fb9f3a"
             ],
             [
              0.8888888888888888,
              "#fdca26"
             ],
             [
              1,
              "#f0f921"
             ]
            ],
            "type": "heatmap"
           }
          ],
          "heatmapgl": [
           {
            "colorbar": {
             "outlinewidth": 0,
             "ticks": ""
            },
            "colorscale": [
             [
              0,
              "#0d0887"
             ],
             [
              0.1111111111111111,
              "#46039f"
             ],
             [
              0.2222222222222222,
              "#7201a8"
             ],
             [
              0.3333333333333333,
              "#9c179e"
             ],
             [
              0.4444444444444444,
              "#bd3786"
             ],
             [
              0.5555555555555556,
              "#d8576b"
             ],
             [
              0.6666666666666666,
              "#ed7953"
             ],
             [
              0.7777777777777778,
              "#fb9f3a"
             ],
             [
              0.8888888888888888,
              "#fdca26"
             ],
             [
              1,
              "#f0f921"
             ]
            ],
            "type": "heatmapgl"
           }
          ],
          "histogram": [
           {
            "marker": {
             "colorbar": {
              "outlinewidth": 0,
              "ticks": ""
             }
            },
            "type": "histogram"
           }
          ],
          "histogram2d": [
           {
            "colorbar": {
             "outlinewidth": 0,
             "ticks": ""
            },
            "colorscale": [
             [
              0,
              "#0d0887"
             ],
             [
              0.1111111111111111,
              "#46039f"
             ],
             [
              0.2222222222222222,
              "#7201a8"
             ],
             [
              0.3333333333333333,
              "#9c179e"
             ],
             [
              0.4444444444444444,
              "#bd3786"
             ],
             [
              0.5555555555555556,
              "#d8576b"
             ],
             [
              0.6666666666666666,
              "#ed7953"
             ],
             [
              0.7777777777777778,
              "#fb9f3a"
             ],
             [
              0.8888888888888888,
              "#fdca26"
             ],
             [
              1,
              "#f0f921"
             ]
            ],
            "type": "histogram2d"
           }
          ],
          "histogram2dcontour": [
           {
            "colorbar": {
             "outlinewidth": 0,
             "ticks": ""
            },
            "colorscale": [
             [
              0,
              "#0d0887"
             ],
             [
              0.1111111111111111,
              "#46039f"
             ],
             [
              0.2222222222222222,
              "#7201a8"
             ],
             [
              0.3333333333333333,
              "#9c179e"
             ],
             [
              0.4444444444444444,
              "#bd3786"
             ],
             [
              0.5555555555555556,
              "#d8576b"
             ],
             [
              0.6666666666666666,
              "#ed7953"
             ],
             [
              0.7777777777777778,
              "#fb9f3a"
             ],
             [
              0.8888888888888888,
              "#fdca26"
             ],
             [
              1,
              "#f0f921"
             ]
            ],
            "type": "histogram2dcontour"
           }
          ],
          "mesh3d": [
           {
            "colorbar": {
             "outlinewidth": 0,
             "ticks": ""
            },
            "type": "mesh3d"
           }
          ],
          "parcoords": [
           {
            "line": {
             "colorbar": {
              "outlinewidth": 0,
              "ticks": ""
             }
            },
            "type": "parcoords"
           }
          ],
          "pie": [
           {
            "automargin": true,
            "type": "pie"
           }
          ],
          "scatter": [
           {
            "marker": {
             "colorbar": {
              "outlinewidth": 0,
              "ticks": ""
             }
            },
            "type": "scatter"
           }
          ],
          "scatter3d": [
           {
            "line": {
             "colorbar": {
              "outlinewidth": 0,
              "ticks": ""
             }
            },
            "marker": {
             "colorbar": {
              "outlinewidth": 0,
              "ticks": ""
             }
            },
            "type": "scatter3d"
           }
          ],
          "scattercarpet": [
           {
            "marker": {
             "colorbar": {
              "outlinewidth": 0,
              "ticks": ""
             }
            },
            "type": "scattercarpet"
           }
          ],
          "scattergeo": [
           {
            "marker": {
             "colorbar": {
              "outlinewidth": 0,
              "ticks": ""
             }
            },
            "type": "scattergeo"
           }
          ],
          "scattergl": [
           {
            "marker": {
             "colorbar": {
              "outlinewidth": 0,
              "ticks": ""
             }
            },
            "type": "scattergl"
           }
          ],
          "scattermapbox": [
           {
            "marker": {
             "colorbar": {
              "outlinewidth": 0,
              "ticks": ""
             }
            },
            "type": "scattermapbox"
           }
          ],
          "scatterpolar": [
           {
            "marker": {
             "colorbar": {
              "outlinewidth": 0,
              "ticks": ""
             }
            },
            "type": "scatterpolar"
           }
          ],
          "scatterpolargl": [
           {
            "marker": {
             "colorbar": {
              "outlinewidth": 0,
              "ticks": ""
             }
            },
            "type": "scatterpolargl"
           }
          ],
          "scatterternary": [
           {
            "marker": {
             "colorbar": {
              "outlinewidth": 0,
              "ticks": ""
             }
            },
            "type": "scatterternary"
           }
          ],
          "surface": [
           {
            "colorbar": {
             "outlinewidth": 0,
             "ticks": ""
            },
            "colorscale": [
             [
              0,
              "#0d0887"
             ],
             [
              0.1111111111111111,
              "#46039f"
             ],
             [
              0.2222222222222222,
              "#7201a8"
             ],
             [
              0.3333333333333333,
              "#9c179e"
             ],
             [
              0.4444444444444444,
              "#bd3786"
             ],
             [
              0.5555555555555556,
              "#d8576b"
             ],
             [
              0.6666666666666666,
              "#ed7953"
             ],
             [
              0.7777777777777778,
              "#fb9f3a"
             ],
             [
              0.8888888888888888,
              "#fdca26"
             ],
             [
              1,
              "#f0f921"
             ]
            ],
            "type": "surface"
           }
          ],
          "table": [
           {
            "cells": {
             "fill": {
              "color": "#EBF0F8"
             },
             "line": {
              "color": "white"
             }
            },
            "header": {
             "fill": {
              "color": "#C8D4E3"
             },
             "line": {
              "color": "white"
             }
            },
            "type": "table"
           }
          ]
         },
         "layout": {
          "annotationdefaults": {
           "arrowcolor": "#2a3f5f",
           "arrowhead": 0,
           "arrowwidth": 1
          },
          "coloraxis": {
           "colorbar": {
            "outlinewidth": 0,
            "ticks": ""
           }
          },
          "colorscale": {
           "diverging": [
            [
             0,
             "#8e0152"
            ],
            [
             0.1,
             "#c51b7d"
            ],
            [
             0.2,
             "#de77ae"
            ],
            [
             0.3,
             "#f1b6da"
            ],
            [
             0.4,
             "#fde0ef"
            ],
            [
             0.5,
             "#f7f7f7"
            ],
            [
             0.6,
             "#e6f5d0"
            ],
            [
             0.7,
             "#b8e186"
            ],
            [
             0.8,
             "#7fbc41"
            ],
            [
             0.9,
             "#4d9221"
            ],
            [
             1,
             "#276419"
            ]
           ],
           "sequential": [
            [
             0,
             "#0d0887"
            ],
            [
             0.1111111111111111,
             "#46039f"
            ],
            [
             0.2222222222222222,
             "#7201a8"
            ],
            [
             0.3333333333333333,
             "#9c179e"
            ],
            [
             0.4444444444444444,
             "#bd3786"
            ],
            [
             0.5555555555555556,
             "#d8576b"
            ],
            [
             0.6666666666666666,
             "#ed7953"
            ],
            [
             0.7777777777777778,
             "#fb9f3a"
            ],
            [
             0.8888888888888888,
             "#fdca26"
            ],
            [
             1,
             "#f0f921"
            ]
           ],
           "sequentialminus": [
            [
             0,
             "#0d0887"
            ],
            [
             0.1111111111111111,
             "#46039f"
            ],
            [
             0.2222222222222222,
             "#7201a8"
            ],
            [
             0.3333333333333333,
             "#9c179e"
            ],
            [
             0.4444444444444444,
             "#bd3786"
            ],
            [
             0.5555555555555556,
             "#d8576b"
            ],
            [
             0.6666666666666666,
             "#ed7953"
            ],
            [
             0.7777777777777778,
             "#fb9f3a"
            ],
            [
             0.8888888888888888,
             "#fdca26"
            ],
            [
             1,
             "#f0f921"
            ]
           ]
          },
          "colorway": [
           "#636efa",
           "#EF553B",
           "#00cc96",
           "#ab63fa",
           "#FFA15A",
           "#19d3f3",
           "#FF6692",
           "#B6E880",
           "#FF97FF",
           "#FECB52"
          ],
          "font": {
           "color": "#2a3f5f"
          },
          "geo": {
           "bgcolor": "white",
           "lakecolor": "white",
           "landcolor": "#E5ECF6",
           "showlakes": true,
           "showland": true,
           "subunitcolor": "white"
          },
          "hoverlabel": {
           "align": "left"
          },
          "hovermode": "closest",
          "mapbox": {
           "style": "light"
          },
          "paper_bgcolor": "white",
          "plot_bgcolor": "#E5ECF6",
          "polar": {
           "angularaxis": {
            "gridcolor": "white",
            "linecolor": "white",
            "ticks": ""
           },
           "bgcolor": "#E5ECF6",
           "radialaxis": {
            "gridcolor": "white",
            "linecolor": "white",
            "ticks": ""
           }
          },
          "scene": {
           "xaxis": {
            "backgroundcolor": "#E5ECF6",
            "gridcolor": "white",
            "gridwidth": 2,
            "linecolor": "white",
            "showbackground": true,
            "ticks": "",
            "zerolinecolor": "white"
           },
           "yaxis": {
            "backgroundcolor": "#E5ECF6",
            "gridcolor": "white",
            "gridwidth": 2,
            "linecolor": "white",
            "showbackground": true,
            "ticks": "",
            "zerolinecolor": "white"
           },
           "zaxis": {
            "backgroundcolor": "#E5ECF6",
            "gridcolor": "white",
            "gridwidth": 2,
            "linecolor": "white",
            "showbackground": true,
            "ticks": "",
            "zerolinecolor": "white"
           }
          },
          "shapedefaults": {
           "line": {
            "color": "#2a3f5f"
           }
          },
          "ternary": {
           "aaxis": {
            "gridcolor": "white",
            "linecolor": "white",
            "ticks": ""
           },
           "baxis": {
            "gridcolor": "white",
            "linecolor": "white",
            "ticks": ""
           },
           "bgcolor": "#E5ECF6",
           "caxis": {
            "gridcolor": "white",
            "linecolor": "white",
            "ticks": ""
           }
          },
          "title": {
           "x": 0.05
          },
          "xaxis": {
           "automargin": true,
           "gridcolor": "white",
           "linecolor": "white",
           "ticks": "",
           "title": {
            "standoff": 15
           },
           "zerolinecolor": "white",
           "zerolinewidth": 2
          },
          "yaxis": {
           "automargin": true,
           "gridcolor": "white",
           "linecolor": "white",
           "ticks": "",
           "title": {
            "standoff": 15
           },
           "zerolinecolor": "white",
           "zerolinewidth": 2
          }
         }
        },
        "title": {
         "text": "<b>Flipper Length (mm) Distribution for the 3 Species</b>"
        },
        "width": 990,
        "xaxis": {
         "title": {
          "text": "Penguin Species"
         }
        },
        "yaxis": {
         "title": {
          "text": "Flipper Length (mm)"
         }
        }
       }
      },
      "text/html": [
       "<div>\n",
       "        \n",
       "        \n",
       "            <div id=\"2d126fd1-e981-48d3-97e4-e7fc3770f351\" class=\"plotly-graph-div\" style=\"height:525px; width:990px;\"></div>\n",
       "            <script type=\"text/javascript\">\n",
       "                require([\"plotly\"], function(Plotly) {\n",
       "                    window.PLOTLYENV=window.PLOTLYENV || {};\n",
       "                    \n",
       "                if (document.getElementById(\"2d126fd1-e981-48d3-97e4-e7fc3770f351\")) {\n",
       "                    Plotly.newPlot(\n",
       "                        '2d126fd1-e981-48d3-97e4-e7fc3770f351',\n",
       "                        [{\"box\": {\"visible\": true}, \"line\": {\"color\": \"darkorange\"}, \"meanline\": {\"visible\": true}, \"name\": \"Adelie Penguin\", \"points\": \"all\", \"type\": \"violin\", \"x\": [\"Adelie Penguin (Pygoscelis adeliae)\", \"Adelie Penguin (Pygoscelis adeliae)\", \"Adelie Penguin (Pygoscelis adeliae)\", \"Adelie Penguin (Pygoscelis adeliae)\", \"Adelie Penguin (Pygoscelis adeliae)\", \"Adelie Penguin (Pygoscelis adeliae)\", \"Adelie Penguin (Pygoscelis adeliae)\", \"Adelie Penguin (Pygoscelis adeliae)\", \"Adelie Penguin (Pygoscelis adeliae)\", \"Adelie Penguin (Pygoscelis adeliae)\", \"Adelie Penguin (Pygoscelis adeliae)\", \"Adelie Penguin (Pygoscelis adeliae)\", \"Adelie Penguin (Pygoscelis adeliae)\", \"Adelie Penguin (Pygoscelis adeliae)\", \"Adelie Penguin (Pygoscelis adeliae)\", \"Adelie Penguin (Pygoscelis adeliae)\", \"Adelie Penguin (Pygoscelis adeliae)\", \"Adelie Penguin (Pygoscelis adeliae)\", \"Adelie Penguin (Pygoscelis adeliae)\", \"Adelie Penguin (Pygoscelis adeliae)\", \"Adelie Penguin (Pygoscelis adeliae)\", \"Adelie Penguin (Pygoscelis adeliae)\", \"Adelie Penguin (Pygoscelis adeliae)\", \"Adelie Penguin (Pygoscelis adeliae)\", \"Adelie Penguin (Pygoscelis adeliae)\", \"Adelie Penguin (Pygoscelis adeliae)\", \"Adelie Penguin (Pygoscelis adeliae)\", \"Adelie Penguin (Pygoscelis adeliae)\", \"Adelie Penguin (Pygoscelis adeliae)\", \"Adelie Penguin (Pygoscelis adeliae)\", \"Adelie Penguin (Pygoscelis adeliae)\", \"Adelie Penguin (Pygoscelis adeliae)\", \"Adelie Penguin (Pygoscelis adeliae)\", \"Adelie Penguin (Pygoscelis adeliae)\", \"Adelie Penguin (Pygoscelis adeliae)\", \"Adelie Penguin (Pygoscelis adeliae)\", \"Adelie Penguin (Pygoscelis adeliae)\", \"Adelie Penguin (Pygoscelis adeliae)\", \"Adelie Penguin (Pygoscelis adeliae)\", \"Adelie Penguin (Pygoscelis adeliae)\", \"Adelie Penguin (Pygoscelis adeliae)\", \"Adelie Penguin (Pygoscelis adeliae)\", \"Adelie Penguin (Pygoscelis adeliae)\", \"Adelie Penguin (Pygoscelis adeliae)\", \"Adelie Penguin (Pygoscelis adeliae)\", \"Adelie Penguin (Pygoscelis adeliae)\", \"Adelie Penguin (Pygoscelis adeliae)\", \"Adelie Penguin (Pygoscelis adeliae)\", \"Adelie Penguin (Pygoscelis adeliae)\", \"Adelie Penguin (Pygoscelis adeliae)\", \"Adelie Penguin (Pygoscelis adeliae)\", \"Adelie Penguin (Pygoscelis adeliae)\", \"Adelie Penguin (Pygoscelis adeliae)\", \"Adelie Penguin (Pygoscelis adeliae)\", \"Adelie Penguin (Pygoscelis adeliae)\", \"Adelie Penguin (Pygoscelis adeliae)\", \"Adelie Penguin (Pygoscelis adeliae)\", \"Adelie Penguin (Pygoscelis adeliae)\", \"Adelie Penguin (Pygoscelis adeliae)\", \"Adelie Penguin (Pygoscelis adeliae)\", \"Adelie Penguin (Pygoscelis adeliae)\", \"Adelie Penguin (Pygoscelis adeliae)\", \"Adelie Penguin (Pygoscelis adeliae)\", \"Adelie Penguin (Pygoscelis adeliae)\", \"Adelie Penguin (Pygoscelis adeliae)\", \"Adelie Penguin (Pygoscelis adeliae)\", \"Adelie Penguin (Pygoscelis adeliae)\", \"Adelie Penguin (Pygoscelis adeliae)\", \"Adelie Penguin (Pygoscelis adeliae)\", \"Adelie Penguin (Pygoscelis adeliae)\", \"Adelie Penguin (Pygoscelis adeliae)\", \"Adelie Penguin (Pygoscelis adeliae)\", \"Adelie Penguin (Pygoscelis adeliae)\", \"Adelie Penguin (Pygoscelis adeliae)\", \"Adelie Penguin (Pygoscelis adeliae)\", \"Adelie Penguin (Pygoscelis adeliae)\", \"Adelie Penguin (Pygoscelis adeliae)\", \"Adelie Penguin (Pygoscelis adeliae)\", \"Adelie Penguin (Pygoscelis adeliae)\", \"Adelie Penguin (Pygoscelis adeliae)\", \"Adelie Penguin (Pygoscelis adeliae)\", \"Adelie Penguin (Pygoscelis adeliae)\", \"Adelie Penguin (Pygoscelis adeliae)\", \"Adelie Penguin (Pygoscelis adeliae)\", \"Adelie Penguin (Pygoscelis adeliae)\", \"Adelie Penguin (Pygoscelis adeliae)\", \"Adelie Penguin (Pygoscelis adeliae)\", \"Adelie Penguin (Pygoscelis adeliae)\", \"Adelie Penguin (Pygoscelis adeliae)\", \"Adelie Penguin (Pygoscelis adeliae)\", \"Adelie Penguin (Pygoscelis adeliae)\", \"Adelie Penguin (Pygoscelis adeliae)\", \"Adelie Penguin (Pygoscelis adeliae)\", \"Adelie Penguin (Pygoscelis adeliae)\", \"Adelie Penguin (Pygoscelis adeliae)\", \"Adelie Penguin (Pygoscelis adeliae)\", \"Adelie Penguin (Pygoscelis adeliae)\", \"Adelie Penguin (Pygoscelis adeliae)\", \"Adelie Penguin (Pygoscelis adeliae)\", \"Adelie Penguin (Pygoscelis adeliae)\", \"Adelie Penguin (Pygoscelis adeliae)\", \"Adelie Penguin (Pygoscelis adeliae)\", \"Adelie Penguin (Pygoscelis adeliae)\", \"Adelie Penguin (Pygoscelis adeliae)\", \"Adelie Penguin (Pygoscelis adeliae)\", \"Adelie Penguin (Pygoscelis adeliae)\", \"Adelie Penguin (Pygoscelis adeliae)\", \"Adelie Penguin (Pygoscelis adeliae)\", \"Adelie Penguin (Pygoscelis adeliae)\", \"Adelie Penguin (Pygoscelis adeliae)\", \"Adelie Penguin (Pygoscelis adeliae)\", \"Adelie Penguin (Pygoscelis adeliae)\", \"Adelie Penguin (Pygoscelis adeliae)\", \"Adelie Penguin (Pygoscelis adeliae)\", \"Adelie Penguin (Pygoscelis adeliae)\", \"Adelie Penguin (Pygoscelis adeliae)\", \"Adelie Penguin (Pygoscelis adeliae)\", \"Adelie Penguin (Pygoscelis adeliae)\", \"Adelie Penguin (Pygoscelis adeliae)\", \"Adelie Penguin (Pygoscelis adeliae)\", \"Adelie Penguin (Pygoscelis adeliae)\", \"Adelie Penguin (Pygoscelis adeliae)\", \"Adelie Penguin (Pygoscelis adeliae)\", \"Adelie Penguin (Pygoscelis adeliae)\", \"Adelie Penguin (Pygoscelis adeliae)\", \"Adelie Penguin (Pygoscelis adeliae)\", \"Adelie Penguin (Pygoscelis adeliae)\", \"Adelie Penguin (Pygoscelis adeliae)\", \"Adelie Penguin (Pygoscelis adeliae)\", \"Adelie Penguin (Pygoscelis adeliae)\", \"Adelie Penguin (Pygoscelis adeliae)\", \"Adelie Penguin (Pygoscelis adeliae)\", \"Adelie Penguin (Pygoscelis adeliae)\", \"Adelie Penguin (Pygoscelis adeliae)\", \"Adelie Penguin (Pygoscelis adeliae)\", \"Adelie Penguin (Pygoscelis adeliae)\", \"Adelie Penguin (Pygoscelis adeliae)\", \"Adelie Penguin (Pygoscelis adeliae)\", \"Adelie Penguin (Pygoscelis adeliae)\", \"Adelie Penguin (Pygoscelis adeliae)\", \"Adelie Penguin (Pygoscelis adeliae)\", \"Adelie Penguin (Pygoscelis adeliae)\", \"Adelie Penguin (Pygoscelis adeliae)\", \"Adelie Penguin (Pygoscelis adeliae)\", \"Adelie Penguin (Pygoscelis adeliae)\", \"Adelie Penguin (Pygoscelis adeliae)\", \"Adelie Penguin (Pygoscelis adeliae)\", \"Adelie Penguin (Pygoscelis adeliae)\", \"Adelie Penguin (Pygoscelis adeliae)\", \"Adelie Penguin (Pygoscelis adeliae)\", \"Adelie Penguin (Pygoscelis adeliae)\", \"Adelie Penguin (Pygoscelis adeliae)\"], \"y\": [181.0, 186.0, 195.0, 190.0, 193.0, 190.0, 181.0, 195.0, 193.0, 190.0, 186.0, 180.0, 182.0, 191.0, 198.0, 185.0, 195.0, 197.0, 184.0, 194.0, 174.0, 180.0, 189.0, 185.0, 180.0, 187.0, 183.0, 187.0, 172.0, 180.0, 178.0, 178.0, 188.0, 184.0, 195.0, 196.0, 190.0, 180.0, 181.0, 184.0, 182.0, 195.0, 186.0, 196.0, 185.0, 190.0, 182.0, 179.0, 190.0, 191.0, 186.0, 188.0, 190.0, 200.0, 187.0, 191.0, 186.0, 193.0, 181.0, 194.0, 185.0, 195.0, 185.0, 192.0, 184.0, 192.0, 195.0, 188.0, 190.0, 198.0, 190.0, 190.0, 196.0, 197.0, 190.0, 195.0, 191.0, 184.0, 187.0, 195.0, 189.0, 196.0, 187.0, 193.0, 191.0, 194.0, 190.0, 189.0, 189.0, 190.0, 202.0, 205.0, 185.0, 186.0, 187.0, 208.0, 190.0, 196.0, 178.0, 192.0, 192.0, 203.0, 183.0, 190.0, 193.0, 184.0, 199.0, 190.0, 181.0, 197.0, 198.0, 191.0, 193.0, 197.0, 191.0, 196.0, 188.0, 199.0, 189.0, 189.0, 187.0, 198.0, 176.0, 202.0, 186.0, 199.0, 191.0, 195.0, 191.0, 210.0, 190.0, 197.0, 193.0, 199.0, 187.0, 190.0, 191.0, 200.0, 185.0, 193.0, 193.0, 187.0, 188.0, 190.0, 192.0, 185.0, 190.0, 184.0, 195.0, 193.0, 187.0, 201.0]}, {\"box\": {\"visible\": true}, \"line\": {\"color\": \"teal\"}, \"meanline\": {\"visible\": true}, \"name\": \"Gentoo penguin\", \"points\": \"all\", \"type\": \"violin\", \"x\": [\"Gentoo penguin (Pygoscelis papua)\", \"Gentoo penguin (Pygoscelis papua)\", \"Gentoo penguin (Pygoscelis papua)\", \"Gentoo penguin (Pygoscelis papua)\", \"Gentoo penguin (Pygoscelis papua)\", \"Gentoo penguin (Pygoscelis papua)\", \"Gentoo penguin (Pygoscelis papua)\", \"Gentoo penguin (Pygoscelis papua)\", \"Gentoo penguin (Pygoscelis papua)\", \"Gentoo penguin (Pygoscelis papua)\", \"Gentoo penguin (Pygoscelis papua)\", \"Gentoo penguin (Pygoscelis papua)\", \"Gentoo penguin (Pygoscelis papua)\", \"Gentoo penguin (Pygoscelis papua)\", \"Gentoo penguin (Pygoscelis papua)\", \"Gentoo penguin (Pygoscelis papua)\", \"Gentoo penguin (Pygoscelis papua)\", \"Gentoo penguin (Pygoscelis papua)\", \"Gentoo penguin (Pygoscelis papua)\", \"Gentoo penguin (Pygoscelis papua)\", \"Gentoo penguin (Pygoscelis papua)\", \"Gentoo penguin (Pygoscelis papua)\", \"Gentoo penguin (Pygoscelis papua)\", \"Gentoo penguin (Pygoscelis papua)\", \"Gentoo penguin (Pygoscelis papua)\", \"Gentoo penguin (Pygoscelis papua)\", \"Gentoo penguin (Pygoscelis papua)\", \"Gentoo penguin (Pygoscelis papua)\", \"Gentoo penguin (Pygoscelis papua)\", \"Gentoo penguin (Pygoscelis papua)\", \"Gentoo penguin (Pygoscelis papua)\", \"Gentoo penguin (Pygoscelis papua)\", \"Gentoo penguin (Pygoscelis papua)\", \"Gentoo penguin (Pygoscelis papua)\", \"Gentoo penguin (Pygoscelis papua)\", \"Gentoo penguin (Pygoscelis papua)\", \"Gentoo penguin (Pygoscelis papua)\", \"Gentoo penguin (Pygoscelis papua)\", \"Gentoo penguin (Pygoscelis papua)\", \"Gentoo penguin (Pygoscelis papua)\", \"Gentoo penguin (Pygoscelis papua)\", \"Gentoo penguin (Pygoscelis papua)\", \"Gentoo penguin (Pygoscelis papua)\", \"Gentoo penguin (Pygoscelis papua)\", \"Gentoo penguin (Pygoscelis papua)\", \"Gentoo penguin (Pygoscelis papua)\", \"Gentoo penguin (Pygoscelis papua)\", \"Gentoo penguin (Pygoscelis papua)\", \"Gentoo penguin (Pygoscelis papua)\", \"Gentoo penguin (Pygoscelis papua)\", \"Gentoo penguin (Pygoscelis papua)\", \"Gentoo penguin (Pygoscelis papua)\", \"Gentoo penguin (Pygoscelis papua)\", \"Gentoo penguin (Pygoscelis papua)\", \"Gentoo penguin (Pygoscelis papua)\", \"Gentoo penguin (Pygoscelis papua)\", \"Gentoo penguin (Pygoscelis papua)\", \"Gentoo penguin (Pygoscelis papua)\", \"Gentoo penguin (Pygoscelis papua)\", \"Gentoo penguin (Pygoscelis papua)\", \"Gentoo penguin (Pygoscelis papua)\", \"Gentoo penguin (Pygoscelis papua)\", \"Gentoo penguin (Pygoscelis papua)\", \"Gentoo penguin (Pygoscelis papua)\", \"Gentoo penguin (Pygoscelis papua)\", \"Gentoo penguin (Pygoscelis papua)\", \"Gentoo penguin (Pygoscelis papua)\", \"Gentoo penguin (Pygoscelis papua)\", \"Gentoo penguin (Pygoscelis papua)\", \"Gentoo penguin (Pygoscelis papua)\", \"Gentoo penguin (Pygoscelis papua)\", \"Gentoo penguin (Pygoscelis papua)\", \"Gentoo penguin (Pygoscelis papua)\", \"Gentoo penguin (Pygoscelis papua)\", \"Gentoo penguin (Pygoscelis papua)\", \"Gentoo penguin (Pygoscelis papua)\", \"Gentoo penguin (Pygoscelis papua)\", \"Gentoo penguin (Pygoscelis papua)\", \"Gentoo penguin (Pygoscelis papua)\", \"Gentoo penguin (Pygoscelis papua)\", \"Gentoo penguin (Pygoscelis papua)\", \"Gentoo penguin (Pygoscelis papua)\", \"Gentoo penguin (Pygoscelis papua)\", \"Gentoo penguin (Pygoscelis papua)\", \"Gentoo penguin (Pygoscelis papua)\", \"Gentoo penguin (Pygoscelis papua)\", \"Gentoo penguin (Pygoscelis papua)\", \"Gentoo penguin (Pygoscelis papua)\", \"Gentoo penguin (Pygoscelis papua)\", \"Gentoo penguin (Pygoscelis papua)\", \"Gentoo penguin (Pygoscelis papua)\", \"Gentoo penguin (Pygoscelis papua)\", \"Gentoo penguin (Pygoscelis papua)\", \"Gentoo penguin (Pygoscelis papua)\", \"Gentoo penguin (Pygoscelis papua)\", \"Gentoo penguin (Pygoscelis papua)\", \"Gentoo penguin (Pygoscelis papua)\", \"Gentoo penguin (Pygoscelis papua)\", \"Gentoo penguin (Pygoscelis papua)\", \"Gentoo penguin (Pygoscelis papua)\", \"Gentoo penguin (Pygoscelis papua)\", \"Gentoo penguin (Pygoscelis papua)\", \"Gentoo penguin (Pygoscelis papua)\", \"Gentoo penguin (Pygoscelis papua)\", \"Gentoo penguin (Pygoscelis papua)\", \"Gentoo penguin (Pygoscelis papua)\", \"Gentoo penguin (Pygoscelis papua)\", \"Gentoo penguin (Pygoscelis papua)\", \"Gentoo penguin (Pygoscelis papua)\", \"Gentoo penguin (Pygoscelis papua)\", \"Gentoo penguin (Pygoscelis papua)\", \"Gentoo penguin (Pygoscelis papua)\", \"Gentoo penguin (Pygoscelis papua)\", \"Gentoo penguin (Pygoscelis papua)\", \"Gentoo penguin (Pygoscelis papua)\", \"Gentoo penguin (Pygoscelis papua)\", \"Gentoo penguin (Pygoscelis papua)\", \"Gentoo penguin (Pygoscelis papua)\", \"Gentoo penguin (Pygoscelis papua)\", \"Gentoo penguin (Pygoscelis papua)\", \"Gentoo penguin (Pygoscelis papua)\", \"Gentoo penguin (Pygoscelis papua)\", \"Gentoo penguin (Pygoscelis papua)\", \"Gentoo penguin (Pygoscelis papua)\"], \"y\": [211.0, 230.0, 210.0, 218.0, 215.0, 210.0, 211.0, 219.0, 209.0, 215.0, 214.0, 216.0, 214.0, 213.0, 210.0, 217.0, 210.0, 221.0, 209.0, 222.0, 218.0, 215.0, 213.0, 215.0, 215.0, 215.0, 216.0, 215.0, 210.0, 220.0, 222.0, 209.0, 207.0, 230.0, 220.0, 220.0, 213.0, 219.0, 208.0, 208.0, 208.0, 225.0, 210.0, 216.0, 222.0, 217.0, 210.0, 225.0, 213.0, 215.0, 210.0, 220.0, 210.0, 225.0, 217.0, 220.0, 208.0, 220.0, 208.0, 224.0, 208.0, 221.0, 214.0, 231.0, 219.0, 230.0, 214.0, 229.0, 220.0, 223.0, 216.0, 221.0, 221.0, 217.0, 216.0, 230.0, 209.0, 220.0, 215.0, 223.0, 212.0, 221.0, 212.0, 224.0, 212.0, 228.0, 218.0, 218.0, 212.0, 230.0, 218.0, 228.0, 212.0, 224.0, 214.0, 226.0, 216.0, 222.0, 203.0, 225.0, 219.0, 228.0, 215.0, 228.0, 216.0, 215.0, 210.0, 219.0, 208.0, 209.0, 216.0, 229.0, 213.0, 230.0, 217.0, 230.0, 217.0, 222.0, 214.0, 190.0, 215.0, 222.0, 212.0, 213.0]}, {\"box\": {\"visible\": true}, \"line\": {\"color\": \"mediumorchid\"}, \"meanline\": {\"visible\": true}, \"name\": \"Chinstrap penguin\", \"points\": \"all\", \"type\": \"violin\", \"x\": [\"Chinstrap penguin (Pygoscelis antarctica)\", \"Chinstrap penguin (Pygoscelis antarctica)\", \"Chinstrap penguin (Pygoscelis antarctica)\", \"Chinstrap penguin (Pygoscelis antarctica)\", \"Chinstrap penguin (Pygoscelis antarctica)\", \"Chinstrap penguin (Pygoscelis antarctica)\", \"Chinstrap penguin (Pygoscelis antarctica)\", \"Chinstrap penguin (Pygoscelis antarctica)\", \"Chinstrap penguin (Pygoscelis antarctica)\", \"Chinstrap penguin (Pygoscelis antarctica)\", \"Chinstrap penguin (Pygoscelis antarctica)\", \"Chinstrap penguin (Pygoscelis antarctica)\", \"Chinstrap penguin (Pygoscelis antarctica)\", \"Chinstrap penguin (Pygoscelis antarctica)\", \"Chinstrap penguin (Pygoscelis antarctica)\", \"Chinstrap penguin (Pygoscelis antarctica)\", \"Chinstrap penguin (Pygoscelis antarctica)\", \"Chinstrap penguin (Pygoscelis antarctica)\", \"Chinstrap penguin (Pygoscelis antarctica)\", \"Chinstrap penguin (Pygoscelis antarctica)\", \"Chinstrap penguin (Pygoscelis antarctica)\", \"Chinstrap penguin (Pygoscelis antarctica)\", \"Chinstrap penguin (Pygoscelis antarctica)\", \"Chinstrap penguin (Pygoscelis antarctica)\", \"Chinstrap penguin (Pygoscelis antarctica)\", \"Chinstrap penguin (Pygoscelis antarctica)\", \"Chinstrap penguin (Pygoscelis antarctica)\", \"Chinstrap penguin (Pygoscelis antarctica)\", \"Chinstrap penguin (Pygoscelis antarctica)\", \"Chinstrap penguin (Pygoscelis antarctica)\", \"Chinstrap penguin (Pygoscelis antarctica)\", \"Chinstrap penguin (Pygoscelis antarctica)\", \"Chinstrap penguin (Pygoscelis antarctica)\", \"Chinstrap penguin (Pygoscelis antarctica)\", \"Chinstrap penguin (Pygoscelis antarctica)\", \"Chinstrap penguin (Pygoscelis antarctica)\", \"Chinstrap penguin (Pygoscelis antarctica)\", \"Chinstrap penguin (Pygoscelis antarctica)\", \"Chinstrap penguin (Pygoscelis antarctica)\", \"Chinstrap penguin (Pygoscelis antarctica)\", \"Chinstrap penguin (Pygoscelis antarctica)\", \"Chinstrap penguin (Pygoscelis antarctica)\", \"Chinstrap penguin (Pygoscelis antarctica)\", \"Chinstrap penguin (Pygoscelis antarctica)\", \"Chinstrap penguin (Pygoscelis antarctica)\", \"Chinstrap penguin (Pygoscelis antarctica)\", \"Chinstrap penguin (Pygoscelis antarctica)\", \"Chinstrap penguin (Pygoscelis antarctica)\", \"Chinstrap penguin (Pygoscelis antarctica)\", \"Chinstrap penguin (Pygoscelis antarctica)\", \"Chinstrap penguin (Pygoscelis antarctica)\", \"Chinstrap penguin (Pygoscelis antarctica)\", \"Chinstrap penguin (Pygoscelis antarctica)\", \"Chinstrap penguin (Pygoscelis antarctica)\", \"Chinstrap penguin (Pygoscelis antarctica)\", \"Chinstrap penguin (Pygoscelis antarctica)\", \"Chinstrap penguin (Pygoscelis antarctica)\", \"Chinstrap penguin (Pygoscelis antarctica)\", \"Chinstrap penguin (Pygoscelis antarctica)\", \"Chinstrap penguin (Pygoscelis antarctica)\", \"Chinstrap penguin (Pygoscelis antarctica)\", \"Chinstrap penguin (Pygoscelis antarctica)\", \"Chinstrap penguin (Pygoscelis antarctica)\", \"Chinstrap penguin (Pygoscelis antarctica)\", \"Chinstrap penguin (Pygoscelis antarctica)\", \"Chinstrap penguin (Pygoscelis antarctica)\", \"Chinstrap penguin (Pygoscelis antarctica)\", \"Chinstrap penguin (Pygoscelis antarctica)\"], \"y\": [192.0, 196.0, 193.0, 188.0, 197.0, 198.0, 178.0, 197.0, 195.0, 198.0, 193.0, 194.0, 185.0, 201.0, 190.0, 201.0, 197.0, 181.0, 190.0, 195.0, 181.0, 191.0, 187.0, 193.0, 195.0, 197.0, 200.0, 200.0, 191.0, 205.0, 187.0, 201.0, 187.0, 203.0, 195.0, 199.0, 195.0, 210.0, 192.0, 205.0, 210.0, 187.0, 196.0, 196.0, 196.0, 201.0, 190.0, 212.0, 187.0, 198.0, 199.0, 201.0, 193.0, 203.0, 187.0, 197.0, 191.0, 203.0, 202.0, 194.0, 206.0, 189.0, 195.0, 207.0, 202.0, 193.0, 210.0, 198.0]}],\n",
       "                        {\"paper_bgcolor\": \"rgba(0,0,0,0)\", \"plot_bgcolor\": \"rgba(0,0,0,0)\", \"showlegend\": true, \"template\": {\"data\": {\"bar\": [{\"error_x\": {\"color\": \"#2a3f5f\"}, \"error_y\": {\"color\": \"#2a3f5f\"}, \"marker\": {\"line\": {\"color\": \"#E5ECF6\", \"width\": 0.5}}, \"type\": \"bar\"}], \"barpolar\": [{\"marker\": {\"line\": {\"color\": \"#E5ECF6\", \"width\": 0.5}}, \"type\": \"barpolar\"}], \"carpet\": [{\"aaxis\": {\"endlinecolor\": \"#2a3f5f\", \"gridcolor\": \"white\", \"linecolor\": \"white\", \"minorgridcolor\": \"white\", \"startlinecolor\": \"#2a3f5f\"}, \"baxis\": {\"endlinecolor\": \"#2a3f5f\", \"gridcolor\": \"white\", \"linecolor\": \"white\", \"minorgridcolor\": \"white\", \"startlinecolor\": \"#2a3f5f\"}, \"type\": \"carpet\"}], \"choropleth\": [{\"colorbar\": {\"outlinewidth\": 0, \"ticks\": \"\"}, \"type\": \"choropleth\"}], \"contour\": [{\"colorbar\": {\"outlinewidth\": 0, \"ticks\": \"\"}, \"colorscale\": [[0.0, \"#0d0887\"], [0.1111111111111111, \"#46039f\"], [0.2222222222222222, \"#7201a8\"], [0.3333333333333333, \"#9c179e\"], [0.4444444444444444, \"#bd3786\"], [0.5555555555555556, \"#d8576b\"], [0.6666666666666666, \"#ed7953\"], [0.7777777777777778, \"#fb9f3a\"], [0.8888888888888888, \"#fdca26\"], [1.0, \"#f0f921\"]], \"type\": \"contour\"}], \"contourcarpet\": [{\"colorbar\": {\"outlinewidth\": 0, \"ticks\": \"\"}, \"type\": \"contourcarpet\"}], \"heatmap\": [{\"colorbar\": {\"outlinewidth\": 0, \"ticks\": \"\"}, \"colorscale\": [[0.0, \"#0d0887\"], [0.1111111111111111, \"#46039f\"], [0.2222222222222222, \"#7201a8\"], [0.3333333333333333, \"#9c179e\"], [0.4444444444444444, \"#bd3786\"], [0.5555555555555556, \"#d8576b\"], [0.6666666666666666, \"#ed7953\"], [0.7777777777777778, \"#fb9f3a\"], [0.8888888888888888, \"#fdca26\"], [1.0, \"#f0f921\"]], \"type\": \"heatmap\"}], \"heatmapgl\": [{\"colorbar\": {\"outlinewidth\": 0, \"ticks\": \"\"}, \"colorscale\": [[0.0, \"#0d0887\"], [0.1111111111111111, \"#46039f\"], [0.2222222222222222, \"#7201a8\"], [0.3333333333333333, \"#9c179e\"], [0.4444444444444444, \"#bd3786\"], [0.5555555555555556, \"#d8576b\"], [0.6666666666666666, \"#ed7953\"], [0.7777777777777778, \"#fb9f3a\"], [0.8888888888888888, \"#fdca26\"], [1.0, \"#f0f921\"]], \"type\": \"heatmapgl\"}], \"histogram\": [{\"marker\": {\"colorbar\": {\"outlinewidth\": 0, \"ticks\": \"\"}}, \"type\": \"histogram\"}], \"histogram2d\": [{\"colorbar\": {\"outlinewidth\": 0, \"ticks\": \"\"}, \"colorscale\": [[0.0, \"#0d0887\"], [0.1111111111111111, \"#46039f\"], [0.2222222222222222, \"#7201a8\"], [0.3333333333333333, \"#9c179e\"], [0.4444444444444444, \"#bd3786\"], [0.5555555555555556, \"#d8576b\"], [0.6666666666666666, \"#ed7953\"], [0.7777777777777778, \"#fb9f3a\"], [0.8888888888888888, \"#fdca26\"], [1.0, \"#f0f921\"]], \"type\": \"histogram2d\"}], \"histogram2dcontour\": [{\"colorbar\": {\"outlinewidth\": 0, \"ticks\": \"\"}, \"colorscale\": [[0.0, \"#0d0887\"], [0.1111111111111111, \"#46039f\"], [0.2222222222222222, \"#7201a8\"], [0.3333333333333333, \"#9c179e\"], [0.4444444444444444, \"#bd3786\"], [0.5555555555555556, \"#d8576b\"], [0.6666666666666666, \"#ed7953\"], [0.7777777777777778, \"#fb9f3a\"], [0.8888888888888888, \"#fdca26\"], [1.0, \"#f0f921\"]], \"type\": \"histogram2dcontour\"}], \"mesh3d\": [{\"colorbar\": {\"outlinewidth\": 0, \"ticks\": \"\"}, \"type\": \"mesh3d\"}], \"parcoords\": [{\"line\": {\"colorbar\": {\"outlinewidth\": 0, \"ticks\": \"\"}}, \"type\": \"parcoords\"}], \"pie\": [{\"automargin\": true, \"type\": \"pie\"}], \"scatter\": [{\"marker\": {\"colorbar\": {\"outlinewidth\": 0, \"ticks\": \"\"}}, \"type\": \"scatter\"}], \"scatter3d\": [{\"line\": {\"colorbar\": {\"outlinewidth\": 0, \"ticks\": \"\"}}, \"marker\": {\"colorbar\": {\"outlinewidth\": 0, \"ticks\": \"\"}}, \"type\": \"scatter3d\"}], \"scattercarpet\": [{\"marker\": {\"colorbar\": {\"outlinewidth\": 0, \"ticks\": \"\"}}, \"type\": \"scattercarpet\"}], \"scattergeo\": [{\"marker\": {\"colorbar\": {\"outlinewidth\": 0, \"ticks\": \"\"}}, \"type\": \"scattergeo\"}], \"scattergl\": [{\"marker\": {\"colorbar\": {\"outlinewidth\": 0, \"ticks\": \"\"}}, \"type\": \"scattergl\"}], \"scattermapbox\": [{\"marker\": {\"colorbar\": {\"outlinewidth\": 0, \"ticks\": \"\"}}, \"type\": \"scattermapbox\"}], \"scatterpolar\": [{\"marker\": {\"colorbar\": {\"outlinewidth\": 0, \"ticks\": \"\"}}, \"type\": \"scatterpolar\"}], \"scatterpolargl\": [{\"marker\": {\"colorbar\": {\"outlinewidth\": 0, \"ticks\": \"\"}}, \"type\": \"scatterpolargl\"}], \"scatterternary\": [{\"marker\": {\"colorbar\": {\"outlinewidth\": 0, \"ticks\": \"\"}}, \"type\": \"scatterternary\"}], \"surface\": [{\"colorbar\": {\"outlinewidth\": 0, \"ticks\": \"\"}, \"colorscale\": [[0.0, \"#0d0887\"], [0.1111111111111111, \"#46039f\"], [0.2222222222222222, \"#7201a8\"], [0.3333333333333333, \"#9c179e\"], [0.4444444444444444, \"#bd3786\"], [0.5555555555555556, \"#d8576b\"], [0.6666666666666666, \"#ed7953\"], [0.7777777777777778, \"#fb9f3a\"], [0.8888888888888888, \"#fdca26\"], [1.0, \"#f0f921\"]], \"type\": \"surface\"}], \"table\": [{\"cells\": {\"fill\": {\"color\": \"#EBF0F8\"}, \"line\": {\"color\": \"white\"}}, \"header\": {\"fill\": {\"color\": \"#C8D4E3\"}, \"line\": {\"color\": \"white\"}}, \"type\": \"table\"}]}, \"layout\": {\"annotationdefaults\": {\"arrowcolor\": \"#2a3f5f\", \"arrowhead\": 0, \"arrowwidth\": 1}, \"coloraxis\": {\"colorbar\": {\"outlinewidth\": 0, \"ticks\": \"\"}}, \"colorscale\": {\"diverging\": [[0, \"#8e0152\"], [0.1, \"#c51b7d\"], [0.2, \"#de77ae\"], [0.3, \"#f1b6da\"], [0.4, \"#fde0ef\"], [0.5, \"#f7f7f7\"], [0.6, \"#e6f5d0\"], [0.7, \"#b8e186\"], [0.8, \"#7fbc41\"], [0.9, \"#4d9221\"], [1, \"#276419\"]], \"sequential\": [[0.0, \"#0d0887\"], [0.1111111111111111, \"#46039f\"], [0.2222222222222222, \"#7201a8\"], [0.3333333333333333, \"#9c179e\"], [0.4444444444444444, \"#bd3786\"], [0.5555555555555556, \"#d8576b\"], [0.6666666666666666, \"#ed7953\"], [0.7777777777777778, \"#fb9f3a\"], [0.8888888888888888, \"#fdca26\"], [1.0, \"#f0f921\"]], \"sequentialminus\": [[0.0, \"#0d0887\"], [0.1111111111111111, \"#46039f\"], [0.2222222222222222, \"#7201a8\"], [0.3333333333333333, \"#9c179e\"], [0.4444444444444444, \"#bd3786\"], [0.5555555555555556, \"#d8576b\"], [0.6666666666666666, \"#ed7953\"], [0.7777777777777778, \"#fb9f3a\"], [0.8888888888888888, \"#fdca26\"], [1.0, \"#f0f921\"]]}, \"colorway\": [\"#636efa\", \"#EF553B\", \"#00cc96\", \"#ab63fa\", \"#FFA15A\", \"#19d3f3\", \"#FF6692\", \"#B6E880\", \"#FF97FF\", \"#FECB52\"], \"font\": {\"color\": \"#2a3f5f\"}, \"geo\": {\"bgcolor\": \"white\", \"lakecolor\": \"white\", \"landcolor\": \"#E5ECF6\", \"showlakes\": true, \"showland\": true, \"subunitcolor\": \"white\"}, \"hoverlabel\": {\"align\": \"left\"}, \"hovermode\": \"closest\", \"mapbox\": {\"style\": \"light\"}, \"paper_bgcolor\": \"white\", \"plot_bgcolor\": \"#E5ECF6\", \"polar\": {\"angularaxis\": {\"gridcolor\": \"white\", \"linecolor\": \"white\", \"ticks\": \"\"}, \"bgcolor\": \"#E5ECF6\", \"radialaxis\": {\"gridcolor\": \"white\", \"linecolor\": \"white\", \"ticks\": \"\"}}, \"scene\": {\"xaxis\": {\"backgroundcolor\": \"#E5ECF6\", \"gridcolor\": \"white\", \"gridwidth\": 2, \"linecolor\": \"white\", \"showbackground\": true, \"ticks\": \"\", \"zerolinecolor\": \"white\"}, \"yaxis\": {\"backgroundcolor\": \"#E5ECF6\", \"gridcolor\": \"white\", \"gridwidth\": 2, \"linecolor\": \"white\", \"showbackground\": true, \"ticks\": \"\", \"zerolinecolor\": \"white\"}, \"zaxis\": {\"backgroundcolor\": \"#E5ECF6\", \"gridcolor\": \"white\", \"gridwidth\": 2, \"linecolor\": \"white\", \"showbackground\": true, \"ticks\": \"\", \"zerolinecolor\": \"white\"}}, \"shapedefaults\": {\"line\": {\"color\": \"#2a3f5f\"}}, \"ternary\": {\"aaxis\": {\"gridcolor\": \"white\", \"linecolor\": \"white\", \"ticks\": \"\"}, \"baxis\": {\"gridcolor\": \"white\", \"linecolor\": \"white\", \"ticks\": \"\"}, \"bgcolor\": \"#E5ECF6\", \"caxis\": {\"gridcolor\": \"white\", \"linecolor\": \"white\", \"ticks\": \"\"}}, \"title\": {\"x\": 0.05}, \"xaxis\": {\"automargin\": true, \"gridcolor\": \"white\", \"linecolor\": \"white\", \"ticks\": \"\", \"title\": {\"standoff\": 15}, \"zerolinecolor\": \"white\", \"zerolinewidth\": 2}, \"yaxis\": {\"automargin\": true, \"gridcolor\": \"white\", \"linecolor\": \"white\", \"ticks\": \"\", \"title\": {\"standoff\": 15}, \"zerolinecolor\": \"white\", \"zerolinewidth\": 2}}}, \"title\": {\"text\": \"<b>Flipper Length (mm) Distribution for the 3 Species</b>\"}, \"width\": 990, \"xaxis\": {\"title\": {\"text\": \"Penguin Species\"}}, \"yaxis\": {\"title\": {\"text\": \"Flipper Length (mm)\"}}},\n",
       "                        {\"responsive\": true}\n",
       "                    ).then(function(){\n",
       "                            \n",
       "var gd = document.getElementById('2d126fd1-e981-48d3-97e4-e7fc3770f351');\n",
       "var x = new MutationObserver(function (mutations, observer) {{\n",
       "        var display = window.getComputedStyle(gd).display;\n",
       "        if (!display || display === 'none') {{\n",
       "            console.log([gd, 'removed!']);\n",
       "            Plotly.purge(gd);\n",
       "            observer.disconnect();\n",
       "        }}\n",
       "}});\n",
       "\n",
       "// Listen for the removal of the full notebook cells\n",
       "var notebookContainer = gd.closest('#notebook-container');\n",
       "if (notebookContainer) {{\n",
       "    x.observe(notebookContainer, {childList: true});\n",
       "}}\n",
       "\n",
       "// Listen for the clearing of the current output cell\n",
       "var outputEl = gd.closest('.output');\n",
       "if (outputEl) {{\n",
       "    x.observe(outputEl, {childList: true});\n",
       "}}\n",
       "\n",
       "                        })\n",
       "                };\n",
       "                });\n",
       "            </script>\n",
       "        </div>"
      ]
     },
     "metadata": {},
     "output_type": "display_data"
    },
    {
     "data": {
      "application/javascript": [
       "\n",
       "            setTimeout(function() {\n",
       "                var nbb_cell_id = 27;\n",
       "                var nbb_unformatted_code = \"# Flipper Length Distributions\\n\\ntrace1 = go.Violin(\\n    x=adelie_df[\\\"Species\\\"],\\n    y=adelie_df[\\\"Flipper Length (mm)\\\"],\\n    box_visible=True,\\n    meanline_visible=True,\\n    points=\\\"all\\\",\\n    line_color=\\\"darkorange\\\",\\n    name=\\\"Adelie Penguin\\\",\\n)\\n\\ntrace2 = go.Violin(\\n    x=gentoo_df[\\\"Species\\\"],\\n    y=gentoo_df[\\\"Flipper Length (mm)\\\"],\\n    box_visible=True,\\n    meanline_visible=True,\\n    line_color=\\\"teal\\\",\\n    points=\\\"all\\\",\\n    name=\\\"Gentoo penguin\\\",\\n)\\n\\ntrace3 = go.Violin(\\n    x=chinstrap_df[\\\"Species\\\"],\\n    y=chinstrap_df[\\\"Flipper Length (mm)\\\"],\\n    points=\\\"all\\\",\\n    box_visible=True,\\n    meanline_visible=True,\\n    line_color=\\\"mediumorchid\\\",\\n    name=\\\"Chinstrap penguin\\\",\\n)\\n\\ndata = [trace1, trace2, trace3]\\n\\n\\nlayout = dict(\\n    title=\\\"<b>Flipper Length (mm) Distribution for the 3 Species</b>\\\",\\n    showlegend=True,\\n    width=990,\\n    xaxis=dict(title=\\\"Penguin Species\\\"),\\n    yaxis=dict(title=\\\"Flipper Length (mm)\\\"),\\n    plot_bgcolor=\\\"rgba(0,0,0,0)\\\",\\n    paper_bgcolor=\\\"rgba(0,0,0,0)\\\",\\n)\\n\\nfig = dict(data=data, layout=layout)\\n\\niplot(fig)\";\n",
       "                var nbb_formatted_code = \"# Flipper Length Distributions\\n\\ntrace1 = go.Violin(\\n    x=adelie_df[\\\"Species\\\"],\\n    y=adelie_df[\\\"Flipper Length (mm)\\\"],\\n    box_visible=True,\\n    meanline_visible=True,\\n    points=\\\"all\\\",\\n    line_color=\\\"darkorange\\\",\\n    name=\\\"Adelie Penguin\\\",\\n)\\n\\ntrace2 = go.Violin(\\n    x=gentoo_df[\\\"Species\\\"],\\n    y=gentoo_df[\\\"Flipper Length (mm)\\\"],\\n    box_visible=True,\\n    meanline_visible=True,\\n    line_color=\\\"teal\\\",\\n    points=\\\"all\\\",\\n    name=\\\"Gentoo penguin\\\",\\n)\\n\\ntrace3 = go.Violin(\\n    x=chinstrap_df[\\\"Species\\\"],\\n    y=chinstrap_df[\\\"Flipper Length (mm)\\\"],\\n    points=\\\"all\\\",\\n    box_visible=True,\\n    meanline_visible=True,\\n    line_color=\\\"mediumorchid\\\",\\n    name=\\\"Chinstrap penguin\\\",\\n)\\n\\ndata = [trace1, trace2, trace3]\\n\\n\\nlayout = dict(\\n    title=\\\"<b>Flipper Length (mm) Distribution for the 3 Species</b>\\\",\\n    showlegend=True,\\n    width=990,\\n    xaxis=dict(title=\\\"Penguin Species\\\"),\\n    yaxis=dict(title=\\\"Flipper Length (mm)\\\"),\\n    plot_bgcolor=\\\"rgba(0,0,0,0)\\\",\\n    paper_bgcolor=\\\"rgba(0,0,0,0)\\\",\\n)\\n\\nfig = dict(data=data, layout=layout)\\n\\niplot(fig)\";\n",
       "                var nbb_cells = Jupyter.notebook.get_cells();\n",
       "                for (var i = 0; i < nbb_cells.length; ++i) {\n",
       "                    if (nbb_cells[i].input_prompt_number == nbb_cell_id) {\n",
       "                        if (nbb_cells[i].get_text() == nbb_unformatted_code) {\n",
       "                             nbb_cells[i].set_text(nbb_formatted_code);\n",
       "                        }\n",
       "                        break;\n",
       "                    }\n",
       "                }\n",
       "            }, 500);\n",
       "            "
      ],
      "text/plain": [
       "<IPython.core.display.Javascript object>"
      ]
     },
     "metadata": {},
     "output_type": "display_data"
    }
   ],
   "source": [
    "# Flipper Length Distributions\n",
    "\n",
    "trace1 = go.Violin(\n",
    "    x=adelie_df[\"Species\"],\n",
    "    y=adelie_df[\"Flipper Length (mm)\"],\n",
    "    box_visible=True,\n",
    "    meanline_visible=True,\n",
    "    points=\"all\",\n",
    "    line_color=\"darkorange\",\n",
    "    name=\"Adelie Penguin\",\n",
    ")\n",
    "\n",
    "trace2 = go.Violin(\n",
    "    x=gentoo_df[\"Species\"],\n",
    "    y=gentoo_df[\"Flipper Length (mm)\"],\n",
    "    box_visible=True,\n",
    "    meanline_visible=True,\n",
    "    line_color=\"teal\",\n",
    "    points=\"all\",\n",
    "    name=\"Gentoo penguin\",\n",
    ")\n",
    "\n",
    "trace3 = go.Violin(\n",
    "    x=chinstrap_df[\"Species\"],\n",
    "    y=chinstrap_df[\"Flipper Length (mm)\"],\n",
    "    points=\"all\",\n",
    "    box_visible=True,\n",
    "    meanline_visible=True,\n",
    "    line_color=\"mediumorchid\",\n",
    "    name=\"Chinstrap penguin\",\n",
    ")\n",
    "\n",
    "data = [trace1, trace2, trace3]\n",
    "\n",
    "\n",
    "layout = dict(\n",
    "    title=\"<b>Flipper Length (mm) Distribution for the 3 Species</b>\",\n",
    "    showlegend=True,\n",
    "    width=990,\n",
    "    xaxis=dict(title=\"Penguin Species\"),\n",
    "    yaxis=dict(title=\"Flipper Length (mm)\"),\n",
    "    plot_bgcolor=\"rgba(0,0,0,0)\",\n",
    "    paper_bgcolor=\"rgba(0,0,0,0)\",\n",
    ")\n",
    "\n",
    "fig = dict(data=data, layout=layout)\n",
    "\n",
    "iplot(fig)"
   ]
  },
  {
   "cell_type": "code",
   "execution_count": 28,
   "metadata": {},
   "outputs": [
    {
     "data": {
      "text/html": [
       "<div>\n",
       "<style scoped>\n",
       "    .dataframe tbody tr th:only-of-type {\n",
       "        vertical-align: middle;\n",
       "    }\n",
       "\n",
       "    .dataframe tbody tr th {\n",
       "        vertical-align: top;\n",
       "    }\n",
       "\n",
       "    .dataframe thead th {\n",
       "        text-align: right;\n",
       "    }\n",
       "</style>\n",
       "<table border=\"1\" class=\"dataframe\">\n",
       "  <thead>\n",
       "    <tr style=\"text-align: right;\">\n",
       "      <th></th>\n",
       "      <th>studyName</th>\n",
       "      <th>Sample Number</th>\n",
       "      <th>Species</th>\n",
       "      <th>Region</th>\n",
       "      <th>Island</th>\n",
       "      <th>Stage</th>\n",
       "      <th>Individual ID</th>\n",
       "      <th>Clutch Completion</th>\n",
       "      <th>Date Egg</th>\n",
       "      <th>Culmen Length (mm)</th>\n",
       "      <th>Culmen Depth (mm)</th>\n",
       "      <th>Flipper Length (mm)</th>\n",
       "      <th>Body Mass (g)</th>\n",
       "      <th>Sex</th>\n",
       "      <th>Delta 15 N (o/oo)</th>\n",
       "      <th>Delta 13 C (o/oo)</th>\n",
       "      <th>Comments</th>\n",
       "      <th>Color</th>\n",
       "    </tr>\n",
       "  </thead>\n",
       "  <tbody>\n",
       "    <tr>\n",
       "      <th>0</th>\n",
       "      <td>PAL0708</td>\n",
       "      <td>1</td>\n",
       "      <td>Adelie Penguin (Pygoscelis adeliae)</td>\n",
       "      <td>Anvers</td>\n",
       "      <td>Torgersen</td>\n",
       "      <td>Adult, 1 Egg Stage</td>\n",
       "      <td>N1A1</td>\n",
       "      <td>Yes</td>\n",
       "      <td>11/11/07</td>\n",
       "      <td>39.1</td>\n",
       "      <td>18.7</td>\n",
       "      <td>181.0</td>\n",
       "      <td>3750.0</td>\n",
       "      <td>MALE</td>\n",
       "      <td>7.63220</td>\n",
       "      <td>-27.01854</td>\n",
       "      <td>Not enough blood for isotopes.</td>\n",
       "      <td>darkorange</td>\n",
       "    </tr>\n",
       "    <tr>\n",
       "      <th>1</th>\n",
       "      <td>PAL0708</td>\n",
       "      <td>2</td>\n",
       "      <td>Adelie Penguin (Pygoscelis adeliae)</td>\n",
       "      <td>Anvers</td>\n",
       "      <td>Torgersen</td>\n",
       "      <td>Adult, 1 Egg Stage</td>\n",
       "      <td>N1A2</td>\n",
       "      <td>Yes</td>\n",
       "      <td>11/11/07</td>\n",
       "      <td>39.5</td>\n",
       "      <td>17.4</td>\n",
       "      <td>186.0</td>\n",
       "      <td>3800.0</td>\n",
       "      <td>FEMALE</td>\n",
       "      <td>8.94956</td>\n",
       "      <td>-24.69454</td>\n",
       "      <td>Nest never observed with full clutch.</td>\n",
       "      <td>darkorange</td>\n",
       "    </tr>\n",
       "  </tbody>\n",
       "</table>\n",
       "</div>"
      ],
      "text/plain": [
       "  studyName  Sample Number                              Species  Region  \\\n",
       "0   PAL0708              1  Adelie Penguin (Pygoscelis adeliae)  Anvers   \n",
       "1   PAL0708              2  Adelie Penguin (Pygoscelis adeliae)  Anvers   \n",
       "\n",
       "      Island               Stage Individual ID Clutch Completion  Date Egg  \\\n",
       "0  Torgersen  Adult, 1 Egg Stage          N1A1               Yes  11/11/07   \n",
       "1  Torgersen  Adult, 1 Egg Stage          N1A2               Yes  11/11/07   \n",
       "\n",
       "   Culmen Length (mm)  Culmen Depth (mm)  Flipper Length (mm)  Body Mass (g)  \\\n",
       "0                39.1               18.7                181.0         3750.0   \n",
       "1                39.5               17.4                186.0         3800.0   \n",
       "\n",
       "      Sex  Delta 15 N (o/oo)  Delta 13 C (o/oo)  \\\n",
       "0    MALE            7.63220          -27.01854   \n",
       "1  FEMALE            8.94956          -24.69454   \n",
       "\n",
       "                                Comments       Color  \n",
       "0         Not enough blood for isotopes.  darkorange  \n",
       "1  Nest never observed with full clutch.  darkorange  "
      ]
     },
     "execution_count": 28,
     "metadata": {},
     "output_type": "execute_result"
    },
    {
     "data": {
      "application/javascript": [
       "\n",
       "            setTimeout(function() {\n",
       "                var nbb_cell_id = 28;\n",
       "                var nbb_unformatted_code = \"adelie_df.head(2)\";\n",
       "                var nbb_formatted_code = \"adelie_df.head(2)\";\n",
       "                var nbb_cells = Jupyter.notebook.get_cells();\n",
       "                for (var i = 0; i < nbb_cells.length; ++i) {\n",
       "                    if (nbb_cells[i].input_prompt_number == nbb_cell_id) {\n",
       "                        if (nbb_cells[i].get_text() == nbb_unformatted_code) {\n",
       "                             nbb_cells[i].set_text(nbb_formatted_code);\n",
       "                        }\n",
       "                        break;\n",
       "                    }\n",
       "                }\n",
       "            }, 500);\n",
       "            "
      ],
      "text/plain": [
       "<IPython.core.display.Javascript object>"
      ]
     },
     "metadata": {},
     "output_type": "display_data"
    }
   ],
   "source": [
    "adelie_df.head(2)"
   ]
  },
  {
   "cell_type": "code",
   "execution_count": 29,
   "metadata": {},
   "outputs": [
    {
     "data": {
      "application/vnd.plotly.v1+json": {
       "config": {
        "linkText": "Export to plot.ly",
        "plotlyServerURL": "https://plot.ly",
        "showLink": false
       },
       "data": [
        {
         "box": {
          "visible": true
         },
         "line": {
          "color": "darkorange"
         },
         "meanline": {
          "visible": true
         },
         "name": "Adelie Penguin",
         "points": "all",
         "type": "violin",
         "x": [
          "Adelie Penguin (Pygoscelis adeliae)",
          "Adelie Penguin (Pygoscelis adeliae)",
          "Adelie Penguin (Pygoscelis adeliae)",
          "Adelie Penguin (Pygoscelis adeliae)",
          "Adelie Penguin (Pygoscelis adeliae)",
          "Adelie Penguin (Pygoscelis adeliae)",
          "Adelie Penguin (Pygoscelis adeliae)",
          "Adelie Penguin (Pygoscelis adeliae)",
          "Adelie Penguin (Pygoscelis adeliae)",
          "Adelie Penguin (Pygoscelis adeliae)",
          "Adelie Penguin (Pygoscelis adeliae)",
          "Adelie Penguin (Pygoscelis adeliae)",
          "Adelie Penguin (Pygoscelis adeliae)",
          "Adelie Penguin (Pygoscelis adeliae)",
          "Adelie Penguin (Pygoscelis adeliae)",
          "Adelie Penguin (Pygoscelis adeliae)",
          "Adelie Penguin (Pygoscelis adeliae)",
          "Adelie Penguin (Pygoscelis adeliae)",
          "Adelie Penguin (Pygoscelis adeliae)",
          "Adelie Penguin (Pygoscelis adeliae)",
          "Adelie Penguin (Pygoscelis adeliae)",
          "Adelie Penguin (Pygoscelis adeliae)",
          "Adelie Penguin (Pygoscelis adeliae)",
          "Adelie Penguin (Pygoscelis adeliae)",
          "Adelie Penguin (Pygoscelis adeliae)",
          "Adelie Penguin (Pygoscelis adeliae)",
          "Adelie Penguin (Pygoscelis adeliae)",
          "Adelie Penguin (Pygoscelis adeliae)",
          "Adelie Penguin (Pygoscelis adeliae)",
          "Adelie Penguin (Pygoscelis adeliae)",
          "Adelie Penguin (Pygoscelis adeliae)",
          "Adelie Penguin (Pygoscelis adeliae)",
          "Adelie Penguin (Pygoscelis adeliae)",
          "Adelie Penguin (Pygoscelis adeliae)",
          "Adelie Penguin (Pygoscelis adeliae)",
          "Adelie Penguin (Pygoscelis adeliae)",
          "Adelie Penguin (Pygoscelis adeliae)",
          "Adelie Penguin (Pygoscelis adeliae)",
          "Adelie Penguin (Pygoscelis adeliae)",
          "Adelie Penguin (Pygoscelis adeliae)",
          "Adelie Penguin (Pygoscelis adeliae)",
          "Adelie Penguin (Pygoscelis adeliae)",
          "Adelie Penguin (Pygoscelis adeliae)",
          "Adelie Penguin (Pygoscelis adeliae)",
          "Adelie Penguin (Pygoscelis adeliae)",
          "Adelie Penguin (Pygoscelis adeliae)",
          "Adelie Penguin (Pygoscelis adeliae)",
          "Adelie Penguin (Pygoscelis adeliae)",
          "Adelie Penguin (Pygoscelis adeliae)",
          "Adelie Penguin (Pygoscelis adeliae)",
          "Adelie Penguin (Pygoscelis adeliae)",
          "Adelie Penguin (Pygoscelis adeliae)",
          "Adelie Penguin (Pygoscelis adeliae)",
          "Adelie Penguin (Pygoscelis adeliae)",
          "Adelie Penguin (Pygoscelis adeliae)",
          "Adelie Penguin (Pygoscelis adeliae)",
          "Adelie Penguin (Pygoscelis adeliae)",
          "Adelie Penguin (Pygoscelis adeliae)",
          "Adelie Penguin (Pygoscelis adeliae)",
          "Adelie Penguin (Pygoscelis adeliae)",
          "Adelie Penguin (Pygoscelis adeliae)",
          "Adelie Penguin (Pygoscelis adeliae)",
          "Adelie Penguin (Pygoscelis adeliae)",
          "Adelie Penguin (Pygoscelis adeliae)",
          "Adelie Penguin (Pygoscelis adeliae)",
          "Adelie Penguin (Pygoscelis adeliae)",
          "Adelie Penguin (Pygoscelis adeliae)",
          "Adelie Penguin (Pygoscelis adeliae)",
          "Adelie Penguin (Pygoscelis adeliae)",
          "Adelie Penguin (Pygoscelis adeliae)",
          "Adelie Penguin (Pygoscelis adeliae)",
          "Adelie Penguin (Pygoscelis adeliae)",
          "Adelie Penguin (Pygoscelis adeliae)",
          "Adelie Penguin (Pygoscelis adeliae)",
          "Adelie Penguin (Pygoscelis adeliae)",
          "Adelie Penguin (Pygoscelis adeliae)",
          "Adelie Penguin (Pygoscelis adeliae)",
          "Adelie Penguin (Pygoscelis adeliae)",
          "Adelie Penguin (Pygoscelis adeliae)",
          "Adelie Penguin (Pygoscelis adeliae)",
          "Adelie Penguin (Pygoscelis adeliae)",
          "Adelie Penguin (Pygoscelis adeliae)",
          "Adelie Penguin (Pygoscelis adeliae)",
          "Adelie Penguin (Pygoscelis adeliae)",
          "Adelie Penguin (Pygoscelis adeliae)",
          "Adelie Penguin (Pygoscelis adeliae)",
          "Adelie Penguin (Pygoscelis adeliae)",
          "Adelie Penguin (Pygoscelis adeliae)",
          "Adelie Penguin (Pygoscelis adeliae)",
          "Adelie Penguin (Pygoscelis adeliae)",
          "Adelie Penguin (Pygoscelis adeliae)",
          "Adelie Penguin (Pygoscelis adeliae)",
          "Adelie Penguin (Pygoscelis adeliae)",
          "Adelie Penguin (Pygoscelis adeliae)",
          "Adelie Penguin (Pygoscelis adeliae)",
          "Adelie Penguin (Pygoscelis adeliae)",
          "Adelie Penguin (Pygoscelis adeliae)",
          "Adelie Penguin (Pygoscelis adeliae)",
          "Adelie Penguin (Pygoscelis adeliae)",
          "Adelie Penguin (Pygoscelis adeliae)",
          "Adelie Penguin (Pygoscelis adeliae)",
          "Adelie Penguin (Pygoscelis adeliae)",
          "Adelie Penguin (Pygoscelis adeliae)",
          "Adelie Penguin (Pygoscelis adeliae)",
          "Adelie Penguin (Pygoscelis adeliae)",
          "Adelie Penguin (Pygoscelis adeliae)",
          "Adelie Penguin (Pygoscelis adeliae)",
          "Adelie Penguin (Pygoscelis adeliae)",
          "Adelie Penguin (Pygoscelis adeliae)",
          "Adelie Penguin (Pygoscelis adeliae)",
          "Adelie Penguin (Pygoscelis adeliae)",
          "Adelie Penguin (Pygoscelis adeliae)",
          "Adelie Penguin (Pygoscelis adeliae)",
          "Adelie Penguin (Pygoscelis adeliae)",
          "Adelie Penguin (Pygoscelis adeliae)",
          "Adelie Penguin (Pygoscelis adeliae)",
          "Adelie Penguin (Pygoscelis adeliae)",
          "Adelie Penguin (Pygoscelis adeliae)",
          "Adelie Penguin (Pygoscelis adeliae)",
          "Adelie Penguin (Pygoscelis adeliae)",
          "Adelie Penguin (Pygoscelis adeliae)",
          "Adelie Penguin (Pygoscelis adeliae)",
          "Adelie Penguin (Pygoscelis adeliae)",
          "Adelie Penguin (Pygoscelis adeliae)",
          "Adelie Penguin (Pygoscelis adeliae)",
          "Adelie Penguin (Pygoscelis adeliae)",
          "Adelie Penguin (Pygoscelis adeliae)",
          "Adelie Penguin (Pygoscelis adeliae)",
          "Adelie Penguin (Pygoscelis adeliae)",
          "Adelie Penguin (Pygoscelis adeliae)",
          "Adelie Penguin (Pygoscelis adeliae)",
          "Adelie Penguin (Pygoscelis adeliae)",
          "Adelie Penguin (Pygoscelis adeliae)",
          "Adelie Penguin (Pygoscelis adeliae)",
          "Adelie Penguin (Pygoscelis adeliae)",
          "Adelie Penguin (Pygoscelis adeliae)",
          "Adelie Penguin (Pygoscelis adeliae)",
          "Adelie Penguin (Pygoscelis adeliae)",
          "Adelie Penguin (Pygoscelis adeliae)",
          "Adelie Penguin (Pygoscelis adeliae)",
          "Adelie Penguin (Pygoscelis adeliae)",
          "Adelie Penguin (Pygoscelis adeliae)",
          "Adelie Penguin (Pygoscelis adeliae)",
          "Adelie Penguin (Pygoscelis adeliae)",
          "Adelie Penguin (Pygoscelis adeliae)",
          "Adelie Penguin (Pygoscelis adeliae)",
          "Adelie Penguin (Pygoscelis adeliae)",
          "Adelie Penguin (Pygoscelis adeliae)",
          "Adelie Penguin (Pygoscelis adeliae)",
          "Adelie Penguin (Pygoscelis adeliae)",
          "Adelie Penguin (Pygoscelis adeliae)",
          "Adelie Penguin (Pygoscelis adeliae)"
         ],
         "y": [
          39.1,
          39.5,
          40.3,
          41.1,
          36.7,
          39.3,
          38.9,
          39.2,
          34.1,
          42,
          37.8,
          37.8,
          41.1,
          38.6,
          34.6,
          36.6,
          38.7,
          42.5,
          34.4,
          46,
          37.8,
          37.7,
          35.9,
          38.2,
          38.8,
          35.3,
          40.6,
          40.5,
          37.9,
          40.5,
          39.5,
          37.2,
          39.5,
          40.9,
          36.4,
          39.2,
          38.8,
          42.2,
          37.6,
          39.8,
          36.5,
          40.8,
          36,
          44.1,
          37,
          39.6,
          41.1,
          37.5,
          36,
          42.3,
          39.6,
          40.1,
          35,
          42,
          34.5,
          41.4,
          39,
          40.6,
          36.5,
          37.6,
          35.7,
          41.3,
          37.6,
          41.1,
          36.4,
          41.6,
          35.5,
          41.1,
          35.9,
          41.8,
          33.5,
          39.7,
          39.6,
          45.8,
          35.5,
          42.8,
          40.9,
          37.2,
          36.2,
          42.1,
          34.6,
          42.9,
          36.7,
          35.1,
          37.3,
          41.3,
          36.3,
          36.9,
          38.3,
          38.9,
          35.7,
          41.1,
          34,
          39.6,
          36.2,
          40.8,
          38.1,
          40.3,
          33.1,
          43.2,
          35,
          41,
          37.7,
          37.8,
          37.9,
          39.7,
          38.6,
          38.2,
          38.1,
          43.2,
          38.1,
          45.6,
          39.7,
          42.2,
          39.6,
          42.7,
          38.6,
          37.3,
          35.7,
          41.1,
          36.2,
          37.7,
          40.2,
          41.4,
          35.2,
          40.6,
          38.8,
          41.5,
          39,
          44.1,
          38.5,
          43.1,
          36.8,
          37.5,
          38.1,
          41.1,
          35.6,
          40.2,
          37,
          39.7,
          40.2,
          40.6,
          32.1,
          40.7,
          37.3,
          39,
          39.2,
          36.6,
          36,
          37.8,
          36,
          41.5
         ]
        },
        {
         "box": {
          "visible": true
         },
         "line": {
          "color": "teal"
         },
         "meanline": {
          "visible": true
         },
         "name": "Gentoo penguin",
         "points": "all",
         "type": "violin",
         "x": [
          "Gentoo penguin (Pygoscelis papua)",
          "Gentoo penguin (Pygoscelis papua)",
          "Gentoo penguin (Pygoscelis papua)",
          "Gentoo penguin (Pygoscelis papua)",
          "Gentoo penguin (Pygoscelis papua)",
          "Gentoo penguin (Pygoscelis papua)",
          "Gentoo penguin (Pygoscelis papua)",
          "Gentoo penguin (Pygoscelis papua)",
          "Gentoo penguin (Pygoscelis papua)",
          "Gentoo penguin (Pygoscelis papua)",
          "Gentoo penguin (Pygoscelis papua)",
          "Gentoo penguin (Pygoscelis papua)",
          "Gentoo penguin (Pygoscelis papua)",
          "Gentoo penguin (Pygoscelis papua)",
          "Gentoo penguin (Pygoscelis papua)",
          "Gentoo penguin (Pygoscelis papua)",
          "Gentoo penguin (Pygoscelis papua)",
          "Gentoo penguin (Pygoscelis papua)",
          "Gentoo penguin (Pygoscelis papua)",
          "Gentoo penguin (Pygoscelis papua)",
          "Gentoo penguin (Pygoscelis papua)",
          "Gentoo penguin (Pygoscelis papua)",
          "Gentoo penguin (Pygoscelis papua)",
          "Gentoo penguin (Pygoscelis papua)",
          "Gentoo penguin (Pygoscelis papua)",
          "Gentoo penguin (Pygoscelis papua)",
          "Gentoo penguin (Pygoscelis papua)",
          "Gentoo penguin (Pygoscelis papua)",
          "Gentoo penguin (Pygoscelis papua)",
          "Gentoo penguin (Pygoscelis papua)",
          "Gentoo penguin (Pygoscelis papua)",
          "Gentoo penguin (Pygoscelis papua)",
          "Gentoo penguin (Pygoscelis papua)",
          "Gentoo penguin (Pygoscelis papua)",
          "Gentoo penguin (Pygoscelis papua)",
          "Gentoo penguin (Pygoscelis papua)",
          "Gentoo penguin (Pygoscelis papua)",
          "Gentoo penguin (Pygoscelis papua)",
          "Gentoo penguin (Pygoscelis papua)",
          "Gentoo penguin (Pygoscelis papua)",
          "Gentoo penguin (Pygoscelis papua)",
          "Gentoo penguin (Pygoscelis papua)",
          "Gentoo penguin (Pygoscelis papua)",
          "Gentoo penguin (Pygoscelis papua)",
          "Gentoo penguin (Pygoscelis papua)",
          "Gentoo penguin (Pygoscelis papua)",
          "Gentoo penguin (Pygoscelis papua)",
          "Gentoo penguin (Pygoscelis papua)",
          "Gentoo penguin (Pygoscelis papua)",
          "Gentoo penguin (Pygoscelis papua)",
          "Gentoo penguin (Pygoscelis papua)",
          "Gentoo penguin (Pygoscelis papua)",
          "Gentoo penguin (Pygoscelis papua)",
          "Gentoo penguin (Pygoscelis papua)",
          "Gentoo penguin (Pygoscelis papua)",
          "Gentoo penguin (Pygoscelis papua)",
          "Gentoo penguin (Pygoscelis papua)",
          "Gentoo penguin (Pygoscelis papua)",
          "Gentoo penguin (Pygoscelis papua)",
          "Gentoo penguin (Pygoscelis papua)",
          "Gentoo penguin (Pygoscelis papua)",
          "Gentoo penguin (Pygoscelis papua)",
          "Gentoo penguin (Pygoscelis papua)",
          "Gentoo penguin (Pygoscelis papua)",
          "Gentoo penguin (Pygoscelis papua)",
          "Gentoo penguin (Pygoscelis papua)",
          "Gentoo penguin (Pygoscelis papua)",
          "Gentoo penguin (Pygoscelis papua)",
          "Gentoo penguin (Pygoscelis papua)",
          "Gentoo penguin (Pygoscelis papua)",
          "Gentoo penguin (Pygoscelis papua)",
          "Gentoo penguin (Pygoscelis papua)",
          "Gentoo penguin (Pygoscelis papua)",
          "Gentoo penguin (Pygoscelis papua)",
          "Gentoo penguin (Pygoscelis papua)",
          "Gentoo penguin (Pygoscelis papua)",
          "Gentoo penguin (Pygoscelis papua)",
          "Gentoo penguin (Pygoscelis papua)",
          "Gentoo penguin (Pygoscelis papua)",
          "Gentoo penguin (Pygoscelis papua)",
          "Gentoo penguin (Pygoscelis papua)",
          "Gentoo penguin (Pygoscelis papua)",
          "Gentoo penguin (Pygoscelis papua)",
          "Gentoo penguin (Pygoscelis papua)",
          "Gentoo penguin (Pygoscelis papua)",
          "Gentoo penguin (Pygoscelis papua)",
          "Gentoo penguin (Pygoscelis papua)",
          "Gentoo penguin (Pygoscelis papua)",
          "Gentoo penguin (Pygoscelis papua)",
          "Gentoo penguin (Pygoscelis papua)",
          "Gentoo penguin (Pygoscelis papua)",
          "Gentoo penguin (Pygoscelis papua)",
          "Gentoo penguin (Pygoscelis papua)",
          "Gentoo penguin (Pygoscelis papua)",
          "Gentoo penguin (Pygoscelis papua)",
          "Gentoo penguin (Pygoscelis papua)",
          "Gentoo penguin (Pygoscelis papua)",
          "Gentoo penguin (Pygoscelis papua)",
          "Gentoo penguin (Pygoscelis papua)",
          "Gentoo penguin (Pygoscelis papua)",
          "Gentoo penguin (Pygoscelis papua)",
          "Gentoo penguin (Pygoscelis papua)",
          "Gentoo penguin (Pygoscelis papua)",
          "Gentoo penguin (Pygoscelis papua)",
          "Gentoo penguin (Pygoscelis papua)",
          "Gentoo penguin (Pygoscelis papua)",
          "Gentoo penguin (Pygoscelis papua)",
          "Gentoo penguin (Pygoscelis papua)",
          "Gentoo penguin (Pygoscelis papua)",
          "Gentoo penguin (Pygoscelis papua)",
          "Gentoo penguin (Pygoscelis papua)",
          "Gentoo penguin (Pygoscelis papua)",
          "Gentoo penguin (Pygoscelis papua)",
          "Gentoo penguin (Pygoscelis papua)",
          "Gentoo penguin (Pygoscelis papua)",
          "Gentoo penguin (Pygoscelis papua)",
          "Gentoo penguin (Pygoscelis papua)",
          "Gentoo penguin (Pygoscelis papua)",
          "Gentoo penguin (Pygoscelis papua)",
          "Gentoo penguin (Pygoscelis papua)",
          "Gentoo penguin (Pygoscelis papua)",
          "Gentoo penguin (Pygoscelis papua)",
          "Gentoo penguin (Pygoscelis papua)",
          "Gentoo penguin (Pygoscelis papua)"
         ],
         "y": [
          46.1,
          50,
          48.7,
          50,
          47.6,
          46.5,
          45.4,
          46.7,
          43.3,
          46.8,
          40.9,
          49,
          45.5,
          48.4,
          45.8,
          49.3,
          42,
          49.2,
          46.2,
          48.7,
          50.2,
          45.1,
          46.5,
          46.3,
          42.9,
          46.1,
          44.5,
          47.8,
          48.2,
          50,
          47.3,
          42.8,
          45.1,
          59.6,
          49.1,
          48.4,
          42.6,
          44.4,
          44,
          48.7,
          42.7,
          49.6,
          45.3,
          49.6,
          50.5,
          43.6,
          45.5,
          50.5,
          44.9,
          45.2,
          46.6,
          48.5,
          45.1,
          50.1,
          46.5,
          45,
          43.8,
          45.5,
          43.2,
          50.4,
          45.3,
          46.2,
          45.7,
          54.3,
          45.8,
          49.8,
          46.2,
          49.5,
          43.5,
          50.7,
          47.7,
          46.4,
          48.2,
          46.5,
          46.4,
          48.6,
          47.5,
          51.1,
          45.2,
          45.2,
          49.1,
          52.5,
          47.4,
          50,
          44.9,
          50.8,
          43.4,
          51.3,
          47.5,
          52.1,
          47.5,
          52.2,
          45.5,
          49.5,
          44.5,
          50.8,
          49.4,
          46.9,
          48.4,
          51.1,
          48.5,
          55.9,
          47.2,
          49.1,
          47.3,
          46.8,
          41.7,
          53.4,
          43.3,
          48.1,
          50.5,
          49.8,
          43.5,
          51.5,
          46.2,
          55.1,
          44.5,
          48.8,
          47.2,
          41.1,
          46.8,
          50.4,
          45.2,
          49.9
         ]
        },
        {
         "box": {
          "visible": true
         },
         "line": {
          "color": "mediumorchid"
         },
         "meanline": {
          "visible": true
         },
         "name": "Chinstrap penguin",
         "points": "all",
         "type": "violin",
         "x": [
          "Chinstrap penguin (Pygoscelis antarctica)",
          "Chinstrap penguin (Pygoscelis antarctica)",
          "Chinstrap penguin (Pygoscelis antarctica)",
          "Chinstrap penguin (Pygoscelis antarctica)",
          "Chinstrap penguin (Pygoscelis antarctica)",
          "Chinstrap penguin (Pygoscelis antarctica)",
          "Chinstrap penguin (Pygoscelis antarctica)",
          "Chinstrap penguin (Pygoscelis antarctica)",
          "Chinstrap penguin (Pygoscelis antarctica)",
          "Chinstrap penguin (Pygoscelis antarctica)",
          "Chinstrap penguin (Pygoscelis antarctica)",
          "Chinstrap penguin (Pygoscelis antarctica)",
          "Chinstrap penguin (Pygoscelis antarctica)",
          "Chinstrap penguin (Pygoscelis antarctica)",
          "Chinstrap penguin (Pygoscelis antarctica)",
          "Chinstrap penguin (Pygoscelis antarctica)",
          "Chinstrap penguin (Pygoscelis antarctica)",
          "Chinstrap penguin (Pygoscelis antarctica)",
          "Chinstrap penguin (Pygoscelis antarctica)",
          "Chinstrap penguin (Pygoscelis antarctica)",
          "Chinstrap penguin (Pygoscelis antarctica)",
          "Chinstrap penguin (Pygoscelis antarctica)",
          "Chinstrap penguin (Pygoscelis antarctica)",
          "Chinstrap penguin (Pygoscelis antarctica)",
          "Chinstrap penguin (Pygoscelis antarctica)",
          "Chinstrap penguin (Pygoscelis antarctica)",
          "Chinstrap penguin (Pygoscelis antarctica)",
          "Chinstrap penguin (Pygoscelis antarctica)",
          "Chinstrap penguin (Pygoscelis antarctica)",
          "Chinstrap penguin (Pygoscelis antarctica)",
          "Chinstrap penguin (Pygoscelis antarctica)",
          "Chinstrap penguin (Pygoscelis antarctica)",
          "Chinstrap penguin (Pygoscelis antarctica)",
          "Chinstrap penguin (Pygoscelis antarctica)",
          "Chinstrap penguin (Pygoscelis antarctica)",
          "Chinstrap penguin (Pygoscelis antarctica)",
          "Chinstrap penguin (Pygoscelis antarctica)",
          "Chinstrap penguin (Pygoscelis antarctica)",
          "Chinstrap penguin (Pygoscelis antarctica)",
          "Chinstrap penguin (Pygoscelis antarctica)",
          "Chinstrap penguin (Pygoscelis antarctica)",
          "Chinstrap penguin (Pygoscelis antarctica)",
          "Chinstrap penguin (Pygoscelis antarctica)",
          "Chinstrap penguin (Pygoscelis antarctica)",
          "Chinstrap penguin (Pygoscelis antarctica)",
          "Chinstrap penguin (Pygoscelis antarctica)",
          "Chinstrap penguin (Pygoscelis antarctica)",
          "Chinstrap penguin (Pygoscelis antarctica)",
          "Chinstrap penguin (Pygoscelis antarctica)",
          "Chinstrap penguin (Pygoscelis antarctica)",
          "Chinstrap penguin (Pygoscelis antarctica)",
          "Chinstrap penguin (Pygoscelis antarctica)",
          "Chinstrap penguin (Pygoscelis antarctica)",
          "Chinstrap penguin (Pygoscelis antarctica)",
          "Chinstrap penguin (Pygoscelis antarctica)",
          "Chinstrap penguin (Pygoscelis antarctica)",
          "Chinstrap penguin (Pygoscelis antarctica)",
          "Chinstrap penguin (Pygoscelis antarctica)",
          "Chinstrap penguin (Pygoscelis antarctica)",
          "Chinstrap penguin (Pygoscelis antarctica)",
          "Chinstrap penguin (Pygoscelis antarctica)",
          "Chinstrap penguin (Pygoscelis antarctica)",
          "Chinstrap penguin (Pygoscelis antarctica)",
          "Chinstrap penguin (Pygoscelis antarctica)",
          "Chinstrap penguin (Pygoscelis antarctica)",
          "Chinstrap penguin (Pygoscelis antarctica)",
          "Chinstrap penguin (Pygoscelis antarctica)",
          "Chinstrap penguin (Pygoscelis antarctica)"
         ],
         "y": [
          46.5,
          50,
          51.3,
          45.4,
          52.7,
          45.2,
          46.1,
          51.3,
          46,
          51.3,
          46.6,
          51.7,
          47,
          52,
          45.9,
          50.5,
          50.3,
          58,
          46.4,
          49.2,
          42.4,
          48.5,
          43.2,
          50.6,
          46.7,
          52,
          50.5,
          49.5,
          46.4,
          52.8,
          40.9,
          54.2,
          42.5,
          51,
          49.7,
          47.5,
          47.6,
          52,
          46.9,
          53.5,
          49,
          46.2,
          50.9,
          45.5,
          50.9,
          50.8,
          50.1,
          49,
          51.5,
          49.8,
          48.1,
          51.4,
          45.7,
          50.7,
          42.5,
          52.2,
          45.2,
          49.3,
          50.2,
          45.6,
          51.9,
          46.8,
          45.7,
          55.8,
          43.5,
          49.6,
          50.8,
          50.2
         ]
        }
       ],
       "layout": {
        "paper_bgcolor": "rgba(0,0,0,0)",
        "plot_bgcolor": "rgba(0,0,0,0)",
        "showlegend": true,
        "template": {
         "data": {
          "bar": [
           {
            "error_x": {
             "color": "#2a3f5f"
            },
            "error_y": {
             "color": "#2a3f5f"
            },
            "marker": {
             "line": {
              "color": "#E5ECF6",
              "width": 0.5
             }
            },
            "type": "bar"
           }
          ],
          "barpolar": [
           {
            "marker": {
             "line": {
              "color": "#E5ECF6",
              "width": 0.5
             }
            },
            "type": "barpolar"
           }
          ],
          "carpet": [
           {
            "aaxis": {
             "endlinecolor": "#2a3f5f",
             "gridcolor": "white",
             "linecolor": "white",
             "minorgridcolor": "white",
             "startlinecolor": "#2a3f5f"
            },
            "baxis": {
             "endlinecolor": "#2a3f5f",
             "gridcolor": "white",
             "linecolor": "white",
             "minorgridcolor": "white",
             "startlinecolor": "#2a3f5f"
            },
            "type": "carpet"
           }
          ],
          "choropleth": [
           {
            "colorbar": {
             "outlinewidth": 0,
             "ticks": ""
            },
            "type": "choropleth"
           }
          ],
          "contour": [
           {
            "colorbar": {
             "outlinewidth": 0,
             "ticks": ""
            },
            "colorscale": [
             [
              0,
              "#0d0887"
             ],
             [
              0.1111111111111111,
              "#46039f"
             ],
             [
              0.2222222222222222,
              "#7201a8"
             ],
             [
              0.3333333333333333,
              "#9c179e"
             ],
             [
              0.4444444444444444,
              "#bd3786"
             ],
             [
              0.5555555555555556,
              "#d8576b"
             ],
             [
              0.6666666666666666,
              "#ed7953"
             ],
             [
              0.7777777777777778,
              "#fb9f3a"
             ],
             [
              0.8888888888888888,
              "#fdca26"
             ],
             [
              1,
              "#f0f921"
             ]
            ],
            "type": "contour"
           }
          ],
          "contourcarpet": [
           {
            "colorbar": {
             "outlinewidth": 0,
             "ticks": ""
            },
            "type": "contourcarpet"
           }
          ],
          "heatmap": [
           {
            "colorbar": {
             "outlinewidth": 0,
             "ticks": ""
            },
            "colorscale": [
             [
              0,
              "#0d0887"
             ],
             [
              0.1111111111111111,
              "#46039f"
             ],
             [
              0.2222222222222222,
              "#7201a8"
             ],
             [
              0.3333333333333333,
              "#9c179e"
             ],
             [
              0.4444444444444444,
              "#bd3786"
             ],
             [
              0.5555555555555556,
              "#d8576b"
             ],
             [
              0.6666666666666666,
              "#ed7953"
             ],
             [
              0.7777777777777778,
              "#fb9f3a"
             ],
             [
              0.8888888888888888,
              "#fdca26"
             ],
             [
              1,
              "#f0f921"
             ]
            ],
            "type": "heatmap"
           }
          ],
          "heatmapgl": [
           {
            "colorbar": {
             "outlinewidth": 0,
             "ticks": ""
            },
            "colorscale": [
             [
              0,
              "#0d0887"
             ],
             [
              0.1111111111111111,
              "#46039f"
             ],
             [
              0.2222222222222222,
              "#7201a8"
             ],
             [
              0.3333333333333333,
              "#9c179e"
             ],
             [
              0.4444444444444444,
              "#bd3786"
             ],
             [
              0.5555555555555556,
              "#d8576b"
             ],
             [
              0.6666666666666666,
              "#ed7953"
             ],
             [
              0.7777777777777778,
              "#fb9f3a"
             ],
             [
              0.8888888888888888,
              "#fdca26"
             ],
             [
              1,
              "#f0f921"
             ]
            ],
            "type": "heatmapgl"
           }
          ],
          "histogram": [
           {
            "marker": {
             "colorbar": {
              "outlinewidth": 0,
              "ticks": ""
             }
            },
            "type": "histogram"
           }
          ],
          "histogram2d": [
           {
            "colorbar": {
             "outlinewidth": 0,
             "ticks": ""
            },
            "colorscale": [
             [
              0,
              "#0d0887"
             ],
             [
              0.1111111111111111,
              "#46039f"
             ],
             [
              0.2222222222222222,
              "#7201a8"
             ],
             [
              0.3333333333333333,
              "#9c179e"
             ],
             [
              0.4444444444444444,
              "#bd3786"
             ],
             [
              0.5555555555555556,
              "#d8576b"
             ],
             [
              0.6666666666666666,
              "#ed7953"
             ],
             [
              0.7777777777777778,
              "#fb9f3a"
             ],
             [
              0.8888888888888888,
              "#fdca26"
             ],
             [
              1,
              "#f0f921"
             ]
            ],
            "type": "histogram2d"
           }
          ],
          "histogram2dcontour": [
           {
            "colorbar": {
             "outlinewidth": 0,
             "ticks": ""
            },
            "colorscale": [
             [
              0,
              "#0d0887"
             ],
             [
              0.1111111111111111,
              "#46039f"
             ],
             [
              0.2222222222222222,
              "#7201a8"
             ],
             [
              0.3333333333333333,
              "#9c179e"
             ],
             [
              0.4444444444444444,
              "#bd3786"
             ],
             [
              0.5555555555555556,
              "#d8576b"
             ],
             [
              0.6666666666666666,
              "#ed7953"
             ],
             [
              0.7777777777777778,
              "#fb9f3a"
             ],
             [
              0.8888888888888888,
              "#fdca26"
             ],
             [
              1,
              "#f0f921"
             ]
            ],
            "type": "histogram2dcontour"
           }
          ],
          "mesh3d": [
           {
            "colorbar": {
             "outlinewidth": 0,
             "ticks": ""
            },
            "type": "mesh3d"
           }
          ],
          "parcoords": [
           {
            "line": {
             "colorbar": {
              "outlinewidth": 0,
              "ticks": ""
             }
            },
            "type": "parcoords"
           }
          ],
          "pie": [
           {
            "automargin": true,
            "type": "pie"
           }
          ],
          "scatter": [
           {
            "marker": {
             "colorbar": {
              "outlinewidth": 0,
              "ticks": ""
             }
            },
            "type": "scatter"
           }
          ],
          "scatter3d": [
           {
            "line": {
             "colorbar": {
              "outlinewidth": 0,
              "ticks": ""
             }
            },
            "marker": {
             "colorbar": {
              "outlinewidth": 0,
              "ticks": ""
             }
            },
            "type": "scatter3d"
           }
          ],
          "scattercarpet": [
           {
            "marker": {
             "colorbar": {
              "outlinewidth": 0,
              "ticks": ""
             }
            },
            "type": "scattercarpet"
           }
          ],
          "scattergeo": [
           {
            "marker": {
             "colorbar": {
              "outlinewidth": 0,
              "ticks": ""
             }
            },
            "type": "scattergeo"
           }
          ],
          "scattergl": [
           {
            "marker": {
             "colorbar": {
              "outlinewidth": 0,
              "ticks": ""
             }
            },
            "type": "scattergl"
           }
          ],
          "scattermapbox": [
           {
            "marker": {
             "colorbar": {
              "outlinewidth": 0,
              "ticks": ""
             }
            },
            "type": "scattermapbox"
           }
          ],
          "scatterpolar": [
           {
            "marker": {
             "colorbar": {
              "outlinewidth": 0,
              "ticks": ""
             }
            },
            "type": "scatterpolar"
           }
          ],
          "scatterpolargl": [
           {
            "marker": {
             "colorbar": {
              "outlinewidth": 0,
              "ticks": ""
             }
            },
            "type": "scatterpolargl"
           }
          ],
          "scatterternary": [
           {
            "marker": {
             "colorbar": {
              "outlinewidth": 0,
              "ticks": ""
             }
            },
            "type": "scatterternary"
           }
          ],
          "surface": [
           {
            "colorbar": {
             "outlinewidth": 0,
             "ticks": ""
            },
            "colorscale": [
             [
              0,
              "#0d0887"
             ],
             [
              0.1111111111111111,
              "#46039f"
             ],
             [
              0.2222222222222222,
              "#7201a8"
             ],
             [
              0.3333333333333333,
              "#9c179e"
             ],
             [
              0.4444444444444444,
              "#bd3786"
             ],
             [
              0.5555555555555556,
              "#d8576b"
             ],
             [
              0.6666666666666666,
              "#ed7953"
             ],
             [
              0.7777777777777778,
              "#fb9f3a"
             ],
             [
              0.8888888888888888,
              "#fdca26"
             ],
             [
              1,
              "#f0f921"
             ]
            ],
            "type": "surface"
           }
          ],
          "table": [
           {
            "cells": {
             "fill": {
              "color": "#EBF0F8"
             },
             "line": {
              "color": "white"
             }
            },
            "header": {
             "fill": {
              "color": "#C8D4E3"
             },
             "line": {
              "color": "white"
             }
            },
            "type": "table"
           }
          ]
         },
         "layout": {
          "annotationdefaults": {
           "arrowcolor": "#2a3f5f",
           "arrowhead": 0,
           "arrowwidth": 1
          },
          "coloraxis": {
           "colorbar": {
            "outlinewidth": 0,
            "ticks": ""
           }
          },
          "colorscale": {
           "diverging": [
            [
             0,
             "#8e0152"
            ],
            [
             0.1,
             "#c51b7d"
            ],
            [
             0.2,
             "#de77ae"
            ],
            [
             0.3,
             "#f1b6da"
            ],
            [
             0.4,
             "#fde0ef"
            ],
            [
             0.5,
             "#f7f7f7"
            ],
            [
             0.6,
             "#e6f5d0"
            ],
            [
             0.7,
             "#b8e186"
            ],
            [
             0.8,
             "#7fbc41"
            ],
            [
             0.9,
             "#4d9221"
            ],
            [
             1,
             "#276419"
            ]
           ],
           "sequential": [
            [
             0,
             "#0d0887"
            ],
            [
             0.1111111111111111,
             "#46039f"
            ],
            [
             0.2222222222222222,
             "#7201a8"
            ],
            [
             0.3333333333333333,
             "#9c179e"
            ],
            [
             0.4444444444444444,
             "#bd3786"
            ],
            [
             0.5555555555555556,
             "#d8576b"
            ],
            [
             0.6666666666666666,
             "#ed7953"
            ],
            [
             0.7777777777777778,
             "#fb9f3a"
            ],
            [
             0.8888888888888888,
             "#fdca26"
            ],
            [
             1,
             "#f0f921"
            ]
           ],
           "sequentialminus": [
            [
             0,
             "#0d0887"
            ],
            [
             0.1111111111111111,
             "#46039f"
            ],
            [
             0.2222222222222222,
             "#7201a8"
            ],
            [
             0.3333333333333333,
             "#9c179e"
            ],
            [
             0.4444444444444444,
             "#bd3786"
            ],
            [
             0.5555555555555556,
             "#d8576b"
            ],
            [
             0.6666666666666666,
             "#ed7953"
            ],
            [
             0.7777777777777778,
             "#fb9f3a"
            ],
            [
             0.8888888888888888,
             "#fdca26"
            ],
            [
             1,
             "#f0f921"
            ]
           ]
          },
          "colorway": [
           "#636efa",
           "#EF553B",
           "#00cc96",
           "#ab63fa",
           "#FFA15A",
           "#19d3f3",
           "#FF6692",
           "#B6E880",
           "#FF97FF",
           "#FECB52"
          ],
          "font": {
           "color": "#2a3f5f"
          },
          "geo": {
           "bgcolor": "white",
           "lakecolor": "white",
           "landcolor": "#E5ECF6",
           "showlakes": true,
           "showland": true,
           "subunitcolor": "white"
          },
          "hoverlabel": {
           "align": "left"
          },
          "hovermode": "closest",
          "mapbox": {
           "style": "light"
          },
          "paper_bgcolor": "white",
          "plot_bgcolor": "#E5ECF6",
          "polar": {
           "angularaxis": {
            "gridcolor": "white",
            "linecolor": "white",
            "ticks": ""
           },
           "bgcolor": "#E5ECF6",
           "radialaxis": {
            "gridcolor": "white",
            "linecolor": "white",
            "ticks": ""
           }
          },
          "scene": {
           "xaxis": {
            "backgroundcolor": "#E5ECF6",
            "gridcolor": "white",
            "gridwidth": 2,
            "linecolor": "white",
            "showbackground": true,
            "ticks": "",
            "zerolinecolor": "white"
           },
           "yaxis": {
            "backgroundcolor": "#E5ECF6",
            "gridcolor": "white",
            "gridwidth": 2,
            "linecolor": "white",
            "showbackground": true,
            "ticks": "",
            "zerolinecolor": "white"
           },
           "zaxis": {
            "backgroundcolor": "#E5ECF6",
            "gridcolor": "white",
            "gridwidth": 2,
            "linecolor": "white",
            "showbackground": true,
            "ticks": "",
            "zerolinecolor": "white"
           }
          },
          "shapedefaults": {
           "line": {
            "color": "#2a3f5f"
           }
          },
          "ternary": {
           "aaxis": {
            "gridcolor": "white",
            "linecolor": "white",
            "ticks": ""
           },
           "baxis": {
            "gridcolor": "white",
            "linecolor": "white",
            "ticks": ""
           },
           "bgcolor": "#E5ECF6",
           "caxis": {
            "gridcolor": "white",
            "linecolor": "white",
            "ticks": ""
           }
          },
          "title": {
           "x": 0.05
          },
          "xaxis": {
           "automargin": true,
           "gridcolor": "white",
           "linecolor": "white",
           "ticks": "",
           "title": {
            "standoff": 15
           },
           "zerolinecolor": "white",
           "zerolinewidth": 2
          },
          "yaxis": {
           "automargin": true,
           "gridcolor": "white",
           "linecolor": "white",
           "ticks": "",
           "title": {
            "standoff": 15
           },
           "zerolinecolor": "white",
           "zerolinewidth": 2
          }
         }
        },
        "title": {
         "text": "<b>Culmen Length (mm) Distribution for the 3 Species</b>"
        },
        "width": 990,
        "xaxis": {
         "title": {
          "text": "Penguin Species"
         }
        },
        "yaxis": {
         "title": {
          "text": "Culmen Length (mm)"
         }
        }
       }
      },
      "text/html": [
       "<div>\n",
       "        \n",
       "        \n",
       "            <div id=\"482f6b37-042a-4adc-ba06-8bcb1756b77e\" class=\"plotly-graph-div\" style=\"height:525px; width:990px;\"></div>\n",
       "            <script type=\"text/javascript\">\n",
       "                require([\"plotly\"], function(Plotly) {\n",
       "                    window.PLOTLYENV=window.PLOTLYENV || {};\n",
       "                    \n",
       "                if (document.getElementById(\"482f6b37-042a-4adc-ba06-8bcb1756b77e\")) {\n",
       "                    Plotly.newPlot(\n",
       "                        '482f6b37-042a-4adc-ba06-8bcb1756b77e',\n",
       "                        [{\"box\": {\"visible\": true}, \"line\": {\"color\": \"darkorange\"}, \"meanline\": {\"visible\": true}, \"name\": \"Adelie Penguin\", \"points\": \"all\", \"type\": \"violin\", \"x\": [\"Adelie Penguin (Pygoscelis adeliae)\", \"Adelie Penguin (Pygoscelis adeliae)\", \"Adelie Penguin (Pygoscelis adeliae)\", \"Adelie Penguin (Pygoscelis adeliae)\", \"Adelie Penguin (Pygoscelis adeliae)\", \"Adelie Penguin (Pygoscelis adeliae)\", \"Adelie Penguin (Pygoscelis adeliae)\", \"Adelie Penguin (Pygoscelis adeliae)\", \"Adelie Penguin (Pygoscelis adeliae)\", \"Adelie Penguin (Pygoscelis adeliae)\", \"Adelie Penguin (Pygoscelis adeliae)\", \"Adelie Penguin (Pygoscelis adeliae)\", \"Adelie Penguin (Pygoscelis adeliae)\", \"Adelie Penguin (Pygoscelis adeliae)\", \"Adelie Penguin (Pygoscelis adeliae)\", \"Adelie Penguin (Pygoscelis adeliae)\", \"Adelie Penguin (Pygoscelis adeliae)\", \"Adelie Penguin (Pygoscelis adeliae)\", \"Adelie Penguin (Pygoscelis adeliae)\", \"Adelie Penguin (Pygoscelis adeliae)\", \"Adelie Penguin (Pygoscelis adeliae)\", \"Adelie Penguin (Pygoscelis adeliae)\", \"Adelie Penguin (Pygoscelis adeliae)\", \"Adelie Penguin (Pygoscelis adeliae)\", \"Adelie Penguin (Pygoscelis adeliae)\", \"Adelie Penguin (Pygoscelis adeliae)\", \"Adelie Penguin (Pygoscelis adeliae)\", \"Adelie Penguin (Pygoscelis adeliae)\", \"Adelie Penguin (Pygoscelis adeliae)\", \"Adelie Penguin (Pygoscelis adeliae)\", \"Adelie Penguin (Pygoscelis adeliae)\", \"Adelie Penguin (Pygoscelis adeliae)\", \"Adelie Penguin (Pygoscelis adeliae)\", \"Adelie Penguin (Pygoscelis adeliae)\", \"Adelie Penguin (Pygoscelis adeliae)\", \"Adelie Penguin (Pygoscelis adeliae)\", \"Adelie Penguin (Pygoscelis adeliae)\", \"Adelie Penguin (Pygoscelis adeliae)\", \"Adelie Penguin (Pygoscelis adeliae)\", \"Adelie Penguin (Pygoscelis adeliae)\", \"Adelie Penguin (Pygoscelis adeliae)\", \"Adelie Penguin (Pygoscelis adeliae)\", \"Adelie Penguin (Pygoscelis adeliae)\", \"Adelie Penguin (Pygoscelis adeliae)\", \"Adelie Penguin (Pygoscelis adeliae)\", \"Adelie Penguin (Pygoscelis adeliae)\", \"Adelie Penguin (Pygoscelis adeliae)\", \"Adelie Penguin (Pygoscelis adeliae)\", \"Adelie Penguin (Pygoscelis adeliae)\", \"Adelie Penguin (Pygoscelis adeliae)\", \"Adelie Penguin (Pygoscelis adeliae)\", \"Adelie Penguin (Pygoscelis adeliae)\", \"Adelie Penguin (Pygoscelis adeliae)\", \"Adelie Penguin (Pygoscelis adeliae)\", \"Adelie Penguin (Pygoscelis adeliae)\", \"Adelie Penguin (Pygoscelis adeliae)\", \"Adelie Penguin (Pygoscelis adeliae)\", \"Adelie Penguin (Pygoscelis adeliae)\", \"Adelie Penguin (Pygoscelis adeliae)\", \"Adelie Penguin (Pygoscelis adeliae)\", \"Adelie Penguin (Pygoscelis adeliae)\", \"Adelie Penguin (Pygoscelis adeliae)\", \"Adelie Penguin (Pygoscelis adeliae)\", \"Adelie Penguin (Pygoscelis adeliae)\", \"Adelie Penguin (Pygoscelis adeliae)\", \"Adelie Penguin (Pygoscelis adeliae)\", \"Adelie Penguin (Pygoscelis adeliae)\", \"Adelie Penguin (Pygoscelis adeliae)\", \"Adelie Penguin (Pygoscelis adeliae)\", \"Adelie Penguin (Pygoscelis adeliae)\", \"Adelie Penguin (Pygoscelis adeliae)\", \"Adelie Penguin (Pygoscelis adeliae)\", \"Adelie Penguin (Pygoscelis adeliae)\", \"Adelie Penguin (Pygoscelis adeliae)\", \"Adelie Penguin (Pygoscelis adeliae)\", \"Adelie Penguin (Pygoscelis adeliae)\", \"Adelie Penguin (Pygoscelis adeliae)\", \"Adelie Penguin (Pygoscelis adeliae)\", \"Adelie Penguin (Pygoscelis adeliae)\", \"Adelie Penguin (Pygoscelis adeliae)\", \"Adelie Penguin (Pygoscelis adeliae)\", \"Adelie Penguin (Pygoscelis adeliae)\", \"Adelie Penguin (Pygoscelis adeliae)\", \"Adelie Penguin (Pygoscelis adeliae)\", \"Adelie Penguin (Pygoscelis adeliae)\", \"Adelie Penguin (Pygoscelis adeliae)\", \"Adelie Penguin (Pygoscelis adeliae)\", \"Adelie Penguin (Pygoscelis adeliae)\", \"Adelie Penguin (Pygoscelis adeliae)\", \"Adelie Penguin (Pygoscelis adeliae)\", \"Adelie Penguin (Pygoscelis adeliae)\", \"Adelie Penguin (Pygoscelis adeliae)\", \"Adelie Penguin (Pygoscelis adeliae)\", \"Adelie Penguin (Pygoscelis adeliae)\", \"Adelie Penguin (Pygoscelis adeliae)\", \"Adelie Penguin (Pygoscelis adeliae)\", \"Adelie Penguin (Pygoscelis adeliae)\", \"Adelie Penguin (Pygoscelis adeliae)\", \"Adelie Penguin (Pygoscelis adeliae)\", \"Adelie Penguin (Pygoscelis adeliae)\", \"Adelie Penguin (Pygoscelis adeliae)\", \"Adelie Penguin (Pygoscelis adeliae)\", \"Adelie Penguin (Pygoscelis adeliae)\", \"Adelie Penguin (Pygoscelis adeliae)\", \"Adelie Penguin (Pygoscelis adeliae)\", \"Adelie Penguin (Pygoscelis adeliae)\", \"Adelie Penguin (Pygoscelis adeliae)\", \"Adelie Penguin (Pygoscelis adeliae)\", \"Adelie Penguin (Pygoscelis adeliae)\", \"Adelie Penguin (Pygoscelis adeliae)\", \"Adelie Penguin (Pygoscelis adeliae)\", \"Adelie Penguin (Pygoscelis adeliae)\", \"Adelie Penguin (Pygoscelis adeliae)\", \"Adelie Penguin (Pygoscelis adeliae)\", \"Adelie Penguin (Pygoscelis adeliae)\", \"Adelie Penguin (Pygoscelis adeliae)\", \"Adelie Penguin (Pygoscelis adeliae)\", \"Adelie Penguin (Pygoscelis adeliae)\", \"Adelie Penguin (Pygoscelis adeliae)\", \"Adelie Penguin (Pygoscelis adeliae)\", \"Adelie Penguin (Pygoscelis adeliae)\", \"Adelie Penguin (Pygoscelis adeliae)\", \"Adelie Penguin (Pygoscelis adeliae)\", \"Adelie Penguin (Pygoscelis adeliae)\", \"Adelie Penguin (Pygoscelis adeliae)\", \"Adelie Penguin (Pygoscelis adeliae)\", \"Adelie Penguin (Pygoscelis adeliae)\", \"Adelie Penguin (Pygoscelis adeliae)\", \"Adelie Penguin (Pygoscelis adeliae)\", \"Adelie Penguin (Pygoscelis adeliae)\", \"Adelie Penguin (Pygoscelis adeliae)\", \"Adelie Penguin (Pygoscelis adeliae)\", \"Adelie Penguin (Pygoscelis adeliae)\", \"Adelie Penguin (Pygoscelis adeliae)\", \"Adelie Penguin (Pygoscelis adeliae)\", \"Adelie Penguin (Pygoscelis adeliae)\", \"Adelie Penguin (Pygoscelis adeliae)\", \"Adelie Penguin (Pygoscelis adeliae)\", \"Adelie Penguin (Pygoscelis adeliae)\", \"Adelie Penguin (Pygoscelis adeliae)\", \"Adelie Penguin (Pygoscelis adeliae)\", \"Adelie Penguin (Pygoscelis adeliae)\", \"Adelie Penguin (Pygoscelis adeliae)\", \"Adelie Penguin (Pygoscelis adeliae)\", \"Adelie Penguin (Pygoscelis adeliae)\", \"Adelie Penguin (Pygoscelis adeliae)\", \"Adelie Penguin (Pygoscelis adeliae)\", \"Adelie Penguin (Pygoscelis adeliae)\", \"Adelie Penguin (Pygoscelis adeliae)\", \"Adelie Penguin (Pygoscelis adeliae)\", \"Adelie Penguin (Pygoscelis adeliae)\", \"Adelie Penguin (Pygoscelis adeliae)\"], \"y\": [39.1, 39.5, 40.3, 41.1, 36.7, 39.3, 38.9, 39.2, 34.1, 42.0, 37.8, 37.8, 41.1, 38.6, 34.6, 36.6, 38.7, 42.5, 34.4, 46.0, 37.8, 37.7, 35.9, 38.2, 38.8, 35.3, 40.6, 40.5, 37.9, 40.5, 39.5, 37.2, 39.5, 40.9, 36.4, 39.2, 38.8, 42.2, 37.6, 39.8, 36.5, 40.8, 36.0, 44.1, 37.0, 39.6, 41.1, 37.5, 36.0, 42.3, 39.6, 40.1, 35.0, 42.0, 34.5, 41.4, 39.0, 40.6, 36.5, 37.6, 35.7, 41.3, 37.6, 41.1, 36.4, 41.6, 35.5, 41.1, 35.9, 41.8, 33.5, 39.7, 39.6, 45.8, 35.5, 42.8, 40.9, 37.2, 36.2, 42.1, 34.6, 42.9, 36.7, 35.1, 37.3, 41.3, 36.3, 36.9, 38.3, 38.9, 35.7, 41.1, 34.0, 39.6, 36.2, 40.8, 38.1, 40.3, 33.1, 43.2, 35.0, 41.0, 37.7, 37.8, 37.9, 39.7, 38.6, 38.2, 38.1, 43.2, 38.1, 45.6, 39.7, 42.2, 39.6, 42.7, 38.6, 37.3, 35.7, 41.1, 36.2, 37.7, 40.2, 41.4, 35.2, 40.6, 38.8, 41.5, 39.0, 44.1, 38.5, 43.1, 36.8, 37.5, 38.1, 41.1, 35.6, 40.2, 37.0, 39.7, 40.2, 40.6, 32.1, 40.7, 37.3, 39.0, 39.2, 36.6, 36.0, 37.8, 36.0, 41.5]}, {\"box\": {\"visible\": true}, \"line\": {\"color\": \"teal\"}, \"meanline\": {\"visible\": true}, \"name\": \"Gentoo penguin\", \"points\": \"all\", \"type\": \"violin\", \"x\": [\"Gentoo penguin (Pygoscelis papua)\", \"Gentoo penguin (Pygoscelis papua)\", \"Gentoo penguin (Pygoscelis papua)\", \"Gentoo penguin (Pygoscelis papua)\", \"Gentoo penguin (Pygoscelis papua)\", \"Gentoo penguin (Pygoscelis papua)\", \"Gentoo penguin (Pygoscelis papua)\", \"Gentoo penguin (Pygoscelis papua)\", \"Gentoo penguin (Pygoscelis papua)\", \"Gentoo penguin (Pygoscelis papua)\", \"Gentoo penguin (Pygoscelis papua)\", \"Gentoo penguin (Pygoscelis papua)\", \"Gentoo penguin (Pygoscelis papua)\", \"Gentoo penguin (Pygoscelis papua)\", \"Gentoo penguin (Pygoscelis papua)\", \"Gentoo penguin (Pygoscelis papua)\", \"Gentoo penguin (Pygoscelis papua)\", \"Gentoo penguin (Pygoscelis papua)\", \"Gentoo penguin (Pygoscelis papua)\", \"Gentoo penguin (Pygoscelis papua)\", \"Gentoo penguin (Pygoscelis papua)\", \"Gentoo penguin (Pygoscelis papua)\", \"Gentoo penguin (Pygoscelis papua)\", \"Gentoo penguin (Pygoscelis papua)\", \"Gentoo penguin (Pygoscelis papua)\", \"Gentoo penguin (Pygoscelis papua)\", \"Gentoo penguin (Pygoscelis papua)\", \"Gentoo penguin (Pygoscelis papua)\", \"Gentoo penguin (Pygoscelis papua)\", \"Gentoo penguin (Pygoscelis papua)\", \"Gentoo penguin (Pygoscelis papua)\", \"Gentoo penguin (Pygoscelis papua)\", \"Gentoo penguin (Pygoscelis papua)\", \"Gentoo penguin (Pygoscelis papua)\", \"Gentoo penguin (Pygoscelis papua)\", \"Gentoo penguin (Pygoscelis papua)\", \"Gentoo penguin (Pygoscelis papua)\", \"Gentoo penguin (Pygoscelis papua)\", \"Gentoo penguin (Pygoscelis papua)\", \"Gentoo penguin (Pygoscelis papua)\", \"Gentoo penguin (Pygoscelis papua)\", \"Gentoo penguin (Pygoscelis papua)\", \"Gentoo penguin (Pygoscelis papua)\", \"Gentoo penguin (Pygoscelis papua)\", \"Gentoo penguin (Pygoscelis papua)\", \"Gentoo penguin (Pygoscelis papua)\", \"Gentoo penguin (Pygoscelis papua)\", \"Gentoo penguin (Pygoscelis papua)\", \"Gentoo penguin (Pygoscelis papua)\", \"Gentoo penguin (Pygoscelis papua)\", \"Gentoo penguin (Pygoscelis papua)\", \"Gentoo penguin (Pygoscelis papua)\", \"Gentoo penguin (Pygoscelis papua)\", \"Gentoo penguin (Pygoscelis papua)\", \"Gentoo penguin (Pygoscelis papua)\", \"Gentoo penguin (Pygoscelis papua)\", \"Gentoo penguin (Pygoscelis papua)\", \"Gentoo penguin (Pygoscelis papua)\", \"Gentoo penguin (Pygoscelis papua)\", \"Gentoo penguin (Pygoscelis papua)\", \"Gentoo penguin (Pygoscelis papua)\", \"Gentoo penguin (Pygoscelis papua)\", \"Gentoo penguin (Pygoscelis papua)\", \"Gentoo penguin (Pygoscelis papua)\", \"Gentoo penguin (Pygoscelis papua)\", \"Gentoo penguin (Pygoscelis papua)\", \"Gentoo penguin (Pygoscelis papua)\", \"Gentoo penguin (Pygoscelis papua)\", \"Gentoo penguin (Pygoscelis papua)\", \"Gentoo penguin (Pygoscelis papua)\", \"Gentoo penguin (Pygoscelis papua)\", \"Gentoo penguin (Pygoscelis papua)\", \"Gentoo penguin (Pygoscelis papua)\", \"Gentoo penguin (Pygoscelis papua)\", \"Gentoo penguin (Pygoscelis papua)\", \"Gentoo penguin (Pygoscelis papua)\", \"Gentoo penguin (Pygoscelis papua)\", \"Gentoo penguin (Pygoscelis papua)\", \"Gentoo penguin (Pygoscelis papua)\", \"Gentoo penguin (Pygoscelis papua)\", \"Gentoo penguin (Pygoscelis papua)\", \"Gentoo penguin (Pygoscelis papua)\", \"Gentoo penguin (Pygoscelis papua)\", \"Gentoo penguin (Pygoscelis papua)\", \"Gentoo penguin (Pygoscelis papua)\", \"Gentoo penguin (Pygoscelis papua)\", \"Gentoo penguin (Pygoscelis papua)\", \"Gentoo penguin (Pygoscelis papua)\", \"Gentoo penguin (Pygoscelis papua)\", \"Gentoo penguin (Pygoscelis papua)\", \"Gentoo penguin (Pygoscelis papua)\", \"Gentoo penguin (Pygoscelis papua)\", \"Gentoo penguin (Pygoscelis papua)\", \"Gentoo penguin (Pygoscelis papua)\", \"Gentoo penguin (Pygoscelis papua)\", \"Gentoo penguin (Pygoscelis papua)\", \"Gentoo penguin (Pygoscelis papua)\", \"Gentoo penguin (Pygoscelis papua)\", \"Gentoo penguin (Pygoscelis papua)\", \"Gentoo penguin (Pygoscelis papua)\", \"Gentoo penguin (Pygoscelis papua)\", \"Gentoo penguin (Pygoscelis papua)\", \"Gentoo penguin (Pygoscelis papua)\", \"Gentoo penguin (Pygoscelis papua)\", \"Gentoo penguin (Pygoscelis papua)\", \"Gentoo penguin (Pygoscelis papua)\", \"Gentoo penguin (Pygoscelis papua)\", \"Gentoo penguin (Pygoscelis papua)\", \"Gentoo penguin (Pygoscelis papua)\", \"Gentoo penguin (Pygoscelis papua)\", \"Gentoo penguin (Pygoscelis papua)\", \"Gentoo penguin (Pygoscelis papua)\", \"Gentoo penguin (Pygoscelis papua)\", \"Gentoo penguin (Pygoscelis papua)\", \"Gentoo penguin (Pygoscelis papua)\", \"Gentoo penguin (Pygoscelis papua)\", \"Gentoo penguin (Pygoscelis papua)\", \"Gentoo penguin (Pygoscelis papua)\", \"Gentoo penguin (Pygoscelis papua)\", \"Gentoo penguin (Pygoscelis papua)\", \"Gentoo penguin (Pygoscelis papua)\", \"Gentoo penguin (Pygoscelis papua)\", \"Gentoo penguin (Pygoscelis papua)\", \"Gentoo penguin (Pygoscelis papua)\"], \"y\": [46.1, 50.0, 48.7, 50.0, 47.6, 46.5, 45.4, 46.7, 43.3, 46.8, 40.9, 49.0, 45.5, 48.4, 45.8, 49.3, 42.0, 49.2, 46.2, 48.7, 50.2, 45.1, 46.5, 46.3, 42.9, 46.1, 44.5, 47.8, 48.2, 50.0, 47.3, 42.8, 45.1, 59.6, 49.1, 48.4, 42.6, 44.4, 44.0, 48.7, 42.7, 49.6, 45.3, 49.6, 50.5, 43.6, 45.5, 50.5, 44.9, 45.2, 46.6, 48.5, 45.1, 50.1, 46.5, 45.0, 43.8, 45.5, 43.2, 50.4, 45.3, 46.2, 45.7, 54.3, 45.8, 49.8, 46.2, 49.5, 43.5, 50.7, 47.7, 46.4, 48.2, 46.5, 46.4, 48.6, 47.5, 51.1, 45.2, 45.2, 49.1, 52.5, 47.4, 50.0, 44.9, 50.8, 43.4, 51.3, 47.5, 52.1, 47.5, 52.2, 45.5, 49.5, 44.5, 50.8, 49.4, 46.9, 48.4, 51.1, 48.5, 55.9, 47.2, 49.1, 47.3, 46.8, 41.7, 53.4, 43.3, 48.1, 50.5, 49.8, 43.5, 51.5, 46.2, 55.1, 44.5, 48.8, 47.2, 41.1, 46.8, 50.4, 45.2, 49.9]}, {\"box\": {\"visible\": true}, \"line\": {\"color\": \"mediumorchid\"}, \"meanline\": {\"visible\": true}, \"name\": \"Chinstrap penguin\", \"points\": \"all\", \"type\": \"violin\", \"x\": [\"Chinstrap penguin (Pygoscelis antarctica)\", \"Chinstrap penguin (Pygoscelis antarctica)\", \"Chinstrap penguin (Pygoscelis antarctica)\", \"Chinstrap penguin (Pygoscelis antarctica)\", \"Chinstrap penguin (Pygoscelis antarctica)\", \"Chinstrap penguin (Pygoscelis antarctica)\", \"Chinstrap penguin (Pygoscelis antarctica)\", \"Chinstrap penguin (Pygoscelis antarctica)\", \"Chinstrap penguin (Pygoscelis antarctica)\", \"Chinstrap penguin (Pygoscelis antarctica)\", \"Chinstrap penguin (Pygoscelis antarctica)\", \"Chinstrap penguin (Pygoscelis antarctica)\", \"Chinstrap penguin (Pygoscelis antarctica)\", \"Chinstrap penguin (Pygoscelis antarctica)\", \"Chinstrap penguin (Pygoscelis antarctica)\", \"Chinstrap penguin (Pygoscelis antarctica)\", \"Chinstrap penguin (Pygoscelis antarctica)\", \"Chinstrap penguin (Pygoscelis antarctica)\", \"Chinstrap penguin (Pygoscelis antarctica)\", \"Chinstrap penguin (Pygoscelis antarctica)\", \"Chinstrap penguin (Pygoscelis antarctica)\", \"Chinstrap penguin (Pygoscelis antarctica)\", \"Chinstrap penguin (Pygoscelis antarctica)\", \"Chinstrap penguin (Pygoscelis antarctica)\", \"Chinstrap penguin (Pygoscelis antarctica)\", \"Chinstrap penguin (Pygoscelis antarctica)\", \"Chinstrap penguin (Pygoscelis antarctica)\", \"Chinstrap penguin (Pygoscelis antarctica)\", \"Chinstrap penguin (Pygoscelis antarctica)\", \"Chinstrap penguin (Pygoscelis antarctica)\", \"Chinstrap penguin (Pygoscelis antarctica)\", \"Chinstrap penguin (Pygoscelis antarctica)\", \"Chinstrap penguin (Pygoscelis antarctica)\", \"Chinstrap penguin (Pygoscelis antarctica)\", \"Chinstrap penguin (Pygoscelis antarctica)\", \"Chinstrap penguin (Pygoscelis antarctica)\", \"Chinstrap penguin (Pygoscelis antarctica)\", \"Chinstrap penguin (Pygoscelis antarctica)\", \"Chinstrap penguin (Pygoscelis antarctica)\", \"Chinstrap penguin (Pygoscelis antarctica)\", \"Chinstrap penguin (Pygoscelis antarctica)\", \"Chinstrap penguin (Pygoscelis antarctica)\", \"Chinstrap penguin (Pygoscelis antarctica)\", \"Chinstrap penguin (Pygoscelis antarctica)\", \"Chinstrap penguin (Pygoscelis antarctica)\", \"Chinstrap penguin (Pygoscelis antarctica)\", \"Chinstrap penguin (Pygoscelis antarctica)\", \"Chinstrap penguin (Pygoscelis antarctica)\", \"Chinstrap penguin (Pygoscelis antarctica)\", \"Chinstrap penguin (Pygoscelis antarctica)\", \"Chinstrap penguin (Pygoscelis antarctica)\", \"Chinstrap penguin (Pygoscelis antarctica)\", \"Chinstrap penguin (Pygoscelis antarctica)\", \"Chinstrap penguin (Pygoscelis antarctica)\", \"Chinstrap penguin (Pygoscelis antarctica)\", \"Chinstrap penguin (Pygoscelis antarctica)\", \"Chinstrap penguin (Pygoscelis antarctica)\", \"Chinstrap penguin (Pygoscelis antarctica)\", \"Chinstrap penguin (Pygoscelis antarctica)\", \"Chinstrap penguin (Pygoscelis antarctica)\", \"Chinstrap penguin (Pygoscelis antarctica)\", \"Chinstrap penguin (Pygoscelis antarctica)\", \"Chinstrap penguin (Pygoscelis antarctica)\", \"Chinstrap penguin (Pygoscelis antarctica)\", \"Chinstrap penguin (Pygoscelis antarctica)\", \"Chinstrap penguin (Pygoscelis antarctica)\", \"Chinstrap penguin (Pygoscelis antarctica)\", \"Chinstrap penguin (Pygoscelis antarctica)\"], \"y\": [46.5, 50.0, 51.3, 45.4, 52.7, 45.2, 46.1, 51.3, 46.0, 51.3, 46.6, 51.7, 47.0, 52.0, 45.9, 50.5, 50.3, 58.0, 46.4, 49.2, 42.4, 48.5, 43.2, 50.6, 46.7, 52.0, 50.5, 49.5, 46.4, 52.8, 40.9, 54.2, 42.5, 51.0, 49.7, 47.5, 47.6, 52.0, 46.9, 53.5, 49.0, 46.2, 50.9, 45.5, 50.9, 50.8, 50.1, 49.0, 51.5, 49.8, 48.1, 51.4, 45.7, 50.7, 42.5, 52.2, 45.2, 49.3, 50.2, 45.6, 51.9, 46.8, 45.7, 55.8, 43.5, 49.6, 50.8, 50.2]}],\n",
       "                        {\"paper_bgcolor\": \"rgba(0,0,0,0)\", \"plot_bgcolor\": \"rgba(0,0,0,0)\", \"showlegend\": true, \"template\": {\"data\": {\"bar\": [{\"error_x\": {\"color\": \"#2a3f5f\"}, \"error_y\": {\"color\": \"#2a3f5f\"}, \"marker\": {\"line\": {\"color\": \"#E5ECF6\", \"width\": 0.5}}, \"type\": \"bar\"}], \"barpolar\": [{\"marker\": {\"line\": {\"color\": \"#E5ECF6\", \"width\": 0.5}}, \"type\": \"barpolar\"}], \"carpet\": [{\"aaxis\": {\"endlinecolor\": \"#2a3f5f\", \"gridcolor\": \"white\", \"linecolor\": \"white\", \"minorgridcolor\": \"white\", \"startlinecolor\": \"#2a3f5f\"}, \"baxis\": {\"endlinecolor\": \"#2a3f5f\", \"gridcolor\": \"white\", \"linecolor\": \"white\", \"minorgridcolor\": \"white\", \"startlinecolor\": \"#2a3f5f\"}, \"type\": \"carpet\"}], \"choropleth\": [{\"colorbar\": {\"outlinewidth\": 0, \"ticks\": \"\"}, \"type\": \"choropleth\"}], \"contour\": [{\"colorbar\": {\"outlinewidth\": 0, \"ticks\": \"\"}, \"colorscale\": [[0.0, \"#0d0887\"], [0.1111111111111111, \"#46039f\"], [0.2222222222222222, \"#7201a8\"], [0.3333333333333333, \"#9c179e\"], [0.4444444444444444, \"#bd3786\"], [0.5555555555555556, \"#d8576b\"], [0.6666666666666666, \"#ed7953\"], [0.7777777777777778, \"#fb9f3a\"], [0.8888888888888888, \"#fdca26\"], [1.0, \"#f0f921\"]], \"type\": \"contour\"}], \"contourcarpet\": [{\"colorbar\": {\"outlinewidth\": 0, \"ticks\": \"\"}, \"type\": \"contourcarpet\"}], \"heatmap\": [{\"colorbar\": {\"outlinewidth\": 0, \"ticks\": \"\"}, \"colorscale\": [[0.0, \"#0d0887\"], [0.1111111111111111, \"#46039f\"], [0.2222222222222222, \"#7201a8\"], [0.3333333333333333, \"#9c179e\"], [0.4444444444444444, \"#bd3786\"], [0.5555555555555556, \"#d8576b\"], [0.6666666666666666, \"#ed7953\"], [0.7777777777777778, \"#fb9f3a\"], [0.8888888888888888, \"#fdca26\"], [1.0, \"#f0f921\"]], \"type\": \"heatmap\"}], \"heatmapgl\": [{\"colorbar\": {\"outlinewidth\": 0, \"ticks\": \"\"}, \"colorscale\": [[0.0, \"#0d0887\"], [0.1111111111111111, \"#46039f\"], [0.2222222222222222, \"#7201a8\"], [0.3333333333333333, \"#9c179e\"], [0.4444444444444444, \"#bd3786\"], [0.5555555555555556, \"#d8576b\"], [0.6666666666666666, \"#ed7953\"], [0.7777777777777778, \"#fb9f3a\"], [0.8888888888888888, \"#fdca26\"], [1.0, \"#f0f921\"]], \"type\": \"heatmapgl\"}], \"histogram\": [{\"marker\": {\"colorbar\": {\"outlinewidth\": 0, \"ticks\": \"\"}}, \"type\": \"histogram\"}], \"histogram2d\": [{\"colorbar\": {\"outlinewidth\": 0, \"ticks\": \"\"}, \"colorscale\": [[0.0, \"#0d0887\"], [0.1111111111111111, \"#46039f\"], [0.2222222222222222, \"#7201a8\"], [0.3333333333333333, \"#9c179e\"], [0.4444444444444444, \"#bd3786\"], [0.5555555555555556, \"#d8576b\"], [0.6666666666666666, \"#ed7953\"], [0.7777777777777778, \"#fb9f3a\"], [0.8888888888888888, \"#fdca26\"], [1.0, \"#f0f921\"]], \"type\": \"histogram2d\"}], \"histogram2dcontour\": [{\"colorbar\": {\"outlinewidth\": 0, \"ticks\": \"\"}, \"colorscale\": [[0.0, \"#0d0887\"], [0.1111111111111111, \"#46039f\"], [0.2222222222222222, \"#7201a8\"], [0.3333333333333333, \"#9c179e\"], [0.4444444444444444, \"#bd3786\"], [0.5555555555555556, \"#d8576b\"], [0.6666666666666666, \"#ed7953\"], [0.7777777777777778, \"#fb9f3a\"], [0.8888888888888888, \"#fdca26\"], [1.0, \"#f0f921\"]], \"type\": \"histogram2dcontour\"}], \"mesh3d\": [{\"colorbar\": {\"outlinewidth\": 0, \"ticks\": \"\"}, \"type\": \"mesh3d\"}], \"parcoords\": [{\"line\": {\"colorbar\": {\"outlinewidth\": 0, \"ticks\": \"\"}}, \"type\": \"parcoords\"}], \"pie\": [{\"automargin\": true, \"type\": \"pie\"}], \"scatter\": [{\"marker\": {\"colorbar\": {\"outlinewidth\": 0, \"ticks\": \"\"}}, \"type\": \"scatter\"}], \"scatter3d\": [{\"line\": {\"colorbar\": {\"outlinewidth\": 0, \"ticks\": \"\"}}, \"marker\": {\"colorbar\": {\"outlinewidth\": 0, \"ticks\": \"\"}}, \"type\": \"scatter3d\"}], \"scattercarpet\": [{\"marker\": {\"colorbar\": {\"outlinewidth\": 0, \"ticks\": \"\"}}, \"type\": \"scattercarpet\"}], \"scattergeo\": [{\"marker\": {\"colorbar\": {\"outlinewidth\": 0, \"ticks\": \"\"}}, \"type\": \"scattergeo\"}], \"scattergl\": [{\"marker\": {\"colorbar\": {\"outlinewidth\": 0, \"ticks\": \"\"}}, \"type\": \"scattergl\"}], \"scattermapbox\": [{\"marker\": {\"colorbar\": {\"outlinewidth\": 0, \"ticks\": \"\"}}, \"type\": \"scattermapbox\"}], \"scatterpolar\": [{\"marker\": {\"colorbar\": {\"outlinewidth\": 0, \"ticks\": \"\"}}, \"type\": \"scatterpolar\"}], \"scatterpolargl\": [{\"marker\": {\"colorbar\": {\"outlinewidth\": 0, \"ticks\": \"\"}}, \"type\": \"scatterpolargl\"}], \"scatterternary\": [{\"marker\": {\"colorbar\": {\"outlinewidth\": 0, \"ticks\": \"\"}}, \"type\": \"scatterternary\"}], \"surface\": [{\"colorbar\": {\"outlinewidth\": 0, \"ticks\": \"\"}, \"colorscale\": [[0.0, \"#0d0887\"], [0.1111111111111111, \"#46039f\"], [0.2222222222222222, \"#7201a8\"], [0.3333333333333333, \"#9c179e\"], [0.4444444444444444, \"#bd3786\"], [0.5555555555555556, \"#d8576b\"], [0.6666666666666666, \"#ed7953\"], [0.7777777777777778, \"#fb9f3a\"], [0.8888888888888888, \"#fdca26\"], [1.0, \"#f0f921\"]], \"type\": \"surface\"}], \"table\": [{\"cells\": {\"fill\": {\"color\": \"#EBF0F8\"}, \"line\": {\"color\": \"white\"}}, \"header\": {\"fill\": {\"color\": \"#C8D4E3\"}, \"line\": {\"color\": \"white\"}}, \"type\": \"table\"}]}, \"layout\": {\"annotationdefaults\": {\"arrowcolor\": \"#2a3f5f\", \"arrowhead\": 0, \"arrowwidth\": 1}, \"coloraxis\": {\"colorbar\": {\"outlinewidth\": 0, \"ticks\": \"\"}}, \"colorscale\": {\"diverging\": [[0, \"#8e0152\"], [0.1, \"#c51b7d\"], [0.2, \"#de77ae\"], [0.3, \"#f1b6da\"], [0.4, \"#fde0ef\"], [0.5, \"#f7f7f7\"], [0.6, \"#e6f5d0\"], [0.7, \"#b8e186\"], [0.8, \"#7fbc41\"], [0.9, \"#4d9221\"], [1, \"#276419\"]], \"sequential\": [[0.0, \"#0d0887\"], [0.1111111111111111, \"#46039f\"], [0.2222222222222222, \"#7201a8\"], [0.3333333333333333, \"#9c179e\"], [0.4444444444444444, \"#bd3786\"], [0.5555555555555556, \"#d8576b\"], [0.6666666666666666, \"#ed7953\"], [0.7777777777777778, \"#fb9f3a\"], [0.8888888888888888, \"#fdca26\"], [1.0, \"#f0f921\"]], \"sequentialminus\": [[0.0, \"#0d0887\"], [0.1111111111111111, \"#46039f\"], [0.2222222222222222, \"#7201a8\"], [0.3333333333333333, \"#9c179e\"], [0.4444444444444444, \"#bd3786\"], [0.5555555555555556, \"#d8576b\"], [0.6666666666666666, \"#ed7953\"], [0.7777777777777778, \"#fb9f3a\"], [0.8888888888888888, \"#fdca26\"], [1.0, \"#f0f921\"]]}, \"colorway\": [\"#636efa\", \"#EF553B\", \"#00cc96\", \"#ab63fa\", \"#FFA15A\", \"#19d3f3\", \"#FF6692\", \"#B6E880\", \"#FF97FF\", \"#FECB52\"], \"font\": {\"color\": \"#2a3f5f\"}, \"geo\": {\"bgcolor\": \"white\", \"lakecolor\": \"white\", \"landcolor\": \"#E5ECF6\", \"showlakes\": true, \"showland\": true, \"subunitcolor\": \"white\"}, \"hoverlabel\": {\"align\": \"left\"}, \"hovermode\": \"closest\", \"mapbox\": {\"style\": \"light\"}, \"paper_bgcolor\": \"white\", \"plot_bgcolor\": \"#E5ECF6\", \"polar\": {\"angularaxis\": {\"gridcolor\": \"white\", \"linecolor\": \"white\", \"ticks\": \"\"}, \"bgcolor\": \"#E5ECF6\", \"radialaxis\": {\"gridcolor\": \"white\", \"linecolor\": \"white\", \"ticks\": \"\"}}, \"scene\": {\"xaxis\": {\"backgroundcolor\": \"#E5ECF6\", \"gridcolor\": \"white\", \"gridwidth\": 2, \"linecolor\": \"white\", \"showbackground\": true, \"ticks\": \"\", \"zerolinecolor\": \"white\"}, \"yaxis\": {\"backgroundcolor\": \"#E5ECF6\", \"gridcolor\": \"white\", \"gridwidth\": 2, \"linecolor\": \"white\", \"showbackground\": true, \"ticks\": \"\", \"zerolinecolor\": \"white\"}, \"zaxis\": {\"backgroundcolor\": \"#E5ECF6\", \"gridcolor\": \"white\", \"gridwidth\": 2, \"linecolor\": \"white\", \"showbackground\": true, \"ticks\": \"\", \"zerolinecolor\": \"white\"}}, \"shapedefaults\": {\"line\": {\"color\": \"#2a3f5f\"}}, \"ternary\": {\"aaxis\": {\"gridcolor\": \"white\", \"linecolor\": \"white\", \"ticks\": \"\"}, \"baxis\": {\"gridcolor\": \"white\", \"linecolor\": \"white\", \"ticks\": \"\"}, \"bgcolor\": \"#E5ECF6\", \"caxis\": {\"gridcolor\": \"white\", \"linecolor\": \"white\", \"ticks\": \"\"}}, \"title\": {\"x\": 0.05}, \"xaxis\": {\"automargin\": true, \"gridcolor\": \"white\", \"linecolor\": \"white\", \"ticks\": \"\", \"title\": {\"standoff\": 15}, \"zerolinecolor\": \"white\", \"zerolinewidth\": 2}, \"yaxis\": {\"automargin\": true, \"gridcolor\": \"white\", \"linecolor\": \"white\", \"ticks\": \"\", \"title\": {\"standoff\": 15}, \"zerolinecolor\": \"white\", \"zerolinewidth\": 2}}}, \"title\": {\"text\": \"<b>Culmen Length (mm) Distribution for the 3 Species</b>\"}, \"width\": 990, \"xaxis\": {\"title\": {\"text\": \"Penguin Species\"}}, \"yaxis\": {\"title\": {\"text\": \"Culmen Length (mm)\"}}},\n",
       "                        {\"responsive\": true}\n",
       "                    ).then(function(){\n",
       "                            \n",
       "var gd = document.getElementById('482f6b37-042a-4adc-ba06-8bcb1756b77e');\n",
       "var x = new MutationObserver(function (mutations, observer) {{\n",
       "        var display = window.getComputedStyle(gd).display;\n",
       "        if (!display || display === 'none') {{\n",
       "            console.log([gd, 'removed!']);\n",
       "            Plotly.purge(gd);\n",
       "            observer.disconnect();\n",
       "        }}\n",
       "}});\n",
       "\n",
       "// Listen for the removal of the full notebook cells\n",
       "var notebookContainer = gd.closest('#notebook-container');\n",
       "if (notebookContainer) {{\n",
       "    x.observe(notebookContainer, {childList: true});\n",
       "}}\n",
       "\n",
       "// Listen for the clearing of the current output cell\n",
       "var outputEl = gd.closest('.output');\n",
       "if (outputEl) {{\n",
       "    x.observe(outputEl, {childList: true});\n",
       "}}\n",
       "\n",
       "                        })\n",
       "                };\n",
       "                });\n",
       "            </script>\n",
       "        </div>"
      ]
     },
     "metadata": {},
     "output_type": "display_data"
    },
    {
     "data": {
      "application/javascript": [
       "\n",
       "            setTimeout(function() {\n",
       "                var nbb_cell_id = 29;\n",
       "                var nbb_unformatted_code = \"# Culmen Length Distributions\\n\\ntrace1 = go.Violin(\\n    x=adelie_df[\\\"Species\\\"],\\n    y=adelie_df[\\\"Culmen Length (mm)\\\"],\\n    box_visible=True,\\n    meanline_visible=True,\\n    points=\\\"all\\\",\\n    line_color=\\\"darkorange\\\",\\n    name=\\\"Adelie Penguin\\\",\\n)\\n\\ntrace2 = go.Violin(\\n    x=gentoo_df[\\\"Species\\\"],\\n    y=gentoo_df[\\\"Culmen Length (mm)\\\"],\\n    box_visible=True,\\n    meanline_visible=True,\\n    line_color=\\\"teal\\\",\\n    points=\\\"all\\\",\\n    name=\\\"Gentoo penguin\\\",\\n)\\n\\ntrace3 = go.Violin(\\n    x=chinstrap_df[\\\"Species\\\"],\\n    y=chinstrap_df[\\\"Culmen Length (mm)\\\"],\\n    points=\\\"all\\\",\\n    box_visible=True,\\n    meanline_visible=True,\\n    line_color=\\\"mediumorchid\\\",\\n    name=\\\"Chinstrap penguin\\\",\\n)\\n\\ndata = [trace1, trace2, trace3]\\n\\n\\nlayout = dict(\\n    title=\\\"<b>Culmen Length (mm) Distribution for the 3 Species</b>\\\",\\n    showlegend=True,\\n    width=990,\\n    xaxis=dict(title=\\\"Penguin Species\\\"),\\n    yaxis=dict(title=\\\"Culmen Length (mm)\\\"),\\n    plot_bgcolor=\\\"rgba(0,0,0,0)\\\",\\n    paper_bgcolor=\\\"rgba(0,0,0,0)\\\",\\n)\\n\\nfig = dict(data=data, layout=layout)\\n\\niplot(fig)\";\n",
       "                var nbb_formatted_code = \"# Culmen Length Distributions\\n\\ntrace1 = go.Violin(\\n    x=adelie_df[\\\"Species\\\"],\\n    y=adelie_df[\\\"Culmen Length (mm)\\\"],\\n    box_visible=True,\\n    meanline_visible=True,\\n    points=\\\"all\\\",\\n    line_color=\\\"darkorange\\\",\\n    name=\\\"Adelie Penguin\\\",\\n)\\n\\ntrace2 = go.Violin(\\n    x=gentoo_df[\\\"Species\\\"],\\n    y=gentoo_df[\\\"Culmen Length (mm)\\\"],\\n    box_visible=True,\\n    meanline_visible=True,\\n    line_color=\\\"teal\\\",\\n    points=\\\"all\\\",\\n    name=\\\"Gentoo penguin\\\",\\n)\\n\\ntrace3 = go.Violin(\\n    x=chinstrap_df[\\\"Species\\\"],\\n    y=chinstrap_df[\\\"Culmen Length (mm)\\\"],\\n    points=\\\"all\\\",\\n    box_visible=True,\\n    meanline_visible=True,\\n    line_color=\\\"mediumorchid\\\",\\n    name=\\\"Chinstrap penguin\\\",\\n)\\n\\ndata = [trace1, trace2, trace3]\\n\\n\\nlayout = dict(\\n    title=\\\"<b>Culmen Length (mm) Distribution for the 3 Species</b>\\\",\\n    showlegend=True,\\n    width=990,\\n    xaxis=dict(title=\\\"Penguin Species\\\"),\\n    yaxis=dict(title=\\\"Culmen Length (mm)\\\"),\\n    plot_bgcolor=\\\"rgba(0,0,0,0)\\\",\\n    paper_bgcolor=\\\"rgba(0,0,0,0)\\\",\\n)\\n\\nfig = dict(data=data, layout=layout)\\n\\niplot(fig)\";\n",
       "                var nbb_cells = Jupyter.notebook.get_cells();\n",
       "                for (var i = 0; i < nbb_cells.length; ++i) {\n",
       "                    if (nbb_cells[i].input_prompt_number == nbb_cell_id) {\n",
       "                        if (nbb_cells[i].get_text() == nbb_unformatted_code) {\n",
       "                             nbb_cells[i].set_text(nbb_formatted_code);\n",
       "                        }\n",
       "                        break;\n",
       "                    }\n",
       "                }\n",
       "            }, 500);\n",
       "            "
      ],
      "text/plain": [
       "<IPython.core.display.Javascript object>"
      ]
     },
     "metadata": {},
     "output_type": "display_data"
    }
   ],
   "source": [
    "# Culmen Length Distributions\n",
    "\n",
    "trace1 = go.Violin(\n",
    "    x=adelie_df[\"Species\"],\n",
    "    y=adelie_df[\"Culmen Length (mm)\"],\n",
    "    box_visible=True,\n",
    "    meanline_visible=True,\n",
    "    points=\"all\",\n",
    "    line_color=\"darkorange\",\n",
    "    name=\"Adelie Penguin\",\n",
    ")\n",
    "\n",
    "trace2 = go.Violin(\n",
    "    x=gentoo_df[\"Species\"],\n",
    "    y=gentoo_df[\"Culmen Length (mm)\"],\n",
    "    box_visible=True,\n",
    "    meanline_visible=True,\n",
    "    line_color=\"teal\",\n",
    "    points=\"all\",\n",
    "    name=\"Gentoo penguin\",\n",
    ")\n",
    "\n",
    "trace3 = go.Violin(\n",
    "    x=chinstrap_df[\"Species\"],\n",
    "    y=chinstrap_df[\"Culmen Length (mm)\"],\n",
    "    points=\"all\",\n",
    "    box_visible=True,\n",
    "    meanline_visible=True,\n",
    "    line_color=\"mediumorchid\",\n",
    "    name=\"Chinstrap penguin\",\n",
    ")\n",
    "\n",
    "data = [trace1, trace2, trace3]\n",
    "\n",
    "\n",
    "layout = dict(\n",
    "    title=\"<b>Culmen Length (mm) Distribution for the 3 Species</b>\",\n",
    "    showlegend=True,\n",
    "    width=990,\n",
    "    xaxis=dict(title=\"Penguin Species\"),\n",
    "    yaxis=dict(title=\"Culmen Length (mm)\"),\n",
    "    plot_bgcolor=\"rgba(0,0,0,0)\",\n",
    "    paper_bgcolor=\"rgba(0,0,0,0)\",\n",
    ")\n",
    "\n",
    "fig = dict(data=data, layout=layout)\n",
    "\n",
    "iplot(fig)"
   ]
  },
  {
   "cell_type": "code",
   "execution_count": 30,
   "metadata": {},
   "outputs": [
    {
     "data": {
      "application/vnd.plotly.v1+json": {
       "config": {
        "linkText": "Export to plot.ly",
        "plotlyServerURL": "https://plot.ly",
        "showLink": false
       },
       "data": [
        {
         "box": {
          "visible": true
         },
         "line": {
          "color": "darkorange"
         },
         "meanline": {
          "visible": true
         },
         "name": "Adelie Penguin",
         "points": "all",
         "type": "violin",
         "x": [
          "Adelie Penguin (Pygoscelis adeliae)",
          "Adelie Penguin (Pygoscelis adeliae)",
          "Adelie Penguin (Pygoscelis adeliae)",
          "Adelie Penguin (Pygoscelis adeliae)",
          "Adelie Penguin (Pygoscelis adeliae)",
          "Adelie Penguin (Pygoscelis adeliae)",
          "Adelie Penguin (Pygoscelis adeliae)",
          "Adelie Penguin (Pygoscelis adeliae)",
          "Adelie Penguin (Pygoscelis adeliae)",
          "Adelie Penguin (Pygoscelis adeliae)",
          "Adelie Penguin (Pygoscelis adeliae)",
          "Adelie Penguin (Pygoscelis adeliae)",
          "Adelie Penguin (Pygoscelis adeliae)",
          "Adelie Penguin (Pygoscelis adeliae)",
          "Adelie Penguin (Pygoscelis adeliae)",
          "Adelie Penguin (Pygoscelis adeliae)",
          "Adelie Penguin (Pygoscelis adeliae)",
          "Adelie Penguin (Pygoscelis adeliae)",
          "Adelie Penguin (Pygoscelis adeliae)",
          "Adelie Penguin (Pygoscelis adeliae)",
          "Adelie Penguin (Pygoscelis adeliae)",
          "Adelie Penguin (Pygoscelis adeliae)",
          "Adelie Penguin (Pygoscelis adeliae)",
          "Adelie Penguin (Pygoscelis adeliae)",
          "Adelie Penguin (Pygoscelis adeliae)",
          "Adelie Penguin (Pygoscelis adeliae)",
          "Adelie Penguin (Pygoscelis adeliae)",
          "Adelie Penguin (Pygoscelis adeliae)",
          "Adelie Penguin (Pygoscelis adeliae)",
          "Adelie Penguin (Pygoscelis adeliae)",
          "Adelie Penguin (Pygoscelis adeliae)",
          "Adelie Penguin (Pygoscelis adeliae)",
          "Adelie Penguin (Pygoscelis adeliae)",
          "Adelie Penguin (Pygoscelis adeliae)",
          "Adelie Penguin (Pygoscelis adeliae)",
          "Adelie Penguin (Pygoscelis adeliae)",
          "Adelie Penguin (Pygoscelis adeliae)",
          "Adelie Penguin (Pygoscelis adeliae)",
          "Adelie Penguin (Pygoscelis adeliae)",
          "Adelie Penguin (Pygoscelis adeliae)",
          "Adelie Penguin (Pygoscelis adeliae)",
          "Adelie Penguin (Pygoscelis adeliae)",
          "Adelie Penguin (Pygoscelis adeliae)",
          "Adelie Penguin (Pygoscelis adeliae)",
          "Adelie Penguin (Pygoscelis adeliae)",
          "Adelie Penguin (Pygoscelis adeliae)",
          "Adelie Penguin (Pygoscelis adeliae)",
          "Adelie Penguin (Pygoscelis adeliae)",
          "Adelie Penguin (Pygoscelis adeliae)",
          "Adelie Penguin (Pygoscelis adeliae)",
          "Adelie Penguin (Pygoscelis adeliae)",
          "Adelie Penguin (Pygoscelis adeliae)",
          "Adelie Penguin (Pygoscelis adeliae)",
          "Adelie Penguin (Pygoscelis adeliae)",
          "Adelie Penguin (Pygoscelis adeliae)",
          "Adelie Penguin (Pygoscelis adeliae)",
          "Adelie Penguin (Pygoscelis adeliae)",
          "Adelie Penguin (Pygoscelis adeliae)",
          "Adelie Penguin (Pygoscelis adeliae)",
          "Adelie Penguin (Pygoscelis adeliae)",
          "Adelie Penguin (Pygoscelis adeliae)",
          "Adelie Penguin (Pygoscelis adeliae)",
          "Adelie Penguin (Pygoscelis adeliae)",
          "Adelie Penguin (Pygoscelis adeliae)",
          "Adelie Penguin (Pygoscelis adeliae)",
          "Adelie Penguin (Pygoscelis adeliae)",
          "Adelie Penguin (Pygoscelis adeliae)",
          "Adelie Penguin (Pygoscelis adeliae)",
          "Adelie Penguin (Pygoscelis adeliae)",
          "Adelie Penguin (Pygoscelis adeliae)",
          "Adelie Penguin (Pygoscelis adeliae)",
          "Adelie Penguin (Pygoscelis adeliae)",
          "Adelie Penguin (Pygoscelis adeliae)",
          "Adelie Penguin (Pygoscelis adeliae)",
          "Adelie Penguin (Pygoscelis adeliae)",
          "Adelie Penguin (Pygoscelis adeliae)",
          "Adelie Penguin (Pygoscelis adeliae)",
          "Adelie Penguin (Pygoscelis adeliae)",
          "Adelie Penguin (Pygoscelis adeliae)",
          "Adelie Penguin (Pygoscelis adeliae)",
          "Adelie Penguin (Pygoscelis adeliae)",
          "Adelie Penguin (Pygoscelis adeliae)",
          "Adelie Penguin (Pygoscelis adeliae)",
          "Adelie Penguin (Pygoscelis adeliae)",
          "Adelie Penguin (Pygoscelis adeliae)",
          "Adelie Penguin (Pygoscelis adeliae)",
          "Adelie Penguin (Pygoscelis adeliae)",
          "Adelie Penguin (Pygoscelis adeliae)",
          "Adelie Penguin (Pygoscelis adeliae)",
          "Adelie Penguin (Pygoscelis adeliae)",
          "Adelie Penguin (Pygoscelis adeliae)",
          "Adelie Penguin (Pygoscelis adeliae)",
          "Adelie Penguin (Pygoscelis adeliae)",
          "Adelie Penguin (Pygoscelis adeliae)",
          "Adelie Penguin (Pygoscelis adeliae)",
          "Adelie Penguin (Pygoscelis adeliae)",
          "Adelie Penguin (Pygoscelis adeliae)",
          "Adelie Penguin (Pygoscelis adeliae)",
          "Adelie Penguin (Pygoscelis adeliae)",
          "Adelie Penguin (Pygoscelis adeliae)",
          "Adelie Penguin (Pygoscelis adeliae)",
          "Adelie Penguin (Pygoscelis adeliae)",
          "Adelie Penguin (Pygoscelis adeliae)",
          "Adelie Penguin (Pygoscelis adeliae)",
          "Adelie Penguin (Pygoscelis adeliae)",
          "Adelie Penguin (Pygoscelis adeliae)",
          "Adelie Penguin (Pygoscelis adeliae)",
          "Adelie Penguin (Pygoscelis adeliae)",
          "Adelie Penguin (Pygoscelis adeliae)",
          "Adelie Penguin (Pygoscelis adeliae)",
          "Adelie Penguin (Pygoscelis adeliae)",
          "Adelie Penguin (Pygoscelis adeliae)",
          "Adelie Penguin (Pygoscelis adeliae)",
          "Adelie Penguin (Pygoscelis adeliae)",
          "Adelie Penguin (Pygoscelis adeliae)",
          "Adelie Penguin (Pygoscelis adeliae)",
          "Adelie Penguin (Pygoscelis adeliae)",
          "Adelie Penguin (Pygoscelis adeliae)",
          "Adelie Penguin (Pygoscelis adeliae)",
          "Adelie Penguin (Pygoscelis adeliae)",
          "Adelie Penguin (Pygoscelis adeliae)",
          "Adelie Penguin (Pygoscelis adeliae)",
          "Adelie Penguin (Pygoscelis adeliae)",
          "Adelie Penguin (Pygoscelis adeliae)",
          "Adelie Penguin (Pygoscelis adeliae)",
          "Adelie Penguin (Pygoscelis adeliae)",
          "Adelie Penguin (Pygoscelis adeliae)",
          "Adelie Penguin (Pygoscelis adeliae)",
          "Adelie Penguin (Pygoscelis adeliae)",
          "Adelie Penguin (Pygoscelis adeliae)",
          "Adelie Penguin (Pygoscelis adeliae)",
          "Adelie Penguin (Pygoscelis adeliae)",
          "Adelie Penguin (Pygoscelis adeliae)",
          "Adelie Penguin (Pygoscelis adeliae)",
          "Adelie Penguin (Pygoscelis adeliae)",
          "Adelie Penguin (Pygoscelis adeliae)",
          "Adelie Penguin (Pygoscelis adeliae)",
          "Adelie Penguin (Pygoscelis adeliae)",
          "Adelie Penguin (Pygoscelis adeliae)",
          "Adelie Penguin (Pygoscelis adeliae)",
          "Adelie Penguin (Pygoscelis adeliae)",
          "Adelie Penguin (Pygoscelis adeliae)",
          "Adelie Penguin (Pygoscelis adeliae)",
          "Adelie Penguin (Pygoscelis adeliae)",
          "Adelie Penguin (Pygoscelis adeliae)",
          "Adelie Penguin (Pygoscelis adeliae)",
          "Adelie Penguin (Pygoscelis adeliae)",
          "Adelie Penguin (Pygoscelis adeliae)",
          "Adelie Penguin (Pygoscelis adeliae)",
          "Adelie Penguin (Pygoscelis adeliae)",
          "Adelie Penguin (Pygoscelis adeliae)",
          "Adelie Penguin (Pygoscelis adeliae)"
         ],
         "y": [
          18.7,
          17.4,
          18,
          17,
          19.3,
          20.6,
          17.8,
          19.6,
          18.1,
          20.2,
          17.1,
          17.3,
          17.6,
          21.2,
          21.1,
          17.8,
          19,
          20.7,
          18.4,
          21.5,
          18.3,
          18.7,
          19.2,
          18.1,
          17.2,
          18.9,
          18.6,
          17.9,
          18.6,
          18.9,
          16.7,
          18.1,
          17.8,
          18.9,
          17,
          21.1,
          20,
          18.5,
          19.3,
          19.1,
          18,
          18.4,
          18.5,
          19.7,
          16.9,
          18.8,
          19,
          18.9,
          17.9,
          21.2,
          17.7,
          18.9,
          17.9,
          19.5,
          18.1,
          18.6,
          17.5,
          18.8,
          16.6,
          19.1,
          16.9,
          21.1,
          17,
          18.2,
          17.1,
          18,
          16.2,
          19.1,
          16.6,
          19.4,
          19,
          18.4,
          17.2,
          18.9,
          17.5,
          18.5,
          16.8,
          19.4,
          16.1,
          19.1,
          17.2,
          17.6,
          18.8,
          19.4,
          17.8,
          20.3,
          19.5,
          18.6,
          19.2,
          18.8,
          18,
          18.1,
          17.1,
          18.1,
          17.3,
          18.9,
          18.6,
          18.5,
          16.1,
          18.5,
          17.9,
          20,
          16,
          20,
          18.6,
          18.9,
          17.2,
          20,
          17,
          19,
          16.5,
          20.3,
          17.7,
          19.5,
          20.7,
          18.3,
          17,
          20.5,
          17,
          18.6,
          17.2,
          19.8,
          17,
          18.5,
          15.9,
          19,
          17.6,
          18.3,
          17.1,
          18,
          17.9,
          19.2,
          18.5,
          18.5,
          17.6,
          17.5,
          17.5,
          20.1,
          16.5,
          17.9,
          17.1,
          17.2,
          15.5,
          17,
          16.8,
          18.7,
          18.6,
          18.4,
          17.8,
          18.1,
          17.1,
          18.5
         ]
        },
        {
         "box": {
          "visible": true
         },
         "line": {
          "color": "teal"
         },
         "meanline": {
          "visible": true
         },
         "name": "Gentoo penguin",
         "points": "all",
         "type": "violin",
         "x": [
          "Gentoo penguin (Pygoscelis papua)",
          "Gentoo penguin (Pygoscelis papua)",
          "Gentoo penguin (Pygoscelis papua)",
          "Gentoo penguin (Pygoscelis papua)",
          "Gentoo penguin (Pygoscelis papua)",
          "Gentoo penguin (Pygoscelis papua)",
          "Gentoo penguin (Pygoscelis papua)",
          "Gentoo penguin (Pygoscelis papua)",
          "Gentoo penguin (Pygoscelis papua)",
          "Gentoo penguin (Pygoscelis papua)",
          "Gentoo penguin (Pygoscelis papua)",
          "Gentoo penguin (Pygoscelis papua)",
          "Gentoo penguin (Pygoscelis papua)",
          "Gentoo penguin (Pygoscelis papua)",
          "Gentoo penguin (Pygoscelis papua)",
          "Gentoo penguin (Pygoscelis papua)",
          "Gentoo penguin (Pygoscelis papua)",
          "Gentoo penguin (Pygoscelis papua)",
          "Gentoo penguin (Pygoscelis papua)",
          "Gentoo penguin (Pygoscelis papua)",
          "Gentoo penguin (Pygoscelis papua)",
          "Gentoo penguin (Pygoscelis papua)",
          "Gentoo penguin (Pygoscelis papua)",
          "Gentoo penguin (Pygoscelis papua)",
          "Gentoo penguin (Pygoscelis papua)",
          "Gentoo penguin (Pygoscelis papua)",
          "Gentoo penguin (Pygoscelis papua)",
          "Gentoo penguin (Pygoscelis papua)",
          "Gentoo penguin (Pygoscelis papua)",
          "Gentoo penguin (Pygoscelis papua)",
          "Gentoo penguin (Pygoscelis papua)",
          "Gentoo penguin (Pygoscelis papua)",
          "Gentoo penguin (Pygoscelis papua)",
          "Gentoo penguin (Pygoscelis papua)",
          "Gentoo penguin (Pygoscelis papua)",
          "Gentoo penguin (Pygoscelis papua)",
          "Gentoo penguin (Pygoscelis papua)",
          "Gentoo penguin (Pygoscelis papua)",
          "Gentoo penguin (Pygoscelis papua)",
          "Gentoo penguin (Pygoscelis papua)",
          "Gentoo penguin (Pygoscelis papua)",
          "Gentoo penguin (Pygoscelis papua)",
          "Gentoo penguin (Pygoscelis papua)",
          "Gentoo penguin (Pygoscelis papua)",
          "Gentoo penguin (Pygoscelis papua)",
          "Gentoo penguin (Pygoscelis papua)",
          "Gentoo penguin (Pygoscelis papua)",
          "Gentoo penguin (Pygoscelis papua)",
          "Gentoo penguin (Pygoscelis papua)",
          "Gentoo penguin (Pygoscelis papua)",
          "Gentoo penguin (Pygoscelis papua)",
          "Gentoo penguin (Pygoscelis papua)",
          "Gentoo penguin (Pygoscelis papua)",
          "Gentoo penguin (Pygoscelis papua)",
          "Gentoo penguin (Pygoscelis papua)",
          "Gentoo penguin (Pygoscelis papua)",
          "Gentoo penguin (Pygoscelis papua)",
          "Gentoo penguin (Pygoscelis papua)",
          "Gentoo penguin (Pygoscelis papua)",
          "Gentoo penguin (Pygoscelis papua)",
          "Gentoo penguin (Pygoscelis papua)",
          "Gentoo penguin (Pygoscelis papua)",
          "Gentoo penguin (Pygoscelis papua)",
          "Gentoo penguin (Pygoscelis papua)",
          "Gentoo penguin (Pygoscelis papua)",
          "Gentoo penguin (Pygoscelis papua)",
          "Gentoo penguin (Pygoscelis papua)",
          "Gentoo penguin (Pygoscelis papua)",
          "Gentoo penguin (Pygoscelis papua)",
          "Gentoo penguin (Pygoscelis papua)",
          "Gentoo penguin (Pygoscelis papua)",
          "Gentoo penguin (Pygoscelis papua)",
          "Gentoo penguin (Pygoscelis papua)",
          "Gentoo penguin (Pygoscelis papua)",
          "Gentoo penguin (Pygoscelis papua)",
          "Gentoo penguin (Pygoscelis papua)",
          "Gentoo penguin (Pygoscelis papua)",
          "Gentoo penguin (Pygoscelis papua)",
          "Gentoo penguin (Pygoscelis papua)",
          "Gentoo penguin (Pygoscelis papua)",
          "Gentoo penguin (Pygoscelis papua)",
          "Gentoo penguin (Pygoscelis papua)",
          "Gentoo penguin (Pygoscelis papua)",
          "Gentoo penguin (Pygoscelis papua)",
          "Gentoo penguin (Pygoscelis papua)",
          "Gentoo penguin (Pygoscelis papua)",
          "Gentoo penguin (Pygoscelis papua)",
          "Gentoo penguin (Pygoscelis papua)",
          "Gentoo penguin (Pygoscelis papua)",
          "Gentoo penguin (Pygoscelis papua)",
          "Gentoo penguin (Pygoscelis papua)",
          "Gentoo penguin (Pygoscelis papua)",
          "Gentoo penguin (Pygoscelis papua)",
          "Gentoo penguin (Pygoscelis papua)",
          "Gentoo penguin (Pygoscelis papua)",
          "Gentoo penguin (Pygoscelis papua)",
          "Gentoo penguin (Pygoscelis papua)",
          "Gentoo penguin (Pygoscelis papua)",
          "Gentoo penguin (Pygoscelis papua)",
          "Gentoo penguin (Pygoscelis papua)",
          "Gentoo penguin (Pygoscelis papua)",
          "Gentoo penguin (Pygoscelis papua)",
          "Gentoo penguin (Pygoscelis papua)",
          "Gentoo penguin (Pygoscelis papua)",
          "Gentoo penguin (Pygoscelis papua)",
          "Gentoo penguin (Pygoscelis papua)",
          "Gentoo penguin (Pygoscelis papua)",
          "Gentoo penguin (Pygoscelis papua)",
          "Gentoo penguin (Pygoscelis papua)",
          "Gentoo penguin (Pygoscelis papua)",
          "Gentoo penguin (Pygoscelis papua)",
          "Gentoo penguin (Pygoscelis papua)",
          "Gentoo penguin (Pygoscelis papua)",
          "Gentoo penguin (Pygoscelis papua)",
          "Gentoo penguin (Pygoscelis papua)",
          "Gentoo penguin (Pygoscelis papua)",
          "Gentoo penguin (Pygoscelis papua)",
          "Gentoo penguin (Pygoscelis papua)",
          "Gentoo penguin (Pygoscelis papua)",
          "Gentoo penguin (Pygoscelis papua)",
          "Gentoo penguin (Pygoscelis papua)",
          "Gentoo penguin (Pygoscelis papua)",
          "Gentoo penguin (Pygoscelis papua)",
          "Gentoo penguin (Pygoscelis papua)"
         ],
         "y": [
          13.2,
          16.3,
          14.1,
          15.2,
          14.5,
          13.5,
          14.6,
          15.3,
          13.4,
          15.4,
          13.7,
          16.1,
          13.7,
          14.6,
          14.6,
          15.7,
          13.5,
          15.2,
          14.5,
          15.1,
          14.3,
          14.5,
          14.5,
          15.8,
          13.1,
          15.1,
          14.3,
          15,
          14.3,
          15.3,
          15.3,
          14.2,
          14.5,
          17,
          14.8,
          16.3,
          13.7,
          17.3,
          13.6,
          15.7,
          13.7,
          16,
          13.7,
          15,
          15.9,
          13.9,
          13.9,
          15.9,
          13.3,
          15.8,
          14.2,
          14.1,
          14.4,
          15,
          14.4,
          15.4,
          13.9,
          15,
          14.5,
          15.3,
          13.8,
          14.9,
          13.9,
          15.7,
          14.2,
          16.8,
          14.4,
          16.2,
          14.2,
          15,
          15,
          15.6,
          15.6,
          14.8,
          15,
          16,
          14.2,
          16.3,
          13.8,
          16.4,
          14.5,
          15.6,
          14.6,
          15.9,
          13.8,
          17.3,
          14.4,
          14.2,
          14,
          17,
          15,
          17.1,
          14.5,
          16.1,
          14.7,
          15.7,
          15.8,
          14.6,
          14.4,
          16.5,
          15,
          17,
          15.5,
          15,
          13.8,
          16.1,
          14.7,
          15.8,
          14,
          15.1,
          15.2,
          15.9,
          15.2,
          16.3,
          14.1,
          16,
          15.7,
          16.2,
          13.7,
          17,
          14.3,
          15.7,
          14.8,
          16.1
         ]
        },
        {
         "box": {
          "visible": true
         },
         "line": {
          "color": "mediumorchid"
         },
         "meanline": {
          "visible": true
         },
         "name": "Chinstrap penguin",
         "points": "all",
         "type": "violin",
         "x": [
          "Chinstrap penguin (Pygoscelis antarctica)",
          "Chinstrap penguin (Pygoscelis antarctica)",
          "Chinstrap penguin (Pygoscelis antarctica)",
          "Chinstrap penguin (Pygoscelis antarctica)",
          "Chinstrap penguin (Pygoscelis antarctica)",
          "Chinstrap penguin (Pygoscelis antarctica)",
          "Chinstrap penguin (Pygoscelis antarctica)",
          "Chinstrap penguin (Pygoscelis antarctica)",
          "Chinstrap penguin (Pygoscelis antarctica)",
          "Chinstrap penguin (Pygoscelis antarctica)",
          "Chinstrap penguin (Pygoscelis antarctica)",
          "Chinstrap penguin (Pygoscelis antarctica)",
          "Chinstrap penguin (Pygoscelis antarctica)",
          "Chinstrap penguin (Pygoscelis antarctica)",
          "Chinstrap penguin (Pygoscelis antarctica)",
          "Chinstrap penguin (Pygoscelis antarctica)",
          "Chinstrap penguin (Pygoscelis antarctica)",
          "Chinstrap penguin (Pygoscelis antarctica)",
          "Chinstrap penguin (Pygoscelis antarctica)",
          "Chinstrap penguin (Pygoscelis antarctica)",
          "Chinstrap penguin (Pygoscelis antarctica)",
          "Chinstrap penguin (Pygoscelis antarctica)",
          "Chinstrap penguin (Pygoscelis antarctica)",
          "Chinstrap penguin (Pygoscelis antarctica)",
          "Chinstrap penguin (Pygoscelis antarctica)",
          "Chinstrap penguin (Pygoscelis antarctica)",
          "Chinstrap penguin (Pygoscelis antarctica)",
          "Chinstrap penguin (Pygoscelis antarctica)",
          "Chinstrap penguin (Pygoscelis antarctica)",
          "Chinstrap penguin (Pygoscelis antarctica)",
          "Chinstrap penguin (Pygoscelis antarctica)",
          "Chinstrap penguin (Pygoscelis antarctica)",
          "Chinstrap penguin (Pygoscelis antarctica)",
          "Chinstrap penguin (Pygoscelis antarctica)",
          "Chinstrap penguin (Pygoscelis antarctica)",
          "Chinstrap penguin (Pygoscelis antarctica)",
          "Chinstrap penguin (Pygoscelis antarctica)",
          "Chinstrap penguin (Pygoscelis antarctica)",
          "Chinstrap penguin (Pygoscelis antarctica)",
          "Chinstrap penguin (Pygoscelis antarctica)",
          "Chinstrap penguin (Pygoscelis antarctica)",
          "Chinstrap penguin (Pygoscelis antarctica)",
          "Chinstrap penguin (Pygoscelis antarctica)",
          "Chinstrap penguin (Pygoscelis antarctica)",
          "Chinstrap penguin (Pygoscelis antarctica)",
          "Chinstrap penguin (Pygoscelis antarctica)",
          "Chinstrap penguin (Pygoscelis antarctica)",
          "Chinstrap penguin (Pygoscelis antarctica)",
          "Chinstrap penguin (Pygoscelis antarctica)",
          "Chinstrap penguin (Pygoscelis antarctica)",
          "Chinstrap penguin (Pygoscelis antarctica)",
          "Chinstrap penguin (Pygoscelis antarctica)",
          "Chinstrap penguin (Pygoscelis antarctica)",
          "Chinstrap penguin (Pygoscelis antarctica)",
          "Chinstrap penguin (Pygoscelis antarctica)",
          "Chinstrap penguin (Pygoscelis antarctica)",
          "Chinstrap penguin (Pygoscelis antarctica)",
          "Chinstrap penguin (Pygoscelis antarctica)",
          "Chinstrap penguin (Pygoscelis antarctica)",
          "Chinstrap penguin (Pygoscelis antarctica)",
          "Chinstrap penguin (Pygoscelis antarctica)",
          "Chinstrap penguin (Pygoscelis antarctica)",
          "Chinstrap penguin (Pygoscelis antarctica)",
          "Chinstrap penguin (Pygoscelis antarctica)",
          "Chinstrap penguin (Pygoscelis antarctica)",
          "Chinstrap penguin (Pygoscelis antarctica)",
          "Chinstrap penguin (Pygoscelis antarctica)",
          "Chinstrap penguin (Pygoscelis antarctica)"
         ],
         "y": [
          17.9,
          19.5,
          19.2,
          18.7,
          19.8,
          17.8,
          18.2,
          18.2,
          18.9,
          19.9,
          17.8,
          20.3,
          17.3,
          18.1,
          17.1,
          19.6,
          20,
          17.8,
          18.6,
          18.2,
          17.3,
          17.5,
          16.6,
          19.4,
          17.9,
          19,
          18.4,
          19,
          17.8,
          20,
          16.6,
          20.8,
          16.7,
          18.8,
          18.6,
          16.8,
          18.3,
          20.7,
          16.6,
          19.9,
          19.5,
          17.5,
          19.1,
          17,
          17.9,
          18.5,
          17.9,
          19.6,
          18.7,
          17.3,
          16.4,
          19,
          17.3,
          19.7,
          17.3,
          18.8,
          16.6,
          19.9,
          18.8,
          19.4,
          19.5,
          16.5,
          17,
          19.8,
          18.1,
          18.2,
          19,
          18.7
         ]
        }
       ],
       "layout": {
        "paper_bgcolor": "rgba(0,0,0,0)",
        "plot_bgcolor": "rgba(0,0,0,0)",
        "showlegend": true,
        "template": {
         "data": {
          "bar": [
           {
            "error_x": {
             "color": "#2a3f5f"
            },
            "error_y": {
             "color": "#2a3f5f"
            },
            "marker": {
             "line": {
              "color": "#E5ECF6",
              "width": 0.5
             }
            },
            "type": "bar"
           }
          ],
          "barpolar": [
           {
            "marker": {
             "line": {
              "color": "#E5ECF6",
              "width": 0.5
             }
            },
            "type": "barpolar"
           }
          ],
          "carpet": [
           {
            "aaxis": {
             "endlinecolor": "#2a3f5f",
             "gridcolor": "white",
             "linecolor": "white",
             "minorgridcolor": "white",
             "startlinecolor": "#2a3f5f"
            },
            "baxis": {
             "endlinecolor": "#2a3f5f",
             "gridcolor": "white",
             "linecolor": "white",
             "minorgridcolor": "white",
             "startlinecolor": "#2a3f5f"
            },
            "type": "carpet"
           }
          ],
          "choropleth": [
           {
            "colorbar": {
             "outlinewidth": 0,
             "ticks": ""
            },
            "type": "choropleth"
           }
          ],
          "contour": [
           {
            "colorbar": {
             "outlinewidth": 0,
             "ticks": ""
            },
            "colorscale": [
             [
              0,
              "#0d0887"
             ],
             [
              0.1111111111111111,
              "#46039f"
             ],
             [
              0.2222222222222222,
              "#7201a8"
             ],
             [
              0.3333333333333333,
              "#9c179e"
             ],
             [
              0.4444444444444444,
              "#bd3786"
             ],
             [
              0.5555555555555556,
              "#d8576b"
             ],
             [
              0.6666666666666666,
              "#ed7953"
             ],
             [
              0.7777777777777778,
              "#fb9f3a"
             ],
             [
              0.8888888888888888,
              "#fdca26"
             ],
             [
              1,
              "#f0f921"
             ]
            ],
            "type": "contour"
           }
          ],
          "contourcarpet": [
           {
            "colorbar": {
             "outlinewidth": 0,
             "ticks": ""
            },
            "type": "contourcarpet"
           }
          ],
          "heatmap": [
           {
            "colorbar": {
             "outlinewidth": 0,
             "ticks": ""
            },
            "colorscale": [
             [
              0,
              "#0d0887"
             ],
             [
              0.1111111111111111,
              "#46039f"
             ],
             [
              0.2222222222222222,
              "#7201a8"
             ],
             [
              0.3333333333333333,
              "#9c179e"
             ],
             [
              0.4444444444444444,
              "#bd3786"
             ],
             [
              0.5555555555555556,
              "#d8576b"
             ],
             [
              0.6666666666666666,
              "#ed7953"
             ],
             [
              0.7777777777777778,
              "#fb9f3a"
             ],
             [
              0.8888888888888888,
              "#fdca26"
             ],
             [
              1,
              "#f0f921"
             ]
            ],
            "type": "heatmap"
           }
          ],
          "heatmapgl": [
           {
            "colorbar": {
             "outlinewidth": 0,
             "ticks": ""
            },
            "colorscale": [
             [
              0,
              "#0d0887"
             ],
             [
              0.1111111111111111,
              "#46039f"
             ],
             [
              0.2222222222222222,
              "#7201a8"
             ],
             [
              0.3333333333333333,
              "#9c179e"
             ],
             [
              0.4444444444444444,
              "#bd3786"
             ],
             [
              0.5555555555555556,
              "#d8576b"
             ],
             [
              0.6666666666666666,
              "#ed7953"
             ],
             [
              0.7777777777777778,
              "#fb9f3a"
             ],
             [
              0.8888888888888888,
              "#fdca26"
             ],
             [
              1,
              "#f0f921"
             ]
            ],
            "type": "heatmapgl"
           }
          ],
          "histogram": [
           {
            "marker": {
             "colorbar": {
              "outlinewidth": 0,
              "ticks": ""
             }
            },
            "type": "histogram"
           }
          ],
          "histogram2d": [
           {
            "colorbar": {
             "outlinewidth": 0,
             "ticks": ""
            },
            "colorscale": [
             [
              0,
              "#0d0887"
             ],
             [
              0.1111111111111111,
              "#46039f"
             ],
             [
              0.2222222222222222,
              "#7201a8"
             ],
             [
              0.3333333333333333,
              "#9c179e"
             ],
             [
              0.4444444444444444,
              "#bd3786"
             ],
             [
              0.5555555555555556,
              "#d8576b"
             ],
             [
              0.6666666666666666,
              "#ed7953"
             ],
             [
              0.7777777777777778,
              "#fb9f3a"
             ],
             [
              0.8888888888888888,
              "#fdca26"
             ],
             [
              1,
              "#f0f921"
             ]
            ],
            "type": "histogram2d"
           }
          ],
          "histogram2dcontour": [
           {
            "colorbar": {
             "outlinewidth": 0,
             "ticks": ""
            },
            "colorscale": [
             [
              0,
              "#0d0887"
             ],
             [
              0.1111111111111111,
              "#46039f"
             ],
             [
              0.2222222222222222,
              "#7201a8"
             ],
             [
              0.3333333333333333,
              "#9c179e"
             ],
             [
              0.4444444444444444,
              "#bd3786"
             ],
             [
              0.5555555555555556,
              "#d8576b"
             ],
             [
              0.6666666666666666,
              "#ed7953"
             ],
             [
              0.7777777777777778,
              "#fb9f3a"
             ],
             [
              0.8888888888888888,
              "#fdca26"
             ],
             [
              1,
              "#f0f921"
             ]
            ],
            "type": "histogram2dcontour"
           }
          ],
          "mesh3d": [
           {
            "colorbar": {
             "outlinewidth": 0,
             "ticks": ""
            },
            "type": "mesh3d"
           }
          ],
          "parcoords": [
           {
            "line": {
             "colorbar": {
              "outlinewidth": 0,
              "ticks": ""
             }
            },
            "type": "parcoords"
           }
          ],
          "pie": [
           {
            "automargin": true,
            "type": "pie"
           }
          ],
          "scatter": [
           {
            "marker": {
             "colorbar": {
              "outlinewidth": 0,
              "ticks": ""
             }
            },
            "type": "scatter"
           }
          ],
          "scatter3d": [
           {
            "line": {
             "colorbar": {
              "outlinewidth": 0,
              "ticks": ""
             }
            },
            "marker": {
             "colorbar": {
              "outlinewidth": 0,
              "ticks": ""
             }
            },
            "type": "scatter3d"
           }
          ],
          "scattercarpet": [
           {
            "marker": {
             "colorbar": {
              "outlinewidth": 0,
              "ticks": ""
             }
            },
            "type": "scattercarpet"
           }
          ],
          "scattergeo": [
           {
            "marker": {
             "colorbar": {
              "outlinewidth": 0,
              "ticks": ""
             }
            },
            "type": "scattergeo"
           }
          ],
          "scattergl": [
           {
            "marker": {
             "colorbar": {
              "outlinewidth": 0,
              "ticks": ""
             }
            },
            "type": "scattergl"
           }
          ],
          "scattermapbox": [
           {
            "marker": {
             "colorbar": {
              "outlinewidth": 0,
              "ticks": ""
             }
            },
            "type": "scattermapbox"
           }
          ],
          "scatterpolar": [
           {
            "marker": {
             "colorbar": {
              "outlinewidth": 0,
              "ticks": ""
             }
            },
            "type": "scatterpolar"
           }
          ],
          "scatterpolargl": [
           {
            "marker": {
             "colorbar": {
              "outlinewidth": 0,
              "ticks": ""
             }
            },
            "type": "scatterpolargl"
           }
          ],
          "scatterternary": [
           {
            "marker": {
             "colorbar": {
              "outlinewidth": 0,
              "ticks": ""
             }
            },
            "type": "scatterternary"
           }
          ],
          "surface": [
           {
            "colorbar": {
             "outlinewidth": 0,
             "ticks": ""
            },
            "colorscale": [
             [
              0,
              "#0d0887"
             ],
             [
              0.1111111111111111,
              "#46039f"
             ],
             [
              0.2222222222222222,
              "#7201a8"
             ],
             [
              0.3333333333333333,
              "#9c179e"
             ],
             [
              0.4444444444444444,
              "#bd3786"
             ],
             [
              0.5555555555555556,
              "#d8576b"
             ],
             [
              0.6666666666666666,
              "#ed7953"
             ],
             [
              0.7777777777777778,
              "#fb9f3a"
             ],
             [
              0.8888888888888888,
              "#fdca26"
             ],
             [
              1,
              "#f0f921"
             ]
            ],
            "type": "surface"
           }
          ],
          "table": [
           {
            "cells": {
             "fill": {
              "color": "#EBF0F8"
             },
             "line": {
              "color": "white"
             }
            },
            "header": {
             "fill": {
              "color": "#C8D4E3"
             },
             "line": {
              "color": "white"
             }
            },
            "type": "table"
           }
          ]
         },
         "layout": {
          "annotationdefaults": {
           "arrowcolor": "#2a3f5f",
           "arrowhead": 0,
           "arrowwidth": 1
          },
          "coloraxis": {
           "colorbar": {
            "outlinewidth": 0,
            "ticks": ""
           }
          },
          "colorscale": {
           "diverging": [
            [
             0,
             "#8e0152"
            ],
            [
             0.1,
             "#c51b7d"
            ],
            [
             0.2,
             "#de77ae"
            ],
            [
             0.3,
             "#f1b6da"
            ],
            [
             0.4,
             "#fde0ef"
            ],
            [
             0.5,
             "#f7f7f7"
            ],
            [
             0.6,
             "#e6f5d0"
            ],
            [
             0.7,
             "#b8e186"
            ],
            [
             0.8,
             "#7fbc41"
            ],
            [
             0.9,
             "#4d9221"
            ],
            [
             1,
             "#276419"
            ]
           ],
           "sequential": [
            [
             0,
             "#0d0887"
            ],
            [
             0.1111111111111111,
             "#46039f"
            ],
            [
             0.2222222222222222,
             "#7201a8"
            ],
            [
             0.3333333333333333,
             "#9c179e"
            ],
            [
             0.4444444444444444,
             "#bd3786"
            ],
            [
             0.5555555555555556,
             "#d8576b"
            ],
            [
             0.6666666666666666,
             "#ed7953"
            ],
            [
             0.7777777777777778,
             "#fb9f3a"
            ],
            [
             0.8888888888888888,
             "#fdca26"
            ],
            [
             1,
             "#f0f921"
            ]
           ],
           "sequentialminus": [
            [
             0,
             "#0d0887"
            ],
            [
             0.1111111111111111,
             "#46039f"
            ],
            [
             0.2222222222222222,
             "#7201a8"
            ],
            [
             0.3333333333333333,
             "#9c179e"
            ],
            [
             0.4444444444444444,
             "#bd3786"
            ],
            [
             0.5555555555555556,
             "#d8576b"
            ],
            [
             0.6666666666666666,
             "#ed7953"
            ],
            [
             0.7777777777777778,
             "#fb9f3a"
            ],
            [
             0.8888888888888888,
             "#fdca26"
            ],
            [
             1,
             "#f0f921"
            ]
           ]
          },
          "colorway": [
           "#636efa",
           "#EF553B",
           "#00cc96",
           "#ab63fa",
           "#FFA15A",
           "#19d3f3",
           "#FF6692",
           "#B6E880",
           "#FF97FF",
           "#FECB52"
          ],
          "font": {
           "color": "#2a3f5f"
          },
          "geo": {
           "bgcolor": "white",
           "lakecolor": "white",
           "landcolor": "#E5ECF6",
           "showlakes": true,
           "showland": true,
           "subunitcolor": "white"
          },
          "hoverlabel": {
           "align": "left"
          },
          "hovermode": "closest",
          "mapbox": {
           "style": "light"
          },
          "paper_bgcolor": "white",
          "plot_bgcolor": "#E5ECF6",
          "polar": {
           "angularaxis": {
            "gridcolor": "white",
            "linecolor": "white",
            "ticks": ""
           },
           "bgcolor": "#E5ECF6",
           "radialaxis": {
            "gridcolor": "white",
            "linecolor": "white",
            "ticks": ""
           }
          },
          "scene": {
           "xaxis": {
            "backgroundcolor": "#E5ECF6",
            "gridcolor": "white",
            "gridwidth": 2,
            "linecolor": "white",
            "showbackground": true,
            "ticks": "",
            "zerolinecolor": "white"
           },
           "yaxis": {
            "backgroundcolor": "#E5ECF6",
            "gridcolor": "white",
            "gridwidth": 2,
            "linecolor": "white",
            "showbackground": true,
            "ticks": "",
            "zerolinecolor": "white"
           },
           "zaxis": {
            "backgroundcolor": "#E5ECF6",
            "gridcolor": "white",
            "gridwidth": 2,
            "linecolor": "white",
            "showbackground": true,
            "ticks": "",
            "zerolinecolor": "white"
           }
          },
          "shapedefaults": {
           "line": {
            "color": "#2a3f5f"
           }
          },
          "ternary": {
           "aaxis": {
            "gridcolor": "white",
            "linecolor": "white",
            "ticks": ""
           },
           "baxis": {
            "gridcolor": "white",
            "linecolor": "white",
            "ticks": ""
           },
           "bgcolor": "#E5ECF6",
           "caxis": {
            "gridcolor": "white",
            "linecolor": "white",
            "ticks": ""
           }
          },
          "title": {
           "x": 0.05
          },
          "xaxis": {
           "automargin": true,
           "gridcolor": "white",
           "linecolor": "white",
           "ticks": "",
           "title": {
            "standoff": 15
           },
           "zerolinecolor": "white",
           "zerolinewidth": 2
          },
          "yaxis": {
           "automargin": true,
           "gridcolor": "white",
           "linecolor": "white",
           "ticks": "",
           "title": {
            "standoff": 15
           },
           "zerolinecolor": "white",
           "zerolinewidth": 2
          }
         }
        },
        "title": {
         "text": "<b>Culmen Depth (mm) Distribution for the 3 Species</b>"
        },
        "width": 990,
        "xaxis": {
         "showgrid": true,
         "title": {
          "text": "Penguin Species"
         }
        },
        "yaxis": {
         "title": {
          "text": "Culmen Depth (mm)"
         }
        }
       }
      },
      "text/html": [
       "<div>\n",
       "        \n",
       "        \n",
       "            <div id=\"b1e09581-41ed-4a09-b2f3-825ad662d215\" class=\"plotly-graph-div\" style=\"height:525px; width:990px;\"></div>\n",
       "            <script type=\"text/javascript\">\n",
       "                require([\"plotly\"], function(Plotly) {\n",
       "                    window.PLOTLYENV=window.PLOTLYENV || {};\n",
       "                    \n",
       "                if (document.getElementById(\"b1e09581-41ed-4a09-b2f3-825ad662d215\")) {\n",
       "                    Plotly.newPlot(\n",
       "                        'b1e09581-41ed-4a09-b2f3-825ad662d215',\n",
       "                        [{\"box\": {\"visible\": true}, \"line\": {\"color\": \"darkorange\"}, \"meanline\": {\"visible\": true}, \"name\": \"Adelie Penguin\", \"points\": \"all\", \"type\": \"violin\", \"x\": [\"Adelie Penguin (Pygoscelis adeliae)\", \"Adelie Penguin (Pygoscelis adeliae)\", \"Adelie Penguin (Pygoscelis adeliae)\", \"Adelie Penguin (Pygoscelis adeliae)\", \"Adelie Penguin (Pygoscelis adeliae)\", \"Adelie Penguin (Pygoscelis adeliae)\", \"Adelie Penguin (Pygoscelis adeliae)\", \"Adelie Penguin (Pygoscelis adeliae)\", \"Adelie Penguin (Pygoscelis adeliae)\", \"Adelie Penguin (Pygoscelis adeliae)\", \"Adelie Penguin (Pygoscelis adeliae)\", \"Adelie Penguin (Pygoscelis adeliae)\", \"Adelie Penguin (Pygoscelis adeliae)\", \"Adelie Penguin (Pygoscelis adeliae)\", \"Adelie Penguin (Pygoscelis adeliae)\", \"Adelie Penguin (Pygoscelis adeliae)\", \"Adelie Penguin (Pygoscelis adeliae)\", \"Adelie Penguin (Pygoscelis adeliae)\", \"Adelie Penguin (Pygoscelis adeliae)\", \"Adelie Penguin (Pygoscelis adeliae)\", \"Adelie Penguin (Pygoscelis adeliae)\", \"Adelie Penguin (Pygoscelis adeliae)\", \"Adelie Penguin (Pygoscelis adeliae)\", \"Adelie Penguin (Pygoscelis adeliae)\", \"Adelie Penguin (Pygoscelis adeliae)\", \"Adelie Penguin (Pygoscelis adeliae)\", \"Adelie Penguin (Pygoscelis adeliae)\", \"Adelie Penguin (Pygoscelis adeliae)\", \"Adelie Penguin (Pygoscelis adeliae)\", \"Adelie Penguin (Pygoscelis adeliae)\", \"Adelie Penguin (Pygoscelis adeliae)\", \"Adelie Penguin (Pygoscelis adeliae)\", \"Adelie Penguin (Pygoscelis adeliae)\", \"Adelie Penguin (Pygoscelis adeliae)\", \"Adelie Penguin (Pygoscelis adeliae)\", \"Adelie Penguin (Pygoscelis adeliae)\", \"Adelie Penguin (Pygoscelis adeliae)\", \"Adelie Penguin (Pygoscelis adeliae)\", \"Adelie Penguin (Pygoscelis adeliae)\", \"Adelie Penguin (Pygoscelis adeliae)\", \"Adelie Penguin (Pygoscelis adeliae)\", \"Adelie Penguin (Pygoscelis adeliae)\", \"Adelie Penguin (Pygoscelis adeliae)\", \"Adelie Penguin (Pygoscelis adeliae)\", \"Adelie Penguin (Pygoscelis adeliae)\", \"Adelie Penguin (Pygoscelis adeliae)\", \"Adelie Penguin (Pygoscelis adeliae)\", \"Adelie Penguin (Pygoscelis adeliae)\", \"Adelie Penguin (Pygoscelis adeliae)\", \"Adelie Penguin (Pygoscelis adeliae)\", \"Adelie Penguin (Pygoscelis adeliae)\", \"Adelie Penguin (Pygoscelis adeliae)\", \"Adelie Penguin (Pygoscelis adeliae)\", \"Adelie Penguin (Pygoscelis adeliae)\", \"Adelie Penguin (Pygoscelis adeliae)\", \"Adelie Penguin (Pygoscelis adeliae)\", \"Adelie Penguin (Pygoscelis adeliae)\", \"Adelie Penguin (Pygoscelis adeliae)\", \"Adelie Penguin (Pygoscelis adeliae)\", \"Adelie Penguin (Pygoscelis adeliae)\", \"Adelie Penguin (Pygoscelis adeliae)\", \"Adelie Penguin (Pygoscelis adeliae)\", \"Adelie Penguin (Pygoscelis adeliae)\", \"Adelie Penguin (Pygoscelis adeliae)\", \"Adelie Penguin (Pygoscelis adeliae)\", \"Adelie Penguin (Pygoscelis adeliae)\", \"Adelie Penguin (Pygoscelis adeliae)\", \"Adelie Penguin (Pygoscelis adeliae)\", \"Adelie Penguin (Pygoscelis adeliae)\", \"Adelie Penguin (Pygoscelis adeliae)\", \"Adelie Penguin (Pygoscelis adeliae)\", \"Adelie Penguin (Pygoscelis adeliae)\", \"Adelie Penguin (Pygoscelis adeliae)\", \"Adelie Penguin (Pygoscelis adeliae)\", \"Adelie Penguin (Pygoscelis adeliae)\", \"Adelie Penguin (Pygoscelis adeliae)\", \"Adelie Penguin (Pygoscelis adeliae)\", \"Adelie Penguin (Pygoscelis adeliae)\", \"Adelie Penguin (Pygoscelis adeliae)\", \"Adelie Penguin (Pygoscelis adeliae)\", \"Adelie Penguin (Pygoscelis adeliae)\", \"Adelie Penguin (Pygoscelis adeliae)\", \"Adelie Penguin (Pygoscelis adeliae)\", \"Adelie Penguin (Pygoscelis adeliae)\", \"Adelie Penguin (Pygoscelis adeliae)\", \"Adelie Penguin (Pygoscelis adeliae)\", \"Adelie Penguin (Pygoscelis adeliae)\", \"Adelie Penguin (Pygoscelis adeliae)\", \"Adelie Penguin (Pygoscelis adeliae)\", \"Adelie Penguin (Pygoscelis adeliae)\", \"Adelie Penguin (Pygoscelis adeliae)\", \"Adelie Penguin (Pygoscelis adeliae)\", \"Adelie Penguin (Pygoscelis adeliae)\", \"Adelie Penguin (Pygoscelis adeliae)\", \"Adelie Penguin (Pygoscelis adeliae)\", \"Adelie Penguin (Pygoscelis adeliae)\", \"Adelie Penguin (Pygoscelis adeliae)\", \"Adelie Penguin (Pygoscelis adeliae)\", \"Adelie Penguin (Pygoscelis adeliae)\", \"Adelie Penguin (Pygoscelis adeliae)\", \"Adelie Penguin (Pygoscelis adeliae)\", \"Adelie Penguin (Pygoscelis adeliae)\", \"Adelie Penguin (Pygoscelis adeliae)\", \"Adelie Penguin (Pygoscelis adeliae)\", \"Adelie Penguin (Pygoscelis adeliae)\", \"Adelie Penguin (Pygoscelis adeliae)\", \"Adelie Penguin (Pygoscelis adeliae)\", \"Adelie Penguin (Pygoscelis adeliae)\", \"Adelie Penguin (Pygoscelis adeliae)\", \"Adelie Penguin (Pygoscelis adeliae)\", \"Adelie Penguin (Pygoscelis adeliae)\", \"Adelie Penguin (Pygoscelis adeliae)\", \"Adelie Penguin (Pygoscelis adeliae)\", \"Adelie Penguin (Pygoscelis adeliae)\", \"Adelie Penguin (Pygoscelis adeliae)\", \"Adelie Penguin (Pygoscelis adeliae)\", \"Adelie Penguin (Pygoscelis adeliae)\", \"Adelie Penguin (Pygoscelis adeliae)\", \"Adelie Penguin (Pygoscelis adeliae)\", \"Adelie Penguin (Pygoscelis adeliae)\", \"Adelie Penguin (Pygoscelis adeliae)\", \"Adelie Penguin (Pygoscelis adeliae)\", \"Adelie Penguin (Pygoscelis adeliae)\", \"Adelie Penguin (Pygoscelis adeliae)\", \"Adelie Penguin (Pygoscelis adeliae)\", \"Adelie Penguin (Pygoscelis adeliae)\", \"Adelie Penguin (Pygoscelis adeliae)\", \"Adelie Penguin (Pygoscelis adeliae)\", \"Adelie Penguin (Pygoscelis adeliae)\", \"Adelie Penguin (Pygoscelis adeliae)\", \"Adelie Penguin (Pygoscelis adeliae)\", \"Adelie Penguin (Pygoscelis adeliae)\", \"Adelie Penguin (Pygoscelis adeliae)\", \"Adelie Penguin (Pygoscelis adeliae)\", \"Adelie Penguin (Pygoscelis adeliae)\", \"Adelie Penguin (Pygoscelis adeliae)\", \"Adelie Penguin (Pygoscelis adeliae)\", \"Adelie Penguin (Pygoscelis adeliae)\", \"Adelie Penguin (Pygoscelis adeliae)\", \"Adelie Penguin (Pygoscelis adeliae)\", \"Adelie Penguin (Pygoscelis adeliae)\", \"Adelie Penguin (Pygoscelis adeliae)\", \"Adelie Penguin (Pygoscelis adeliae)\", \"Adelie Penguin (Pygoscelis adeliae)\", \"Adelie Penguin (Pygoscelis adeliae)\", \"Adelie Penguin (Pygoscelis adeliae)\", \"Adelie Penguin (Pygoscelis adeliae)\", \"Adelie Penguin (Pygoscelis adeliae)\", \"Adelie Penguin (Pygoscelis adeliae)\", \"Adelie Penguin (Pygoscelis adeliae)\", \"Adelie Penguin (Pygoscelis adeliae)\", \"Adelie Penguin (Pygoscelis adeliae)\"], \"y\": [18.7, 17.4, 18.0, 17.0, 19.3, 20.6, 17.8, 19.6, 18.1, 20.2, 17.1, 17.3, 17.6, 21.2, 21.1, 17.8, 19.0, 20.7, 18.4, 21.5, 18.3, 18.7, 19.2, 18.1, 17.2, 18.9, 18.6, 17.9, 18.6, 18.9, 16.7, 18.1, 17.8, 18.9, 17.0, 21.1, 20.0, 18.5, 19.3, 19.1, 18.0, 18.4, 18.5, 19.7, 16.9, 18.8, 19.0, 18.9, 17.9, 21.2, 17.7, 18.9, 17.9, 19.5, 18.1, 18.6, 17.5, 18.8, 16.6, 19.1, 16.9, 21.1, 17.0, 18.2, 17.1, 18.0, 16.2, 19.1, 16.6, 19.4, 19.0, 18.4, 17.2, 18.9, 17.5, 18.5, 16.8, 19.4, 16.1, 19.1, 17.2, 17.6, 18.8, 19.4, 17.8, 20.3, 19.5, 18.6, 19.2, 18.8, 18.0, 18.1, 17.1, 18.1, 17.3, 18.9, 18.6, 18.5, 16.1, 18.5, 17.9, 20.0, 16.0, 20.0, 18.6, 18.9, 17.2, 20.0, 17.0, 19.0, 16.5, 20.3, 17.7, 19.5, 20.7, 18.3, 17.0, 20.5, 17.0, 18.6, 17.2, 19.8, 17.0, 18.5, 15.9, 19.0, 17.6, 18.3, 17.1, 18.0, 17.9, 19.2, 18.5, 18.5, 17.6, 17.5, 17.5, 20.1, 16.5, 17.9, 17.1, 17.2, 15.5, 17.0, 16.8, 18.7, 18.6, 18.4, 17.8, 18.1, 17.1, 18.5]}, {\"box\": {\"visible\": true}, \"line\": {\"color\": \"teal\"}, \"meanline\": {\"visible\": true}, \"name\": \"Gentoo penguin\", \"points\": \"all\", \"type\": \"violin\", \"x\": [\"Gentoo penguin (Pygoscelis papua)\", \"Gentoo penguin (Pygoscelis papua)\", \"Gentoo penguin (Pygoscelis papua)\", \"Gentoo penguin (Pygoscelis papua)\", \"Gentoo penguin (Pygoscelis papua)\", \"Gentoo penguin (Pygoscelis papua)\", \"Gentoo penguin (Pygoscelis papua)\", \"Gentoo penguin (Pygoscelis papua)\", \"Gentoo penguin (Pygoscelis papua)\", \"Gentoo penguin (Pygoscelis papua)\", \"Gentoo penguin (Pygoscelis papua)\", \"Gentoo penguin (Pygoscelis papua)\", \"Gentoo penguin (Pygoscelis papua)\", \"Gentoo penguin (Pygoscelis papua)\", \"Gentoo penguin (Pygoscelis papua)\", \"Gentoo penguin (Pygoscelis papua)\", \"Gentoo penguin (Pygoscelis papua)\", \"Gentoo penguin (Pygoscelis papua)\", \"Gentoo penguin (Pygoscelis papua)\", \"Gentoo penguin (Pygoscelis papua)\", \"Gentoo penguin (Pygoscelis papua)\", \"Gentoo penguin (Pygoscelis papua)\", \"Gentoo penguin (Pygoscelis papua)\", \"Gentoo penguin (Pygoscelis papua)\", \"Gentoo penguin (Pygoscelis papua)\", \"Gentoo penguin (Pygoscelis papua)\", \"Gentoo penguin (Pygoscelis papua)\", \"Gentoo penguin (Pygoscelis papua)\", \"Gentoo penguin (Pygoscelis papua)\", \"Gentoo penguin (Pygoscelis papua)\", \"Gentoo penguin (Pygoscelis papua)\", \"Gentoo penguin (Pygoscelis papua)\", \"Gentoo penguin (Pygoscelis papua)\", \"Gentoo penguin (Pygoscelis papua)\", \"Gentoo penguin (Pygoscelis papua)\", \"Gentoo penguin (Pygoscelis papua)\", \"Gentoo penguin (Pygoscelis papua)\", \"Gentoo penguin (Pygoscelis papua)\", \"Gentoo penguin (Pygoscelis papua)\", \"Gentoo penguin (Pygoscelis papua)\", \"Gentoo penguin (Pygoscelis papua)\", \"Gentoo penguin (Pygoscelis papua)\", \"Gentoo penguin (Pygoscelis papua)\", \"Gentoo penguin (Pygoscelis papua)\", \"Gentoo penguin (Pygoscelis papua)\", \"Gentoo penguin (Pygoscelis papua)\", \"Gentoo penguin (Pygoscelis papua)\", \"Gentoo penguin (Pygoscelis papua)\", \"Gentoo penguin (Pygoscelis papua)\", \"Gentoo penguin (Pygoscelis papua)\", \"Gentoo penguin (Pygoscelis papua)\", \"Gentoo penguin (Pygoscelis papua)\", \"Gentoo penguin (Pygoscelis papua)\", \"Gentoo penguin (Pygoscelis papua)\", \"Gentoo penguin (Pygoscelis papua)\", \"Gentoo penguin (Pygoscelis papua)\", \"Gentoo penguin (Pygoscelis papua)\", \"Gentoo penguin (Pygoscelis papua)\", \"Gentoo penguin (Pygoscelis papua)\", \"Gentoo penguin (Pygoscelis papua)\", \"Gentoo penguin (Pygoscelis papua)\", \"Gentoo penguin (Pygoscelis papua)\", \"Gentoo penguin (Pygoscelis papua)\", \"Gentoo penguin (Pygoscelis papua)\", \"Gentoo penguin (Pygoscelis papua)\", \"Gentoo penguin (Pygoscelis papua)\", \"Gentoo penguin (Pygoscelis papua)\", \"Gentoo penguin (Pygoscelis papua)\", \"Gentoo penguin (Pygoscelis papua)\", \"Gentoo penguin (Pygoscelis papua)\", \"Gentoo penguin (Pygoscelis papua)\", \"Gentoo penguin (Pygoscelis papua)\", \"Gentoo penguin (Pygoscelis papua)\", \"Gentoo penguin (Pygoscelis papua)\", \"Gentoo penguin (Pygoscelis papua)\", \"Gentoo penguin (Pygoscelis papua)\", \"Gentoo penguin (Pygoscelis papua)\", \"Gentoo penguin (Pygoscelis papua)\", \"Gentoo penguin (Pygoscelis papua)\", \"Gentoo penguin (Pygoscelis papua)\", \"Gentoo penguin (Pygoscelis papua)\", \"Gentoo penguin (Pygoscelis papua)\", \"Gentoo penguin (Pygoscelis papua)\", \"Gentoo penguin (Pygoscelis papua)\", \"Gentoo penguin (Pygoscelis papua)\", \"Gentoo penguin (Pygoscelis papua)\", \"Gentoo penguin (Pygoscelis papua)\", \"Gentoo penguin (Pygoscelis papua)\", \"Gentoo penguin (Pygoscelis papua)\", \"Gentoo penguin (Pygoscelis papua)\", \"Gentoo penguin (Pygoscelis papua)\", \"Gentoo penguin (Pygoscelis papua)\", \"Gentoo penguin (Pygoscelis papua)\", \"Gentoo penguin (Pygoscelis papua)\", \"Gentoo penguin (Pygoscelis papua)\", \"Gentoo penguin (Pygoscelis papua)\", \"Gentoo penguin (Pygoscelis papua)\", \"Gentoo penguin (Pygoscelis papua)\", \"Gentoo penguin (Pygoscelis papua)\", \"Gentoo penguin (Pygoscelis papua)\", \"Gentoo penguin (Pygoscelis papua)\", \"Gentoo penguin (Pygoscelis papua)\", \"Gentoo penguin (Pygoscelis papua)\", \"Gentoo penguin (Pygoscelis papua)\", \"Gentoo penguin (Pygoscelis papua)\", \"Gentoo penguin (Pygoscelis papua)\", \"Gentoo penguin (Pygoscelis papua)\", \"Gentoo penguin (Pygoscelis papua)\", \"Gentoo penguin (Pygoscelis papua)\", \"Gentoo penguin (Pygoscelis papua)\", \"Gentoo penguin (Pygoscelis papua)\", \"Gentoo penguin (Pygoscelis papua)\", \"Gentoo penguin (Pygoscelis papua)\", \"Gentoo penguin (Pygoscelis papua)\", \"Gentoo penguin (Pygoscelis papua)\", \"Gentoo penguin (Pygoscelis papua)\", \"Gentoo penguin (Pygoscelis papua)\", \"Gentoo penguin (Pygoscelis papua)\", \"Gentoo penguin (Pygoscelis papua)\", \"Gentoo penguin (Pygoscelis papua)\", \"Gentoo penguin (Pygoscelis papua)\", \"Gentoo penguin (Pygoscelis papua)\", \"Gentoo penguin (Pygoscelis papua)\", \"Gentoo penguin (Pygoscelis papua)\"], \"y\": [13.2, 16.3, 14.1, 15.2, 14.5, 13.5, 14.6, 15.3, 13.4, 15.4, 13.7, 16.1, 13.7, 14.6, 14.6, 15.7, 13.5, 15.2, 14.5, 15.1, 14.3, 14.5, 14.5, 15.8, 13.1, 15.1, 14.3, 15.0, 14.3, 15.3, 15.3, 14.2, 14.5, 17.0, 14.8, 16.3, 13.7, 17.3, 13.6, 15.7, 13.7, 16.0, 13.7, 15.0, 15.9, 13.9, 13.9, 15.9, 13.3, 15.8, 14.2, 14.1, 14.4, 15.0, 14.4, 15.4, 13.9, 15.0, 14.5, 15.3, 13.8, 14.9, 13.9, 15.7, 14.2, 16.8, 14.4, 16.2, 14.2, 15.0, 15.0, 15.6, 15.6, 14.8, 15.0, 16.0, 14.2, 16.3, 13.8, 16.4, 14.5, 15.6, 14.6, 15.9, 13.8, 17.3, 14.4, 14.2, 14.0, 17.0, 15.0, 17.1, 14.5, 16.1, 14.7, 15.7, 15.8, 14.6, 14.4, 16.5, 15.0, 17.0, 15.5, 15.0, 13.8, 16.1, 14.7, 15.8, 14.0, 15.1, 15.2, 15.9, 15.2, 16.3, 14.1, 16.0, 15.7, 16.2, 13.7, 17.0, 14.3, 15.7, 14.8, 16.1]}, {\"box\": {\"visible\": true}, \"line\": {\"color\": \"mediumorchid\"}, \"meanline\": {\"visible\": true}, \"name\": \"Chinstrap penguin\", \"points\": \"all\", \"type\": \"violin\", \"x\": [\"Chinstrap penguin (Pygoscelis antarctica)\", \"Chinstrap penguin (Pygoscelis antarctica)\", \"Chinstrap penguin (Pygoscelis antarctica)\", \"Chinstrap penguin (Pygoscelis antarctica)\", \"Chinstrap penguin (Pygoscelis antarctica)\", \"Chinstrap penguin (Pygoscelis antarctica)\", \"Chinstrap penguin (Pygoscelis antarctica)\", \"Chinstrap penguin (Pygoscelis antarctica)\", \"Chinstrap penguin (Pygoscelis antarctica)\", \"Chinstrap penguin (Pygoscelis antarctica)\", \"Chinstrap penguin (Pygoscelis antarctica)\", \"Chinstrap penguin (Pygoscelis antarctica)\", \"Chinstrap penguin (Pygoscelis antarctica)\", \"Chinstrap penguin (Pygoscelis antarctica)\", \"Chinstrap penguin (Pygoscelis antarctica)\", \"Chinstrap penguin (Pygoscelis antarctica)\", \"Chinstrap penguin (Pygoscelis antarctica)\", \"Chinstrap penguin (Pygoscelis antarctica)\", \"Chinstrap penguin (Pygoscelis antarctica)\", \"Chinstrap penguin (Pygoscelis antarctica)\", \"Chinstrap penguin (Pygoscelis antarctica)\", \"Chinstrap penguin (Pygoscelis antarctica)\", \"Chinstrap penguin (Pygoscelis antarctica)\", \"Chinstrap penguin (Pygoscelis antarctica)\", \"Chinstrap penguin (Pygoscelis antarctica)\", \"Chinstrap penguin (Pygoscelis antarctica)\", \"Chinstrap penguin (Pygoscelis antarctica)\", \"Chinstrap penguin (Pygoscelis antarctica)\", \"Chinstrap penguin (Pygoscelis antarctica)\", \"Chinstrap penguin (Pygoscelis antarctica)\", \"Chinstrap penguin (Pygoscelis antarctica)\", \"Chinstrap penguin (Pygoscelis antarctica)\", \"Chinstrap penguin (Pygoscelis antarctica)\", \"Chinstrap penguin (Pygoscelis antarctica)\", \"Chinstrap penguin (Pygoscelis antarctica)\", \"Chinstrap penguin (Pygoscelis antarctica)\", \"Chinstrap penguin (Pygoscelis antarctica)\", \"Chinstrap penguin (Pygoscelis antarctica)\", \"Chinstrap penguin (Pygoscelis antarctica)\", \"Chinstrap penguin (Pygoscelis antarctica)\", \"Chinstrap penguin (Pygoscelis antarctica)\", \"Chinstrap penguin (Pygoscelis antarctica)\", \"Chinstrap penguin (Pygoscelis antarctica)\", \"Chinstrap penguin (Pygoscelis antarctica)\", \"Chinstrap penguin (Pygoscelis antarctica)\", \"Chinstrap penguin (Pygoscelis antarctica)\", \"Chinstrap penguin (Pygoscelis antarctica)\", \"Chinstrap penguin (Pygoscelis antarctica)\", \"Chinstrap penguin (Pygoscelis antarctica)\", \"Chinstrap penguin (Pygoscelis antarctica)\", \"Chinstrap penguin (Pygoscelis antarctica)\", \"Chinstrap penguin (Pygoscelis antarctica)\", \"Chinstrap penguin (Pygoscelis antarctica)\", \"Chinstrap penguin (Pygoscelis antarctica)\", \"Chinstrap penguin (Pygoscelis antarctica)\", \"Chinstrap penguin (Pygoscelis antarctica)\", \"Chinstrap penguin (Pygoscelis antarctica)\", \"Chinstrap penguin (Pygoscelis antarctica)\", \"Chinstrap penguin (Pygoscelis antarctica)\", \"Chinstrap penguin (Pygoscelis antarctica)\", \"Chinstrap penguin (Pygoscelis antarctica)\", \"Chinstrap penguin (Pygoscelis antarctica)\", \"Chinstrap penguin (Pygoscelis antarctica)\", \"Chinstrap penguin (Pygoscelis antarctica)\", \"Chinstrap penguin (Pygoscelis antarctica)\", \"Chinstrap penguin (Pygoscelis antarctica)\", \"Chinstrap penguin (Pygoscelis antarctica)\", \"Chinstrap penguin (Pygoscelis antarctica)\"], \"y\": [17.9, 19.5, 19.2, 18.7, 19.8, 17.8, 18.2, 18.2, 18.9, 19.9, 17.8, 20.3, 17.3, 18.1, 17.1, 19.6, 20.0, 17.8, 18.6, 18.2, 17.3, 17.5, 16.6, 19.4, 17.9, 19.0, 18.4, 19.0, 17.8, 20.0, 16.6, 20.8, 16.7, 18.8, 18.6, 16.8, 18.3, 20.7, 16.6, 19.9, 19.5, 17.5, 19.1, 17.0, 17.9, 18.5, 17.9, 19.6, 18.7, 17.3, 16.4, 19.0, 17.3, 19.7, 17.3, 18.8, 16.6, 19.9, 18.8, 19.4, 19.5, 16.5, 17.0, 19.8, 18.1, 18.2, 19.0, 18.7]}],\n",
       "                        {\"paper_bgcolor\": \"rgba(0,0,0,0)\", \"plot_bgcolor\": \"rgba(0,0,0,0)\", \"showlegend\": true, \"template\": {\"data\": {\"bar\": [{\"error_x\": {\"color\": \"#2a3f5f\"}, \"error_y\": {\"color\": \"#2a3f5f\"}, \"marker\": {\"line\": {\"color\": \"#E5ECF6\", \"width\": 0.5}}, \"type\": \"bar\"}], \"barpolar\": [{\"marker\": {\"line\": {\"color\": \"#E5ECF6\", \"width\": 0.5}}, \"type\": \"barpolar\"}], \"carpet\": [{\"aaxis\": {\"endlinecolor\": \"#2a3f5f\", \"gridcolor\": \"white\", \"linecolor\": \"white\", \"minorgridcolor\": \"white\", \"startlinecolor\": \"#2a3f5f\"}, \"baxis\": {\"endlinecolor\": \"#2a3f5f\", \"gridcolor\": \"white\", \"linecolor\": \"white\", \"minorgridcolor\": \"white\", \"startlinecolor\": \"#2a3f5f\"}, \"type\": \"carpet\"}], \"choropleth\": [{\"colorbar\": {\"outlinewidth\": 0, \"ticks\": \"\"}, \"type\": \"choropleth\"}], \"contour\": [{\"colorbar\": {\"outlinewidth\": 0, \"ticks\": \"\"}, \"colorscale\": [[0.0, \"#0d0887\"], [0.1111111111111111, \"#46039f\"], [0.2222222222222222, \"#7201a8\"], [0.3333333333333333, \"#9c179e\"], [0.4444444444444444, \"#bd3786\"], [0.5555555555555556, \"#d8576b\"], [0.6666666666666666, \"#ed7953\"], [0.7777777777777778, \"#fb9f3a\"], [0.8888888888888888, \"#fdca26\"], [1.0, \"#f0f921\"]], \"type\": \"contour\"}], \"contourcarpet\": [{\"colorbar\": {\"outlinewidth\": 0, \"ticks\": \"\"}, \"type\": \"contourcarpet\"}], \"heatmap\": [{\"colorbar\": {\"outlinewidth\": 0, \"ticks\": \"\"}, \"colorscale\": [[0.0, \"#0d0887\"], [0.1111111111111111, \"#46039f\"], [0.2222222222222222, \"#7201a8\"], [0.3333333333333333, \"#9c179e\"], [0.4444444444444444, \"#bd3786\"], [0.5555555555555556, \"#d8576b\"], [0.6666666666666666, \"#ed7953\"], [0.7777777777777778, \"#fb9f3a\"], [0.8888888888888888, \"#fdca26\"], [1.0, \"#f0f921\"]], \"type\": \"heatmap\"}], \"heatmapgl\": [{\"colorbar\": {\"outlinewidth\": 0, \"ticks\": \"\"}, \"colorscale\": [[0.0, \"#0d0887\"], [0.1111111111111111, \"#46039f\"], [0.2222222222222222, \"#7201a8\"], [0.3333333333333333, \"#9c179e\"], [0.4444444444444444, \"#bd3786\"], [0.5555555555555556, \"#d8576b\"], [0.6666666666666666, \"#ed7953\"], [0.7777777777777778, \"#fb9f3a\"], [0.8888888888888888, \"#fdca26\"], [1.0, \"#f0f921\"]], \"type\": \"heatmapgl\"}], \"histogram\": [{\"marker\": {\"colorbar\": {\"outlinewidth\": 0, \"ticks\": \"\"}}, \"type\": \"histogram\"}], \"histogram2d\": [{\"colorbar\": {\"outlinewidth\": 0, \"ticks\": \"\"}, \"colorscale\": [[0.0, \"#0d0887\"], [0.1111111111111111, \"#46039f\"], [0.2222222222222222, \"#7201a8\"], [0.3333333333333333, \"#9c179e\"], [0.4444444444444444, \"#bd3786\"], [0.5555555555555556, \"#d8576b\"], [0.6666666666666666, \"#ed7953\"], [0.7777777777777778, \"#fb9f3a\"], [0.8888888888888888, \"#fdca26\"], [1.0, \"#f0f921\"]], \"type\": \"histogram2d\"}], \"histogram2dcontour\": [{\"colorbar\": {\"outlinewidth\": 0, \"ticks\": \"\"}, \"colorscale\": [[0.0, \"#0d0887\"], [0.1111111111111111, \"#46039f\"], [0.2222222222222222, \"#7201a8\"], [0.3333333333333333, \"#9c179e\"], [0.4444444444444444, \"#bd3786\"], [0.5555555555555556, \"#d8576b\"], [0.6666666666666666, \"#ed7953\"], [0.7777777777777778, \"#fb9f3a\"], [0.8888888888888888, \"#fdca26\"], [1.0, \"#f0f921\"]], \"type\": \"histogram2dcontour\"}], \"mesh3d\": [{\"colorbar\": {\"outlinewidth\": 0, \"ticks\": \"\"}, \"type\": \"mesh3d\"}], \"parcoords\": [{\"line\": {\"colorbar\": {\"outlinewidth\": 0, \"ticks\": \"\"}}, \"type\": \"parcoords\"}], \"pie\": [{\"automargin\": true, \"type\": \"pie\"}], \"scatter\": [{\"marker\": {\"colorbar\": {\"outlinewidth\": 0, \"ticks\": \"\"}}, \"type\": \"scatter\"}], \"scatter3d\": [{\"line\": {\"colorbar\": {\"outlinewidth\": 0, \"ticks\": \"\"}}, \"marker\": {\"colorbar\": {\"outlinewidth\": 0, \"ticks\": \"\"}}, \"type\": \"scatter3d\"}], \"scattercarpet\": [{\"marker\": {\"colorbar\": {\"outlinewidth\": 0, \"ticks\": \"\"}}, \"type\": \"scattercarpet\"}], \"scattergeo\": [{\"marker\": {\"colorbar\": {\"outlinewidth\": 0, \"ticks\": \"\"}}, \"type\": \"scattergeo\"}], \"scattergl\": [{\"marker\": {\"colorbar\": {\"outlinewidth\": 0, \"ticks\": \"\"}}, \"type\": \"scattergl\"}], \"scattermapbox\": [{\"marker\": {\"colorbar\": {\"outlinewidth\": 0, \"ticks\": \"\"}}, \"type\": \"scattermapbox\"}], \"scatterpolar\": [{\"marker\": {\"colorbar\": {\"outlinewidth\": 0, \"ticks\": \"\"}}, \"type\": \"scatterpolar\"}], \"scatterpolargl\": [{\"marker\": {\"colorbar\": {\"outlinewidth\": 0, \"ticks\": \"\"}}, \"type\": \"scatterpolargl\"}], \"scatterternary\": [{\"marker\": {\"colorbar\": {\"outlinewidth\": 0, \"ticks\": \"\"}}, \"type\": \"scatterternary\"}], \"surface\": [{\"colorbar\": {\"outlinewidth\": 0, \"ticks\": \"\"}, \"colorscale\": [[0.0, \"#0d0887\"], [0.1111111111111111, \"#46039f\"], [0.2222222222222222, \"#7201a8\"], [0.3333333333333333, \"#9c179e\"], [0.4444444444444444, \"#bd3786\"], [0.5555555555555556, \"#d8576b\"], [0.6666666666666666, \"#ed7953\"], [0.7777777777777778, \"#fb9f3a\"], [0.8888888888888888, \"#fdca26\"], [1.0, \"#f0f921\"]], \"type\": \"surface\"}], \"table\": [{\"cells\": {\"fill\": {\"color\": \"#EBF0F8\"}, \"line\": {\"color\": \"white\"}}, \"header\": {\"fill\": {\"color\": \"#C8D4E3\"}, \"line\": {\"color\": \"white\"}}, \"type\": \"table\"}]}, \"layout\": {\"annotationdefaults\": {\"arrowcolor\": \"#2a3f5f\", \"arrowhead\": 0, \"arrowwidth\": 1}, \"coloraxis\": {\"colorbar\": {\"outlinewidth\": 0, \"ticks\": \"\"}}, \"colorscale\": {\"diverging\": [[0, \"#8e0152\"], [0.1, \"#c51b7d\"], [0.2, \"#de77ae\"], [0.3, \"#f1b6da\"], [0.4, \"#fde0ef\"], [0.5, \"#f7f7f7\"], [0.6, \"#e6f5d0\"], [0.7, \"#b8e186\"], [0.8, \"#7fbc41\"], [0.9, \"#4d9221\"], [1, \"#276419\"]], \"sequential\": [[0.0, \"#0d0887\"], [0.1111111111111111, \"#46039f\"], [0.2222222222222222, \"#7201a8\"], [0.3333333333333333, \"#9c179e\"], [0.4444444444444444, \"#bd3786\"], [0.5555555555555556, \"#d8576b\"], [0.6666666666666666, \"#ed7953\"], [0.7777777777777778, \"#fb9f3a\"], [0.8888888888888888, \"#fdca26\"], [1.0, \"#f0f921\"]], \"sequentialminus\": [[0.0, \"#0d0887\"], [0.1111111111111111, \"#46039f\"], [0.2222222222222222, \"#7201a8\"], [0.3333333333333333, \"#9c179e\"], [0.4444444444444444, \"#bd3786\"], [0.5555555555555556, \"#d8576b\"], [0.6666666666666666, \"#ed7953\"], [0.7777777777777778, \"#fb9f3a\"], [0.8888888888888888, \"#fdca26\"], [1.0, \"#f0f921\"]]}, \"colorway\": [\"#636efa\", \"#EF553B\", \"#00cc96\", \"#ab63fa\", \"#FFA15A\", \"#19d3f3\", \"#FF6692\", \"#B6E880\", \"#FF97FF\", \"#FECB52\"], \"font\": {\"color\": \"#2a3f5f\"}, \"geo\": {\"bgcolor\": \"white\", \"lakecolor\": \"white\", \"landcolor\": \"#E5ECF6\", \"showlakes\": true, \"showland\": true, \"subunitcolor\": \"white\"}, \"hoverlabel\": {\"align\": \"left\"}, \"hovermode\": \"closest\", \"mapbox\": {\"style\": \"light\"}, \"paper_bgcolor\": \"white\", \"plot_bgcolor\": \"#E5ECF6\", \"polar\": {\"angularaxis\": {\"gridcolor\": \"white\", \"linecolor\": \"white\", \"ticks\": \"\"}, \"bgcolor\": \"#E5ECF6\", \"radialaxis\": {\"gridcolor\": \"white\", \"linecolor\": \"white\", \"ticks\": \"\"}}, \"scene\": {\"xaxis\": {\"backgroundcolor\": \"#E5ECF6\", \"gridcolor\": \"white\", \"gridwidth\": 2, \"linecolor\": \"white\", \"showbackground\": true, \"ticks\": \"\", \"zerolinecolor\": \"white\"}, \"yaxis\": {\"backgroundcolor\": \"#E5ECF6\", \"gridcolor\": \"white\", \"gridwidth\": 2, \"linecolor\": \"white\", \"showbackground\": true, \"ticks\": \"\", \"zerolinecolor\": \"white\"}, \"zaxis\": {\"backgroundcolor\": \"#E5ECF6\", \"gridcolor\": \"white\", \"gridwidth\": 2, \"linecolor\": \"white\", \"showbackground\": true, \"ticks\": \"\", \"zerolinecolor\": \"white\"}}, \"shapedefaults\": {\"line\": {\"color\": \"#2a3f5f\"}}, \"ternary\": {\"aaxis\": {\"gridcolor\": \"white\", \"linecolor\": \"white\", \"ticks\": \"\"}, \"baxis\": {\"gridcolor\": \"white\", \"linecolor\": \"white\", \"ticks\": \"\"}, \"bgcolor\": \"#E5ECF6\", \"caxis\": {\"gridcolor\": \"white\", \"linecolor\": \"white\", \"ticks\": \"\"}}, \"title\": {\"x\": 0.05}, \"xaxis\": {\"automargin\": true, \"gridcolor\": \"white\", \"linecolor\": \"white\", \"ticks\": \"\", \"title\": {\"standoff\": 15}, \"zerolinecolor\": \"white\", \"zerolinewidth\": 2}, \"yaxis\": {\"automargin\": true, \"gridcolor\": \"white\", \"linecolor\": \"white\", \"ticks\": \"\", \"title\": {\"standoff\": 15}, \"zerolinecolor\": \"white\", \"zerolinewidth\": 2}}}, \"title\": {\"text\": \"<b>Culmen Depth (mm) Distribution for the 3 Species</b>\"}, \"width\": 990, \"xaxis\": {\"showgrid\": true, \"title\": {\"text\": \"Penguin Species\"}}, \"yaxis\": {\"title\": {\"text\": \"Culmen Depth (mm)\"}}},\n",
       "                        {\"responsive\": true}\n",
       "                    ).then(function(){\n",
       "                            \n",
       "var gd = document.getElementById('b1e09581-41ed-4a09-b2f3-825ad662d215');\n",
       "var x = new MutationObserver(function (mutations, observer) {{\n",
       "        var display = window.getComputedStyle(gd).display;\n",
       "        if (!display || display === 'none') {{\n",
       "            console.log([gd, 'removed!']);\n",
       "            Plotly.purge(gd);\n",
       "            observer.disconnect();\n",
       "        }}\n",
       "}});\n",
       "\n",
       "// Listen for the removal of the full notebook cells\n",
       "var notebookContainer = gd.closest('#notebook-container');\n",
       "if (notebookContainer) {{\n",
       "    x.observe(notebookContainer, {childList: true});\n",
       "}}\n",
       "\n",
       "// Listen for the clearing of the current output cell\n",
       "var outputEl = gd.closest('.output');\n",
       "if (outputEl) {{\n",
       "    x.observe(outputEl, {childList: true});\n",
       "}}\n",
       "\n",
       "                        })\n",
       "                };\n",
       "                });\n",
       "            </script>\n",
       "        </div>"
      ]
     },
     "metadata": {},
     "output_type": "display_data"
    },
    {
     "data": {
      "application/javascript": [
       "\n",
       "            setTimeout(function() {\n",
       "                var nbb_cell_id = 30;\n",
       "                var nbb_unformatted_code = \"# Culmen Depth Distributions\\n\\ntrace1 = go.Violin(\\n    x=adelie_df[\\\"Species\\\"],\\n    y=adelie_df[\\\"Culmen Depth (mm)\\\"],\\n    box_visible=True,\\n    meanline_visible=True,\\n    points=\\\"all\\\",\\n    line_color=\\\"darkorange\\\",\\n    name=\\\"Adelie Penguin\\\",\\n)\\n\\ntrace2 = go.Violin(\\n    x=gentoo_df[\\\"Species\\\"],\\n    y=gentoo_df[\\\"Culmen Depth (mm)\\\"],\\n    box_visible=True,\\n    meanline_visible=True,\\n    line_color=\\\"teal\\\",\\n    points=\\\"all\\\",\\n    name=\\\"Gentoo penguin\\\",\\n)\\n\\ntrace3 = go.Violin(\\n    x=chinstrap_df[\\\"Species\\\"],\\n    y=chinstrap_df[\\\"Culmen Depth (mm)\\\"],\\n    points=\\\"all\\\",\\n    box_visible=True,\\n    meanline_visible=True,\\n    line_color=\\\"mediumorchid\\\",\\n    name=\\\"Chinstrap penguin\\\",\\n)\\n\\ndata = [trace1, trace2, trace3]\\n\\n\\nlayout = dict(\\n    title=\\\"<b>Culmen Depth (mm) Distribution for the 3 Species</b>\\\",\\n    showlegend=True,\\n    width=990,\\n    xaxis=dict(title=\\\"Penguin Species\\\", showgrid=True),\\n    yaxis=dict(title=\\\"Culmen Depth (mm)\\\"),\\n    plot_bgcolor=\\\"rgba(0,0,0,0)\\\",\\n    paper_bgcolor=\\\"rgba(0,0,0,0)\\\",\\n)\\n\\nfig = dict(data=data, layout=layout)\\n\\niplot(fig)\";\n",
       "                var nbb_formatted_code = \"# Culmen Depth Distributions\\n\\ntrace1 = go.Violin(\\n    x=adelie_df[\\\"Species\\\"],\\n    y=adelie_df[\\\"Culmen Depth (mm)\\\"],\\n    box_visible=True,\\n    meanline_visible=True,\\n    points=\\\"all\\\",\\n    line_color=\\\"darkorange\\\",\\n    name=\\\"Adelie Penguin\\\",\\n)\\n\\ntrace2 = go.Violin(\\n    x=gentoo_df[\\\"Species\\\"],\\n    y=gentoo_df[\\\"Culmen Depth (mm)\\\"],\\n    box_visible=True,\\n    meanline_visible=True,\\n    line_color=\\\"teal\\\",\\n    points=\\\"all\\\",\\n    name=\\\"Gentoo penguin\\\",\\n)\\n\\ntrace3 = go.Violin(\\n    x=chinstrap_df[\\\"Species\\\"],\\n    y=chinstrap_df[\\\"Culmen Depth (mm)\\\"],\\n    points=\\\"all\\\",\\n    box_visible=True,\\n    meanline_visible=True,\\n    line_color=\\\"mediumorchid\\\",\\n    name=\\\"Chinstrap penguin\\\",\\n)\\n\\ndata = [trace1, trace2, trace3]\\n\\n\\nlayout = dict(\\n    title=\\\"<b>Culmen Depth (mm) Distribution for the 3 Species</b>\\\",\\n    showlegend=True,\\n    width=990,\\n    xaxis=dict(title=\\\"Penguin Species\\\", showgrid=True),\\n    yaxis=dict(title=\\\"Culmen Depth (mm)\\\"),\\n    plot_bgcolor=\\\"rgba(0,0,0,0)\\\",\\n    paper_bgcolor=\\\"rgba(0,0,0,0)\\\",\\n)\\n\\nfig = dict(data=data, layout=layout)\\n\\niplot(fig)\";\n",
       "                var nbb_cells = Jupyter.notebook.get_cells();\n",
       "                for (var i = 0; i < nbb_cells.length; ++i) {\n",
       "                    if (nbb_cells[i].input_prompt_number == nbb_cell_id) {\n",
       "                        if (nbb_cells[i].get_text() == nbb_unformatted_code) {\n",
       "                             nbb_cells[i].set_text(nbb_formatted_code);\n",
       "                        }\n",
       "                        break;\n",
       "                    }\n",
       "                }\n",
       "            }, 500);\n",
       "            "
      ],
      "text/plain": [
       "<IPython.core.display.Javascript object>"
      ]
     },
     "metadata": {},
     "output_type": "display_data"
    }
   ],
   "source": [
    "# Culmen Depth Distributions\n",
    "\n",
    "trace1 = go.Violin(\n",
    "    x=adelie_df[\"Species\"],\n",
    "    y=adelie_df[\"Culmen Depth (mm)\"],\n",
    "    box_visible=True,\n",
    "    meanline_visible=True,\n",
    "    points=\"all\",\n",
    "    line_color=\"darkorange\",\n",
    "    name=\"Adelie Penguin\",\n",
    ")\n",
    "\n",
    "trace2 = go.Violin(\n",
    "    x=gentoo_df[\"Species\"],\n",
    "    y=gentoo_df[\"Culmen Depth (mm)\"],\n",
    "    box_visible=True,\n",
    "    meanline_visible=True,\n",
    "    line_color=\"teal\",\n",
    "    points=\"all\",\n",
    "    name=\"Gentoo penguin\",\n",
    ")\n",
    "\n",
    "trace3 = go.Violin(\n",
    "    x=chinstrap_df[\"Species\"],\n",
    "    y=chinstrap_df[\"Culmen Depth (mm)\"],\n",
    "    points=\"all\",\n",
    "    box_visible=True,\n",
    "    meanline_visible=True,\n",
    "    line_color=\"mediumorchid\",\n",
    "    name=\"Chinstrap penguin\",\n",
    ")\n",
    "\n",
    "data = [trace1, trace2, trace3]\n",
    "\n",
    "\n",
    "layout = dict(\n",
    "    title=\"<b>Culmen Depth (mm) Distribution for the 3 Species</b>\",\n",
    "    showlegend=True,\n",
    "    width=990,\n",
    "    xaxis=dict(title=\"Penguin Species\", showgrid=True),\n",
    "    yaxis=dict(title=\"Culmen Depth (mm)\"),\n",
    "    plot_bgcolor=\"rgba(0,0,0,0)\",\n",
    "    paper_bgcolor=\"rgba(0,0,0,0)\",\n",
    ")\n",
    "\n",
    "fig = dict(data=data, layout=layout)\n",
    "\n",
    "iplot(fig)"
   ]
  },
  {
   "cell_type": "code",
   "execution_count": null,
   "metadata": {},
   "outputs": [],
   "source": []
  }
 ],
 "metadata": {
  "kernelspec": {
   "display_name": "penguins",
   "language": "python",
   "name": "penguins"
  },
  "language_info": {
   "codemirror_mode": {
    "name": "ipython",
    "version": 3
   },
   "file_extension": ".py",
   "mimetype": "text/x-python",
   "name": "python",
   "nbconvert_exporter": "python",
   "pygments_lexer": "ipython3",
   "version": "3.7.5"
  }
 },
 "nbformat": 4,
 "nbformat_minor": 2
}
